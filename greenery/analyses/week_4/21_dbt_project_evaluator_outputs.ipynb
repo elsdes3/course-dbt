{
 "cells": [
  {
   "cell_type": "markdown",
   "id": "759ac561-e31a-4d2f-b148-91fff32f377f",
   "metadata": {},
   "source": [
    "# Evaluate DBT Project"
   ]
  },
  {
   "cell_type": "code",
   "execution_count": null,
   "id": "afdbcd2d-c592-41d7-8724-7b9ac06f63b3",
   "metadata": {},
   "outputs": [],
   "source": [
    "import os\n",
    "from pathlib import Path\n",
    "\n",
    "from dotenv import load_dotenv\n",
    "from sqlalchemy import create_engine\n",
    "from snowflake.sqlalchemy import URL"
   ]
  },
  {
   "cell_type": "code",
   "execution_count": null,
   "id": "f22a7938-171d-47f2-a0a9-672b42875b12",
   "metadata": {},
   "outputs": [],
   "source": [
    "PROJ_ROOT = Path().resolve().parents[3]\n",
    "env_file_dir = PROJ_ROOT / '.env'\n",
    "_ = load_dotenv(env_file_dir, verbose=True)"
   ]
  },
  {
   "cell_type": "markdown",
   "id": "9453cdf1-16bf-43ad-b34e-de2591d056d1",
   "metadata": {},
   "source": [
    "## About"
   ]
  },
  {
   "cell_type": "markdown",
   "id": "c37e8f68-fe71-4236-b9d8-edaed6e5e800",
   "metadata": {},
   "source": [
    "View the output of DBT Project Evaluator.\n",
    "\n",
    "### Notes\n",
    "\n",
    "1. This notebook supports <kbd>Run</kbd> > <kbd>Run All Cells</kbd>."
   ]
  },
  {
   "cell_type": "markdown",
   "id": "f171c595-3f57-43d9-9441-7296517a12a7",
   "metadata": {},
   "source": [
    "## User Inputs"
   ]
  },
  {
   "cell_type": "code",
   "execution_count": null,
   "id": "33ccd67b-86a2-44b1-9915-a13a85a03ba7",
   "metadata": {
    "editable": true,
    "slideshow": {
     "slide_type": ""
    },
    "tags": [
     "parameters"
    ]
   },
   "outputs": [],
   "source": [
    "#"
   ]
  },
  {
   "cell_type": "code",
   "execution_count": null,
   "id": "901a8974-b420-45c0-94fc-5f60f1b9e65c",
   "metadata": {},
   "outputs": [],
   "source": [
    "engine = create_engine(\n",
    "    URL(\n",
    "        drivername=\"driver\",\n",
    "        account=os.getenv(\"UPLIMIT_SNOWFLAKE_ACCOUNT\"),\n",
    "        user=os.getenv(\"UPLIMIT_SNOWFLAKE_USER\"),\n",
    "        password=os.getenv(\"UPLIMIT_SNOWFLAKE_PASS\"),\n",
    "        warehouse=os.getenv(\"UPLIMIT_SNOWFLAKE_WAREHOUSE\"),\n",
    "        role=os.getenv(\"UPLIMIT_SNOWFLAKE_ROLE\"),\n",
    "        database=os.getenv(\"UPLIMIT_SNOWFLAKE_DB_NAME\"),\n",
    "        schema=os.getenv(\"UPLIMIT_SNOWFLAKE_SCHEMA\"),\n",
    "    )\n",
    ")"
   ]
  },
  {
   "cell_type": "markdown",
   "id": "57c075a3-2f5f-4dc4-b879-5056235ac05b",
   "metadata": {},
   "source": [
    "## Connect"
   ]
  },
  {
   "cell_type": "markdown",
   "id": "853668dd-6d74-419e-9516-d3b4eacab08c",
   "metadata": {},
   "source": [
    "Load Jupyter SQL extension"
   ]
  },
  {
   "cell_type": "code",
   "execution_count": null,
   "id": "07ebbdb8-d5a2-4b45-a4f5-9e561ebf3a52",
   "metadata": {},
   "outputs": [],
   "source": [
    "%load_ext sql"
   ]
  },
  {
   "cell_type": "markdown",
   "id": "b6e58cd8-3d8f-4e91-8e95-8bd31ece6df5",
   "metadata": {},
   "source": [
    "Set the maximum number of rows to be displayed to `None` (show all rows)"
   ]
  },
  {
   "cell_type": "code",
   "execution_count": null,
   "id": "25676530-b11b-46b6-b2f9-bc63486b23f8",
   "metadata": {},
   "outputs": [],
   "source": [
    "%config SqlMagic.displaylimit = None"
   ]
  },
  {
   "cell_type": "markdown",
   "id": "b75cd83d-da84-48cd-a247-003bdb787c75",
   "metadata": {},
   "source": [
    "Connect to database"
   ]
  },
  {
   "cell_type": "code",
   "execution_count": null,
   "id": "9c8c785e-9d66-4f0c-9115-bb9e4974bc69",
   "metadata": {},
   "outputs": [],
   "source": [
    "%sql engine --alias connection"
   ]
  },
  {
   "cell_type": "markdown",
   "id": "ac0c7523-1fcf-4f87-849c-852da2b9acca",
   "metadata": {},
   "source": [
    "## Queries"
   ]
  },
  {
   "cell_type": "markdown",
   "id": "3c04de07-4440-43ed-8d00-cb864ed3ee0f",
   "metadata": {},
   "source": [
    "### Missing Primary Key Tests"
   ]
  },
  {
   "cell_type": "code",
   "execution_count": null,
   "id": "df4e1139-b016-4be2-bfdc-b17c73224c8b",
   "metadata": {},
   "outputs": [],
   "source": [
    "%%sql\n",
    "SELECT *\n",
    "FROM fct_missing_primary_key_tests"
   ]
  },
  {
   "cell_type": "markdown",
   "id": "62cf0e06-01f8-40b8-b127-1a8ac8a384b8",
   "metadata": {},
   "source": [
    "### Naming Conventions"
   ]
  },
  {
   "cell_type": "code",
   "execution_count": null,
   "id": "09a0778f-7780-43ab-b12b-fe849c546bda",
   "metadata": {},
   "outputs": [],
   "source": [
    "%%sql\n",
    "SELECT *\n",
    "FROM fct_model_naming_conventions"
   ]
  },
  {
   "cell_type": "markdown",
   "id": "8e92dc2f-a290-4e7b-bf9f-f9135ab9a6f3",
   "metadata": {},
   "source": [
    "### Sources without Freshness"
   ]
  },
  {
   "cell_type": "code",
   "execution_count": null,
   "id": "8dddd5db-507f-466f-949f-63702be8c8ab",
   "metadata": {},
   "outputs": [],
   "source": [
    "%%sql\n",
    "SELECT *\n",
    "FROM fct_sources_without_freshness"
   ]
  },
  {
   "cell_type": "markdown",
   "id": "910f6fd8-5ffe-4755-ba50-b7c76b75eb7d",
   "metadata": {},
   "source": [
    "### Test Coverage"
   ]
  },
  {
   "cell_type": "code",
   "execution_count": null,
   "id": "ff57e6f9-8a64-47d0-8dfa-0c904b864ca9",
   "metadata": {},
   "outputs": [],
   "source": [
    "%%sql\n",
    "SELECT *\n",
    "FROM fct_test_coverage"
   ]
  },
  {
   "cell_type": "markdown",
   "id": "1a0a8f24-7169-41ec-bd9b-d568d60b9aef",
   "metadata": {},
   "source": [
    "### Root Models"
   ]
  },
  {
   "cell_type": "markdown",
   "id": "4c3e0c08-eace-4bd3-ab1b-b79d8c19bed4",
   "metadata": {},
   "source": [
    "[Link to docs](https://dbt-labs.github.io/dbt-project-evaluator/latest/rules/modeling/#root-models)"
   ]
  },
  {
   "cell_type": "code",
   "execution_count": null,
   "id": "180c86bc-28dc-435d-8b1d-6004e97c1a81",
   "metadata": {},
   "outputs": [],
   "source": [
    "%%sql\n",
    "SELECT *\n",
    "FROM fct_root_models"
   ]
  },
  {
   "cell_type": "markdown",
   "id": "de32cca5-78f1-4dcf-93ef-e572e058524a",
   "metadata": {},
   "source": [
    "### Model Fanout"
   ]
  },
  {
   "cell_type": "markdown",
   "id": "feaa0489-7f01-4d8f-b201-c0502caa9cc7",
   "metadata": {},
   "source": [
    "[Link to docs](https://dbt-labs.github.io/dbt-project-evaluator/main/rules/modeling/#model-fanout)"
   ]
  },
  {
   "cell_type": "code",
   "execution_count": null,
   "id": "d5d550b8-535c-4c5d-9e88-2b6233d1fcaf",
   "metadata": {},
   "outputs": [],
   "source": [
    "%%sql\n",
    "SELECT *\n",
    "FROM fct_model_fanout"
   ]
  },
  {
   "cell_type": "markdown",
   "id": "873d8a17-4f93-447c-8556-53a803d09e48",
   "metadata": {},
   "source": [
    "### Exposure Dependence on Private Models"
   ]
  },
  {
   "cell_type": "markdown",
   "id": "c4df4c04-810a-497a-b13f-923196e827d2",
   "metadata": {},
   "source": [
    "[Link to docs](https://dbt-labs.github.io/dbt-project-evaluator/latest/rules/governance/#undocumented-public-models)"
   ]
  },
  {
   "cell_type": "code",
   "execution_count": null,
   "id": "c1a57314-fd9a-4686-a18a-0664b6103b5c",
   "metadata": {},
   "outputs": [],
   "source": [
    "%%sql\n",
    "SELECT *\n",
    "FROM fct_exposures_dependent_on_private_models"
   ]
  },
  {
   "cell_type": "markdown",
   "id": "5e0261e5-2c78-4e40-b613-452616ac3dc3",
   "metadata": {},
   "source": [
    "**Notes**\n",
    "\n",
    "1. The following were added to `models/marts/products/daily/_products_daily_models.yml`\n",
    "   - (to all columns) `data_type`\n",
    "   - (to the `fct_sessions_daily` model, which is used in the `product_funnel_dashboard` exposure)\n",
    "     ```bash\n",
    "     access: public\n",
    "     config:\n",
    "       contract:\n",
    "         enforced: true\n",
    "     ```\n",
    "\n",
    "   in an attempt to remediate this (see the **How to Remediate** section from the above link), however this aws not successful and the warning message (`fct_exposures_dependent_on_private_models`) continued to appear."
   ]
  },
  {
   "cell_type": "markdown",
   "id": "fd958c8d-73ce-4749-ae18-c633e534cbc0",
   "metadata": {},
   "source": [
    "## Disconnect"
   ]
  },
  {
   "cell_type": "markdown",
   "id": "4c1d7e00-adaa-4dd0-999a-7ecae600676f",
   "metadata": {},
   "source": [
    "Close connection"
   ]
  },
  {
   "cell_type": "code",
   "execution_count": null,
   "id": "20fbe6f4-5317-4d72-986c-49ace6fec611",
   "metadata": {},
   "outputs": [],
   "source": [
    "%sql --close connection"
   ]
  },
  {
   "cell_type": "markdown",
   "id": "73954c0e-1bd1-442b-93f4-08f3fd39dcfa",
   "metadata": {},
   "source": [
    "## Links"
   ]
  },
  {
   "cell_type": "markdown",
   "id": "043d92e8-a285-4e49-84c8-b61bf5581b72",
   "metadata": {},
   "source": [
    "1. [List of Rules](https://dbt-labs.github.io/dbt-project-evaluator/main/rules/)"
   ]
  }
 ],
 "metadata": {
  "kernelspec": {
   "display_name": "Python 3 (ipykernel)",
   "language": "python",
   "name": "python3"
  },
  "language_info": {
   "codemirror_mode": {
    "name": "ipython",
    "version": 3
   },
   "file_extension": ".py",
   "mimetype": "text/x-python",
   "name": "python",
   "nbconvert_exporter": "python",
   "pygments_lexer": "ipython3",
   "version": "3.10.12"
  }
 },
 "nbformat": 4,
 "nbformat_minor": 5
}
