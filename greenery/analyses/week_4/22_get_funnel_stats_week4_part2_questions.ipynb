{
 "cells": [
  {
   "cell_type": "markdown",
   "id": "9b88086a-fcc2-48e5-afe1-4d928247376b",
   "metadata": {},
   "source": [
    "# Funnel Queries (funnel models)"
   ]
  },
  {
   "cell_type": "code",
   "execution_count": null,
   "id": "9ff253e8-b2de-4234-8f2e-799a605a0108",
   "metadata": {},
   "outputs": [],
   "source": [
    "import os\n",
    "from pathlib import Path\n",
    "\n",
    "from dotenv import find_dotenv, load_dotenv\n",
    "from sqlalchemy import create_engine\n",
    "from snowflake.sqlalchemy import URL"
   ]
  },
  {
   "cell_type": "code",
   "execution_count": null,
   "id": "70c86c34-bb8a-427a-9d3d-09bb33ab3048",
   "metadata": {},
   "outputs": [],
   "source": [
    "PROJ_ROOT = Path().resolve().parents[3]\n",
    "env_file_dir = PROJ_ROOT / '.env'\n",
    "_ = load_dotenv(env_file_dir, verbose=True)"
   ]
  },
  {
   "cell_type": "markdown",
   "id": "224cd49f-e2cd-4c4c-8f93-acdfc9b8bba4",
   "metadata": {},
   "source": [
    "## About"
   ]
  },
  {
   "cell_type": "markdown",
   "id": "db22b29e-bc60-4573-86f4-57f4d98f8d8a",
   "metadata": {},
   "source": [
    "### Objective\n",
    "\n",
    "Let's say that the *Director of Product* at greenery comes to us (the head Analytics Engineer) and asks some questions:\n",
    "\n",
    "1. How are our users moving through the product funnel?\n",
    "2. Which steps in the funnel have largest drop off points?\n",
    "\n",
    "### Background\n",
    "\n",
    "Product funnel is defined with 3 levels for our dataset:\n",
    "\n",
    "1. Sessions with any event of type `page_view`\n",
    "2. Sessions with any event of type `add_to_cart`\n",
    "3. Sessions with any event of type `checkout`\n",
    "\n",
    "They need to understand how the product funnel is performing to set the roadmap for the next quarter. The Product and Engineering teams are asking what their projects will be, and they want to make data-informed decisions.\n",
    "\n",
    "Thankfully, we can help using our data, and modeling it with `dbt`!\n",
    "\n",
    "### Constraints\n",
    "\n",
    "In addition to answering these questions right now, we want to be able to answer them at any time. *The Product and Engineering* teams will want to track how they are improving these metrics on an ongoing basis. As such, we need to think about how we can model the data in a way that allows us to set up reporting for the long-term tracking of our goals.\n",
    "\n",
    "### Questions                                                                                         \n",
    "1. Please create any additional `dbt` models needed to help answer these questions from our product team, and put your answers in a `README` in your repo.\n",
    "\n",
    "### Notes\n",
    "\n",
    "1. This notebook supports <kbd>Run</kbd> > <kbd>Run All Cells</kbd>."
   ]
  },
  {
   "cell_type": "markdown",
   "id": "d6ce0c0c-a25c-4276-985f-11f25b6344b5",
   "metadata": {},
   "source": [
    "## User Inputs"
   ]
  },
  {
   "cell_type": "code",
   "execution_count": null,
   "id": "1bea0bb2-6f35-4c65-b1de-888f4f690e46",
   "metadata": {
    "editable": true,
    "slideshow": {
     "slide_type": ""
    },
    "tags": [
     "parameters"
    ]
   },
   "outputs": [],
   "source": [
    "min_date = '2021-02-09'\n",
    "max_date = '2021-02-12'"
   ]
  },
  {
   "cell_type": "code",
   "execution_count": null,
   "id": "3afaf624-a380-4e72-9194-a94f05aa0575",
   "metadata": {},
   "outputs": [],
   "source": [
    "engine = create_engine(\n",
    "    URL(\n",
    "        drivername=\"driver\",\n",
    "        account=os.getenv(\"UPLIMIT_SNOWFLAKE_ACCOUNT\"),\n",
    "        user=os.getenv(\"UPLIMIT_SNOWFLAKE_USER\"),\n",
    "        password=os.getenv(\"UPLIMIT_SNOWFLAKE_PASS\"),\n",
    "        warehouse=os.getenv(\"UPLIMIT_SNOWFLAKE_WAREHOUSE\"),\n",
    "        role=os.getenv(\"UPLIMIT_SNOWFLAKE_ROLE\"),\n",
    "        database=os.getenv(\"UPLIMIT_SNOWFLAKE_DB_NAME\"),\n",
    "        schema=os.getenv(\"UPLIMIT_SNOWFLAKE_SCHEMA\"),\n",
    "    )\n",
    ")"
   ]
  },
  {
   "cell_type": "markdown",
   "id": "b61a61d0-e9a2-4657-960e-7003c179a961",
   "metadata": {},
   "source": [
    "## Connect"
   ]
  },
  {
   "cell_type": "markdown",
   "id": "fa7cc30f-8074-47a5-88b1-83864d6778df",
   "metadata": {},
   "source": [
    "Load Jupyter SQL extension"
   ]
  },
  {
   "cell_type": "code",
   "execution_count": null,
   "id": "1f1d6329-a9fb-4e83-a1e5-ff5ea1bf7eca",
   "metadata": {},
   "outputs": [],
   "source": [
    "%load_ext sql"
   ]
  },
  {
   "cell_type": "markdown",
   "id": "24c88b81-d253-43af-8d1e-6023fcd06bc8",
   "metadata": {},
   "source": [
    "Set the maximum number of rows to be displayed to `None` (shows all rows)"
   ]
  },
  {
   "cell_type": "code",
   "execution_count": null,
   "id": "c85a1b04-99a8-49a9-9bd6-683c43afaf9b",
   "metadata": {},
   "outputs": [],
   "source": [
    "%config SqlMagic.displaylimit = None"
   ]
  },
  {
   "cell_type": "markdown",
   "id": "f8812e44-8737-459e-824f-80965a8fc5b2",
   "metadata": {},
   "source": [
    "Connect to DuckDB database"
   ]
  },
  {
   "cell_type": "code",
   "execution_count": null,
   "id": "af79e28b-cb67-49b7-b77b-27c10b51f53a",
   "metadata": {},
   "outputs": [],
   "source": [
    "%sql engine --alias connection"
   ]
  },
  {
   "cell_type": "markdown",
   "id": "16384aa4-970c-497e-90a3-c0f478b901c0",
   "metadata": {},
   "source": [
    "## Queries"
   ]
  },
  {
   "cell_type": "markdown",
   "id": "d156937c-e761-4a8a-8a3c-ee3fb54ccc6b",
   "metadata": {},
   "source": [
    "**How are our users moving through the product funnel?**"
   ]
  },
  {
   "cell_type": "code",
   "execution_count": null,
   "id": "3facb28c-ddd9-4bd5-ab4b-2471a09e2e25",
   "metadata": {},
   "outputs": [],
   "source": [
    "%%sql\n",
    "WITH daily_user_sessions_named AS (\n",
    "    SELECT *\n",
    "    FROM fct_sessions_daily\n",
    "),\n",
    "daily_user_sessions_filtered AS (\n",
    "    SELECT *\n",
    "    FROM daily_user_sessions_named\n",
    "    WHERE created_at_date BETWEEN '{{ min_date }}' AND '{{ max_date }}'\n",
    "),\n",
    "/* ============= BI TOOL STARTS HERE ============= */\n",
    "bounce_sessions AS (\n",
    "    SELECT session_id,\n",
    "           SUM(num_page_views) AS total_num_page_views\n",
    "    FROM daily_user_sessions_filtered\n",
    "    GROUP BY ALL\n",
    "    HAVING total_num_page_views = 1\n",
    "),\n",
    "totals AS (\n",
    "    SELECT ZEROIFNULL(page_views) AS page_views,\n",
    "           ZEROIFNULL(add_to_carts) AS add_to_carts,\n",
    "           ZEROIFNULL(checkouts) AS checkouts,\n",
    "           ZEROIFNULL(num_bounce_sessions) AS num_bounce_sessions\n",
    "    FROM (\n",
    "        SELECT COUNT(DISTINCT(session_id)) AS page_views,\n",
    "               1 AS row_num\n",
    "        FROM daily_user_sessions_filtered\n",
    "        WHERE num_page_views > 0\n",
    "    ) t1\n",
    "    LEFT JOIN (\n",
    "        SELECT COUNT(DISTINCT(session_id)) AS add_to_carts,\n",
    "               1 AS row_num\n",
    "        FROM daily_user_sessions_filtered\n",
    "        WHERE num_add_to_carts > 0\n",
    "    ) t2 USING (row_num)\n",
    "    LEFT JOIN (\n",
    "        SELECT COUNT(DISTINCT(session_id)) AS checkouts,\n",
    "               1 AS row_num\n",
    "        FROM daily_user_sessions_filtered\n",
    "        WHERE num_checkouts > 0\n",
    "    ) t3 USING (row_num)\n",
    "    LEFT JOIN (\n",
    "        SELECT COUNT(DISTINCT(session_id)) AS num_bounce_sessions,\n",
    "               1 AS row_num\n",
    "        FROM bounce_sessions\n",
    "    ) t5 USING (row_num)\n",
    "    ORDER BY checkouts DESC\n",
    "),\n",
    "metrics AS (\n",
    "    SELECT * EXCLUDE(num_bounce_sessions),\n",
    "           100*(num_bounce_sessions/page_views) AS bounce_rate,\n",
    "           100*(add_to_carts/page_views) AS add_to_cart_rate,\n",
    "           100*(1-checkouts/add_to_carts) AS cart_abandonment_rate,\n",
    "           100*(checkouts/add_to_carts) AS add_to_cart_conversion_rate,\n",
    "           100*(checkouts/page_views) AS conversion_rate\n",
    "    FROM totals\n",
    ")\n",
    "SELECT *\n",
    "FROM metrics"
   ]
  },
  {
   "cell_type": "markdown",
   "id": "83dcf0e5-ca2c-412f-bea5-f1a1063b2ee6",
   "metadata": {},
   "source": [
    "**Observations**\n",
    "\n",
    "1. For all available sessions between 2021-02-09 and 2029-02-12, there were\n",
    "   - 578 sessions with a product page view\n",
    "   - 467 sessions with at least one product being added to a shopping cart\n",
    "   - 361 purchases\n",
    "2. The [bounce rate](https://amplitude.com/blog/bounce-rate-calculate-and-average#what-is-bounce-rate) is ~18%. This compares favorably to the [industry standard](https://amplitude.com/blog/bounce-rate-calculate-and-average#what-is-a-good-average-bounce-rate) for e-commerce (20%-45%).\n",
    "3. The [add-to-cart rate](https://blendcommerce.com/blogs/shopify/add-to-cart-rate) is ~81%. This compares to the [industry standard](https://dashthis.com/kpi-examples/add-to-cart-rate/) of 10%-20%, which [suggests](https://blendcommerce.com/blogs/shopify/add-to-cart-rate) strong appeal for Greenery's products, high usability of the Greenery website and positive impact of Greenery's marketing efforts.\n",
    "4. The [cart abandonment rate](https://www.geckoboard.com/best-practice/kpi-examples/shopping-cart-abandonment-rate/) is ~23%, which is well below the industry average of ~70%-75%, which suggests execllent usability at driving sales revenue for the Greenery website.\n",
    "5. The [add-to-cart abandonment rate](https://www.tidio.com/blog/add-to-cart-conversion-rate-statistics/) is ~77%. This is also well above the industry standard which is ~10%. This suggests favorable website design, product choice and customer service for the Greenery platform.\n",
    "6. The [conversion rate (using sessions)](https://www.shopify.com/ca/blog/ecommerce-conversion-rate#2) is ~62%. This is nearly 20X the industry standard ([1](https://www.toptal.com/external-blogs/growth-collective/ecommerce-conversion-rates), [2](https://www.toptal.com/external-blogs/growth-collective/ecommerce-conversion-rates)) which is ~3%. From 2., ~81% of sessions end in at least one Greenery product being added to a shopping cart. Relative to this, it is encouraging that ~62% of sessions end in a conversion.\n",
    "\n",
    "In conclusion, the Greenery platform is matching or beating the industry standard in all of the above five metrics. This suggests that, overall, **customers are moving through the product funnel with a high degree of efficiency**."
   ]
  },
  {
   "cell_type": "markdown",
   "id": "b67191e4-6b20-4584-a8eb-fed5d081b61f",
   "metadata": {},
   "source": [
    "### Question 2"
   ]
  },
  {
   "cell_type": "markdown",
   "id": "48a3411b-e87d-4b33-91a8-aec108cf5312",
   "metadata": {},
   "source": [
    "**Which steps in the funnel have largest drop off points?**"
   ]
  },
  {
   "cell_type": "code",
   "execution_count": null,
   "id": "dc773daf-ab07-419c-9526-bd3fa999fc3e",
   "metadata": {},
   "outputs": [],
   "source": [
    "%%sql\n",
    "WITH daily_user_sessions_named AS (\n",
    "    SELECT *\n",
    "    FROM fct_sessions_daily\n",
    "),\n",
    "daily_user_sessions_filtered AS (\n",
    "    SELECT *\n",
    "    FROM daily_user_sessions_named\n",
    "    WHERE created_at_date BETWEEN '{{ min_date }}' AND '{{ max_date }}'\n",
    "),\n",
    "/* ============= BI TOOL STARTS HERE ============= */\n",
    "overall AS (\n",
    "    SELECT ZEROIFNULL(page_views) AS page_views,\n",
    "           ZEROIFNULL(add_to_carts) AS add_to_carts,\n",
    "           ZEROIFNULL(checkouts) AS checkouts\n",
    "    FROM (\n",
    "        SELECT COUNT(DISTINCT(session_id)) AS page_views,\n",
    "               1 AS row_num\n",
    "        FROM daily_user_sessions_filtered\n",
    "        WHERE num_page_views > 0\n",
    "    ) t1\n",
    "    LEFT JOIN (\n",
    "        SELECT COUNT(DISTINCT(session_id)) AS add_to_carts,\n",
    "               1 AS row_num\n",
    "        FROM daily_user_sessions_filtered\n",
    "        WHERE num_add_to_carts > 0\n",
    "    ) t2 USING (row_num)\n",
    "    LEFT JOIN (\n",
    "        SELECT COUNT(DISTINCT(session_id)) AS checkouts,\n",
    "               1 AS row_num\n",
    "        FROM daily_user_sessions_filtered\n",
    "        WHERE num_checkouts > 0\n",
    "    ) t3 USING (row_num)\n",
    "    ORDER BY checkouts DESC\n",
    "),\n",
    "overall_tidy_dropoffs AS (\n",
    "    SELECT LOWER(metric) AS metric,\n",
    "           total,\n",
    "           dropoff\n",
    "    FROM (\n",
    "        SELECT *,\n",
    "               LAG(total, 1) OVER(ORDER BY total DESC) AS total_previous,\n",
    "               100*(total_previous-total)/total_previous AS dropoff\n",
    "        FROM overall\n",
    "        UNPIVOT (total FOR metric IN (page_views, add_to_carts, checkouts))\n",
    "    )\n",
    ")\n",
    "SELECT *\n",
    "FROM overall_tidy_dropoffs"
   ]
  },
  {
   "cell_type": "markdown",
   "id": "33db216e-0d11-4043-8c73-fabbce0754a8",
   "metadata": {},
   "source": [
    "**Observations**\n",
    "\n",
    "1. The funnel step with the largest dropoff is *checkout*s (relative to add-to-carts) at ~23%, which is slightly higher than the dropoff in add-to-carts (relative to page views), which is ~19%. This small difference suggests there is [probably no issue between](https://segment.com/blog/building-ultimate-funnel-sql/) adding Greenery products to a shopping cart and checking out the cart."
   ]
  },
  {
   "cell_type": "markdown",
   "id": "481fcecd-4ff9-499a-82ca-0f700128b236",
   "metadata": {},
   "source": [
    "## Disconnect"
   ]
  },
  {
   "cell_type": "markdown",
   "id": "072f4acd-8a0e-4338-b299-06ccadc22870",
   "metadata": {},
   "source": [
    "Close connection"
   ]
  },
  {
   "cell_type": "code",
   "execution_count": null,
   "id": "52308ff6-c7ed-485a-89a1-18e79bfcc3eb",
   "metadata": {},
   "outputs": [],
   "source": [
    "%sql --close connection"
   ]
  }
 ],
 "metadata": {
  "kernelspec": {
   "display_name": "Python 3 (ipykernel)",
   "language": "python",
   "name": "python3"
  },
  "language_info": {
   "codemirror_mode": {
    "name": "ipython",
    "version": 3
   },
   "file_extension": ".py",
   "mimetype": "text/x-python",
   "name": "python",
   "nbconvert_exporter": "python",
   "pygments_lexer": "ipython3",
   "version": "3.10.12"
  }
 },
 "nbformat": 4,
 "nbformat_minor": 5
}
