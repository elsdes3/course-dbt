{
 "cells": [
  {
   "cell_type": "markdown",
   "id": "9b88086a-fcc2-48e5-afe1-4d928247376b",
   "metadata": {},
   "source": [
    "# Inspect DBT Snapshots"
   ]
  },
  {
   "cell_type": "code",
   "execution_count": null,
   "id": "9ff253e8-b2de-4234-8f2e-799a605a0108",
   "metadata": {},
   "outputs": [],
   "source": [
    "import os\n",
    "from pathlib import Path\n",
    "\n",
    "from dotenv import find_dotenv, load_dotenv\n",
    "from sqlalchemy import create_engine\n",
    "from snowflake.sqlalchemy import URL"
   ]
  },
  {
   "cell_type": "code",
   "execution_count": null,
   "id": "70c86c34-bb8a-427a-9d3d-09bb33ab3048",
   "metadata": {},
   "outputs": [],
   "source": [
    "PROJ_ROOT = Path().resolve().parents[3]\n",
    "env_file_dir = PROJ_ROOT / '.env'\n",
    "_ = load_dotenv(env_file_dir, verbose=True)"
   ]
  },
  {
   "cell_type": "markdown",
   "id": "224cd49f-e2cd-4c4c-8f93-acdfc9b8bba4",
   "metadata": {},
   "source": [
    "## About"
   ]
  },
  {
   "cell_type": "markdown",
   "id": "db22b29e-bc60-4573-86f4-57f4d98f8d8a",
   "metadata": {},
   "source": [
    "Identify products with weekly and overall changes using DBT sbapshots.\n",
    "\n",
    "### Assumptions\n",
    "\n",
    "1. Since the week 1 assignment was submitted late, the snapshots in my personal schema should be for weeks 2, 3 and 4. <span style=\"color:green\"><b>This assumption is enforced here</b></span>.\n",
    "\n",
    "### Notes\n",
    "\n",
    "1. This notebook supports <kbd>Run</kbd> > <kbd>Run All Cells</kbd>."
   ]
  },
  {
   "cell_type": "markdown",
   "id": "d6ce0c0c-a25c-4276-985f-11f25b6344b5",
   "metadata": {},
   "source": [
    "## User Inputs"
   ]
  },
  {
   "cell_type": "code",
   "execution_count": null,
   "id": "1bea0bb2-6f35-4c65-b1de-888f4f690e46",
   "metadata": {
    "editable": true,
    "slideshow": {
     "slide_type": ""
    },
    "tags": [
     "parameters"
    ]
   },
   "outputs": [],
   "source": [
    "#"
   ]
  },
  {
   "cell_type": "code",
   "execution_count": null,
   "id": "3afaf624-a380-4e72-9194-a94f05aa0575",
   "metadata": {},
   "outputs": [],
   "source": [
    "engine = create_engine(\n",
    "    URL(\n",
    "        drivername=\"driver\",\n",
    "        account=os.getenv(\"UPLIMIT_SNOWFLAKE_ACCOUNT\"),\n",
    "        user=os.getenv(\"UPLIMIT_SNOWFLAKE_USER\"),\n",
    "        password=os.getenv(\"UPLIMIT_SNOWFLAKE_PASS\"),\n",
    "        warehouse=os.getenv(\"UPLIMIT_SNOWFLAKE_WAREHOUSE\"),\n",
    "        role=os.getenv(\"UPLIMIT_SNOWFLAKE_ROLE\"),\n",
    "        database=os.getenv(\"UPLIMIT_SNOWFLAKE_DB_NAME\"),\n",
    "        schema=os.getenv(\"UPLIMIT_SNOWFLAKE_SCHEMA\"),\n",
    "    )\n",
    ")"
   ]
  },
  {
   "cell_type": "markdown",
   "id": "b61a61d0-e9a2-4657-960e-7003c179a961",
   "metadata": {},
   "source": [
    "## Connect"
   ]
  },
  {
   "cell_type": "markdown",
   "id": "fa7cc30f-8074-47a5-88b1-83864d6778df",
   "metadata": {},
   "source": [
    "Load Jupyter SQL extension"
   ]
  },
  {
   "cell_type": "code",
   "execution_count": null,
   "id": "1f1d6329-a9fb-4e83-a1e5-ff5ea1bf7eca",
   "metadata": {},
   "outputs": [],
   "source": [
    "%load_ext sql"
   ]
  },
  {
   "cell_type": "markdown",
   "id": "e8dae135-956f-432e-b437-35c40dcc8db8",
   "metadata": {},
   "source": [
    "Set the maximum number of rows to be displayed to `None` (shows all rows)"
   ]
  },
  {
   "cell_type": "code",
   "execution_count": null,
   "id": "6289ec1f-4687-46a5-ad91-e73ed3a091ff",
   "metadata": {},
   "outputs": [],
   "source": [
    "%config SqlMagic.displaylimit = None"
   ]
  },
  {
   "cell_type": "markdown",
   "id": "f8812e44-8737-459e-824f-80965a8fc5b2",
   "metadata": {},
   "source": [
    "Connect to DuckDB database"
   ]
  },
  {
   "cell_type": "code",
   "execution_count": null,
   "id": "af79e28b-cb67-49b7-b77b-27c10b51f53a",
   "metadata": {},
   "outputs": [],
   "source": [
    "%sql engine --alias connection"
   ]
  },
  {
   "cell_type": "markdown",
   "id": "f5ecff08-b739-4021-8419-87d76031badd",
   "metadata": {},
   "source": [
    "## Queries"
   ]
  },
  {
   "cell_type": "markdown",
   "id": "3d86563e-95ba-4d10-b397-b4e2ae75ede9",
   "metadata": {},
   "source": [
    "### Changes"
   ]
  },
  {
   "cell_type": "markdown",
   "id": "92f6dcae-3897-419a-b6bf-2e96cbae00c5",
   "metadata": {},
   "source": [
    "#### Changes from Week 2 to 3"
   ]
  },
  {
   "cell_type": "markdown",
   "id": "9c2bebc3-3fd9-49d6-9bf8-bf1d400f171a",
   "metadata": {},
   "source": [
    "Show changes in this snapshot table from week 2 to week 3"
   ]
  },
  {
   "cell_type": "code",
   "execution_count": null,
   "id": "3cde6e87-7971-4bf6-a506-c344d1681b2a",
   "metadata": {},
   "outputs": [],
   "source": [
    "%%sql\n",
    "WITH snapshot_updated_at AS (\n",
    "    SELECT DISTINCT(dbt_updated_at) AS dbt_updated_at\n",
    "    FROM inventory_snapshot\n",
    "),\n",
    "snapshot_runtimes AS (\n",
    "    SELECT *,\n",
    "           (ROW_NUMBER() OVER(ORDER BY dbt_updated_at))+1 AS week_number\n",
    "    FROM snapshot_updated_at\n",
    "),\n",
    "inventory_snapshot_metadata AS (\n",
    "    SELECT * EXCLUDE(price, dbt_scd_id)\n",
    "    FROM inventory_snapshot\n",
    "    LEFT JOIN snapshot_runtimes USING (dbt_updated_at)\n",
    "),\n",
    "inventory_changes AS (\n",
    "    SELECT *,\n",
    "           LAG(inventory) OVER(\n",
    "               PARTITION BY product_id ORDER BY week_number\n",
    "           ) AS inventory_previous,\n",
    "           (inventory-inventory_previous) AS inventory_changed\n",
    "    FROM inventory_snapshot_metadata\n",
    "    WHERE week_number IN (2, 3)\n",
    "),\n",
    "inventory_changes_week_three AS (\n",
    "    SELECT dbt_updated_at,\n",
    "           product_id,\n",
    "           name,\n",
    "           inventory,\n",
    "           dbt_valid_from,\n",
    "           dbt_valid_to,\n",
    "           week_number,\n",
    "           inventory_changed\n",
    "    FROM inventory_changes\n",
    "    WHERE week_number = 3\n",
    ")\n",
    "SELECT *\n",
    "FROM inventory_changes_week_three"
   ]
  },
  {
   "cell_type": "markdown",
   "id": "fe8e429b-c325-49a9-91c0-c37cf870a3c7",
   "metadata": {},
   "source": [
    "#### Changes from Week 3 to 4"
   ]
  },
  {
   "cell_type": "markdown",
   "id": "59729e7b-25f7-47aa-8be9-8b8358baf382",
   "metadata": {},
   "source": [
    "Show changes in this snapshot table from week 3 to week 4"
   ]
  },
  {
   "cell_type": "code",
   "execution_count": null,
   "id": "f7cb879e-e533-45e4-b7e2-7e7a365457ed",
   "metadata": {},
   "outputs": [],
   "source": [
    "%%sql\n",
    "WITH snapshot_updated_at AS (\n",
    "    SELECT DISTINCT(dbt_updated_at) AS dbt_updated_at\n",
    "    FROM inventory_snapshot\n",
    "),\n",
    "snapshot_runtimes AS (\n",
    "    SELECT *,\n",
    "           (ROW_NUMBER() OVER(ORDER BY dbt_updated_at))+1 AS week_number\n",
    "    FROM snapshot_updated_at\n",
    "),\n",
    "inventory_snapshot_metadata AS (\n",
    "    SELECT * EXCLUDE(price, dbt_scd_id)\n",
    "    FROM inventory_snapshot\n",
    "    LEFT JOIN snapshot_runtimes USING (dbt_updated_at)\n",
    "),\n",
    "inventory_changes AS (\n",
    "    SELECT *,\n",
    "           LAG(inventory) OVER(\n",
    "               PARTITION BY product_id ORDER BY week_number\n",
    "           ) AS inventory_previous,\n",
    "           (inventory-inventory_previous) AS inventory_changed\n",
    "    FROM inventory_snapshot_metadata\n",
    "    WHERE week_number IN (3, 4)\n",
    "),\n",
    "inventory_changes_week_four AS (\n",
    "    SELECT dbt_updated_at,\n",
    "           product_id,\n",
    "           name,\n",
    "           inventory,\n",
    "           dbt_valid_from,\n",
    "           dbt_valid_to,\n",
    "           week_number,\n",
    "           inventory_changed\n",
    "    FROM inventory_changes\n",
    "    WHERE week_number = 4\n",
    ")\n",
    "SELECT *\n",
    "FROM inventory_changes_week_four"
   ]
  },
  {
   "cell_type": "markdown",
   "id": "f387d56d-ff96-4638-9e5a-4625d0a84267",
   "metadata": {},
   "source": [
    "### From All Weeks of Snapshot Data, Products with Most Fluctuations in Inventory"
   ]
  },
  {
   "cell_type": "code",
   "execution_count": null,
   "id": "664c0a6c-4400-4bbb-88f2-02257fb188f3",
   "metadata": {},
   "outputs": [],
   "source": [
    "%%sql\n",
    "WITH snapshot_updated_at AS (\n",
    "    SELECT DISTINCT(dbt_updated_at) AS dbt_updated_at\n",
    "    FROM inventory_snapshot\n",
    "),\n",
    "snapshot_runtimes AS (\n",
    "    SELECT *,\n",
    "           (ROW_NUMBER() OVER(ORDER BY dbt_updated_at))+1 AS week_number\n",
    "    FROM snapshot_updated_at\n",
    "),\n",
    "inventory_snapshot_metadata AS (\n",
    "    SELECT * EXCLUDE(price, dbt_scd_id)\n",
    "    FROM inventory_snapshot\n",
    "    LEFT JOIN snapshot_runtimes USING (dbt_updated_at)\n",
    "),\n",
    "inventory_changes AS (\n",
    "    SELECT *,\n",
    "           LAG(inventory) OVER(\n",
    "               PARTITION BY product_id ORDER BY week_number\n",
    "           ) AS inventory_previous,\n",
    "           (inventory-inventory_previous) AS inventory_changed\n",
    "    FROM inventory_snapshot_metadata\n",
    "    -- capture weeks in which week-to-week fluctuations can be calculated\n",
    "    -- (i.e. ignore week 1)\n",
    "    WHERE week_number IN (2, 3, 4)\n",
    "),\n",
    "products_with_inventory_changes AS (\n",
    "    SELECT DISTINCT(product_id) AS product_id,\n",
    "           True AS is_changed\n",
    "    FROM inventory_changes\n",
    "    WHERE inventory_changed IS NOT NULL\n",
    "),\n",
    "inventory_changes_overall AS (\n",
    "    SELECT product_id,\n",
    "           name,\n",
    "           LISTAGG(inventory, ', ') AS inventory_list,\n",
    "           ARRAY_TO_STRING(ARRAY_AGG(inventory), ', ') AS inventory_array_string,\n",
    "           SUM(ABS(inventory_changed)) AS overall_fluctuation\n",
    "    FROM inventory_changes\n",
    "    LEFT JOIN products_with_inventory_changes USING (product_id)\n",
    "    WHERE is_changed = True\n",
    "    GROUP BY ALL\n",
    "    ORDER BY overall_fluctuation DESC\n",
    ")\n",
    "SELECT *\n",
    "FROM inventory_changes_overall"
   ]
  },
  {
   "cell_type": "markdown",
   "id": "908eaf2b-a5ea-485e-b148-e498a91e2ab4",
   "metadata": {},
   "source": [
    "### Items that Went Out of Stock in the Last 3 Weeks"
   ]
  },
  {
   "cell_type": "code",
   "execution_count": null,
   "id": "e233111d-8966-4bad-8721-1f5a0f344178",
   "metadata": {},
   "outputs": [],
   "source": [
    "%%sql\n",
    "WITH snapshot_updated_at AS (\n",
    "    SELECT DISTINCT(dbt_updated_at) AS dbt_updated_at\n",
    "    FROM inventory_snapshot\n",
    "),\n",
    "snapshot_runtimes AS (\n",
    "    SELECT *,\n",
    "           (ROW_NUMBER() OVER(ORDER BY dbt_updated_at))+1 AS week_number\n",
    "    FROM snapshot_updated_at\n",
    "),\n",
    "inventory_snapshot_metadata AS (\n",
    "    SELECT * EXCLUDE(price, dbt_scd_id)\n",
    "    FROM inventory_snapshot\n",
    "    LEFT JOIN snapshot_runtimes USING (dbt_updated_at)\n",
    "),\n",
    "inventory_changes AS (\n",
    "    SELECT *,\n",
    "           LAG(inventory) OVER(\n",
    "               PARTITION BY product_id ORDER BY week_number\n",
    "           ) AS inventory_previous,\n",
    "           (inventory-inventory_previous) AS inventory_changed\n",
    "    FROM inventory_snapshot_metadata\n",
    "    -- capture last three weeks\n",
    "    WHERE week_number IN (2, 3, 4)\n",
    "),\n",
    "out_of_stock_products AS (\n",
    "    SELECT *\n",
    "    FROM inventory_changes\n",
    "    WHERE inventory_changed IS NOT NULL\n",
    "    AND inventory = 0\n",
    ")\n",
    "SELECT *\n",
    "FROM out_of_stock_products"
   ]
  },
  {
   "cell_type": "markdown",
   "id": "481fcecd-4ff9-499a-82ca-0f700128b236",
   "metadata": {},
   "source": [
    "## Disconnect"
   ]
  },
  {
   "cell_type": "markdown",
   "id": "072f4acd-8a0e-4338-b299-06ccadc22870",
   "metadata": {},
   "source": [
    "Close connection"
   ]
  },
  {
   "cell_type": "code",
   "execution_count": null,
   "id": "52308ff6-c7ed-485a-89a1-18e79bfcc3eb",
   "metadata": {},
   "outputs": [],
   "source": [
    "%sql --close connection"
   ]
  }
 ],
 "metadata": {
  "kernelspec": {
   "display_name": "Python 3 (ipykernel)",
   "language": "python",
   "name": "python3"
  },
  "language_info": {
   "codemirror_mode": {
    "name": "ipython",
    "version": 3
   },
   "file_extension": ".py",
   "mimetype": "text/x-python",
   "name": "python",
   "nbconvert_exporter": "python",
   "pygments_lexer": "ipython3",
   "version": "3.10.12"
  }
 },
 "nbformat": 4,
 "nbformat_minor": 5
}
