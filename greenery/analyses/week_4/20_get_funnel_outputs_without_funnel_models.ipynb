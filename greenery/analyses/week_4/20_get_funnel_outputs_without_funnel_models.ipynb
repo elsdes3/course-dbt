{
 "cells": [
  {
   "cell_type": "markdown",
   "id": "9b88086a-fcc2-48e5-afe1-4d928247376b",
   "metadata": {},
   "source": [
    "# Funnel Queries (no funnel models)"
   ]
  },
  {
   "cell_type": "code",
   "execution_count": null,
   "id": "9ff253e8-b2de-4234-8f2e-799a605a0108",
   "metadata": {},
   "outputs": [],
   "source": [
    "import os\n",
    "from pathlib import Path\n",
    "\n",
    "from dotenv import find_dotenv, load_dotenv\n",
    "from sqlalchemy import create_engine\n",
    "from snowflake.sqlalchemy import URL"
   ]
  },
  {
   "cell_type": "code",
   "execution_count": null,
   "id": "70c86c34-bb8a-427a-9d3d-09bb33ab3048",
   "metadata": {},
   "outputs": [],
   "source": [
    "PROJ_ROOT = Path().resolve().parents[3]\n",
    "env_file_dir = PROJ_ROOT / '.env'\n",
    "_ = load_dotenv(env_file_dir, verbose=True)"
   ]
  },
  {
   "cell_type": "markdown",
   "id": "224cd49f-e2cd-4c4c-8f93-acdfc9b8bba4",
   "metadata": {},
   "source": [
    "## About"
   ]
  },
  {
   "cell_type": "markdown",
   "id": "db22b29e-bc60-4573-86f4-57f4d98f8d8a",
   "metadata": {},
   "source": [
    "Develop **product funnel** queries without using funnel-specific models.\n",
    "\n",
    "### Notes\n",
    "\n",
    "1. This notebook supports <kbd>Run</kbd> > <kbd>Run All Cells</kbd>.\n",
    "2. After joining events and addresses, the hierarchy is state > user > product > session > event.\n",
    "3. Expected Outputs\n",
    "   - Funnel (from project walkthrough video)\n",
    "     - packages shipped = 335\n",
    "     - checkouts = 361\n",
    "     - add to carts = 986<sup>[1](#myfootnote1)</sup>\n",
    "     - page views = 1.87k<sup>[1](#myfootnote1)</sup>\n",
    "   -  checkouts by state\n",
    "      - Texas = 87\n",
    "      - California = 56\n",
    "      - Florida = 21\n",
    "      - Virginia = 19\n",
    "      - Arizona = 17\n",
    "      - Illinois = 16\n",
    "      - New York = 15\n",
    "      - District of Columbia = 13\n",
    "      - Pennsylvania = 10\n",
    "      - Massachusetts = 9\n",
    "      - South Carolina = 9\n",
    "   - grand totals\n",
    "     - sessions = 578\n",
    "     - checkout sessions = 361\n",
    "\n",
    "   <a name=\"myfootnote1\">1</a>: this is the number of distinct events, not the number of distinct sessions; in the assignment, we are required to get the number of sessions"
   ]
  },
  {
   "cell_type": "markdown",
   "id": "d6ce0c0c-a25c-4276-985f-11f25b6344b5",
   "metadata": {},
   "source": [
    "## User Inputs"
   ]
  },
  {
   "cell_type": "code",
   "execution_count": null,
   "id": "1bea0bb2-6f35-4c65-b1de-888f4f690e46",
   "metadata": {
    "editable": true,
    "slideshow": {
     "slide_type": ""
    },
    "tags": [
     "parameters"
    ]
   },
   "outputs": [],
   "source": [
    "min_date = '2021-02-09'\n",
    "max_date = '2021-02-12'"
   ]
  },
  {
   "cell_type": "code",
   "execution_count": null,
   "id": "3afaf624-a380-4e72-9194-a94f05aa0575",
   "metadata": {},
   "outputs": [],
   "source": [
    "engine = create_engine(\n",
    "    URL(\n",
    "        drivername=\"driver\",\n",
    "        account=os.getenv(\"UPLIMIT_SNOWFLAKE_ACCOUNT\"),\n",
    "        user=os.getenv(\"UPLIMIT_SNOWFLAKE_USER\"),\n",
    "        password=os.getenv(\"UPLIMIT_SNOWFLAKE_PASS\"),\n",
    "        warehouse=os.getenv(\"UPLIMIT_SNOWFLAKE_WAREHOUSE\"),\n",
    "        role=os.getenv(\"UPLIMIT_SNOWFLAKE_ROLE\"),\n",
    "        database=os.getenv(\"UPLIMIT_SNOWFLAKE_DB_NAME\"),\n",
    "        schema=os.getenv(\"UPLIMIT_SNOWFLAKE_SCHEMA\"),\n",
    "    )\n",
    ")"
   ]
  },
  {
   "cell_type": "markdown",
   "id": "b61a61d0-e9a2-4657-960e-7003c179a961",
   "metadata": {},
   "source": [
    "## Connect"
   ]
  },
  {
   "cell_type": "markdown",
   "id": "fa7cc30f-8074-47a5-88b1-83864d6778df",
   "metadata": {},
   "source": [
    "Load Jupyter SQL extension"
   ]
  },
  {
   "cell_type": "code",
   "execution_count": null,
   "id": "1f1d6329-a9fb-4e83-a1e5-ff5ea1bf7eca",
   "metadata": {},
   "outputs": [],
   "source": [
    "%load_ext sql"
   ]
  },
  {
   "cell_type": "markdown",
   "id": "f8812e44-8737-459e-824f-80965a8fc5b2",
   "metadata": {},
   "source": [
    "Connect to DuckDB database"
   ]
  },
  {
   "cell_type": "code",
   "execution_count": null,
   "id": "af79e28b-cb67-49b7-b77b-27c10b51f53a",
   "metadata": {},
   "outputs": [],
   "source": [
    "%sql engine --alias connection"
   ]
  },
  {
   "cell_type": "markdown",
   "id": "f5ecff08-b739-4021-8419-87d76031badd",
   "metadata": {},
   "source": [
    "## Exploratory Data Analysis"
   ]
  },
  {
   "cell_type": "markdown",
   "id": "12348aab-1b59-4267-9268-005c1bb5e3c2",
   "metadata": {},
   "source": [
    "From the week 4 notes\n",
    "\n",
    "> At a high level, a session is a group of actions taken by a specific user in a given time frame. A common definition of a session is from the time someone comes to the website/app to when they have their last activity + 30 minutes. In other words, from the first activity to 30 minutes after the last activity."
   ]
  },
  {
   "cell_type": "markdown",
   "id": "786e4134-9cd2-4038-a91b-69eb616ffd1d",
   "metadata": {},
   "source": [
    "Show all events from sessions ending in a purchase"
   ]
  },
  {
   "cell_type": "code",
   "execution_count": null,
   "id": "c7b9ee34-d61d-4f04-8e20-c0af23fe8a56",
   "metadata": {},
   "outputs": [],
   "source": [
    "%%sql\n",
    "SELECT *\n",
    "FROM int_product_purchases_filtered\n",
    "WHERE session_id IN (\n",
    "    'a646b9aa-0044-4fbd-8bae-a1018f5d4ace',\n",
    "    'bb40cd22-b3aa-431e-af50-d2726bfc45d0'\n",
    ")\n",
    "ORDER BY session_id, created_at"
   ]
  },
  {
   "cell_type": "markdown",
   "id": "1143e70c-2e0b-459d-abdd-67359aa4eea9",
   "metadata": {},
   "source": [
    "Show the number of sessions with more than one user"
   ]
  },
  {
   "cell_type": "code",
   "execution_count": null,
   "id": "c538b21e-12ad-4fe7-993e-80ce0353b5af",
   "metadata": {},
   "outputs": [],
   "source": [
    "%%sql\n",
    "SELECT COUNT(DISTINCT(user_id)) AS num_users\n",
    "FROM stg_postgres_events\n",
    "GROUP BY session_id\n",
    "HAVING num_users > 1"
   ]
  },
  {
   "cell_type": "markdown",
   "id": "63e64508-13a8-4731-b905-fec28b234b79",
   "metadata": {},
   "source": [
    "Get the number of (a) sessions and (b) users with a page view or add-to-carts per product"
   ]
  },
  {
   "cell_type": "code",
   "execution_count": null,
   "id": "b02127c6-f67a-49d5-9bab-c4a6bfb4d667",
   "metadata": {},
   "outputs": [],
   "source": [
    "%%sql\n",
    "WITH user_addresses AS (\n",
    "    SELECT u.user_id,\n",
    "           a.state AS state_name\n",
    "    FROM (\n",
    "        SELECT DISTINCT(user_id) AS user_id\n",
    "        FROM stg_postgres_events\n",
    "    ) AS u\n",
    "    INNER JOIN stg_postgres_users us USING (user_id)\n",
    "    INNER JOIN stg_postgres_addresses a USING (address_id)\n",
    "),\n",
    "t0 AS (\n",
    "    SELECT ua.state_name,\n",
    "           p.name AS product_name,\n",
    "           event_type,\n",
    "           COUNT(DISTINCT(session_id)) As num_sessions,\n",
    "           COUNT(DISTINCT(user_id)) As num_users\n",
    "    FROM stg_postgres_events e\n",
    "    INNER JOIN stg_postgres_products p USING (product_id)\n",
    "    INNER JOIN user_addresses ua USING(user_id)\n",
    "    WHERE product_name IN ('Aloe Vera', 'Orchid', 'Bamboo')\n",
    "    GROUP BY ALL\n",
    "    ORDER BY product_name, num_sessions DESC\n",
    "),\n",
    "t1 AS (\n",
    "    SELECT product_name,\n",
    "           event_type,\n",
    "           SUM(num_sessions) AS num_sessions,\n",
    "           SUM(num_users) AS num_users\n",
    "    FROM t0\n",
    "    GROUP BY ALL\n",
    "    ORDER BY product_name, num_sessions DESC\n",
    ")\n",
    "SELECT *\n",
    "FROM t1"
   ]
  },
  {
   "cell_type": "markdown",
   "id": "fff2af3c-4245-44da-b747-75811fd432d3",
   "metadata": {},
   "source": [
    "Get event summary"
   ]
  },
  {
   "cell_type": "code",
   "execution_count": null,
   "id": "f46b8515-c0c4-46fa-8c61-3f9a5d4a2068",
   "metadata": {},
   "outputs": [],
   "source": [
    "%%sql\n",
    "SELECT COUNT(DISTINCT(session_id)) AS num_sessions,\n",
    "       COUNT(DISTINCT(user_id)) AS num_users,\n",
    "       COUNT(DISTINCT(event_id)) AS num_events\n",
    "FROM stg_postgres_events"
   ]
  },
  {
   "cell_type": "markdown",
   "id": "0e27d893-1157-4d34-9892-b7ae1b81e72c",
   "metadata": {},
   "source": [
    "Get temporal attribues for all sessions"
   ]
  },
  {
   "cell_type": "code",
   "execution_count": null,
   "id": "f3648f3e-8b2d-4c5b-bf4c-b7962f77945e",
   "metadata": {},
   "outputs": [],
   "source": [
    "%%sql\n",
    "WITH session_temporal_attributes AS (\n",
    "    SELECT session_id,\n",
    "           datediff(\n",
    "               'second', MIN(created_at), MAX(created_at)\n",
    "           ) AS session_length,\n",
    "           MIN(created_at) AS started_at,\n",
    "           MAX(created_at) AS ended_at\n",
    "    FROM stg_postgres_events\n",
    "    GROUP BY ALL\n",
    ")\n",
    "SELECT *\n",
    "FROM session_temporal_attributes"
   ]
  },
  {
   "cell_type": "markdown",
   "id": "de3253a4-4796-4a06-b20f-9587226f1a57",
   "metadata": {},
   "source": [
    "### All Events"
   ]
  },
  {
   "cell_type": "markdown",
   "id": "894d0de9-a6d7-4b0b-bd22-533359b64057",
   "metadata": {},
   "source": [
    "Set the maximum number of rows to be displayed to `None` (shows all rows)"
   ]
  },
  {
   "cell_type": "code",
   "execution_count": null,
   "id": "f12b0f2b-1f56-4667-93d3-15a98e7e9c2e",
   "metadata": {},
   "outputs": [],
   "source": [
    "%config SqlMagic.displaylimit = None"
   ]
  },
  {
   "cell_type": "markdown",
   "id": "e6fd2c41-db42-4535-a8e8-f109a84cb74f",
   "metadata": {},
   "source": [
    "Get product ID for single product"
   ]
  },
  {
   "cell_type": "code",
   "execution_count": null,
   "id": "d60e1ef1-7ecc-46d7-9e58-62c844bdf24e",
   "metadata": {},
   "outputs": [],
   "source": [
    "%%sql\n",
    "SELECT *\n",
    "FROM stg_postgres_products\n",
    "WHERE name = 'Pothos'"
   ]
  },
  {
   "cell_type": "markdown",
   "id": "2f14eb7e-1765-44f5-825b-0d2581422622",
   "metadata": {},
   "source": [
    "Show all events for single state-product combination"
   ]
  },
  {
   "cell_type": "code",
   "execution_count": null,
   "id": "fa0449cb-dbbc-4f38-81b7-32f10e423053",
   "metadata": {},
   "outputs": [],
   "source": [
    "%%sql\n",
    "WITH user_addresses AS (\n",
    "    SELECT u.user_id,\n",
    "           a.state AS state_name\n",
    "    FROM (\n",
    "        SELECT DISTINCT(user_id) AS user_id\n",
    "        FROM stg_postgres_events\n",
    "    ) AS u\n",
    "    INNER JOIN stg_postgres_users us USING (user_id)\n",
    "    INNER JOIN stg_postgres_addresses a USING (address_id)\n",
    "),\n",
    "texas_pothos_sessions AS (\n",
    "    SELECT DISTINCT(session_id) AS session_id\n",
    "    FROM int_product_purchases_filtered e\n",
    "    INNER JOIN user_addresses ua USING (user_id)\n",
    "    WHERE state_name = 'Texas'\n",
    "    AND product_id = '4cda01b9-62e2-46c5-830f-b7f262a58fb1'\n",
    ")\n",
    "SELECT * EXCLUDE(page_url, event_id, order_id, user_id, product_id),\n",
    "       name AS product_name\n",
    "FROM stg_postgres_events\n",
    "INNER JOIN texas_pothos_sessions USING (session_id)\n",
    "INNER JOIN user_addresses ua USING (user_id)\n",
    "LEFT JOIN stg_postgres_products p USING (product_id)\n",
    "ORDER BY session_id, created_at"
   ]
  },
  {
   "cell_type": "markdown",
   "id": "8f1cd163-9cf2-4d26-bfdc-2dae83b43aef",
   "metadata": {},
   "source": [
    "Show products that were added to a cart or checked out in Indiana"
   ]
  },
  {
   "cell_type": "code",
   "execution_count": null,
   "id": "28994739-8c8c-4149-b66e-32b63fbaf6f1",
   "metadata": {},
   "outputs": [],
   "source": [
    "%%sql\n",
    "WITH user_addresses AS (\n",
    "    SELECT u.user_id,\n",
    "           a.state AS state_name\n",
    "    FROM (\n",
    "        SELECT DISTINCT(user_id) AS user_id\n",
    "        FROM stg_postgres_events\n",
    "    ) AS u\n",
    "    INNER JOIN stg_postgres_users us USING (user_id)\n",
    "    INNER JOIN stg_postgres_addresses a USING (address_id)\n",
    "),\n",
    "t1 AS (\n",
    "    SELECT e.* EXCLUDE(user_id, page_url, order_id, event_id),\n",
    "           p.name AS product_name,\n",
    "           ua.state_name\n",
    "    FROM stg_postgres_events e\n",
    "    INNER JOIN user_addresses ua USING (user_id)\n",
    "    LEFT JOIN stg_postgres_products p USING (product_id)\n",
    "    WHERE state_name = 'Indiana'\n",
    ")\n",
    "SELECT *\n",
    "FROM t1\n",
    "WHERE event_type IN ('page_view', 'add_to_cart', 'checkout')"
   ]
  },
  {
   "cell_type": "markdown",
   "id": "fcb2c0cb-a051-458e-8e29-8f7451758686",
   "metadata": {},
   "source": [
    "**Observations**\n",
    "\n",
    "1. There were six sessions with events.\n",
    "2. There were six orders placed, which each session ended in an order.\n",
    "3. Over all six orders, there were 10 products that were ordered (10 occurrences of `add_to_cart` before an occurrence of `checkout`)."
   ]
  },
  {
   "cell_type": "markdown",
   "id": "05b5a5d0-7445-4daf-a1e0-4e6b5d8f205d",
   "metadata": {},
   "source": [
    "Count number of events from single-day sessions"
   ]
  },
  {
   "cell_type": "code",
   "execution_count": null,
   "id": "707bdc3b-038e-41cc-8983-4295b7c56f92",
   "metadata": {},
   "outputs": [],
   "source": [
    "%%sql\n",
    "WITH events AS (\n",
    "    SELECT * EXCLUDE(page_url, order_id, event_id)\n",
    "    FROM stg_postgres_events\n",
    "),\n",
    "multi_day_sessions AS (\n",
    "    SELECT session_id,\n",
    "           True AS is_multi_day_session\n",
    "    FROM events\n",
    "    WHERE event_type != 'package_shipped'\n",
    "    GROUP BY ALL\n",
    "    HAVING COUNT(DISTINCT(TO_DATE(created_at))) > 1\n",
    "),\n",
    "single_day_session_events AS (\n",
    "    SELECT *\n",
    "    FROM events\n",
    "    LEFT JOIN multi_day_sessions USING (session_id)\n",
    "    WHERE event_type != 'package_shipped'\n",
    "    AND is_multi_day_session IS NULL\n",
    ")\n",
    "SELECT COUNT(*)\n",
    "FROM single_day_session_events"
   ]
  },
  {
   "cell_type": "markdown",
   "id": "28493ee8-2fe1-4515-bbf5-cc0ea1fbee84",
   "metadata": {},
   "source": [
    "### Funnels"
   ]
  },
  {
   "cell_type": "markdown",
   "id": "0407b1bb-c794-4b49-8eee-d9f352fb1647",
   "metadata": {},
   "source": [
    "Set the maximum number of rows to be displayed (default is 10 rows)"
   ]
  },
  {
   "cell_type": "code",
   "execution_count": null,
   "id": "fde9d54c-7e0d-456b-b619-dcfb61aed169",
   "metadata": {},
   "outputs": [],
   "source": [
    "%config SqlMagic.displaylimit = 10"
   ]
  },
  {
   "cell_type": "markdown",
   "id": "0dba408c-60c5-42d4-8999-217f1a5b093f",
   "metadata": {},
   "source": [
    "Get overall funnel"
   ]
  },
  {
   "cell_type": "code",
   "execution_count": null,
   "id": "9af0b355-762c-43c6-9bec-35dbea926d3f",
   "metadata": {},
   "outputs": [],
   "source": [
    "%%sql\n",
    "WITH multi_day_sessions AS (\n",
    "    SELECT session_id,\n",
    "           True AS is_multi_day_session\n",
    "    FROM stg_postgres_events\n",
    "    WHERE event_type != 'package_shipped'\n",
    "    GROUP BY ALL\n",
    "    HAVING COUNT(DISTINCT(TO_DATE(created_at))) > 1\n",
    ")\n",
    "SELECT event_type,\n",
    "       COUNT(DISTINCT(session_id)) AS num_sessions\n",
    "FROM stg_postgres_events e\n",
    "LEFT JOIN multi_day_sessions USING (session_id)\n",
    "WHERE event_type NOT IN ('package_shipped')\n",
    "AND is_multi_day_session IS NULL\n",
    "GROUP BY ALL\n",
    "ORDER BY num_sessions DESC"
   ]
  },
  {
   "cell_type": "markdown",
   "id": "85db5d6d-fcee-478d-97d1-4068c90d42a6",
   "metadata": {},
   "source": [
    "Get overall funnel, including (a) all four `event_type`s and (b) multi-day sessions (to compare to expected from **About** section)"
   ]
  },
  {
   "cell_type": "code",
   "execution_count": null,
   "id": "a70129c1-8821-464c-92c4-709b253965b5",
   "metadata": {},
   "outputs": [],
   "source": [
    "%%sql\n",
    "WITH multi_day_sessions AS (\n",
    "    SELECT session_id,\n",
    "           True AS is_multi_day_session\n",
    "    FROM stg_postgres_events\n",
    "    WHERE event_type != 'package_shipped'\n",
    "    GROUP BY ALL\n",
    "    HAVING COUNT(DISTINCT(TO_DATE(created_at))) > 1\n",
    ")\n",
    "SELECT event_type,\n",
    "       COUNT(DISTINCT(session_id)) AS num_sessions\n",
    "FROM stg_postgres_events e\n",
    "LEFT JOIN multi_day_sessions USING (session_id)\n",
    "GROUP BY ALL\n",
    "ORDER BY num_sessions DESC"
   ]
  },
  {
   "cell_type": "markdown",
   "id": "3fb02a7b-6213-4476-9fff-ebc029426f06",
   "metadata": {},
   "source": [
    "Get overall daily funnel"
   ]
  },
  {
   "cell_type": "code",
   "execution_count": null,
   "id": "cae92f6e-8d23-4a8f-9950-ebca51e60cbe",
   "metadata": {},
   "outputs": [],
   "source": [
    "%%sql\n",
    "WITH multi_day_sessions AS (\n",
    "    SELECT session_id,\n",
    "           True AS is_multi_day_session\n",
    "    FROM stg_postgres_events\n",
    "    WHERE event_type != 'package_shipped'\n",
    "    GROUP BY ALL\n",
    "    HAVING COUNT(DISTINCT(TO_DATE(created_at))) > 1\n",
    ")\n",
    "SELECT TO_DATE(created_at) AS created_at_date,\n",
    "       event_type,\n",
    "       COUNT(DISTINCT(session_id)) AS num_sessions\n",
    "FROM stg_postgres_events e\n",
    "LEFT JOIN multi_day_sessions USING (session_id)\n",
    "WHERE event_type NOT IN ('package_shipped')\n",
    "AND is_multi_day_session IS NULL\n",
    "GROUP BY ALL\n",
    "ORDER BY created_at_date, num_sessions DESC"
   ]
  },
  {
   "cell_type": "markdown",
   "id": "2950c7de-eb93-4522-b6a8-7e279ba69288",
   "metadata": {},
   "source": [
    "Get state funnel"
   ]
  },
  {
   "cell_type": "code",
   "execution_count": null,
   "id": "a698399d-b525-4e45-9683-9707314993ff",
   "metadata": {},
   "outputs": [],
   "source": [
    "%%sql\n",
    "WITH user_addresses AS (\n",
    "    SELECT u.user_id,\n",
    "           a.state AS state_name\n",
    "    FROM (\n",
    "        SELECT DISTINCT(user_id) AS user_id\n",
    "        FROM stg_postgres_events\n",
    "    ) AS u\n",
    "    INNER JOIN stg_postgres_users us USING (user_id)\n",
    "    INNER JOIN stg_postgres_addresses a USING (address_id)\n",
    "),\n",
    "multi_day_sessions AS (\n",
    "    SELECT session_id,\n",
    "           True AS is_multi_day_session\n",
    "    FROM stg_postgres_events\n",
    "    WHERE event_type != 'package_shipped'\n",
    "    GROUP BY ALL\n",
    "    HAVING COUNT(DISTINCT(TO_DATE(created_at))) > 1\n",
    ")\n",
    "SELECT ua.state_name,\n",
    "       event_type,\n",
    "       COUNT(DISTINCT(session_id)) AS num_sessions\n",
    "FROM stg_postgres_events e\n",
    "LEFT JOIN multi_day_sessions USING (session_id)\n",
    "INNER JOIN user_addresses ua USING (user_id)\n",
    "WHERE event_type != 'package_shipped'\n",
    "AND is_multi_day_session IS NULL\n",
    "GROUP BY ALL\n",
    "ORDER BY state_name, num_sessions DESC"
   ]
  },
  {
   "cell_type": "markdown",
   "id": "30332506-51cd-45eb-aa46-0f620ca45ea7",
   "metadata": {},
   "source": [
    "Get state funnel for checkouts including multi-day sessions (to compare to expected from **About** section)"
   ]
  },
  {
   "cell_type": "code",
   "execution_count": null,
   "id": "5ebe1e33-4efc-4e88-b4fe-b6f352fdb373",
   "metadata": {},
   "outputs": [],
   "source": [
    "%%sql\n",
    "WITH user_addresses AS (\n",
    "    SELECT u.user_id,\n",
    "           a.state AS state_name\n",
    "    FROM (\n",
    "        SELECT DISTINCT(user_id) AS user_id\n",
    "        FROM stg_postgres_events\n",
    "    ) AS u\n",
    "    INNER JOIN stg_postgres_users us USING (user_id)\n",
    "    INNER JOIN stg_postgres_addresses a USING (address_id)\n",
    "),\n",
    "multi_day_sessions AS (\n",
    "    SELECT session_id,\n",
    "           True AS is_multi_day_session\n",
    "    FROM stg_postgres_events\n",
    "    WHERE event_type != 'package_shipped'\n",
    "    GROUP BY ALL\n",
    "    HAVING COUNT(DISTINCT(TO_DATE(created_at))) > 1\n",
    ")\n",
    "SELECT ua.state_name,\n",
    "       event_type,\n",
    "       COUNT(DISTINCT(session_id)) AS num_sessions\n",
    "FROM stg_postgres_events e\n",
    "LEFT JOIN multi_day_sessions USING (session_id)\n",
    "INNER JOIN user_addresses ua USING (user_id)\n",
    "WHERE event_type = 'checkout'\n",
    "-- AND is_multi_day_session IS NULL\n",
    "GROUP BY ALL\n",
    "ORDER BY num_sessions DESC"
   ]
  },
  {
   "cell_type": "markdown",
   "id": "7db19ad5-8a12-4552-b5c3-807ac4f6f5d3",
   "metadata": {},
   "source": [
    "Get state daily funnel"
   ]
  },
  {
   "cell_type": "code",
   "execution_count": null,
   "id": "502a8ea8-a83c-4e76-b0de-926e0026fbb8",
   "metadata": {},
   "outputs": [],
   "source": [
    "%%sql\n",
    "WITH user_addresses AS (\n",
    "    SELECT u.user_id,\n",
    "           a.state AS state_name\n",
    "    FROM (\n",
    "        SELECT DISTINCT(user_id) AS user_id\n",
    "        FROM stg_postgres_events\n",
    "    ) AS u\n",
    "    INNER JOIN stg_postgres_users us USING (user_id)\n",
    "    INNER JOIN stg_postgres_addresses a USING (address_id)\n",
    "),\n",
    "event_order_mapper AS (\n",
    "    SELECT *\n",
    "    FROM (\n",
    "        -- VALUES ('page_view', '01: page_view'),\n",
    "        -- ('add_to_cart', '02: add_to_cart'),\n",
    "        -- ('checkout', '03: checkout')\n",
    "        VALUES ('page_view', 1, 'page_view'),\n",
    "        ('add_to_cart', 2, 'add_to_cart'),\n",
    "        ('checkout', 3, 'checkout')\n",
    "    ) AS t0 (event_type, step_order, event_type)\n",
    "),\n",
    "multi_day_sessions AS (\n",
    "    SELECT session_id,\n",
    "           True AS is_multi_day_session\n",
    "    FROM stg_postgres_events\n",
    "    WHERE event_type != 'package_shipped'\n",
    "    GROUP BY ALL\n",
    "    HAVING COUNT(DISTINCT(TO_DATE(created_at))) > 1\n",
    ")\n",
    "SELECT ua.state_name,\n",
    "       TO_DATE(created_at) AS created_at_date,\n",
    "       step_order,\n",
    "       event_type,\n",
    "       COUNT(DISTINCT(session_id)) AS num_sessions\n",
    "FROM stg_postgres_events e\n",
    "LEFT JOIN multi_day_sessions USING (session_id)\n",
    "INNER JOIN user_addresses ua USING (user_id)\n",
    "INNER JOIN event_order_mapper em USING (event_type)\n",
    "WHERE event_type != 'package_shipped'\n",
    "AND is_multi_day_session IS NULL\n",
    "GROUP BY ALL\n",
    "ORDER BY state_name, created_at_date, step_order"
   ]
  },
  {
   "cell_type": "markdown",
   "id": "58a5ccb2-9d25-4601-8f11-607c72e53b1e",
   "metadata": {},
   "source": [
    "### Funnels Without Checkouts"
   ]
  },
  {
   "cell_type": "markdown",
   "id": "1e4b931c-dc13-4e4a-8020-6d6e98809c6d",
   "metadata": {},
   "source": [
    "Get state-product funnel"
   ]
  },
  {
   "cell_type": "code",
   "execution_count": null,
   "id": "f36c320b-c5b0-4c93-a2e4-12692ec18b21",
   "metadata": {},
   "outputs": [],
   "source": [
    "%%sql\n",
    "WITH multi_day_sessions AS (\n",
    "    SELECT session_id,\n",
    "           True AS is_multi_day_session\n",
    "    FROM stg_postgres_events\n",
    "    WHERE event_type != 'package_shipped'\n",
    "    GROUP BY ALL\n",
    "    HAVING COUNT(DISTINCT(TO_DATE(created_at))) > 1\n",
    "),\n",
    "user_addresses AS (\n",
    "    SELECT u.user_id,\n",
    "           a.state AS state_name\n",
    "    FROM (\n",
    "        SELECT DISTINCT(user_id) AS user_id\n",
    "        FROM stg_postgres_events\n",
    "        LEFT JOIN multi_day_sessions USING (session_id)\n",
    "        WHERE event_type != 'package_shipped'\n",
    "        AND is_multi_day_session IS NULL\n",
    "    ) AS u\n",
    "    INNER JOIN stg_postgres_users us USING (user_id)\n",
    "    INNER JOIN stg_postgres_addresses a USING (address_id)\n",
    ")\n",
    "SELECT ua.state_name,\n",
    "       p.name AS product_name,\n",
    "       event_type,\n",
    "       COUNT(DISTINCT(session_id)) AS num_sessions\n",
    "FROM stg_postgres_events e\n",
    "LEFT JOIN multi_day_sessions USING (session_id)\n",
    "INNER JOIN user_addresses ua USING (user_id)\n",
    "INNER JOIN stg_postgres_products p USING (product_id)\n",
    "WHERE is_multi_day_session IS NULL\n",
    "GROUP BY ALL\n",
    "ORDER BY state_name, product_name, num_sessions DESC"
   ]
  },
  {
   "cell_type": "markdown",
   "id": "0fa6589d-411d-46a6-a241-2933b8cee7de",
   "metadata": {},
   "source": [
    "Get product funnel"
   ]
  },
  {
   "cell_type": "code",
   "execution_count": null,
   "id": "4238d817-ccc1-46fb-a6ba-d557d360e8a8",
   "metadata": {},
   "outputs": [],
   "source": [
    "%%sql\n",
    "WITH multi_day_sessions AS (\n",
    "    SELECT session_id,\n",
    "           True AS is_multi_day_session\n",
    "    FROM stg_postgres_events\n",
    "    WHERE event_type != 'package_shipped'\n",
    "    GROUP BY ALL\n",
    "    HAVING COUNT(DISTINCT(TO_DATE(created_at))) > 1\n",
    ")\n",
    "SELECT p.name AS product_name,\n",
    "       event_type,\n",
    "       COUNT(DISTINCT(session_id)) AS num_sessions\n",
    "FROM stg_postgres_events e\n",
    "LEFT JOIN multi_day_sessions USING (session_id)\n",
    "INNER JOIN stg_postgres_products p USING (product_id)\n",
    "WHERE is_multi_day_session IS NULL\n",
    "GROUP BY ALL\n",
    "ORDER BY product_name, num_sessions DESC"
   ]
  },
  {
   "cell_type": "markdown",
   "id": "77909ad1-c5b7-46ed-ac5c-8063e44b7c13",
   "metadata": {},
   "source": [
    "Get product daily funnel"
   ]
  },
  {
   "cell_type": "code",
   "execution_count": null,
   "id": "cb2cf6df-19d6-41e1-88a3-e6a2b0512b55",
   "metadata": {},
   "outputs": [],
   "source": [
    "%%sql\n",
    "WITH multi_day_sessions AS (\n",
    "    SELECT session_id,\n",
    "           True AS is_multi_day_session\n",
    "    FROM stg_postgres_events\n",
    "    WHERE event_type != 'package_shipped'\n",
    "    GROUP BY ALL\n",
    "    HAVING COUNT(DISTINCT(TO_DATE(created_at))) > 1\n",
    ")\n",
    "SELECT p.name AS product_name,\n",
    "       TO_DATE(created_at) AS created_at_date,\n",
    "       event_type,\n",
    "       COUNT(DISTINCT(session_id)) AS num_sessions\n",
    "FROM stg_postgres_events e\n",
    "LEFT JOIN multi_day_sessions USING (session_id)\n",
    "INNER JOIN stg_postgres_products p USING (product_id)\n",
    "WHERE is_multi_day_session IS NULL\n",
    "GROUP BY ALL\n",
    "ORDER BY product_name, created_at_date, num_sessions DESC"
   ]
  },
  {
   "cell_type": "markdown",
   "id": "16384aa4-970c-497e-90a3-c0f478b901c0",
   "metadata": {},
   "source": [
    "## Queries"
   ]
  },
  {
   "cell_type": "markdown",
   "id": "5985ae32-c99d-422d-9dd2-c7923408dbce",
   "metadata": {},
   "source": [
    "Set the maximum number of rows to be displayed to `None` (shows all rows)"
   ]
  },
  {
   "cell_type": "code",
   "execution_count": null,
   "id": "c85a1b04-99a8-49a9-9bd6-683c43afaf9b",
   "metadata": {},
   "outputs": [],
   "source": [
    "%config SqlMagic.displaylimit = None"
   ]
  },
  {
   "cell_type": "code",
   "execution_count": null,
   "id": "760ed4d9-dcd5-440f-b082-a244729f9987",
   "metadata": {},
   "outputs": [],
   "source": [
    "%%sql\n",
    "/* ============= INTERMEDIATE DATA MODEL STARTS HERE ============= */\n",
    "WITH events AS (\n",
    "    SELECT session_id,\n",
    "           user_id,\n",
    "           -- event_id,\n",
    "           TO_DATE(created_at) AS created_at_date,\n",
    "           created_at,\n",
    "           event_type,\n",
    "           product_id,\n",
    "           is_purchased\n",
    "    FROM int_product_purchases_filtered\n",
    "),\n",
    "non_events AS (\n",
    "    SELECT session_id,\n",
    "           user_id,\n",
    "           -- event_id,\n",
    "           TO_DATE(created_at) AS created_at_date,\n",
    "           created_at,\n",
    "           event_type,\n",
    "           product_id\n",
    "    FROM int_product_non_purchases_filtered\n",
    "),\n",
    "non_purchase_sessions_page_view_counts AS (\n",
    "    SELECT session_id,\n",
    "           user_id,\n",
    "           -- event_id,\n",
    "           product_id,\n",
    "           created_at_date,\n",
    "           COUNT(*) AS num_page_views\n",
    "    FROM non_events\n",
    "    WHERE event_type = 'page_view'\n",
    "    GROUP BY ALL\n",
    "),\n",
    "non_purchase_sessions_add_to_cart_counts AS (\n",
    "    SELECT session_id,\n",
    "           user_id,\n",
    "           -- event_id,\n",
    "           product_id,\n",
    "           created_at_date,\n",
    "           COUNT(*) AS num_add_to_carts\n",
    "    FROM non_events\n",
    "    WHERE event_type = 'add_to_cart'\n",
    "    GROUP BY ALL\n",
    "),\n",
    "purchase_sessions_cart_checkout_counts AS (\n",
    "    SELECT session_id,\n",
    "           user_id,\n",
    "           -- event_id,\n",
    "           product_id,\n",
    "           created_at_date,\n",
    "           1 AS num_add_to_carts,\n",
    "           MAX(is_purchased) AS num_checkouts\n",
    "    FROM events\n",
    "    WHERE event_type = 'add_to_cart'\n",
    "    AND product_id IS NOT NULL\n",
    "    GROUP BY ALL\n",
    "),\n",
    "purchase_sessions_page_view_counts AS (\n",
    "    SELECT session_id,\n",
    "           user_id,\n",
    "           -- event_id,\n",
    "           product_id,\n",
    "           created_at_date,\n",
    "           COUNT(*) AS num_page_views\n",
    "    FROM events\n",
    "    WHERE event_type = 'page_view'\n",
    "    GROUP BY ALL\n",
    "),\n",
    "daily_user_sessions AS (\n",
    "    SELECT session_id,\n",
    "           user_id,\n",
    "           product_id,\n",
    "           created_at_date,\n",
    "           num_page_views,\n",
    "           num_add_to_carts,\n",
    "           num_checkouts\n",
    "    FROM purchase_sessions_page_view_counts\n",
    "    LEFT JOIN purchase_sessions_cart_checkout_counts\n",
    "        USING (session_id, user_id, product_id, created_at_date)\n",
    "    UNION ALL\n",
    "    SELECT session_id,\n",
    "           user_id,\n",
    "           product_id,\n",
    "           created_at_date,\n",
    "           num_page_views,\n",
    "           num_add_to_carts,\n",
    "           0 AS num_checkouts\n",
    "    FROM non_purchase_sessions_page_view_counts\n",
    "    LEFT JOIN non_purchase_sessions_add_to_cart_counts\n",
    "        USING (session_id, user_id, product_id, created_at_date)\n",
    "),\n",
    "daily_user_sessions_no_nulls AS (\n",
    "    SELECT session_id,\n",
    "           user_id,\n",
    "           product_id,\n",
    "           created_at_date,\n",
    "           ZEROIFNULL(num_page_views) AS num_page_views,\n",
    "           ZEROIFNULL(num_add_to_carts) AS num_add_to_carts,\n",
    "           ZEROIFNULL(num_checkouts) AS num_checkouts\n",
    "    FROM daily_user_sessions\n",
    "),\n",
    "/* ============= INTERMEDIATE DATA MODEL ENDS HERE ============= */\n",
    "/* ============= MARTS fct_sessions_daily DATA MODEL STARTS HERE ============= */\n",
    "users AS (\n",
    "    SELECT user_id,\n",
    "           address_id\n",
    "    FROM stg_postgres_users\n",
    "),\n",
    "addresses AS (\n",
    "    SELECT address_id,\n",
    "           state AS state_name\n",
    "    FROM stg_postgres_addresses\n",
    "),\n",
    "products AS (\n",
    "    SELECT product_id,\n",
    "           name AS product_name\n",
    "    FROM stg_postgres_products\n",
    "),\n",
    "event_users AS (\n",
    "    SELECT DISTINCT(user_id) AS user_id\n",
    "    FROM stg_postgres_events\n",
    "),\n",
    "user_addresses AS (\n",
    "     SELECT u.user_id,\n",
    "            a.state_name\n",
    "     FROM event_users AS u\n",
    "     INNER JOIN users us USING (user_id)\n",
    "     INNER JOIN addresses a USING (address_id)\n",
    "),\n",
    "daily_user_sessions_named AS (\n",
    "    SELECT s.session_id,\n",
    "           s.user_id,\n",
    "           -- event_id,\n",
    "           ua.state_name,\n",
    "           p.product_name,\n",
    "           s.created_at_date,\n",
    "           num_page_views,\n",
    "           num_add_to_carts,\n",
    "           num_checkouts\n",
    "    FROM daily_user_sessions_no_nulls AS s\n",
    "    INNER JOIN user_addresses ua USING (user_id)\n",
    "    INNER JOIN products p USING (product_id)\n",
    "),\n",
    "/* ============= MARTS fct_user_sessions DATA MODEL ENDS HERE ============= */\n",
    "/* ============= BI TOOL STARTS HERE ============= */\n",
    "daily_user_sessions_filtered AS (\n",
    "    SELECT *\n",
    "    FROM daily_user_sessions_named\n",
    "    WHERE created_at_date BETWEEN '{{ min_date }}' AND '{{ max_date }}'\n",
    "),\n",
    "overall AS (\n",
    "    SELECT ZEROIFNULL(page_views) AS page_views,\n",
    "           ZEROIFNULL(add_to_carts) AS add_to_carts,\n",
    "           ZEROIFNULL(checkouts) AS checkouts\n",
    "    FROM (\n",
    "        SELECT COUNT(DISTINCT(session_id)) AS page_views,\n",
    "               1 AS row_num\n",
    "        FROM daily_user_sessions_filtered\n",
    "        WHERE num_page_views > 0\n",
    "    ) t1\n",
    "    LEFT JOIN (\n",
    "        SELECT COUNT(DISTINCT(session_id)) AS add_to_carts,\n",
    "               1 AS row_num\n",
    "        FROM daily_user_sessions_filtered\n",
    "        WHERE num_add_to_carts > 0\n",
    "    ) t2 USING (row_num)\n",
    "    LEFT JOIN (\n",
    "        SELECT COUNT(DISTINCT(session_id)) AS checkouts,\n",
    "               1 AS row_num\n",
    "        FROM daily_user_sessions_filtered\n",
    "        WHERE num_checkouts > 0\n",
    "    ) t3 USING (row_num)\n",
    "    ORDER BY checkouts DESC\n",
    "),\n",
    "by_state AS (\n",
    "    SELECT state_name,\n",
    "           ZEROIFNULL(page_views) AS page_views,\n",
    "           ZEROIFNULL(add_to_carts) AS add_to_carts,\n",
    "           ZEROIFNULL(checkouts) AS checkouts\n",
    "    FROM (\n",
    "        SELECT state_name,\n",
    "               COUNT(DISTINCT(session_id)) AS page_views\n",
    "        FROM daily_user_sessions_filtered\n",
    "        WHERE num_page_views > 0\n",
    "        GROUP BY ALL\n",
    "    ) t1\n",
    "    LEFT JOIN (\n",
    "        SELECT state_name,\n",
    "               COUNT(DISTINCT(session_id)) AS add_to_carts\n",
    "        FROM daily_user_sessions_filtered\n",
    "        WHERE num_add_to_carts > 0\n",
    "        GROUP BY ALL\n",
    "    ) t2 USING (state_name)\n",
    "    LEFT JOIN (\n",
    "        SELECT state_name,\n",
    "               COUNT(DISTINCT(session_id)) AS checkouts\n",
    "        FROM daily_user_sessions_filtered\n",
    "        WHERE num_checkouts > 0\n",
    "        GROUP BY ALL\n",
    "    ) t3 USING (state_name)\n",
    "    ORDER BY checkouts DESC\n",
    "),\n",
    "by_product AS (\n",
    "    SELECT product_name,\n",
    "           ZEROIFNULL(page_views) AS page_views,\n",
    "           ZEROIFNULL(add_to_carts) AS add_to_carts,\n",
    "           ZEROIFNULL(checkouts) AS checkouts\n",
    "    FROM (\n",
    "        SELECT product_name,\n",
    "               COUNT(DISTINCT(session_id)) AS page_views\n",
    "        FROM daily_user_sessions_filtered\n",
    "        WHERE num_page_views > 0\n",
    "        GROUP BY ALL\n",
    "    ) t1\n",
    "    LEFT JOIN (\n",
    "        SELECT product_name,\n",
    "               COUNT(DISTINCT(session_id)) AS add_to_carts\n",
    "        FROM daily_user_sessions_filtered\n",
    "        WHERE num_add_to_carts > 0\n",
    "        GROUP BY ALL\n",
    "    ) t2 USING (product_name)\n",
    "    LEFT JOIN (\n",
    "        SELECT product_name,\n",
    "               COUNT(DISTINCT(session_id)) AS checkouts\n",
    "        FROM daily_user_sessions_filtered\n",
    "        WHERE num_checkouts > 0\n",
    "        GROUP BY ALL\n",
    "    ) t3 USING (product_name)\n",
    "    ORDER BY checkouts DESC\n",
    "),\n",
    "overall_daily AS (\n",
    "    SELECT created_at_date,\n",
    "           ZEROIFNULL(page_views) AS page_views,\n",
    "           ZEROIFNULL(add_to_carts) AS add_to_carts,\n",
    "           ZEROIFNULL(checkouts) AS checkouts\n",
    "    FROM (\n",
    "        SELECT created_at_date,\n",
    "               COUNT(DISTINCT(session_id)) AS page_views\n",
    "        FROM daily_user_sessions_filtered\n",
    "        WHERE num_page_views > 0\n",
    "        GROUP BY ALL\n",
    "    ) t1\n",
    "    LEFT JOIN (\n",
    "        SELECT created_at_date,\n",
    "               COUNT(DISTINCT(session_id)) AS add_to_carts\n",
    "        FROM daily_user_sessions_filtered\n",
    "        WHERE num_add_to_carts > 0\n",
    "        GROUP BY ALL\n",
    "    ) t2 USING (created_at_date)\n",
    "    LEFT JOIN (\n",
    "        SELECT created_at_date,\n",
    "               COUNT(DISTINCT(session_id)) AS checkouts\n",
    "        FROM daily_user_sessions_filtered\n",
    "        WHERE num_checkouts > 0\n",
    "        GROUP BY ALL\n",
    "    ) t3 USING (created_at_date)\n",
    "    ORDER BY created_at_date, checkouts DESC\n",
    "),\n",
    "by_state_daily AS (\n",
    "    SELECT state_name,\n",
    "           created_at_date,\n",
    "           ZEROIFNULL(page_views) AS page_views,\n",
    "           ZEROIFNULL(add_to_carts) AS add_to_carts,\n",
    "           ZEROIFNULL(checkouts) AS checkouts\n",
    "    FROM (\n",
    "        SELECT state_name,\n",
    "               created_at_date,\n",
    "               COUNT(DISTINCT(session_id)) AS page_views\n",
    "        FROM daily_user_sessions_filtered\n",
    "        WHERE num_page_views > 0\n",
    "        GROUP BY ALL\n",
    "    ) t1\n",
    "    LEFT JOIN (\n",
    "        SELECT state_name,\n",
    "               created_at_date,\n",
    "               COUNT(DISTINCT(session_id)) AS add_to_carts\n",
    "        FROM daily_user_sessions_filtered\n",
    "        WHERE num_add_to_carts > 0\n",
    "        GROUP BY ALL\n",
    "    ) t2 USING (state_name, created_at_date)\n",
    "    LEFT JOIN (\n",
    "        SELECT state_name,\n",
    "               created_at_date,\n",
    "               COUNT(DISTINCT(session_id)) AS checkouts\n",
    "        FROM daily_user_sessions_filtered\n",
    "        WHERE num_checkouts > 0\n",
    "        GROUP BY ALL\n",
    "    ) t3 USING (state_name, created_at_date)\n",
    "    ORDER BY state_name, created_at_date, checkouts DESC\n",
    "),\n",
    "by_product_daily AS (\n",
    "    SELECT product_name,\n",
    "           created_at_date,\n",
    "           ZEROIFNULL(page_views) AS page_views,\n",
    "           ZEROIFNULL(add_to_carts) AS add_to_carts,\n",
    "           ZEROIFNULL(checkouts) AS checkouts\n",
    "    FROM (\n",
    "        SELECT product_name,\n",
    "               created_at_date,\n",
    "               COUNT(DISTINCT(session_id)) AS page_views\n",
    "        FROM daily_user_sessions_filtered\n",
    "        WHERE num_page_views > 0\n",
    "        GROUP BY ALL\n",
    "    ) t1\n",
    "    LEFT JOIN (\n",
    "        SELECT product_name,\n",
    "               created_at_date,\n",
    "               COUNT(DISTINCT(session_id)) AS add_to_carts\n",
    "        FROM daily_user_sessions_filtered\n",
    "        WHERE num_add_to_carts > 0\n",
    "        GROUP BY ALL\n",
    "    ) t2 USING (product_name, created_at_date)\n",
    "    LEFT JOIN (\n",
    "        SELECT product_name,\n",
    "               created_at_date,\n",
    "               COUNT(DISTINCT(session_id)) AS checkouts\n",
    "        FROM daily_user_sessions_filtered\n",
    "        WHERE num_checkouts > 0\n",
    "        GROUP BY ALL\n",
    "    ) t3 USING (product_name, created_at_date)\n",
    "    ORDER BY created_at_date, checkouts DESC\n",
    "),\n",
    "overall_pivotted AS (\n",
    "    SELECT LOWER(event_type) AS event_type,\n",
    "           number\n",
    "    FROM overall\n",
    "    UNPIVOT (number FOR event_type IN (page_views, add_to_carts, checkouts))\n",
    "),\n",
    "by_state_pivotted AS (\n",
    "    SELECT LOWER(event_type) AS event_type,\n",
    "           number\n",
    "    FROM by_state\n",
    "    UNPIVOT (number FOR event_type IN (page_views, add_to_carts, checkouts))\n",
    "),\n",
    "by_product_pivotted AS (\n",
    "    SELECT LOWER(event_type) AS event_type,\n",
    "           number\n",
    "    FROM by_product\n",
    "    UNPIVOT (number FOR event_type IN (page_views, add_to_carts, checkouts))\n",
    "),\n",
    "overall_daily_pivotted AS (\n",
    "    SELECT created_at_date,\n",
    "           LOWER(event_type) AS event_type,\n",
    "           number\n",
    "    FROM overall_daily\n",
    "    UNPIVOT (number FOR event_type IN (page_views, add_to_carts, checkouts))\n",
    "),\n",
    "by_state_daily_pivotted AS (\n",
    "    SELECT state_name,\n",
    "           created_at_date,\n",
    "           LOWER(event_type) AS event_type,\n",
    "           number\n",
    "    FROM by_state_daily\n",
    "    UNPIVOT (number FOR event_type IN (page_views, add_to_carts, checkouts))\n",
    "),\n",
    "by_product_daily_pivotted AS (\n",
    "    SELECT product_name,\n",
    "           created_at_date,\n",
    "           LOWER(event_type) AS event_type,\n",
    "           number\n",
    "    FROM by_product_daily\n",
    "    UNPIVOT (number FOR event_type IN (page_views, add_to_carts, checkouts))\n",
    ")\n",
    "/* ============= BI TOOL ENDS HERE ============= */\n",
    "SELECT *\n",
    "FROM overall_daily"
   ]
  },
  {
   "cell_type": "markdown",
   "id": "481fcecd-4ff9-499a-82ca-0f700128b236",
   "metadata": {},
   "source": [
    "## Disconnect"
   ]
  },
  {
   "cell_type": "markdown",
   "id": "072f4acd-8a0e-4338-b299-06ccadc22870",
   "metadata": {},
   "source": [
    "Close connection"
   ]
  },
  {
   "cell_type": "code",
   "execution_count": null,
   "id": "52308ff6-c7ed-485a-89a1-18e79bfcc3eb",
   "metadata": {},
   "outputs": [],
   "source": [
    "%sql --close connection"
   ]
  }
 ],
 "metadata": {
  "kernelspec": {
   "display_name": "Python 3 (ipykernel)",
   "language": "python",
   "name": "python3"
  },
  "language_info": {
   "codemirror_mode": {
    "name": "ipython",
    "version": 3
   },
   "file_extension": ".py",
   "mimetype": "text/x-python",
   "name": "python",
   "nbconvert_exporter": "python",
   "pygments_lexer": "ipython3",
   "version": "3.10.12"
  }
 },
 "nbformat": 4,
 "nbformat_minor": 5
}
