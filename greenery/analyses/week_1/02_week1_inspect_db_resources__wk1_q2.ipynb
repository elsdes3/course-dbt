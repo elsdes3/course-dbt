{
 "cells": [
  {
   "cell_type": "markdown",
   "id": "fe5d2313-9f71-49e0-afd9-edd12d786bbc",
   "metadata": {
    "editable": true,
    "slideshow": {
     "slide_type": ""
    },
    "tags": []
   },
   "source": [
    "# Inspect DBT Models"
   ]
  },
  {
   "cell_type": "code",
   "execution_count": null,
   "id": "f1405be7-4388-46d2-86c7-883807005a2b",
   "metadata": {},
   "outputs": [],
   "source": [
    "import os\n",
    "from pathlib import Path\n",
    "\n",
    "from dotenv import load_dotenv\n",
    "from sqlalchemy import create_engine\n",
    "from snowflake.sqlalchemy import URL"
   ]
  },
  {
   "cell_type": "code",
   "execution_count": null,
   "id": "a54c49e4-b90c-4fac-aa35-416840e5ed63",
   "metadata": {},
   "outputs": [],
   "source": [
    "PROJ_ROOT = Path().resolve().parents[3]\n",
    "env_file_dir = PROJ_ROOT / '.env'\n",
    "_ = load_dotenv(env_file_dir, verbose=True)"
   ]
  },
  {
   "cell_type": "markdown",
   "id": "28abbce6-0fbc-4c08-89c9-461407d06ae8",
   "metadata": {},
   "source": [
    "## About"
   ]
  },
  {
   "cell_type": "markdown",
   "id": "6ebf7181-0a10-48d2-bde7-d9056d850afa",
   "metadata": {},
   "source": [
    "View contents of Greenery DuckDB database that were created in my personal Snowflake schema using `dbt run` for week 1 project.\n",
    "\n",
    "### Assumptions\n",
    "\n",
    "1. Since the week 1 assignment was submitted late, the snapshots in my personal schema should be for weeks 1 and 2. <span style=\"color:red\"><b>This assumption is not enforced here and the snapshot is assumed to be for week 1</b></span>.                                                                      \n",
    "### Notes\n",
    "\n",
    "1. This notebook supports <kbd>Run</kbd> > <kbd>Run All Cells</kbd>."
   ]
  },
  {
   "cell_type": "markdown",
   "id": "d91ece3c-1225-4354-9510-fe4391d5ee4c",
   "metadata": {},
   "source": [
    "## User Inputs"
   ]
  },
  {
   "cell_type": "code",
   "execution_count": null,
   "id": "3abc4aed-82b6-465a-a885-3d373baf8616",
   "metadata": {
    "editable": true,
    "slideshow": {
     "slide_type": ""
    },
    "tags": [
     "parameters"
    ]
   },
   "outputs": [],
   "source": [
    "schema_name = os.getenv(\"UPLIMIT_SNOWFLAKE_SCHEMA\")"
   ]
  },
  {
   "cell_type": "code",
   "execution_count": null,
   "id": "73a958af-444e-4ccc-955d-b40d8981c5b7",
   "metadata": {},
   "outputs": [],
   "source": [
    "engine = create_engine(\n",
    "    URL(\n",
    "        drivername=\"driver\",\n",
    "        account=os.getenv(\"UPLIMIT_SNOWFLAKE_ACCOUNT\"),\n",
    "        user=os.getenv(\"UPLIMIT_SNOWFLAKE_USER\"),\n",
    "        password=os.getenv(\"UPLIMIT_SNOWFLAKE_PASS\"),\n",
    "        warehouse=os.getenv(\"UPLIMIT_SNOWFLAKE_WAREHOUSE\"),\n",
    "        role=os.getenv(\"UPLIMIT_SNOWFLAKE_ROLE\"),\n",
    "        database=os.getenv(\"UPLIMIT_SNOWFLAKE_DB_NAME\"),\n",
    "        schema=schema_name,\n",
    "    )\n",
    ")"
   ]
  },
  {
   "cell_type": "markdown",
   "id": "09daf953-8715-4f48-823d-bb54da137017",
   "metadata": {},
   "source": [
    "## Connect"
   ]
  },
  {
   "cell_type": "markdown",
   "id": "53d42b99-a09e-469c-b020-8d75317097db",
   "metadata": {},
   "source": [
    "Load Jupyter SQL extension"
   ]
  },
  {
   "cell_type": "code",
   "execution_count": null,
   "id": "991b7a26-81ba-4fbf-8b2e-00703e757351",
   "metadata": {},
   "outputs": [],
   "source": [
    "%load_ext sql"
   ]
  },
  {
   "cell_type": "markdown",
   "id": "c577553f-bb87-4234-b979-6321e16838f3",
   "metadata": {},
   "source": [
    "Connect to database"
   ]
  },
  {
   "cell_type": "code",
   "execution_count": null,
   "id": "6b341e5c-5cfd-422a-b0fc-a7a906b6d182",
   "metadata": {},
   "outputs": [],
   "source": [
    "%sql engine --alias connection"
   ]
  },
  {
   "cell_type": "markdown",
   "id": "7ccb654b-9fdf-4039-ab44-b420ab21c8c8",
   "metadata": {},
   "source": [
    "## Explore Data"
   ]
  },
  {
   "cell_type": "markdown",
   "id": "eb463773-9b79-4d14-9b0d-15f93bfcc00e",
   "metadata": {},
   "source": [
    "### Show All Tables in Database"
   ]
  },
  {
   "cell_type": "code",
   "execution_count": null,
   "id": "09ecd162-65e3-489a-814b-dad48b2d1061",
   "metadata": {},
   "outputs": [],
   "source": [
    "%%sql\n",
    "SELECT table_catalog,\n",
    "       table_schema,\n",
    "       table_name,\n",
    "       table_type,\n",
    "       is_insertable_into,\n",
    "       is_typed\n",
    "FROM information_schema.tables\n",
    "WHERE table_type LIKE '%TABLE'\n",
    "AND table_schema = '{{schema_name.upper()}}'\n",
    "ORDER BY table_catalog, table_name"
   ]
  },
  {
   "cell_type": "markdown",
   "id": "6d36fc33-7b64-421b-885b-1b4d4e45bce0",
   "metadata": {},
   "source": [
    "### Show All Views in Database"
   ]
  },
  {
   "cell_type": "code",
   "execution_count": null,
   "id": "cf5cef04-7367-4e79-a0fd-b5f5cd201098",
   "metadata": {},
   "outputs": [],
   "source": [
    "%%sql\n",
    "SELECT table_catalog,\n",
    "       table_schema,\n",
    "       table_name,\n",
    "       table_type,\n",
    "       is_insertable_into,\n",
    "       is_typed\n",
    "FROM information_schema.tables\n",
    "WHERE table_type LIKE '%VIEW'\n",
    "AND table_schema = '{{schema_name.upper()}}'\n",
    "ORDER BY table_catalog, table_name, table_schema"
   ]
  },
  {
   "cell_type": "markdown",
   "id": "c5faae38-1665-47bb-92d7-451ceb58311d",
   "metadata": {},
   "source": [
    "### Show Table and View Schema"
   ]
  },
  {
   "cell_type": "markdown",
   "id": "5b0cadc7-d5f5-4253-a250-51105d9f4b49",
   "metadata": {},
   "source": [
    "### Staging"
   ]
  },
  {
   "cell_type": "markdown",
   "id": "9cf73de3-02c2-4e68-b852-d3a53f643f8e",
   "metadata": {},
   "source": [
    "Staging view with addresses"
   ]
  },
  {
   "cell_type": "code",
   "execution_count": null,
   "id": "078e282d-fc60-4ffc-ade4-8f0aaff52779",
   "metadata": {},
   "outputs": [],
   "source": [
    "%%sql\n",
    "DESCRIBE stg_postgres_addresses"
   ]
  },
  {
   "cell_type": "markdown",
   "id": "8c2e5fa4-7767-4c95-8aa3-a6b019455ee7",
   "metadata": {},
   "source": [
    "Staging view with users"
   ]
  },
  {
   "cell_type": "code",
   "execution_count": null,
   "id": "45840bb5-50d5-4a9c-a8f1-0ffca3080849",
   "metadata": {},
   "outputs": [],
   "source": [
    "%%sql\n",
    "DESCRIBE stg_postgres_users"
   ]
  },
  {
   "cell_type": "markdown",
   "id": "2618678f-3ac4-462c-b9e0-ae429a50cee4",
   "metadata": {},
   "source": [
    "Staging view with promos"
   ]
  },
  {
   "cell_type": "code",
   "execution_count": null,
   "id": "1fc9b5da-32ef-47fe-9fd0-39a326b5c483",
   "metadata": {},
   "outputs": [],
   "source": [
    "%%sql\n",
    "DESCRIBE stg_postgres_promos"
   ]
  },
  {
   "cell_type": "markdown",
   "id": "849c9838-d115-4fc4-933f-465c7dc92e0f",
   "metadata": {},
   "source": [
    "Staging view with products"
   ]
  },
  {
   "cell_type": "code",
   "execution_count": null,
   "id": "a34525cd-cd87-4b87-8ccb-1c4df683bde9",
   "metadata": {},
   "outputs": [],
   "source": [
    "%%sql\n",
    "DESCRIBE stg_postgres_products"
   ]
  },
  {
   "cell_type": "markdown",
   "id": "dd0bd427-5456-4989-adab-983b3c4e33d8",
   "metadata": {},
   "source": [
    "Staging view with orders"
   ]
  },
  {
   "cell_type": "code",
   "execution_count": null,
   "id": "8f25309d-8532-4b30-a982-7d54014fd547",
   "metadata": {},
   "outputs": [],
   "source": [
    "%%sql\n",
    "DESCRIBE stg_postgres_orders"
   ]
  },
  {
   "cell_type": "markdown",
   "id": "4e91b1cc-cc63-45f2-98df-5853c0526ae9",
   "metadata": {},
   "source": [
    "Staging view with order items"
   ]
  },
  {
   "cell_type": "code",
   "execution_count": null,
   "id": "05d405a5-9079-43f0-9487-a0747e0bcacb",
   "metadata": {},
   "outputs": [],
   "source": [
    "%%sql\n",
    "DESCRIBE stg_postgres_order_items"
   ]
  },
  {
   "cell_type": "markdown",
   "id": "437c0156-3619-4f52-8e69-d182b8c88e80",
   "metadata": {},
   "source": [
    "Staging view with events"
   ]
  },
  {
   "cell_type": "code",
   "execution_count": null,
   "id": "1f9e55f1-e5f3-46ba-8b6c-29fe8bb0034f",
   "metadata": {},
   "outputs": [],
   "source": [
    "%%sql\n",
    "DESCRIBE stg_postgres_events"
   ]
  },
  {
   "cell_type": "markdown",
   "id": "97782001-894a-40d2-ae5b-a89d9560e21f",
   "metadata": {},
   "source": [
    "### Snapshots"
   ]
  },
  {
   "cell_type": "markdown",
   "id": "24d5b7c0-9d0e-4e72-a667-b2a2d498c27c",
   "metadata": {},
   "source": [
    "Staging view with products"
   ]
  },
  {
   "cell_type": "code",
   "execution_count": null,
   "id": "e1302643-4c59-4a6a-acae-68a5aa7cb6fe",
   "metadata": {},
   "outputs": [],
   "source": [
    "%%sql\n",
    "DESCRIBE stg_postgres_products"
   ]
  },
  {
   "cell_type": "markdown",
   "id": "3ec64485-1882-44bd-99ca-1c8086a3c794",
   "metadata": {},
   "source": [
    "Snapshot table for monitoring changes to product inventory over time"
   ]
  },
  {
   "cell_type": "code",
   "execution_count": null,
   "id": "2d99cec1-0e8a-4ea5-a2a0-f6aecaa4b037",
   "metadata": {},
   "outputs": [],
   "source": [
    "%%sql\n",
    "DESCRIBE inventory_snapshot"
   ]
  },
  {
   "cell_type": "markdown",
   "id": "38189ff1-62d8-4d30-8b0e-c6449a809951",
   "metadata": {},
   "source": [
    "### Run Queries"
   ]
  },
  {
   "cell_type": "code",
   "execution_count": null,
   "id": "fd5a3967-b9fa-4e97-8334-e7da14324573",
   "metadata": {},
   "outputs": [],
   "source": [
    "%%sql\n",
    "WITH t1 AS (\n",
    "    SELECT '{{schema_name}}' AS table_schema,\n",
    "           'stg_postgres_addresses' AS materialization_name,\n",
    "           'view' AS materialization_type,\n",
    "           'model' AS dbt_element,\n",
    "           'staging' AS dbt_element_type,\n",
    "           COUNT(*) AS num_rows\n",
    "    FROM stg_postgres_addresses\n",
    "),\n",
    "t2 AS (\n",
    "    SELECT '{{schema_name}}' AS table_schema,\n",
    "           'stg_postgres_users' AS materialization_name,\n",
    "           'view' AS materialization_type,\n",
    "           'model' AS dbt_element,\n",
    "           'staging' AS dbt_element_type,\n",
    "           COUNT(*) AS num_rows\n",
    "    FROM stg_postgres_users\n",
    "),\n",
    "t3 AS (\n",
    "    SELECT '{{schema_name}}' AS table_schema,\n",
    "           'stg_postgres_promos' AS materialization_name,\n",
    "           'view' AS materialization_type,\n",
    "           'model' AS dbt_element,\n",
    "           'staging' AS dbt_element_type,\n",
    "           COUNT(*) AS num_rows\n",
    "    FROM stg_postgres_promos\n",
    "),\n",
    "t4 AS (\n",
    "    SELECT '{{schema_name}}' AS table_schema,\n",
    "           'stg_postgres_products' AS materialization_name,\n",
    "           'view' AS materialization_type,\n",
    "           'model' AS dbt_element,\n",
    "           'staging' AS dbt_element_type,\n",
    "           COUNT(*) AS num_rows\n",
    "    FROM stg_postgres_products\n",
    "),\n",
    "t5 AS (\n",
    "    SELECT '{{schema_name}}' AS table_schema,\n",
    "           'stg_postgres_order_items' AS materialization_name,\n",
    "           'view' AS materialization_type,\n",
    "           'model' AS dbt_element,\n",
    "           'staging' AS dbt_element_type,\n",
    "           COUNT(*) AS num_rows\n",
    "    FROM stg_postgres_order_items\n",
    "),\n",
    "t6 AS (\n",
    "    SELECT '{{schema_name}}' AS table_schema,\n",
    "           'stg_postgres_orders' AS materialization_name,\n",
    "           'view' AS materialization_type,\n",
    "           'model' AS dbt_element,\n",
    "           'staging' AS dbt_element_type,\n",
    "           COUNT(*) AS num_rows\n",
    "    FROM stg_postgres_orders\n",
    "),\n",
    "t7 AS (\n",
    "    SELECT '{{schema_name}}' AS table_schema,\n",
    "           'stg_postgres_events' AS materialization_name,\n",
    "           'view' AS materialization_type,\n",
    "           'model' AS dbt_element,\n",
    "           'staging' AS dbt_element_type,\n",
    "           COUNT(*) AS num_rows\n",
    "    FROM stg_postgres_events\n",
    "),\n",
    "t8 AS (\n",
    "    SELECT '{{schema_name}}' AS table_schema,\n",
    "           'inventory_snapshot' AS materialization_name,\n",
    "           'table' AS materialization_type,\n",
    "           'model' AS dbt_element,\n",
    "           'snapshot' AS dbt_element_type,\n",
    "           COUNT(*) AS num_rows\n",
    "    FROM inventory_snapshot\n",
    ")\n",
    "SELECT *\n",
    "FROM (\n",
    "    SELECT *\n",
    "    FROM t1\n",
    "    UNION\n",
    "    SELECT *\n",
    "    FROM t2\n",
    "    UNION\n",
    "    SELECT *\n",
    "    FROM t3\n",
    "    UNION\n",
    "    SELECT *\n",
    "    FROM t4\n",
    "    UNION\n",
    "    SELECT *\n",
    "    FROM t5\n",
    "    UNION\n",
    "    SELECT *\n",
    "    FROM t6\n",
    "    UNION\n",
    "    SELECT *\n",
    "    FROM t7\n",
    "    UNION\n",
    "    SELECT *\n",
    "    FROM t8\n",
    ")\n",
    "ORDER BY materialization_type ASC, dbt_element DESC"
   ]
  },
  {
   "cell_type": "markdown",
   "id": "1772940c-7e4d-45f9-9c37-70f77b1a1488",
   "metadata": {},
   "source": [
    "Show the snapshot table"
   ]
  },
  {
   "cell_type": "code",
   "execution_count": null,
   "id": "136e4ab6-7128-4fdc-aa3f-6e48b8ab22cf",
   "metadata": {},
   "outputs": [],
   "source": [
    "%%sql\n",
    "SELECT *\n",
    "FROM inventory_snapshot\n",
    "LIMIT 4"
   ]
  },
  {
   "cell_type": "markdown",
   "id": "27356798-9678-4207-9f72-794276539d85",
   "metadata": {},
   "source": [
    "Verify that no changes are visible in this table by counting the number of rows where `dbt_valid_to` does not contain a missing value"
   ]
  },
  {
   "cell_type": "code",
   "execution_count": null,
   "id": "23c744a6-d07c-4a7d-94e9-d8bbe0963c9b",
   "metadata": {},
   "outputs": [],
   "source": [
    "%%sql\n",
    "SELECT COUNT(*) AS num_changes\n",
    "FROM inventory_snapshot\n",
    "WHERE dbt_valid_to IS NOT NULL"
   ]
  },
  {
   "cell_type": "markdown",
   "id": "7f85ad07-e840-4f82-8765-3d86ce0b5d9c",
   "metadata": {},
   "source": [
    "## Disconnect"
   ]
  },
  {
   "cell_type": "markdown",
   "id": "319b6524-074b-496f-8e76-ae1763440ea8",
   "metadata": {},
   "source": [
    "Close connection"
   ]
  },
  {
   "cell_type": "code",
   "execution_count": null,
   "id": "81f925ae-5213-45b2-a168-bd3bbe71ad87",
   "metadata": {},
   "outputs": [],
   "source": [
    "%sql --close connection"
   ]
  }
 ],
 "metadata": {
  "kernelspec": {
   "display_name": "Python 3 (ipykernel)",
   "language": "python",
   "name": "python3"
  },
  "language_info": {
   "codemirror_mode": {
    "name": "ipython",
    "version": 3
   },
   "file_extension": ".py",
   "mimetype": "text/x-python",
   "name": "python",
   "nbconvert_exporter": "python",
   "pygments_lexer": "ipython3",
   "version": "3.10.12"
  }
 },
 "nbformat": 4,
 "nbformat_minor": 5
}
