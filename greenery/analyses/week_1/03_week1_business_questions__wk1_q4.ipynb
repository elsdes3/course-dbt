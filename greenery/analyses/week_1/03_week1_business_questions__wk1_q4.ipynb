{
 "cells": [
  {
   "cell_type": "markdown",
   "id": "cf9d3df8-8ff5-4ed2-b302-ae662a6045de",
   "metadata": {
    "editable": true,
    "slideshow": {
     "slide_type": ""
    },
    "tags": []
   },
   "source": [
    "# Business Questions"
   ]
  },
  {
   "cell_type": "code",
   "execution_count": null,
   "id": "73fa78a6-e1b3-4cd2-b15b-5b0b1ecc7eef",
   "metadata": {},
   "outputs": [],
   "source": [
    "import os\n",
    "from pathlib import Path\n",
    "\n",
    "from dotenv import load_dotenv\n",
    "from sqlalchemy import create_engine\n",
    "from snowflake.sqlalchemy import URL"
   ]
  },
  {
   "cell_type": "code",
   "execution_count": null,
   "id": "9956bf78-ec7c-40c3-823b-a635852e20f3",
   "metadata": {},
   "outputs": [],
   "source": [
    "PROJ_ROOT = Path().resolve().parents[3]\n",
    "env_file_dir = PROJ_ROOT / '.env'\n",
    "_ = load_dotenv(env_file_dir, verbose=True)"
   ]
  },
  {
   "cell_type": "markdown",
   "id": "cb5ec91a-1f7d-4a4d-9bf2-44ec72aa1788",
   "metadata": {},
   "source": [
    "## About"
   ]
  },
  {
   "cell_type": "markdown",
   "id": "32fa31b3-753d-44a2-997c-b2b16ec2e6cf",
   "metadata": {},
   "source": [
    "Answer the five business questions using the greenery e-commerce data using DBT models created in my personal Snowflake schema for week 1 project.\n",
    "\n",
    "### Notes\n",
    "\n",
    "1. This notebook supports <kbd>Run</kbd> > <kbd>Run All Cells</kbd>."
   ]
  },
  {
   "cell_type": "markdown",
   "id": "075d2cbb-5b27-41e4-9e2e-3a8f903a625b",
   "metadata": {},
   "source": [
    "## User Inputs"
   ]
  },
  {
   "cell_type": "code",
   "execution_count": null,
   "id": "956f06d6-eac4-40b5-a22e-528cdcc41efe",
   "metadata": {
    "editable": true,
    "slideshow": {
     "slide_type": ""
    },
    "tags": [
     "parameters"
    ]
   },
   "outputs": [],
   "source": [
    "#"
   ]
  },
  {
   "cell_type": "code",
   "execution_count": null,
   "id": "7cd1e1b2-6690-4469-a3cb-8743a08916fb",
   "metadata": {},
   "outputs": [],
   "source": [
    "engine = create_engine(\n",
    "    URL(\n",
    "        drivername=\"driver\",\n",
    "        account=os.getenv(\"UPLIMIT_SNOWFLAKE_ACCOUNT\"),\n",
    "        user=os.getenv(\"UPLIMIT_SNOWFLAKE_USER\"),\n",
    "        password=os.getenv(\"UPLIMIT_SNOWFLAKE_PASS\"),\n",
    "        warehouse=os.getenv(\"UPLIMIT_SNOWFLAKE_WAREHOUSE\"),\n",
    "        role=os.getenv(\"UPLIMIT_SNOWFLAKE_ROLE\"),\n",
    "        database=os.getenv(\"UPLIMIT_SNOWFLAKE_DB_NAME\"),\n",
    "        schema=os.getenv(\"UPLIMIT_SNOWFLAKE_SCHEMA\"),\n",
    "    )\n",
    ")"
   ]
  },
  {
   "cell_type": "markdown",
   "id": "440595fb-3758-4a37-820e-2b0fdd11b4a0",
   "metadata": {},
   "source": [
    "## Connect"
   ]
  },
  {
   "cell_type": "markdown",
   "id": "0e85c9ad-170d-45c0-9a44-84158034fb79",
   "metadata": {},
   "source": [
    "Load Jupyter SQL extension"
   ]
  },
  {
   "cell_type": "code",
   "execution_count": null,
   "id": "49e63583-971e-47c0-8e46-775664be7adb",
   "metadata": {},
   "outputs": [],
   "source": [
    "%load_ext sql"
   ]
  },
  {
   "cell_type": "markdown",
   "id": "f31c1c2b-aed2-49c2-b9a5-b3b39844c8a7",
   "metadata": {},
   "source": [
    "Connect to database"
   ]
  },
  {
   "cell_type": "code",
   "execution_count": null,
   "id": "8aaa8ab3-70a4-48e8-992a-221330acd06d",
   "metadata": {},
   "outputs": [],
   "source": [
    "%sql engine --alias connection"
   ]
  },
  {
   "cell_type": "markdown",
   "id": "93a2e1e6-10ea-4bcb-85cf-c5f85405b250",
   "metadata": {},
   "source": [
    "## Exploratory Data Analysis"
   ]
  },
  {
   "cell_type": "markdown",
   "id": "450d7951-1f93-47ec-a6f0-25e50250e16c",
   "metadata": {},
   "source": [
    "### Question 1"
   ]
  },
  {
   "cell_type": "markdown",
   "id": "3a4b343c-d929-4e34-8034-70b3ed0e4727",
   "metadata": {},
   "source": [
    "**How many users do we have?**"
   ]
  },
  {
   "cell_type": "code",
   "execution_count": null,
   "id": "56ae3b8f-fef6-4184-aca0-c818d8064a6e",
   "metadata": {},
   "outputs": [],
   "source": [
    "%%sql\n",
    "SELECT *\n",
    "FROM stg_postgres_users\n",
    "LIMIT 4"
   ]
  },
  {
   "cell_type": "code",
   "execution_count": null,
   "id": "bbed6868-de59-4865-8ae3-6d3ef8c08159",
   "metadata": {},
   "outputs": [],
   "source": [
    "%%sql\n",
    "SHOW PRIMARY KEYS IN raw.public.users"
   ]
  },
  {
   "cell_type": "code",
   "execution_count": null,
   "id": "571927a9-0d19-492e-80e8-e37e059141b6",
   "metadata": {},
   "outputs": [],
   "source": [
    "%%sql\n",
    "/* since each row in users is a unique user, number of rows is number of\n",
    "users */\n",
    "WITH num_users AS (\n",
    "    SELECT COUNT(*) AS num_users\n",
    "    FROM stg_postgres_users\n",
    ")\n",
    "SELECT *\n",
    "FROM num_users"
   ]
  },
  {
   "cell_type": "markdown",
   "id": "ae3c798f-fd91-4d33-ace8-c0738e4c979b",
   "metadata": {},
   "source": [
    "**Notes**\n",
    "\n",
    "1. Since the `user_id` is the primary key of the source `raw.public.users` table, each row in that column is unique. So\n",
    "   ```sql\n",
    "   COUNT(DISTINCT(user_id))\n",
    "   ```\n",
    "   is not required to get the number of users. Instead, we can simply count the number of rows (to get the number of users) using\n",
    "   ```sql\n",
    "   COUNT(*)\n",
    "   ```"
   ]
  },
  {
   "cell_type": "markdown",
   "id": "182ca2b7-15c6-4f99-91e7-60ad36e1c93c",
   "metadata": {},
   "source": [
    "### Question 2"
   ]
  },
  {
   "cell_type": "markdown",
   "id": "4d8ca8b7-6fc2-4a8e-bee2-6b2c5c59cba8",
   "metadata": {},
   "source": [
    "**On average, how many orders do we receive per hour?**"
   ]
  },
  {
   "cell_type": "code",
   "execution_count": null,
   "id": "033a3405-914e-424b-8f5b-a7bdc55039bf",
   "metadata": {},
   "outputs": [],
   "source": [
    "%%sql\n",
    "SELECT *\n",
    "FROM stg_postgres_orders\n",
    "LIMIT 4"
   ]
  },
  {
   "cell_type": "code",
   "execution_count": null,
   "id": "86b3cfc8-1fc1-4f5d-bd3b-40e761b7a569",
   "metadata": {},
   "outputs": [],
   "source": [
    "%%sql\n",
    "SHOW PRIMARY KEYS IN raw.public.orders"
   ]
  },
  {
   "cell_type": "code",
   "execution_count": null,
   "id": "53313fc3-ea72-4ee0-945a-a0a5c285e357",
   "metadata": {},
   "outputs": [],
   "source": [
    "%%sql\n",
    "/* get the (unique) order ID and hour when it was created (received) */\n",
    "WITH order_hour AS (\n",
    "    SELECT order_id,\n",
    "           date_part('hour', created_at) AS order_received_hour\n",
    "    FROM stg_postgres_orders\n",
    "),\n",
    "/* get number of orders per hour from the number of order IDs per hour */\n",
    "num_orders_per_hour AS (\n",
    "    SELECT order_received_hour,\n",
    "           count(*) AS num_orders\n",
    "    FROM order_hour\n",
    "    GROUP BY order_received_hour\n",
    "),\n",
    "/* get the average of all hourly orders */\n",
    "avg_hourly_orders AS (\n",
    "    -- round number of orders to show it as an integer\n",
    "    SELECT round(avg(num_orders)) AS avg_num_hourly_orders_received\n",
    "    FROM num_orders_per_hour\n",
    ")\n",
    "SELECT *\n",
    "FROM avg_hourly_orders"
   ]
  },
  {
   "cell_type": "markdown",
   "id": "1586e829-8fec-4a1d-b776-bdc06fa1c29e",
   "metadata": {},
   "source": [
    "**Notes**\n",
    "\n",
    "1. Since the `order_id` is the primary key of the source `raw.public.orders` table, each row in that column is unique. So\n",
    "   ```sql\n",
    "   COUNT(DISTINCT(order_id))\n",
    "   ```\n",
    "   is not required to get the number of orders. Instead, we can simply count the number of rows (to get the number of orders) using\n",
    "   ```sql\n",
    "   COUNT(*)\n",
    "   ```"
   ]
  },
  {
   "cell_type": "markdown",
   "id": "b30ae0d4-9100-4b73-b43c-fa1f25ab8b86",
   "metadata": {},
   "source": [
    "### Question 3"
   ]
  },
  {
   "cell_type": "markdown",
   "id": "454e71d6-e29d-4b18-b9e9-e571a7a49b3d",
   "metadata": {},
   "source": [
    "**On average, how long does an order take from being placed to being delivered?**"
   ]
  },
  {
   "cell_type": "code",
   "execution_count": null,
   "id": "3279fb90-5078-4f91-a339-2300970332ee",
   "metadata": {},
   "outputs": [],
   "source": [
    "%%sql\n",
    "SELECT *\n",
    "FROM stg_postgres_orders\n",
    "LIMIT 4"
   ]
  },
  {
   "cell_type": "code",
   "execution_count": null,
   "id": "228ab34d-3855-4e86-9212-e093866cea3a",
   "metadata": {},
   "outputs": [],
   "source": [
    "%%sql\n",
    "/* for each order, get delivery time as difference in seconds between order\n",
    "creation and delivery timestamps */\n",
    "WITH delivery_times AS (\n",
    "    SELECT\n",
    "        datediff('second', created_at, delivered_at) AS delivery_time_seconds\n",
    "    FROM stg_postgres_orders\n",
    "),\n",
    "/* get the average delivery time in seconds across all orders */\n",
    "avg_delivery_time AS (\n",
    "    SELECT\n",
    "        cast(\n",
    "            -- round up average delivery time seconds from float to integer\n",
    "            round(avg(delivery_time_seconds)) AS VARCHAR\n",
    "        ) AS avg_delivery_time_seconds\n",
    "    FROM delivery_times\n",
    "),\n",
    "/* convert average delivery time from seconds to HH:MM:SS format */\n",
    "avg_delivery_time_formatted AS (\n",
    "    SELECT -- average delivery time in seconds\n",
    "           avg_delivery_time_seconds,\n",
    "           -- average delivery time in hours:minutes:seconds\n",
    "           to_time(avg_delivery_time_seconds) AS avg_delivery_time_hhmmss\n",
    "    FROM avg_delivery_time\n",
    ")\n",
    "SELECT *\n",
    "FROM avg_delivery_time_formatted"
   ]
  },
  {
   "cell_type": "markdown",
   "id": "f2e4312a-63bc-47bf-b667-ae61c667b963",
   "metadata": {},
   "source": [
    "**Notes**\n",
    "\n",
    "1. Since the `order_id` is the primary key of the source `raw.public.orders` table, each row in that column corresponds to a unique order. We can calculate the delivery time for each (unique) order by calculating the time difference between the (order) `created_at` and (order) `delivered_at` columns. Then, the overall average delivery time is the average of the delivery time for each order."
   ]
  },
  {
   "cell_type": "markdown",
   "id": "423d5641-5a1b-49b8-bd4f-ab5b796a9533",
   "metadata": {},
   "source": [
    "### Question 4"
   ]
  },
  {
   "cell_type": "markdown",
   "id": "409003e8-b963-4b4d-8ca1-52ebb4e9c625",
   "metadata": {},
   "source": [
    "**How many users have only made one purchase? Two purchases? Three+ purchases? Note: you should consider a purchase to be a single order. In other words, if a user places one order for 3 products, they are considered to have made 1 purchase.**"
   ]
  },
  {
   "cell_type": "markdown",
   "id": "2340c3f8-d0b9-4310-9847-a3fbb35c79e4",
   "metadata": {},
   "source": [
    "As seen earlier, the `order_id` is the primary key of the source `raw.public.orders` table. So, each row in that column corresponds to a unique order. Since a purchase is a single (unique) order, we get the number of purchases per user by counting the number of rows in the `orders` table per user.\n",
    "\n",
    "This is shown below"
   ]
  },
  {
   "cell_type": "code",
   "execution_count": null,
   "id": "6204240c-7354-4661-8871-89442cf4d3ad",
   "metadata": {},
   "outputs": [],
   "source": [
    "%%sql\n",
    "/* get number of purchases per user */\n",
    "WITH num_purchases_per_user AS (\n",
    "    SELECT user_id,\n",
    "           COUNT(*) AS num_purchases\n",
    "    FROM stg_postgres_orders\n",
    "    GROUP BY user_id\n",
    "),\n",
    "/* bin number of user purchases into bins of 1, 2, 3+ purchases */\n",
    "num_user_purchases_binned AS (\n",
    "    SELECT *,\n",
    "           (\n",
    "               CASE\n",
    "                   WHEN num_purchases IN (1,2)\n",
    "                   THEN CAST(num_purchases AS TEXT)\n",
    "                   ELSE '3+'\n",
    "               END\n",
    "           ) AS num_purchases_binned\n",
    "    FROM num_purchases_per_user\n",
    "),\n",
    "/* count the number of users in each bin of user purchases */\n",
    "num_users_per_bin AS (\n",
    "    SELECT num_purchases_binned AS num_purchases,\n",
    "           COUNT(*) AS num_users\n",
    "    FROM num_user_purchases_binned\n",
    "    GROUP BY num_purchases_binned\n",
    "    ORDER BY num_purchases_binned\n",
    ")\n",
    "SELECT *\n",
    "FROM num_users_per_bin"
   ]
  },
  {
   "cell_type": "markdown",
   "id": "28ef80f3-faf0-432f-83cf-80242517e09f",
   "metadata": {},
   "source": [
    "### Question 5"
   ]
  },
  {
   "cell_type": "markdown",
   "id": "92b76194-d3eb-45b7-bf75-b7045e548d8c",
   "metadata": {},
   "source": [
    "**On average, how many unique sessions do we have per hour?**"
   ]
  },
  {
   "cell_type": "code",
   "execution_count": null,
   "id": "5e6d14bc-8248-46fb-b095-a473f3419dce",
   "metadata": {},
   "outputs": [],
   "source": [
    "%%sql\n",
    "SELECT *\n",
    "FROM stg_postgres_events\n",
    "LIMIT 4"
   ]
  },
  {
   "cell_type": "code",
   "execution_count": null,
   "id": "13065aed-9f20-4b37-8ba0-3bca932209f8",
   "metadata": {},
   "outputs": [],
   "source": [
    "%%sql\n",
    "SHOW PRIMARY KEYS IN raw.public.events"
   ]
  },
  {
   "cell_type": "code",
   "execution_count": null,
   "id": "db25750e-a39c-4f42-ad93-985fc3f84eab",
   "metadata": {},
   "outputs": [],
   "source": [
    "%%sql\n",
    "/* get the (unique) session ID and hour when it was created (started) */\n",
    "WITH session_hour AS (\n",
    "    SELECT session_id,\n",
    "           date_part('hour', created_at) AS session_start_hour\n",
    "    FROM stg_postgres_events\n",
    "),\n",
    "/* get number of sessions per hour from the number of session IDs per hour */\n",
    "num_sessions_per_hour AS (\n",
    "    SELECT session_start_hour,\n",
    "           count(distinct(session_id)) AS num_sessions\n",
    "    FROM session_hour\n",
    "    GROUP BY session_start_hour\n",
    "),\n",
    "/* get the average of all hourly sessions */\n",
    "avg_hourly_sessions AS (\n",
    "    -- round number of sessions to show it as an integer\n",
    "    SELECT round(avg(num_sessions)) AS avg_num_hourly_sessions\n",
    "    FROM num_sessions_per_hour\n",
    ")\n",
    "SELECT *\n",
    "FROM avg_hourly_sessions"
   ]
  },
  {
   "cell_type": "markdown",
   "id": "e0370d65-cb6d-454a-a421-ddbc30a58be8",
   "metadata": {},
   "source": [
    "**Notes**\n",
    "\n",
    "1. Since the `event_id` is **not** the primary key of the `raw.public.events` table, each `session_id` in that column is not unique. So we cannot simply count the number of rows using\n",
    "   ```sql\n",
    "   COUNT(*)\n",
    "   ```\n",
    "   to get the number of sessions, since this count would give the number of events. Instead\n",
    "   ```sql\n",
    "   COUNT(DISTINCT(session_id))\n",
    "   ```\n",
    "   is required to get the number of (unique) sessions."
   ]
  },
  {
   "cell_type": "markdown",
   "id": "cabc1d70-28c5-4c82-8280-1a8fc539a74f",
   "metadata": {},
   "source": [
    "## Disconnect"
   ]
  },
  {
   "cell_type": "markdown",
   "id": "1df156a9-e919-4459-90c6-4e4893d81887",
   "metadata": {},
   "source": [
    "Close connection"
   ]
  },
  {
   "cell_type": "code",
   "execution_count": null,
   "id": "f04ee46e-6470-404a-97d5-d9b070580db8",
   "metadata": {},
   "outputs": [],
   "source": [
    "%sql --close connection"
   ]
  }
 ],
 "metadata": {
  "kernelspec": {
   "display_name": "Python 3 (ipykernel)",
   "language": "python",
   "name": "python3"
  },
  "language_info": {
   "codemirror_mode": {
    "name": "ipython",
    "version": 3
   },
   "file_extension": ".py",
   "mimetype": "text/x-python",
   "name": "python",
   "nbconvert_exporter": "python",
   "pygments_lexer": "ipython3",
   "version": "3.10.12"
  }
 },
 "nbformat": 4,
 "nbformat_minor": 5
}
