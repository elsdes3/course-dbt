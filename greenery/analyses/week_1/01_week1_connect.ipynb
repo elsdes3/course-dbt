{
 "cells": [
  {
   "cell_type": "markdown",
   "id": "8fc60f7a-1a18-4b3c-a2ce-bf57d9a96cff",
   "metadata": {},
   "source": [
    "# Connect to Snowflake Resources"
   ]
  },
  {
   "cell_type": "code",
   "execution_count": null,
   "id": "acaace06-6e5e-4269-b0fd-09b5f11ed127",
   "metadata": {},
   "outputs": [],
   "source": [
    "import os\n",
    "from pathlib import Path\n",
    "\n",
    "from dotenv import load_dotenv\n",
    "from sqlalchemy import create_engine\n",
    "from snowflake.sqlalchemy import URL"
   ]
  },
  {
   "cell_type": "code",
   "execution_count": null,
   "id": "556341db-6c64-4669-a68e-e3f4069e3f04",
   "metadata": {},
   "outputs": [],
   "source": [
    "PROJ_ROOT = Path().resolve().parents[3]\n",
    "env_file_dir = PROJ_ROOT / '.env'\n",
    "_ = load_dotenv(env_file_dir, verbose=True)"
   ]
  },
  {
   "cell_type": "markdown",
   "id": "a4c12570-bab7-4b23-bfdf-79d141202029",
   "metadata": {},
   "source": [
    "## About"
   ]
  },
  {
   "cell_type": "markdown",
   "id": "234f0413-5418-45c0-a974-a4077dd67746",
   "metadata": {},
   "source": [
    "Connect to Uplimit's Snowflake resources for use during the course.\n",
    "\n",
    "### Notes\n",
    "\n",
    "1. This notebook supports <kbd>Run</kbd> > <kbd>Run All Cells</kbd>."
   ]
  },
  {
   "cell_type": "markdown",
   "id": "d019ec45-a91d-4fb6-a015-05dda8b4223a",
   "metadata": {},
   "source": [
    "## User Inputs"
   ]
  },
  {
   "cell_type": "code",
   "execution_count": null,
   "id": "7a8c5c3c-2913-4757-8eaa-e2f97ac8a2cc",
   "metadata": {},
   "outputs": [],
   "source": [
    "os.environ[\"UPLIMIT_SNOWFLAKE_DB_NAME\"] = 'RAW'\n",
    "os.environ[\"UPLIMIT_SNOWFLAKE_SCHEMA\"] = 'PUBLIC'"
   ]
  },
  {
   "cell_type": "code",
   "execution_count": null,
   "id": "462796f0-def7-427e-9709-c72c6d64fb02",
   "metadata": {},
   "outputs": [],
   "source": [
    "engine = create_engine(\n",
    "    URL(\n",
    "        drivername=\"driver\",\n",
    "        account=os.getenv(\"UPLIMIT_SNOWFLAKE_ACCOUNT\"),\n",
    "        user=os.getenv(\"UPLIMIT_SNOWFLAKE_USER\"),\n",
    "        password=os.getenv(\"UPLIMIT_SNOWFLAKE_PASS\"),\n",
    "        warehouse=os.getenv(\"UPLIMIT_SNOWFLAKE_WAREHOUSE\"),\n",
    "        role=os.getenv(\"UPLIMIT_SNOWFLAKE_ROLE\"),\n",
    "        database=os.getenv(\"UPLIMIT_SNOWFLAKE_DB_NAME\"),\n",
    "        schema=os.getenv(\"UPLIMIT_SNOWFLAKE_SCHEMA\"),\n",
    "    )\n",
    ")"
   ]
  },
  {
   "cell_type": "markdown",
   "id": "fb8ee2cb-b9a6-41c8-b4aa-9f7590204ed8",
   "metadata": {},
   "source": [
    "## Connect"
   ]
  },
  {
   "cell_type": "markdown",
   "id": "6ce9ba89-176a-44c4-9125-2e6f0ac95cb6",
   "metadata": {},
   "source": [
    "Load Jupyter SQL extension"
   ]
  },
  {
   "cell_type": "code",
   "execution_count": null,
   "id": "67778e41-223c-41e2-a8db-35f91bc7ac98",
   "metadata": {},
   "outputs": [],
   "source": [
    "%load_ext sql"
   ]
  },
  {
   "cell_type": "markdown",
   "id": "a0e3c835-400e-4746-bbdb-20dec95835e4",
   "metadata": {},
   "source": [
    "Connect to Uplimit's Snowflake"
   ]
  },
  {
   "cell_type": "code",
   "execution_count": null,
   "id": "65f54e61-8439-43d5-b5e3-ff831ec1f02d",
   "metadata": {},
   "outputs": [],
   "source": [
    "%sql engine --alias connection"
   ]
  },
  {
   "cell_type": "markdown",
   "id": "2f2737ce-ab62-46ae-ae25-a34ae2c9cc37",
   "metadata": {},
   "source": [
    "## Run Queries"
   ]
  },
  {
   "cell_type": "markdown",
   "id": "cc527d44-d504-47f0-b22d-547cc0ef9dc0",
   "metadata": {},
   "source": [
    "Show all tables"
   ]
  },
  {
   "cell_type": "code",
   "execution_count": null,
   "id": "c9ebf141-0fa3-4660-973e-e3cf8ef071ed",
   "metadata": {},
   "outputs": [],
   "source": [
    "%%sql\n",
    "SHOW TERSE TABLES"
   ]
  },
  {
   "cell_type": "markdown",
   "id": "1ee92ded-610f-47d5-b413-5df4c3c916a2",
   "metadata": {},
   "source": [
    "Query tables"
   ]
  },
  {
   "cell_type": "code",
   "execution_count": null,
   "id": "4093049f-dbd1-4dd9-b564-a269ff7fc934",
   "metadata": {},
   "outputs": [],
   "source": [
    "%%sql\n",
    "SELECT *\n",
    "FROM promos"
   ]
  },
  {
   "cell_type": "markdown",
   "id": "030e63ae-fcba-439e-ad2a-9ea4f60cff80",
   "metadata": {},
   "source": [
    "## Disconnect"
   ]
  },
  {
   "cell_type": "markdown",
   "id": "e4bab4dd-a15a-474a-834e-a10ff7205e54",
   "metadata": {},
   "source": [
    "Close connection"
   ]
  },
  {
   "cell_type": "code",
   "execution_count": null,
   "id": "17deb085-5d69-48cd-a0bf-4a931b2b04e4",
   "metadata": {},
   "outputs": [],
   "source": [
    "%sql --close connection"
   ]
  }
 ],
 "metadata": {
  "kernelspec": {
   "display_name": "Python 3 (ipykernel)",
   "language": "python",
   "name": "python3"
  },
  "language_info": {
   "codemirror_mode": {
    "name": "ipython",
    "version": 3
   },
   "file_extension": ".py",
   "mimetype": "text/x-python",
   "name": "python",
   "nbconvert_exporter": "python",
   "pygments_lexer": "ipython3",
   "version": "3.10.12"
  }
 },
 "nbformat": 4,
 "nbformat_minor": 5
}
