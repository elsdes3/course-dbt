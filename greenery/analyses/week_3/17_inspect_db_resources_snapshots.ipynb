{
 "cells": [
  {
   "cell_type": "markdown",
   "id": "fe5d2313-9f71-49e0-afd9-edd12d786bbc",
   "metadata": {
    "editable": true,
    "slideshow": {
     "slide_type": ""
    },
    "tags": []
   },
   "source": [
    "# Inspect DBT Models and Snapshots"
   ]
  },
  {
   "cell_type": "code",
   "execution_count": null,
   "id": "f1405be7-4388-46d2-86c7-883807005a2b",
   "metadata": {},
   "outputs": [],
   "source": [
    "import os\n",
    "from pathlib import Path\n",
    "\n",
    "from dotenv import load_dotenv\n",
    "from sqlalchemy import create_engine\n",
    "from snowflake.sqlalchemy import URL"
   ]
  },
  {
   "cell_type": "code",
   "execution_count": null,
   "id": "a54c49e4-b90c-4fac-aa35-416840e5ed63",
   "metadata": {},
   "outputs": [],
   "source": [
    "PROJ_ROOT = Path().resolve().parents[3]\n",
    "env_file_dir = PROJ_ROOT / '.env'\n",
    "_ = load_dotenv(env_file_dir, verbose=True)"
   ]
  },
  {
   "cell_type": "markdown",
   "id": "28abbce6-0fbc-4c08-89c9-461407d06ae8",
   "metadata": {},
   "source": [
    "## About"
   ]
  },
  {
   "cell_type": "markdown",
   "id": "6ebf7181-0a10-48d2-bde7-d9056d850afa",
   "metadata": {},
   "source": [
    "Perform the following\n",
    "\n",
    "1. View contents of Greenery DuckDB database that were created in my personal Snowflake schema using `dbt run` for project during weeks 1, 2 and 3\n",
    "2. Identify products with weekly changes using DBT sbapshots\n",
    "\n",
    "### Notes\n",
    "\n",
    "1. This notebook supports <kbd>Run</kbd> > <kbd>Run All Cells</kbd>."
   ]
  },
  {
   "cell_type": "markdown",
   "id": "d91ece3c-1225-4354-9510-fe4391d5ee4c",
   "metadata": {},
   "source": [
    "## User Inputs"
   ]
  },
  {
   "cell_type": "code",
   "execution_count": null,
   "id": "3abc4aed-82b6-465a-a885-3d373baf8616",
   "metadata": {
    "editable": true,
    "slideshow": {
     "slide_type": ""
    },
    "tags": [
     "parameters"
    ]
   },
   "outputs": [],
   "source": [
    "schema_name = os.getenv(\"UPLIMIT_SNOWFLAKE_SCHEMA\")"
   ]
  },
  {
   "cell_type": "code",
   "execution_count": null,
   "id": "73a958af-444e-4ccc-955d-b40d8981c5b7",
   "metadata": {},
   "outputs": [],
   "source": [
    "engine = create_engine(\n",
    "    URL(\n",
    "        drivername=\"driver\",\n",
    "        account=os.getenv(\"UPLIMIT_SNOWFLAKE_ACCOUNT\"),\n",
    "        user=os.getenv(\"UPLIMIT_SNOWFLAKE_USER\"),\n",
    "        password=os.getenv(\"UPLIMIT_SNOWFLAKE_PASS\"),\n",
    "        warehouse=os.getenv(\"UPLIMIT_SNOWFLAKE_WAREHOUSE\"),\n",
    "        role=os.getenv(\"UPLIMIT_SNOWFLAKE_ROLE\"),\n",
    "        database=os.getenv(\"UPLIMIT_SNOWFLAKE_DB_NAME\"),\n",
    "        schema=schema_name,\n",
    "    )\n",
    ")"
   ]
  },
  {
   "cell_type": "markdown",
   "id": "09daf953-8715-4f48-823d-bb54da137017",
   "metadata": {},
   "source": [
    "## Connect"
   ]
  },
  {
   "cell_type": "markdown",
   "id": "53d42b99-a09e-469c-b020-8d75317097db",
   "metadata": {},
   "source": [
    "Load Jupyter SQL extension"
   ]
  },
  {
   "cell_type": "code",
   "execution_count": null,
   "id": "991b7a26-81ba-4fbf-8b2e-00703e757351",
   "metadata": {},
   "outputs": [],
   "source": [
    "%load_ext sql"
   ]
  },
  {
   "cell_type": "markdown",
   "id": "80be8812-6390-497c-a29e-404911d0c370",
   "metadata": {},
   "source": [
    "Set the maximum number of rows to be displayed to `None` (shows all rows)"
   ]
  },
  {
   "cell_type": "code",
   "execution_count": null,
   "id": "ec569578-4149-434d-8d65-88a3568266c3",
   "metadata": {},
   "outputs": [],
   "source": [
    "%config SqlMagic.displaylimit = None"
   ]
  },
  {
   "cell_type": "markdown",
   "id": "c577553f-bb87-4234-b979-6321e16838f3",
   "metadata": {},
   "source": [
    "Connect to DuckDB database"
   ]
  },
  {
   "cell_type": "code",
   "execution_count": null,
   "id": "6b341e5c-5cfd-422a-b0fc-a7a906b6d182",
   "metadata": {},
   "outputs": [],
   "source": [
    "%sql engine --alias connection"
   ]
  },
  {
   "cell_type": "markdown",
   "id": "7ccb654b-9fdf-4039-ab44-b420ab21c8c8",
   "metadata": {},
   "source": [
    "## Explore Data"
   ]
  },
  {
   "cell_type": "markdown",
   "id": "eb463773-9b79-4d14-9b0d-15f93bfcc00e",
   "metadata": {},
   "source": [
    "### Show All Data Model Tables in Database"
   ]
  },
  {
   "cell_type": "code",
   "execution_count": null,
   "id": "09ecd162-65e3-489a-814b-dad48b2d1061",
   "metadata": {},
   "outputs": [],
   "source": [
    "%%sql\n",
    "WITH tables_annotated AS (\n",
    "    SELECT table_catalog,\n",
    "           table_schema,\n",
    "           table_name,\n",
    "           table_type,\n",
    "           is_insertable_into,\n",
    "           is_typed,\n",
    "           (\n",
    "               CASE\n",
    "                   WHEN (\n",
    "                        table_name LIKE 'FCT_PRODUCTS%'\n",
    "                        OR table_name = 'FCT_ORDERS'\n",
    "                        OR table_name LIKE 'FCT_USER_%'\n",
    "                        OR table_name LIKE 'FCT_PROMO_%'\n",
    "                        OR table_name LIKE 'FCT_CONVERSION_RATE'\n",
    "                    )\n",
    "                    THEN True\n",
    "                    ELSE False\n",
    "               END\n",
    "           ) AS is_model\n",
    "    FROM information_schema.tables\n",
    "    WHERE table_type LIKE '%TABLE'\n",
    "    AND table_schema = '{{schema_name.upper()}}'\n",
    "    ORDER BY table_name DESC, table_catalog, table_name\n",
    ")\n",
    "SELECT *\n",
    "FROM tables_annotated\n",
    "WHERE is_model = True"
   ]
  },
  {
   "cell_type": "markdown",
   "id": "6d36fc33-7b64-421b-885b-1b4d4e45bce0",
   "metadata": {},
   "source": [
    "### Show All Data Model Views in Database"
   ]
  },
  {
   "cell_type": "code",
   "execution_count": null,
   "id": "cf5cef04-7367-4e79-a0fd-b5f5cd201098",
   "metadata": {},
   "outputs": [],
   "source": [
    "%%sql\n",
    "WITH views_annotated AS (\n",
    "    SELECT table_catalog,\n",
    "           table_schema,\n",
    "           table_name,\n",
    "           table_type,\n",
    "           is_insertable_into,\n",
    "           is_typed,\n",
    "           (\n",
    "               CASE\n",
    "                   WHEN (\n",
    "                        table_name LIKE 'STG_POSTGRES_%'\n",
    "                        OR table_name LIKE 'INT_PRODUCT_%'\n",
    "                        OR table_name LIKE 'INT_ORDERS_%'\n",
    "                        OR table_name LIKE 'INT_EVENTS_%'\n",
    "                        OR table_name = 'FCT_PRODUCTS'\n",
    "                        OR table_name = 'FCT_PRODUCTS_DAILY'\n",
    "                    )\n",
    "                    THEN True\n",
    "                    ELSE False\n",
    "               END\n",
    "           ) AS is_model\n",
    "    FROM information_schema.tables\n",
    "    WHERE table_type LIKE '%VIEW'\n",
    "    AND table_schema = '{{schema_name.upper()}}'\n",
    "    ORDER BY table_name DESC, is_model, table_catalog, table_name, table_schema\n",
    ")\n",
    "SELECT *\n",
    "FROM views_annotated\n",
    "WHERE is_model = True"
   ]
  },
  {
   "cell_type": "markdown",
   "id": "595349d1-30b3-4b7e-9b18-9a6969c43892",
   "metadata": {},
   "source": [
    "## Queries"
   ]
  },
  {
   "cell_type": "markdown",
   "id": "97782001-894a-40d2-ae5b-a89d9560e21f",
   "metadata": {},
   "source": [
    "### Snapshots"
   ]
  },
  {
   "cell_type": "markdown",
   "id": "3ec64485-1882-44bd-99ca-1c8086a3c794",
   "metadata": {},
   "source": [
    "Snapshot table for monitoring changes to product inventory over time"
   ]
  },
  {
   "cell_type": "code",
   "execution_count": null,
   "id": "2d99cec1-0e8a-4ea5-a2a0-f6aecaa4b037",
   "metadata": {},
   "outputs": [],
   "source": [
    "%%sql\n",
    "DESCRIBE inventory_snapshot"
   ]
  },
  {
   "cell_type": "markdown",
   "id": "1772940c-7e4d-45f9-9c37-70f77b1a1488",
   "metadata": {},
   "source": [
    "Show the snapshot table"
   ]
  },
  {
   "cell_type": "code",
   "execution_count": null,
   "id": "136e4ab6-7128-4fdc-aa3f-6e48b8ab22cf",
   "metadata": {},
   "outputs": [],
   "source": [
    "%%sql\n",
    "SELECT *\n",
    "FROM inventory_snapshot\n",
    "LIMIT 4"
   ]
  },
  {
   "cell_type": "markdown",
   "id": "32b6d33f-070f-418a-a058-2edff69a6f5e",
   "metadata": {},
   "source": [
    "#### Changes from Week 1 to 2"
   ]
  },
  {
   "cell_type": "markdown",
   "id": "75ec68c2-7a93-42b3-b54e-4316aa2f3557",
   "metadata": {},
   "source": [
    "Show changes in this snapshot table from week 1 to week 2"
   ]
  },
  {
   "cell_type": "code",
   "execution_count": null,
   "id": "20774caa-c436-42db-a4dc-0caed662fc86",
   "metadata": {},
   "outputs": [],
   "source": [
    "%%sql\n",
    "WITH snapshot_updated_at AS (\n",
    "    SELECT DISTINCT(dbt_updated_at) AS dbt_updated_at\n",
    "    FROM inventory_snapshot\n",
    "),\n",
    "snapshot_runtimes AS (\n",
    "    SELECT *,\n",
    "           ROW_NUMBER() OVER(ORDER BY dbt_updated_at) AS week_number\n",
    "    FROM snapshot_updated_at\n",
    "),\n",
    "inventory_snapshot_metadata AS (\n",
    "    SELECT * EXCLUDE(price, dbt_scd_id)\n",
    "    FROM inventory_snapshot\n",
    "    LEFT JOIN snapshot_runtimes USING (dbt_updated_at)\n",
    "),\n",
    "inventory_changes AS (\n",
    "    SELECT *,\n",
    "           LAG(inventory) OVER(\n",
    "               PARTITION BY product_id ORDER BY week_number\n",
    "           ) AS inventory_previous,\n",
    "           (inventory-inventory_previous) AS inventory_changed\n",
    "    FROM inventory_snapshot_metadata\n",
    "    WHERE dbt_valid_to IS NOT NULL\n",
    "),\n",
    "inventory_changes_week_two AS (\n",
    "    SELECT dbt_updated_at,\n",
    "           product_id,\n",
    "           name,\n",
    "           inventory,\n",
    "           dbt_valid_from,\n",
    "           dbt_valid_to,\n",
    "           week_number,\n",
    "           inventory_changed\n",
    "    FROM inventory_changes\n",
    "    WHERE week_number = 2\n",
    ")\n",
    "SELECT *\n",
    "FROM inventory_changes_week_two"
   ]
  },
  {
   "cell_type": "markdown",
   "id": "1b7f1352-3acb-4afb-a499-672a685e6f94",
   "metadata": {},
   "source": [
    "#### Changes from Week 2 to 3"
   ]
  },
  {
   "cell_type": "markdown",
   "id": "0313ee7b-05ee-477a-ae83-d8a088a02597",
   "metadata": {},
   "source": [
    "Show changes in this snapshot table from week 2 to week 3"
   ]
  },
  {
   "cell_type": "code",
   "execution_count": null,
   "id": "c0320d30-d74b-478f-841f-d8edae94084b",
   "metadata": {},
   "outputs": [],
   "source": [
    "%%sql\n",
    "WITH snapshot_updated_at AS (\n",
    "    SELECT DISTINCT(dbt_updated_at) AS dbt_updated_at\n",
    "    FROM inventory_snapshot\n",
    "),\n",
    "snapshot_runtimes AS (\n",
    "    SELECT *,\n",
    "           ROW_NUMBER() OVER(ORDER BY dbt_updated_at) AS week_number\n",
    "    FROM snapshot_updated_at\n",
    "),\n",
    "inventory_snapshot_metadata AS (\n",
    "    SELECT * EXCLUDE(price, dbt_scd_id)\n",
    "    FROM inventory_snapshot\n",
    "    LEFT JOIN snapshot_runtimes USING (dbt_updated_at)\n",
    "),\n",
    "inventory_changes AS (\n",
    "    SELECT *,\n",
    "           LAG(inventory) OVER(\n",
    "               PARTITION BY product_id ORDER BY week_number\n",
    "           ) AS inventory_previous,\n",
    "           (inventory-inventory_previous) AS inventory_changed\n",
    "    FROM inventory_snapshot_metadata\n",
    "    WHERE week_number IN (2, 3)\n",
    "),\n",
    "inventory_changes_week_three AS (\n",
    "    SELECT dbt_updated_at,\n",
    "           product_id,\n",
    "           name,\n",
    "           inventory,\n",
    "           dbt_valid_from,\n",
    "           dbt_valid_to,\n",
    "           week_number,\n",
    "           inventory_changed\n",
    "    FROM inventory_changes\n",
    "    WHERE week_number = 3\n",
    ")\n",
    "SELECT *\n",
    "FROM inventory_changes_week_three"
   ]
  },
  {
   "cell_type": "markdown",
   "id": "7f85ad07-e840-4f82-8765-3d86ce0b5d9c",
   "metadata": {},
   "source": [
    "## Disconnect"
   ]
  },
  {
   "cell_type": "markdown",
   "id": "319b6524-074b-496f-8e76-ae1763440ea8",
   "metadata": {},
   "source": [
    "Close connection"
   ]
  },
  {
   "cell_type": "code",
   "execution_count": null,
   "id": "81f925ae-5213-45b2-a168-bd3bbe71ad87",
   "metadata": {},
   "outputs": [],
   "source": [
    "%sql --close connection"
   ]
  }
 ],
 "metadata": {
  "kernelspec": {
   "display_name": "Python 3 (ipykernel)",
   "language": "python",
   "name": "python3"
  },
  "language_info": {
   "codemirror_mode": {
    "name": "ipython",
    "version": 3
   },
   "file_extension": ".py",
   "mimetype": "text/x-python",
   "name": "python",
   "nbconvert_exporter": "python",
   "pygments_lexer": "ipython3",
   "version": "3.10.12"
  }
 },
 "nbformat": 4,
 "nbformat_minor": 5
}
