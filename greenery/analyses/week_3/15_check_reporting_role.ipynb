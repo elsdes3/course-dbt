{
 "cells": [
  {
   "cell_type": "markdown",
   "id": "9726bc9d-bff5-4597-9d8b-9dedd2c1eaa8",
   "metadata": {},
   "source": [
    "# Check Snowflake Roles"
   ]
  },
  {
   "cell_type": "code",
   "execution_count": null,
   "id": "4c3661a4-b710-4f8e-8881-f1a698e0c5dc",
   "metadata": {},
   "outputs": [],
   "source": [
    "import os\n",
    "from pathlib import Path\n",
    "\n",
    "from dotenv import find_dotenv, load_dotenv\n",
    "from sqlalchemy import create_engine\n",
    "from snowflake.sqlalchemy import URL"
   ]
  },
  {
   "cell_type": "code",
   "execution_count": null,
   "id": "b174e057-6309-423f-8485-f3a4eb5cf914",
   "metadata": {},
   "outputs": [],
   "source": [
    "PROJ_ROOT = Path().resolve().parents[3]\n",
    "env_file_dir = PROJ_ROOT / '.env'\n",
    "_ = load_dotenv(env_file_dir, verbose=True)"
   ]
  },
  {
   "cell_type": "markdown",
   "id": "4f17bf1c-e851-436d-a9d6-61d1521f115c",
   "metadata": {},
   "source": [
    "## About"
   ]
  },
  {
   "cell_type": "markdown",
   "id": "cd0e1cbe-2b6c-41bf-81d4-ac56ece631de",
   "metadata": {},
   "source": [
    "Check status of `reporting` role.\n",
    "\n",
    "### Notes\n",
    "\n",
    "1. This notebook supports <kbd>Run</kbd> > <kbd>Run All Cells</kbd>."
   ]
  },
  {
   "cell_type": "markdown",
   "id": "4f7cd423-b2f6-48df-b81d-2cb6028ec83b",
   "metadata": {},
   "source": [
    "## User Inputs"
   ]
  },
  {
   "cell_type": "code",
   "execution_count": null,
   "id": "5d216e17-ccf6-4821-9061-cfb206e4a37d",
   "metadata": {
    "editable": true,
    "slideshow": {
     "slide_type": ""
    },
    "tags": [
     "parameters"
    ]
   },
   "outputs": [],
   "source": [
    "#"
   ]
  },
  {
   "cell_type": "code",
   "execution_count": null,
   "id": "bd12b3a3-68ed-4039-a1d6-c30c83713ac2",
   "metadata": {},
   "outputs": [],
   "source": [
    "engine = create_engine(\n",
    "    URL(\n",
    "        drivername=\"driver\",\n",
    "        account=os.getenv(\"UPLIMIT_SNOWFLAKE_ACCOUNT\"),\n",
    "        user=os.getenv(\"UPLIMIT_SNOWFLAKE_USER\"),\n",
    "        password=os.getenv(\"UPLIMIT_SNOWFLAKE_PASS\"),\n",
    "        warehouse=os.getenv(\"UPLIMIT_SNOWFLAKE_WAREHOUSE\"),\n",
    "        timezone='US/Eastern'\n",
    "    )\n",
    ")"
   ]
  },
  {
   "cell_type": "markdown",
   "id": "eac21770-b70e-41e9-8b2f-2ef05ddfdcd7",
   "metadata": {},
   "source": [
    "## Connect"
   ]
  },
  {
   "cell_type": "markdown",
   "id": "cbc370e1-c8fe-4014-9cc4-f606e160bbac",
   "metadata": {},
   "source": [
    "Load Jupyter SQL extension"
   ]
  },
  {
   "cell_type": "code",
   "execution_count": null,
   "id": "809c8a49-1a14-4168-8a36-28c1f6296bbf",
   "metadata": {},
   "outputs": [],
   "source": [
    "%load_ext sql"
   ]
  },
  {
   "cell_type": "markdown",
   "id": "ba4c6525-1887-4101-96ae-7308c6475aee",
   "metadata": {},
   "source": [
    "Set the maximum number of rows to be displayed to `None` (shows all rows)"
   ]
  },
  {
   "cell_type": "code",
   "execution_count": null,
   "id": "22c67a7c-8c57-42f3-8e86-a5cf8936a52f",
   "metadata": {},
   "outputs": [],
   "source": [
    "%config SqlMagic.displaylimit = None"
   ]
  },
  {
   "cell_type": "markdown",
   "id": "22db317a-fb17-4243-9a90-e2812e1a7ec9",
   "metadata": {},
   "source": [
    "Connect to database"
   ]
  },
  {
   "cell_type": "code",
   "execution_count": null,
   "id": "bccc1272-b563-4663-80dc-9ad61a256328",
   "metadata": {},
   "outputs": [],
   "source": [
    "%sql engine --alias connection"
   ]
  },
  {
   "cell_type": "markdown",
   "id": "f998bb84-2bef-4d82-8376-45ca0d62f986",
   "metadata": {},
   "source": [
    "## Queries"
   ]
  },
  {
   "cell_type": "markdown",
   "id": "ffd03d7d-d0d9-4328-adb4-5bb097bc219d",
   "metadata": {},
   "source": [
    "Confirm that the `reporting` role already exists"
   ]
  },
  {
   "cell_type": "code",
   "execution_count": null,
   "id": "c203d6db-9fcc-4afa-a7ae-855a043e752e",
   "metadata": {},
   "outputs": [],
   "source": [
    "%%sql\n",
    "SHOW ROLES LIKE 'report%'"
   ]
  },
  {
   "cell_type": "markdown",
   "id": "0e2ffd80-cf6c-49c4-9450-0f2b6be9798c",
   "metadata": {},
   "source": [
    "## Disconnect"
   ]
  },
  {
   "cell_type": "markdown",
   "id": "e80b3fce-d8be-4fbb-9bbb-8f1f1fd6d350",
   "metadata": {},
   "source": [
    "Close connection"
   ]
  },
  {
   "cell_type": "code",
   "execution_count": null,
   "id": "cdd34e10-6ce5-4333-b3ac-1e8bb500cdab",
   "metadata": {},
   "outputs": [],
   "source": [
    "%sql --close connection"
   ]
  }
 ],
 "metadata": {
  "kernelspec": {
   "display_name": "Python 3 (ipykernel)",
   "language": "python",
   "name": "python3"
  },
  "language_info": {
   "codemirror_mode": {
    "name": "ipython",
    "version": 3
   },
   "file_extension": ".py",
   "mimetype": "text/x-python",
   "name": "python",
   "nbconvert_exporter": "python",
   "pygments_lexer": "ipython3",
   "version": "3.10.12"
  }
 },
 "nbformat": 4,
 "nbformat_minor": 5
}
