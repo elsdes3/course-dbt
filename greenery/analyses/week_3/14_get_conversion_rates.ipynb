{
 "cells": [
  {
   "cell_type": "markdown",
   "id": "cebda1fb-c813-4556-80e8-0665a788c17e",
   "metadata": {},
   "source": [
    "# Conversion Rate Queries"
   ]
  },
  {
   "cell_type": "code",
   "execution_count": null,
   "id": "e1cc8cf8-90c7-4a80-91a8-b130a64164fb",
   "metadata": {},
   "outputs": [],
   "source": [
    "import os\n",
    "from pathlib import Path\n",
    "\n",
    "from dotenv import find_dotenv, load_dotenv\n",
    "from sqlalchemy import create_engine\n",
    "from snowflake.sqlalchemy import URL"
   ]
  },
  {
   "cell_type": "code",
   "execution_count": null,
   "id": "7f3e1552-956d-46de-bd65-d8666722d84e",
   "metadata": {},
   "outputs": [],
   "source": [
    "PROJ_ROOT = Path().resolve().parents[3]\n",
    "env_file_dir = PROJ_ROOT / '.env'\n",
    "_ = load_dotenv(env_file_dir, verbose=True)"
   ]
  },
  {
   "cell_type": "markdown",
   "id": "ffa4204b-6086-4e4b-b3ef-e1cdf6b75be3",
   "metadata": {},
   "source": [
    "## About"
   ]
  },
  {
   "cell_type": "markdown",
   "id": "7cf04d99-ca91-41b9-b51c-1014c5901357",
   "metadata": {},
   "source": [
    "Develop **conversion rate** queries per product and overall.\n",
    "\n",
    "### Notes\n",
    "\n",
    "1. This notebook supports <kbd>Run</kbd> > <kbd>Run All Cells</kbd>."
   ]
  },
  {
   "cell_type": "markdown",
   "id": "316e67a5-45ca-4595-b92b-f3265fd39fe6",
   "metadata": {},
   "source": [
    "## User Inputs"
   ]
  },
  {
   "cell_type": "code",
   "execution_count": null,
   "id": "8d333ca5-2e34-40b9-b499-34e93fc8af68",
   "metadata": {
    "editable": true,
    "slideshow": {
     "slide_type": ""
    },
    "tags": [
     "parameters"
    ]
   },
   "outputs": [],
   "source": [
    "#"
   ]
  },
  {
   "cell_type": "code",
   "execution_count": null,
   "id": "2e664870-6d7a-4395-a274-4207c162a3aa",
   "metadata": {},
   "outputs": [],
   "source": [
    "engine = create_engine(\n",
    "    URL(\n",
    "        drivername=\"driver\",\n",
    "        account=os.getenv(\"UPLIMIT_SNOWFLAKE_ACCOUNT\"),\n",
    "        user=os.getenv(\"UPLIMIT_SNOWFLAKE_USER\"),\n",
    "        password=os.getenv(\"UPLIMIT_SNOWFLAKE_PASS\"),\n",
    "        warehouse=os.getenv(\"UPLIMIT_SNOWFLAKE_WAREHOUSE\"),\n",
    "        role=os.getenv(\"UPLIMIT_SNOWFLAKE_ROLE\"),\n",
    "        database=os.getenv(\"UPLIMIT_SNOWFLAKE_DB_NAME\"),\n",
    "        schema=os.getenv(\"UPLIMIT_SNOWFLAKE_SCHEMA\"),\n",
    "        timezone='US/Eastern'\n",
    "    )\n",
    ")"
   ]
  },
  {
   "cell_type": "markdown",
   "id": "bbae0bae-3b6f-4934-ba8b-28987933b9ef",
   "metadata": {},
   "source": [
    "## Connect"
   ]
  },
  {
   "cell_type": "markdown",
   "id": "16c10907-c155-4193-962a-893f9eebbaff",
   "metadata": {},
   "source": [
    "Load Jupyter SQL extension"
   ]
  },
  {
   "cell_type": "code",
   "execution_count": null,
   "id": "edfa2726-9e6a-4470-8226-0c1235433a62",
   "metadata": {},
   "outputs": [],
   "source": [
    "%load_ext sql"
   ]
  },
  {
   "cell_type": "markdown",
   "id": "700a1037-9734-4533-b33f-68239a1d0559",
   "metadata": {},
   "source": [
    "Set the maximum number of rows to be displayed to `None` (shows all rows)"
   ]
  },
  {
   "cell_type": "code",
   "execution_count": null,
   "id": "0138f7d4-97c8-43e4-90a9-d123f9d7b9a8",
   "metadata": {},
   "outputs": [],
   "source": [
    "%config SqlMagic.displaylimit = None"
   ]
  },
  {
   "cell_type": "markdown",
   "id": "dc54e324-cac0-4fc8-a474-bd4774d0d408",
   "metadata": {},
   "source": [
    "Connect to DuckDB database"
   ]
  },
  {
   "cell_type": "code",
   "execution_count": null,
   "id": "321a337f-8b87-4db9-b64b-7ad474b1d549",
   "metadata": {},
   "outputs": [],
   "source": [
    "%sql engine --alias connection"
   ]
  },
  {
   "cell_type": "markdown",
   "id": "7b5270f4-b003-45b4-b37d-22331871f0c9",
   "metadata": {},
   "source": [
    "## Exploratory Data Analysis"
   ]
  },
  {
   "cell_type": "markdown",
   "id": "71ba369c-7fed-41d3-97d9-b85e454afd89",
   "metadata": {},
   "source": [
    "Show the different types of events"
   ]
  },
  {
   "cell_type": "code",
   "execution_count": null,
   "id": "b046054b-834f-4ebd-8b15-e9a70db2507d",
   "metadata": {},
   "outputs": [],
   "source": [
    "%%sql\n",
    "SELECT DISTINCT(event_type) AS event_type\n",
    "FROM stg_postgres_events"
   ]
  },
  {
   "cell_type": "markdown",
   "id": "9afa5c08-5308-4477-ad0e-0a16f7f94476",
   "metadata": {},
   "source": [
    "Show the first few rows of the events table"
   ]
  },
  {
   "cell_type": "code",
   "execution_count": null,
   "id": "28ee5f4e-52a4-438c-bd4f-8fc1a216193b",
   "metadata": {},
   "outputs": [],
   "source": [
    "%%sql\n",
    "SELECT *\n",
    "FROM stg_postgres_events\n",
    "LIMIT 4"
   ]
  },
  {
   "cell_type": "markdown",
   "id": "5ff43971-efd0-4edb-ad83-5fa7cfaf5e43",
   "metadata": {},
   "source": [
    "Show chronolgically ordered events in 15 sessions in which there was no checkout or package shipment"
   ]
  },
  {
   "cell_type": "code",
   "execution_count": null,
   "id": "1f3ff966-03ff-4ad6-a647-774cdc564359",
   "metadata": {},
   "outputs": [],
   "source": [
    "%%sql\n",
    "WITH t1 AS (\n",
    "    SELECT * EXCLUDE(event_id),\n",
    "           ROW_NUMBER() OVER(\n",
    "               PARTITION BY session_id ORDER BY user_id, created_at DESC\n",
    "           ) AS rn\n",
    "    FROM stg_postgres_events\n",
    "),\n",
    "t2 AS (\n",
    "    SELECT session_id\n",
    "    FROM t1\n",
    "    -- get sessions in which last event is not shipping or checkout\n",
    "    WHERE (rn = 1 AND event_type NOT IN ('checkout', 'package_shipped'))\n",
    "    ORDER BY session_id\n",
    "    LIMIT 15\n",
    "),\n",
    "sessions_without_purchase AS (\n",
    "    SELECT * EXCLUDE(event_id)\n",
    "    FROM stg_postgres_events\n",
    "    -- user INNER JOIN to only get sessions in which order was not placed\n",
    "    INNER JOIN t2 USING (session_id)\n",
    "    ORDER BY session_id, user_id, created_at\n",
    ")\n",
    "SELECT *\n",
    "FROM sessions_without_purchase"
   ]
  },
  {
   "cell_type": "markdown",
   "id": "f3a6645e-246c-49be-a16d-eca7a1f133af",
   "metadata": {},
   "source": [
    "A single session is associated with a single user. There are no multi-user sessions"
   ]
  },
  {
   "cell_type": "code",
   "execution_count": null,
   "id": "ead2f7c7-de99-4284-8b9d-4dc502c8c376",
   "metadata": {},
   "outputs": [],
   "source": [
    "%%sql\n",
    "WITH multi_user_sessions AS (\n",
    "    SELECT session_id,\n",
    "           COUNT(DISTINCT(user_id)) AS num_users\n",
    "    FROM stg_postgres_events\n",
    "    GROUP BY ALL\n",
    "    HAVING num_users > 1\n",
    ")\n",
    "SELECT COUNT(*) AS num_multi_user_sessions\n",
    "FROM multi_user_sessions"
   ]
  },
  {
   "cell_type": "markdown",
   "id": "064e8a5d-10e2-45f5-9148-4a3398305514",
   "metadata": {},
   "source": [
    "A single user can have multiple sessions"
   ]
  },
  {
   "cell_type": "code",
   "execution_count": null,
   "id": "56fc7c31-431b-4cb3-acfd-a4eab885d260",
   "metadata": {},
   "outputs": [],
   "source": [
    "%%sql\n",
    "WITH sessions_per_user AS (\n",
    "    SELECT user_id,\n",
    "           COUNT(DISTINCT(session_id)) AS num_sessions\n",
    "    FROM stg_postgres_events\n",
    "    GROUP BY ALL\n",
    "),\n",
    "single_multi_session_users AS (\n",
    "    SELECT *\n",
    "    FROM (\n",
    "        SELECT '1' AS num_sessions,\n",
    "               COUNT(*) AS num_users,\n",
    "               False AS is_multi_session_user\n",
    "        FROM sessions_per_user\n",
    "        WHERE num_sessions = 1\n",
    "        GROUP BY ALL\n",
    "    )\n",
    "    UNION ALL\n",
    "    SELECT '1+' AS num_sessions,\n",
    "           COUNT(*) AS num_users,\n",
    "           True AS is_multi_session_user\n",
    "    FROM sessions_per_user\n",
    "    WHERE num_sessions > 1\n",
    ")\n",
    "SELECT *\n",
    "FROM single_multi_session_users"
   ]
  },
  {
   "cell_type": "markdown",
   "id": "f15c9263-5e92-48e9-875d-5f1118c81c39",
   "metadata": {},
   "source": [
    "As seen from the total of the `num_users` column in the above query result, all users in the `users` table do not have an entry in the `events` table. This is verified below"
   ]
  },
  {
   "cell_type": "code",
   "execution_count": null,
   "id": "a3390c39-d250-4152-874d-b74dde86b473",
   "metadata": {},
   "outputs": [],
   "source": [
    "%%sql\n",
    "WITH num_users_from_events AS (\n",
    "    SELECT COUNT(DISTINCT(user_id)) AS num_users_events,\n",
    "           1 AS row_num\n",
    "    FROM stg_postgres_events\n",
    "),\n",
    "num_users_overall AS (\n",
    "    SELECT COUNT(DISTINCT(user_id)) AS num_users,\n",
    "           1 AS row_num\n",
    "    FROM stg_postgres_users\n",
    ")\n",
    "SELECT *\n",
    "FROM num_users_from_events\n",
    "INNER JOIN num_users_overall USING (row_num)"
   ]
  },
  {
   "cell_type": "markdown",
   "id": "d6f80c85-6e90-4ee5-b523-cd20d91d5f3f",
   "metadata": {},
   "source": [
    "## Product Queries - Conversion Rate"
   ]
  },
  {
   "cell_type": "markdown",
   "id": "0e4abe6e-14c1-4826-80e4-fe70d6b5a709",
   "metadata": {},
   "source": [
    "### By Product"
   ]
  },
  {
   "cell_type": "markdown",
   "id": "177db1a6-f16a-4d8e-9a0a-a41f6b55013c",
   "metadata": {},
   "source": [
    "#### Using `staging` models"
   ]
  },
  {
   "cell_type": "code",
   "execution_count": null,
   "id": "c880b23a-99a2-4386-a985-a088fd031729",
   "metadata": {},
   "outputs": [],
   "source": [
    "%%sql\n",
    "-- ####### START INTERMEDIATE MODEL #######\n",
    "/* get product events for sessions that did not end in a purchase */\n",
    "WITH products_non_purchase_sessions AS (\n",
    "    SELECT session_id,\n",
    "           user_id,\n",
    "           event_id,\n",
    "           event_type,\n",
    "           product_id,\n",
    "           created_at,\n",
    "           0 AS is_purchased\n",
    "    FROM stg_postgres_events\n",
    "    -- get sessions in which the last event does not indicate a purchase\n",
    "    QUALIFY (\n",
    "        LAST_VALUE(event_type)\n",
    "        OVER(PARTITION BY session_id ORDER BY session_id, created_at)\n",
    "    ) IN ('page_view', 'add_to_cart')\n",
    "),\n",
    "/* get the session ID for sessions ending in a purchase */\n",
    "sessions_with_purchase AS (\n",
    "    SELECT DISTINCT(session_id) AS session_id\n",
    "    FROM stg_postgres_events\n",
    "    -- get sessions in which the last event indicates a purchase\n",
    "    QUALIFY (\n",
    "        LAST_VALUE(event_type)\n",
    "        OVER(PARTITION BY session_id ORDER BY session_id, created_at)\n",
    "    ) IN ('checkout', 'package_shipped')\n",
    "),\n",
    "/* get product events for sessions that did convert to a purchase */\n",
    "products_purchase_sessions AS (\n",
    "    SELECT s.session_id,\n",
    "           s.user_id,\n",
    "           s.event_id,\n",
    "           s.event_type,\n",
    "           s.product_id,\n",
    "           s.created_at,\n",
    "           1 AS is_purchased\n",
    "    FROM stg_postgres_events s\n",
    "    -- user INNER JOIN to only get sessions ending in a purchase\n",
    "    INNER JOIN sessions_with_purchase sp USING (session_id)\n",
    "    -- get events showing the ID of the purchased product\n",
    "    WHERE product_id IS NOT NULL\n",
    "    ORDER BY session_id, created_at\n",
    "),\n",
    "/* count sessions not ending in a purchase in which product page was viewed */\n",
    "product_non_purchase_page_views AS (\n",
    "    SELECT product_id,\n",
    "           COUNT(DISTINCT(session_id)) AS num_non_purchase_page_view_sessions\n",
    "    FROM products_non_purchase_sessions\n",
    "    WHERE event_type = 'page_view'\n",
    "    GROUP BY product_id\n",
    "),\n",
    "/* count sessions ending in a purchase in which product page was viewed */\n",
    "product_purchase_page_views AS (\n",
    "    SELECT product_id,\n",
    "           COUNT(DISTINCT(session_id)) AS num_purchase_page_view_sessions\n",
    "    FROM products_purchase_sessions\n",
    "    WHERE event_type = 'page_view'\n",
    "    GROUP BY product_id\n",
    "),\n",
    "/* count sessions ending in a purchase */\n",
    "product_purchases AS (\n",
    "    SELECT product_id,\n",
    "           COUNT(DISTINCT(session_id)) AS num_purchase_sessions\n",
    "    FROM products_purchase_sessions\n",
    "    -- get add-to-cart events since only products in a cart can be purchased\n",
    "    -- (exclude products with a page_view that are not followed by add-to-cart\n",
    "    -- since these cannot be purchased)\n",
    "    WHERE event_type = 'add_to_cart'\n",
    "    GROUP BY product_id\n",
    "),\n",
    "/* join three types of session counts */\n",
    "product_session_totals AS (\n",
    "    SELECT pp.product_id,\n",
    "           npv.num_non_purchase_page_view_sessions,\n",
    "           ppv.num_purchase_page_view_sessions,\n",
    "           pp.num_purchase_sessions\n",
    "    FROM product_non_purchase_page_views npv\n",
    "    INNER JOIN product_purchases pp USING (product_id)\n",
    "    INNER JOIN product_purchase_page_views ppv USING (product_id)\n",
    "),\n",
    "-- ####### END INTERMEDIATE MODEL #######\n",
    "products AS (\n",
    "    SELECT product_id,\n",
    "           name AS product_name\n",
    "    FROM stg_postgres_products\n",
    "),\n",
    "/* get conversion rate */\n",
    "product_conversion_rates AS (\n",
    "    SELECT product_id,\n",
    "           (\n",
    "               num_non_purchase_page_view_sessions\n",
    "               +num_purchase_page_view_sessions\n",
    "           ) AS total_num_page_view_sessions,\n",
    "           num_purchase_sessions,\n",
    "           (\n",
    "               100*num_purchase_sessions/total_num_page_view_sessions\n",
    "           ) AS conversion_rate\n",
    "    FROM product_session_totals\n",
    "),\n",
    "/* get first and last event timestamp */\n",
    "product_event_timestamp_bounds AS (\n",
    "    SELECT product_id,\n",
    "           MIN(created_at) AS first_event,\n",
    "           MAX(created_at) AS last_event\n",
    "    FROM stg_postgres_events\n",
    "    GROUP BY product_id\n",
    "),\n",
    "/* combine conversion rates and event timestamp bounds */\n",
    "product_conversion_rates_timestamp_bounds AS (\n",
    "    SELECT pn.product_name,\n",
    "           c.total_num_page_view_sessions,\n",
    "           c.num_purchase_sessions,\n",
    "           c.conversion_rate,\n",
    "           b.first_event,\n",
    "           b.last_event\n",
    "    FROM product_conversion_rates c\n",
    "    INNER JOIN product_event_timestamp_bounds b USING (product_id)\n",
    "    INNER JOIN products pn USING (product_id)\n",
    "    ORDER BY conversion_rate DESC\n",
    ")\n",
    "SELECT *\n",
    "FROM product_conversion_rates_timestamp_bounds"
   ]
  },
  {
   "cell_type": "markdown",
   "id": "282dad6a-becf-41fd-b6bf-30523fde3eca",
   "metadata": {},
   "source": [
    "### Definitions"
   ]
  },
  {
   "cell_type": "markdown",
   "id": "69f3ac4b-0aea-49ae-b224-b771efc48656",
   "metadata": {},
   "source": [
    "1. Number of sessions with product (page) views and without a purchase\n",
    "   - `num_non_purchase_page_view_sessions`\n",
    "   - number of sessions ending without a purchase in which a product page was viewed\n",
    "2. Number of sessions with product (page) views and with a purchase\n",
    "   - `num_purchase_page_view_sessions`\n",
    "   - number of sessions ending with a purchase in which a product page was viewed\n",
    "3. Total sessions with product page views\n",
    "   - `total_num_page_view_sessions`\n",
    "   - sum of 1. and 2. above\n",
    "4. Number of sessions with product purchases\n",
    "   - `num_purchase_sessions`\n",
    "   - number of sessions ending with a purchase\n",
    "     - since only one purchase is allowed per session, this is the same as `num_purchases` (number of purcases)\n",
    "5. Product conversion rate\n",
    "   - `conversion_rate`\n",
    "   - 100 X number of sessions with product purchase / Total sessions with product page views"
   ]
  },
  {
   "cell_type": "markdown",
   "id": "1563f87e-77a0-4183-9df6-08d40f4c5923",
   "metadata": {},
   "source": [
    "#### Using `intermediate` models"
   ]
  },
  {
   "cell_type": "code",
   "execution_count": null,
   "id": "355a3c3d-cd95-47de-aeb2-1cd4f3a8bf47",
   "metadata": {},
   "outputs": [],
   "source": [
    "%%sql\n",
    "WITH products AS (\n",
    "    SELECT product_id,\n",
    "           name AS product_name\n",
    "    FROM stg_postgres_products\n",
    "),\n",
    "/* get conversion rate */\n",
    "product_conversion_rates AS (\n",
    "    SELECT product_id,\n",
    "           (\n",
    "               num_non_purchase_page_view_sessions\n",
    "               +num_purchase_page_view_sessions\n",
    "           ) AS total_num_page_view_sessions,\n",
    "           num_purchases AS num_purchase_sessions,\n",
    "           (\n",
    "               100*num_purchase_sessions/total_num_page_view_sessions\n",
    "           ) AS conversion_rate\n",
    "    FROM int_events_sessions_aggregated_to_product\n",
    "),\n",
    "/* get first and last event timestamp */\n",
    "product_event_timestamp_bounds AS (\n",
    "    SELECT product_id,\n",
    "           MIN(created_at) AS first_event,\n",
    "           MAX(created_at) AS last_event\n",
    "    FROM stg_postgres_events\n",
    "    GROUP BY product_id\n",
    "),\n",
    "/* combine conversion rates and event timestamp bounds */\n",
    "product_conversion_rates_timestamp_bounds AS (\n",
    "    SELECT p.product_name,\n",
    "           c.total_num_page_view_sessions,\n",
    "           c.num_purchase_sessions,\n",
    "           c.conversion_rate,\n",
    "           b.first_event,\n",
    "           b.last_event\n",
    "    FROM product_conversion_rates c\n",
    "    INNER JOIN product_event_timestamp_bounds b USING (product_id)\n",
    "    INNER JOIN products p USING (product_id)\n",
    "    ORDER BY conversion_rate DESC\n",
    ")\n",
    "SELECT *\n",
    "FROM product_conversion_rates_timestamp_bounds"
   ]
  },
  {
   "cell_type": "markdown",
   "id": "0891b011-df9e-48b6-b36d-d27feb263d05",
   "metadata": {},
   "source": [
    "### Overall"
   ]
  },
  {
   "cell_type": "markdown",
   "id": "4269cd9c-48d0-4de3-b817-07310d9b1458",
   "metadata": {},
   "source": [
    "Get conversion rate per product using `intermediate` models"
   ]
  },
  {
   "cell_type": "code",
   "execution_count": null,
   "id": "b9d35e8c-8f83-45f7-a612-494d97b69e46",
   "metadata": {},
   "outputs": [],
   "source": [
    "%%sql\n",
    "WITH products AS (\n",
    "    SELECT 1 AS product_id,\n",
    "           'all' AS product_name\n",
    "),\n",
    "/* get conversion rate */\n",
    "overall_conversion_rates AS (\n",
    "    SELECT 1 AS product_id,\n",
    "           SUM(\n",
    "               num_non_purchase_page_view_sessions\n",
    "               +num_purchase_page_view_sessions\n",
    "           ) AS total_num_page_view_sessions,\n",
    "           SUM(num_purchases) AS num_purchase_sessions,\n",
    "           (\n",
    "               100*num_purchase_sessions/total_num_page_view_sessions\n",
    "           ) AS conversion_rate\n",
    "    FROM int_events_sessions_aggregated_to_product\n",
    "),\n",
    "/* get first and last event timestamp */\n",
    "overall_event_timestamp_bounds AS (\n",
    "    SELECT 1 AS product_id,\n",
    "           MIN(created_at) AS first_event,\n",
    "           MAX(created_at) AS last_event\n",
    "    FROM stg_postgres_events\n",
    "),\n",
    "/* combine conversion rates and event timestamp bounds */\n",
    "overall_conversion_rates_timestamp_bounds AS (\n",
    "    SELECT p.product_name,\n",
    "           c.total_num_page_view_sessions,\n",
    "           c.num_purchase_sessions,\n",
    "           c.conversion_rate,\n",
    "           b.first_event,\n",
    "           b.last_event\n",
    "    FROM overall_conversion_rates c\n",
    "    INNER JOIN overall_event_timestamp_bounds b USING (product_id)\n",
    "    INNER JOIN products p USING (product_id)\n",
    ")\n",
    "SELECT *\n",
    "FROM overall_conversion_rates_timestamp_bounds"
   ]
  },
  {
   "cell_type": "markdown",
   "id": "fe0af12e-473e-4a35-8b01-4029195f9f35",
   "metadata": {},
   "source": [
    "## Disconnect"
   ]
  },
  {
   "cell_type": "markdown",
   "id": "ded3349f-0b0e-4bf1-aef6-f916f5887e46",
   "metadata": {},
   "source": [
    "Close connection"
   ]
  },
  {
   "cell_type": "code",
   "execution_count": null,
   "id": "6556da3f-5912-4f5c-b9a5-08f4bf3e793a",
   "metadata": {},
   "outputs": [],
   "source": [
    "%sql --close connection"
   ]
  }
 ],
 "metadata": {
  "kernelspec": {
   "display_name": "Python 3 (ipykernel)",
   "language": "python",
   "name": "python3"
  },
  "language_info": {
   "codemirror_mode": {
    "name": "ipython",
    "version": 3
   },
   "file_extension": ".py",
   "mimetype": "text/x-python",
   "name": "python",
   "nbconvert_exporter": "python",
   "pygments_lexer": "ipython3",
   "version": "3.10.12"
  }
 },
 "nbformat": 4,
 "nbformat_minor": 5
}
