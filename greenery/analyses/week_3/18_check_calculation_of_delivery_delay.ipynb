{
 "cells": [
  {
   "cell_type": "markdown",
   "id": "e8453ffe-c9d2-430e-b7a5-2180baf69f04",
   "metadata": {},
   "source": [
    "# Run Tests on Delivery Delay Duration"
   ]
  },
  {
   "cell_type": "code",
   "execution_count": null,
   "id": "5fb3e316-5c4a-443d-aace-c88bc79530d8",
   "metadata": {},
   "outputs": [],
   "source": [
    "import os\n",
    "from pathlib import Path\n",
    "\n",
    "from dotenv import find_dotenv, load_dotenv\n",
    "from sqlalchemy import create_engine\n",
    "from snowflake.sqlalchemy import URL"
   ]
  },
  {
   "cell_type": "code",
   "execution_count": null,
   "id": "0b4632c7-dc9a-440a-bcc4-273e64d99172",
   "metadata": {},
   "outputs": [],
   "source": [
    "PROJ_ROOT = Path().resolve().parents[3]\n",
    "env_file_dir = PROJ_ROOT / '.env'\n",
    "_ = load_dotenv(env_file_dir, verbose=True)"
   ]
  },
  {
   "cell_type": "markdown",
   "id": "d8d451f2-20cd-4e25-a8f2-0014647c3fbe",
   "metadata": {},
   "source": [
    "## About"
   ]
  },
  {
   "cell_type": "markdown",
   "id": "d2ea462e-028a-45b2-a3d2-76d0c435bb76",
   "metadata": {},
   "source": [
    "Check the calculation of `delivery_delay_seconds` in the `marts/core/fct_orders` model.\n",
    "\n",
    "### Notes\n",
    "\n",
    "1. This notebook supports <kbd>Run</kbd> > <kbd>Run All Cells</kbd>."
   ]
  },
  {
   "cell_type": "markdown",
   "id": "ea25fe9d-f02f-4a34-bd35-c7bcd88a07a4",
   "metadata": {},
   "source": [
    "## User Inputs"
   ]
  },
  {
   "cell_type": "code",
   "execution_count": null,
   "id": "443f3f0d-04ed-4c1a-a984-afda04627ccc",
   "metadata": {
    "editable": true,
    "slideshow": {
     "slide_type": ""
    },
    "tags": [
     "parameters"
    ]
   },
   "outputs": [],
   "source": [
    "#"
   ]
  },
  {
   "cell_type": "code",
   "execution_count": null,
   "id": "4a646a6e-38d7-4bda-91d7-c68652f72495",
   "metadata": {},
   "outputs": [],
   "source": [
    "engine = create_engine(\n",
    "    URL(\n",
    "        drivername=\"driver\",\n",
    "        account=os.getenv(\"UPLIMIT_SNOWFLAKE_ACCOUNT\"),\n",
    "        user=os.getenv(\"UPLIMIT_SNOWFLAKE_USER\"),\n",
    "        password=os.getenv(\"UPLIMIT_SNOWFLAKE_PASS\"),\n",
    "        warehouse=os.getenv(\"UPLIMIT_SNOWFLAKE_WAREHOUSE\"),\n",
    "        role=os.getenv(\"UPLIMIT_SNOWFLAKE_ROLE\"),\n",
    "        database=os.getenv(\"UPLIMIT_SNOWFLAKE_DB_NAME\"),\n",
    "        schema=os.getenv(\"UPLIMIT_SNOWFLAKE_SCHEMA\"),\n",
    "        timezone='US/Eastern'\n",
    "    )\n",
    ")"
   ]
  },
  {
   "cell_type": "markdown",
   "id": "a89c3e0b-2858-440e-9683-8c9e4995c4ea",
   "metadata": {},
   "source": [
    "## Connect"
   ]
  },
  {
   "cell_type": "markdown",
   "id": "46d75eb7-afcb-4e5c-aeca-b995cdae82f2",
   "metadata": {},
   "source": [
    "Load Jupyter SQL extension"
   ]
  },
  {
   "cell_type": "code",
   "execution_count": null,
   "id": "93db3a8c-2581-4eb6-8d07-814b902e7f05",
   "metadata": {},
   "outputs": [],
   "source": [
    "%load_ext sql"
   ]
  },
  {
   "cell_type": "markdown",
   "id": "8377a1b4-21d6-4239-a4b9-375019400f2d",
   "metadata": {},
   "source": [
    "Set the maximum number of rows to be displayed to `None` (shows all rows)"
   ]
  },
  {
   "cell_type": "code",
   "execution_count": null,
   "id": "e533d93c-f747-46b4-a107-607dd58b1351",
   "metadata": {},
   "outputs": [],
   "source": [
    "%config SqlMagic.displaylimit = None"
   ]
  },
  {
   "cell_type": "markdown",
   "id": "8e126522-75e6-4bd2-a3c2-25e9179ee12c",
   "metadata": {},
   "source": [
    "Connect to database"
   ]
  },
  {
   "cell_type": "code",
   "execution_count": null,
   "id": "486844ba-ed46-4628-8cff-c69f647d8d41",
   "metadata": {},
   "outputs": [],
   "source": [
    "%sql engine --alias connection"
   ]
  },
  {
   "cell_type": "markdown",
   "id": "6afb551d-69ae-4429-9685-190f2f85f387",
   "metadata": {},
   "source": [
    "## Queries"
   ]
  },
  {
   "cell_type": "markdown",
   "id": "cf31b06e-3b50-43f2-862b-fea3f0827f63",
   "metadata": {},
   "source": [
    "### Checking Accuracy of `delivery_delay_seconds` Column in `fct_orders` Using Tests"
   ]
  },
  {
   "cell_type": "markdown",
   "id": "f3fe3127-2e92-4a26-83de-4c30837cc55a",
   "metadata": {},
   "source": [
    "#### Sample Data"
   ]
  },
  {
   "cell_type": "code",
   "execution_count": null,
   "id": "e512b73d-0dcf-4663-a544-8d42eb9828b8",
   "metadata": {},
   "outputs": [],
   "source": [
    "%%sql\n",
    "SELECT delivered_at,\n",
    "       estimated_delivery_at,\n",
    "       datediff(\n",
    "           second, created_at, estimated_delivery_at\n",
    "       ) AS estimated_delivery_time_seconds,\n",
    "       datediff(second, created_at, delivered_at) AS delivery_time_seconds,\n",
    "       (\n",
    "           CASE\n",
    "               WHEN delivered_at > estimated_delivery_at\n",
    "               THEN ABS(\n",
    "                   DATEDIFF(second, delivered_at, estimated_delivery_at)\n",
    "               )\n",
    "               ELSE NULL\n",
    "           END\n",
    "       ) AS delivery_delay_seconds\n",
    "FROM stg_postgres_orders\n",
    "WHERE delivered_at IN (\n",
    "    '2021-02-17 23:30:34',\n",
    "    '2021-02-13 15:13:09'\n",
    ")\n",
    "OR estimated_delivery_at IN ('2021-02-14 23:35:14', '2021-02-16 07:08:04')\n",
    "OR order_id = '8385cfcd-2b3f-443a-a676-9756f7eb5404'"
   ]
  },
  {
   "cell_type": "markdown",
   "id": "6d22fa3c-797f-4eee-86b9-ef8a8e59c7b8",
   "metadata": {},
   "source": [
    "#### Expected Outputs Captured in Tests"
   ]
  },
  {
   "cell_type": "markdown",
   "id": "355e8986-c588-4b88-b171-b180ee6c4c4b",
   "metadata": {},
   "source": [
    "If an order is delivered\n",
    "1. with a delay\n",
    "   - the calculation of `delivery_delay_seconds` produces a correct non-`NULL` value\n",
    "2. on time (no delay)\n",
    "   - the calculation of `delivery_delay_seconds` produces a `NULL` value"
   ]
  },
  {
   "cell_type": "markdown",
   "id": "c543a5f1-e818-4fd9-9f71-4d3053377772",
   "metadata": {},
   "source": [
    "With the above in mind, the following three tests were run for this `delivery_delay_seconds` column\n",
    "```sql\n",
    " - name: delivery_delay_seconds\n",
    "   - dbt_utils.expression_is_true:\n",
    "       name: unexpected_null_if_no_delay_from_timestamps\n",
    "       expression: \"IS NULL\"\n",
    "       where: \"delivered_at < estimated_delivery_at\"\n",
    "   - dbt_utils.expression_is_true:\n",
    "       name: unexpected_null_if_no_delay_from_timedeltas\n",
    "       expression: \"IS NULL\"\n",
    "       where: \"delivery_time_seconds < estimated_delivery_time_seconds\"\n",
    "   - dbt_utils.expression_is_true:\n",
    "       name: unexpected_null_if_timedelta_value\n",
    "       expression: \"IS NULL\"\n",
    "       where: \"delivery_time_seconds IS NOT NULL\"\n",
    "```"
   ]
  },
  {
   "cell_type": "markdown",
   "id": "2e77a6e1-c63b-4940-b662-a6c235aff8db",
   "metadata": {},
   "source": [
    "#### Checking Test Outcomes (Pass/Fail) Using Sample Data"
   ]
  },
  {
   "cell_type": "markdown",
   "id": "e8f13671-73c1-4ae0-be4c-99c5481f97de",
   "metadata": {},
   "source": [
    "If an order is not yet delivered then the following occurs\n",
    "1. the `delivered_at` timestamp column is `NULL` (however, this `NULL` does not mean the order was delivered on time)\n",
    "   - the first test passes since the `<` operator only compares non-`NULL` timestamp values\n",
    "2. the `delivery_delay_seconds` is `NULL` (however, this `NULL` also does not mean the order was delivered on time)\n",
    "   - the second test passes since the `<` operator only compares non-`NULL` timedelta values\n",
    "   - the passing of this test is expected but reveals a flaw in the logic of assigning `NULL`s in the `delivery_delay_seconds` calculation\n",
    "     - this flaw will be exposed in the third test (next)\n",
    "3. the `delivery_delay_seconds` column is `NULL`\n",
    "   - this column is `NULL` (as expected) since the timedelta (using `DATEDIFF('second', created_at, estimated_delivery_at)`) cannot be calculated between the `NULL` in the `delivered_at` column and the non-`NULL` value in the `estimated_delivery_at` column\n",
    "   - the third test fails since the `CASE WHEN` logic\n",
    "     - expects this `delivery_delay_seconds` column to only be `NULL` for on-time deliveries (when the `delivery_time_seconds` column can be calculated and does not contain a `NULL` value)\n",
    "     - does not expect this column to be `NULL` in other scenarios (i.e. when the order has not yet been delivered and the the `delivery_time_seconds` column cannot be calculated)"
   ]
  },
  {
   "cell_type": "markdown",
   "id": "9546281b-b78a-4f7a-b184-3b8c7240ca70",
   "metadata": {},
   "source": [
    "## Conclusion"
   ]
  },
  {
   "cell_type": "markdown",
   "id": "bc2f009f-301c-41b3-beb6-8f550bd542d9",
   "metadata": {},
   "source": [
    "In the absence of the third test, any downstream statistics calculated on the delivery delay in `delivery_delay_seconds` (eg. what is the average delivery delay for Greenery orders?) would be incorrect."
   ]
  },
  {
   "cell_type": "markdown",
   "id": "f7fc8b44-60ac-4d28-a933-3e7d0e4b544a",
   "metadata": {},
   "source": [
    "## Disconnect"
   ]
  },
  {
   "cell_type": "markdown",
   "id": "6907f44e-70a5-46c7-a711-8fede2b39414",
   "metadata": {},
   "source": [
    "Close connection"
   ]
  },
  {
   "cell_type": "code",
   "execution_count": null,
   "id": "8e869549-eb40-47ff-ae37-a673f78318bc",
   "metadata": {},
   "outputs": [],
   "source": [
    "%sql --close connection"
   ]
  }
 ],
 "metadata": {
  "kernelspec": {
   "display_name": "Python 3 (ipykernel)",
   "language": "python",
   "name": "python3"
  },
  "language_info": {
   "codemirror_mode": {
    "name": "ipython",
    "version": 3
   },
   "file_extension": ".py",
   "mimetype": "text/x-python",
   "name": "python",
   "nbconvert_exporter": "python",
   "pygments_lexer": "ipython3",
   "version": "3.10.12"
  }
 },
 "nbformat": 4,
 "nbformat_minor": 5
}
