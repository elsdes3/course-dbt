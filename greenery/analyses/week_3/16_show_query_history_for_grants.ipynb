{
 "cells": [
  {
   "cell_type": "markdown",
   "id": "cebda1fb-c813-4556-80e8-0665a788c17e",
   "metadata": {},
   "source": [
    "# Explore Query History"
   ]
  },
  {
   "cell_type": "code",
   "execution_count": null,
   "id": "e1cc8cf8-90c7-4a80-91a8-b130a64164fb",
   "metadata": {},
   "outputs": [],
   "source": [
    "import os\n",
    "from pathlib import Path\n",
    "\n",
    "from dotenv import find_dotenv, load_dotenv\n",
    "from sqlalchemy import create_engine\n",
    "from snowflake.sqlalchemy import URL"
   ]
  },
  {
   "cell_type": "code",
   "execution_count": null,
   "id": "7f3e1552-956d-46de-bd65-d8666722d84e",
   "metadata": {},
   "outputs": [],
   "source": [
    "PROJ_ROOT = Path().resolve().parents[3]\n",
    "env_file_dir = PROJ_ROOT / '.env'\n",
    "_ = load_dotenv(env_file_dir, verbose=True)"
   ]
  },
  {
   "cell_type": "markdown",
   "id": "ffa4204b-6086-4e4b-b3ef-e1cdf6b75be3",
   "metadata": {},
   "source": [
    "## About"
   ]
  },
  {
   "cell_type": "markdown",
   "id": "7cf04d99-ca91-41b9-b51c-1014c5901357",
   "metadata": {},
   "source": [
    "Show query history and view executions of granting the `reporting` role\n",
    "\n",
    "1. `usage` privilige\n",
    "2. read-only (`select`) access\n",
    "\n",
    "### Notes\n",
    "\n",
    "1. This notebook supports <kbd>Run</kbd> > <kbd>Run All Cells</kbd>."
   ]
  },
  {
   "cell_type": "markdown",
   "id": "316e67a5-45ca-4595-b92b-f3265fd39fe6",
   "metadata": {},
   "source": [
    "## User Inputs"
   ]
  },
  {
   "cell_type": "code",
   "execution_count": null,
   "id": "8d333ca5-2e34-40b9-b499-34e93fc8af68",
   "metadata": {
    "editable": true,
    "slideshow": {
     "slide_type": ""
    },
    "tags": [
     "parameters"
    ]
   },
   "outputs": [],
   "source": [
    "#"
   ]
  },
  {
   "cell_type": "code",
   "execution_count": null,
   "id": "2e664870-6d7a-4395-a274-4207c162a3aa",
   "metadata": {},
   "outputs": [],
   "source": [
    "engine = create_engine(\n",
    "    URL(\n",
    "        drivername=\"driver\",\n",
    "        account=os.getenv(\"UPLIMIT_SNOWFLAKE_ACCOUNT\"),\n",
    "        user=os.getenv(\"UPLIMIT_SNOWFLAKE_USER\"),\n",
    "        password=os.getenv(\"UPLIMIT_SNOWFLAKE_PASS\"),\n",
    "        warehouse=os.getenv(\"UPLIMIT_SNOWFLAKE_WAREHOUSE\"),\n",
    "        role=os.getenv(\"UPLIMIT_SNOWFLAKE_ROLE\"),\n",
    "        database=os.getenv(\"UPLIMIT_SNOWFLAKE_DB_NAME\"),\n",
    "        schema=os.getenv(\"UPLIMIT_SNOWFLAKE_SCHEMA\"),\n",
    "        timezone='US/Eastern'\n",
    "    )\n",
    ")"
   ]
  },
  {
   "cell_type": "markdown",
   "id": "bbae0bae-3b6f-4934-ba8b-28987933b9ef",
   "metadata": {},
   "source": [
    "## Connect"
   ]
  },
  {
   "cell_type": "markdown",
   "id": "16c10907-c155-4193-962a-893f9eebbaff",
   "metadata": {},
   "source": [
    "Load Jupyter SQL extension"
   ]
  },
  {
   "cell_type": "code",
   "execution_count": null,
   "id": "edfa2726-9e6a-4470-8226-0c1235433a62",
   "metadata": {},
   "outputs": [],
   "source": [
    "%load_ext sql"
   ]
  },
  {
   "cell_type": "markdown",
   "id": "700a1037-9734-4533-b33f-68239a1d0559",
   "metadata": {},
   "source": [
    "Set the maximum number of rows to be displayed to `None` (shows all rows)"
   ]
  },
  {
   "cell_type": "code",
   "execution_count": null,
   "id": "0138f7d4-97c8-43e4-90a9-d123f9d7b9a8",
   "metadata": {},
   "outputs": [],
   "source": [
    "%config SqlMagic.displaylimit = None"
   ]
  },
  {
   "cell_type": "markdown",
   "id": "dc54e324-cac0-4fc8-a474-bd4774d0d408",
   "metadata": {},
   "source": [
    "Connect to DuckDB database"
   ]
  },
  {
   "cell_type": "code",
   "execution_count": null,
   "id": "321a337f-8b87-4db9-b64b-7ad474b1d549",
   "metadata": {},
   "outputs": [],
   "source": [
    "%sql engine --alias connection"
   ]
  },
  {
   "cell_type": "markdown",
   "id": "986ffce0-5787-4dce-b845-8d8658c303b9",
   "metadata": {},
   "source": [
    "## Queries"
   ]
  },
  {
   "cell_type": "markdown",
   "id": "a472b05e-12ac-4afa-80b2-ef77b7654b16",
   "metadata": {},
   "source": [
    "### Schema Granted `USAGE` Privilige"
   ]
  },
  {
   "cell_type": "markdown",
   "id": "65e8754d-ebaf-4fa3-814d-cb3fce744891",
   "metadata": {},
   "source": [
    "Show all schemas to which the `reporting` role was successfully granted `USAGE` privilege"
   ]
  },
  {
   "cell_type": "code",
   "execution_count": null,
   "id": "b1f7aa1f-88fe-4b25-9d20-87895668b4b2",
   "metadata": {},
   "outputs": [],
   "source": [
    "%%sql\n",
    "SELECT query_id,\n",
    "       query_text,\n",
    "       SPLIT_PART(SPLIT(query_text, ' ON SCHEMA')[1], ' TO ROLE', 1) AS schema_name,\n",
    "       SPLIT_PART(RTRIM(query_text, ';'), ' TO ROLE ', 2) AS role_granted,\n",
    "       start_time,\n",
    "       rows_produced AS num_rows,\n",
    "       execution_status AS status,\n",
    "       role_name\n",
    "FROM table(\n",
    "    information_schema.query_history(\n",
    "        END_TIME_RANGE_START=>to_timestamp_ltz('2024-11-1 21:00:00.000 -0400'),\n",
    "        RESULT_LIMIT=>500\n",
    "    )\n",
    ")\n",
    "WHERE query_text LIKE 'GRANT USAGE%'\n",
    "ORDER BY start_time DESC"
   ]
  },
  {
   "cell_type": "markdown",
   "id": "3cc9133c-3aac-4536-a66c-7b2358862f76",
   "metadata": {},
   "source": [
    "**Notes**\n",
    "\n",
    "1. There are multiple `GRANT USAGE`s since that command was run multiple times."
   ]
  },
  {
   "cell_type": "markdown",
   "id": "2ef432c2-482b-4c2f-b63b-535b76b885fc",
   "metadata": {},
   "source": [
    "Count the number of models to which the `reporting` role was successfully granted read-only (`SELECT`) access"
   ]
  },
  {
   "cell_type": "code",
   "execution_count": null,
   "id": "1591f5c8-eebf-43ea-9f07-059741a904c0",
   "metadata": {},
   "outputs": [],
   "source": [
    "%%sql\n",
    "/* count number of models to which the reporting role was granted read-only\n",
    "access */\n",
    "SELECT SPLIT_PART(\n",
    "           SPLIT(query_text, ' ON SCHEMA')[1], ' TO ROLE', 1\n",
    "       ) AS schema_name,\n",
    "       SPLIT_PART(RTRIM(query_text, ';'), ' TO ROLE ', 2) AS role_granted,\n",
    "       COUNT(DISTINCT(query_text)) AS num_usage_grants\n",
    "FROM table(\n",
    "    information_schema.query_history(\n",
    "        END_TIME_RANGE_START=>to_timestamp_ltz('2024-11-1 21:00:00.000 -0400'),\n",
    "        RESULT_LIMIT=>500\n",
    "    )\n",
    ")\n",
    "-- get GRANT SELECts\n",
    "WHERE query_text LIKE 'GRANT USAGE%'\n",
    "-- get successful GRANts\n",
    "AND execution_status = 'SUCCESS'\n",
    "GROUP BY ALL"
   ]
  },
  {
   "cell_type": "markdown",
   "id": "737eb98a-ffd7-4377-803b-aa2006186467",
   "metadata": {},
   "source": [
    "### Models Granted Read-Only (`SELECT`) Access"
   ]
  },
  {
   "cell_type": "markdown",
   "id": "21a05267-7f05-489f-82c6-603787630198",
   "metadata": {},
   "source": [
    "Show all models to which the `reporting` role was successfully granted read-only (`SELECT`) access"
   ]
  },
  {
   "cell_type": "code",
   "execution_count": null,
   "id": "8d660f56-09bf-4160-8718-d45e10749b8a",
   "metadata": {},
   "outputs": [],
   "source": [
    "%%sql\n",
    "SELECT query_id,\n",
    "       query_text,\n",
    "       SPLIT_PART(\n",
    "           ARRAY_SLICE(SPLIT(query_text, ' TO ROLE'), 0, 1)[0], '.', 3\n",
    "       ) AS model_name,\n",
    "       SPLIT_PART(RTRIM(query_text, ';'), ' TO ROLE ', 2) AS role_granted,\n",
    "       start_time,\n",
    "       rows_produced AS num_rows,\n",
    "       execution_status AS status,\n",
    "       role_name\n",
    "FROM table(\n",
    "    information_schema.query_history(\n",
    "        END_TIME_RANGE_START=>to_timestamp_ltz('2024-11-1 21:00:00.000 -0400'),\n",
    "        RESULT_LIMIT=>500\n",
    "    )\n",
    ")\n",
    "WHERE query_text LIKE 'GRANT SELECT%'\n",
    "ORDER BY start_time DESC"
   ]
  },
  {
   "cell_type": "markdown",
   "id": "ee833ddc-dd16-45e9-986e-e1d29c089685",
   "metadata": {},
   "source": [
    "Count the number of models to which the `reporting` role was successfully granted read-only (`SELECT`) access"
   ]
  },
  {
   "cell_type": "code",
   "execution_count": null,
   "id": "7ca02013-f5ea-46a5-9b7e-60e8ff81601e",
   "metadata": {},
   "outputs": [],
   "source": [
    "%%sql\n",
    "/* count number of models to which the reporting role was granted read-only\n",
    "access */\n",
    "SELECT COUNT(DISTINCT(query_text)) AS num_models_granted_access\n",
    "FROM table(\n",
    "    information_schema.query_history(\n",
    "        END_TIME_RANGE_START=>to_timestamp_ltz('2024-11-1 21:00:00.000 -0400'),\n",
    "        RESULT_LIMIT=>500\n",
    "    )\n",
    ")\n",
    "-- get GRANT SELECts\n",
    "WHERE query_text LIKE 'GRANT SELECT%'\n",
    "-- get successful GRANts\n",
    "AND execution_status = 'SUCCESS'"
   ]
  },
  {
   "cell_type": "markdown",
   "id": "fe0af12e-473e-4a35-8b01-4029195f9f35",
   "metadata": {},
   "source": [
    "## Disconnect"
   ]
  },
  {
   "cell_type": "markdown",
   "id": "ded3349f-0b0e-4bf1-aef6-f916f5887e46",
   "metadata": {},
   "source": [
    "Close connection"
   ]
  },
  {
   "cell_type": "code",
   "execution_count": null,
   "id": "6556da3f-5912-4f5c-b9a5-08f4bf3e793a",
   "metadata": {},
   "outputs": [],
   "source": [
    "%sql --close connection"
   ]
  }
 ],
 "metadata": {
  "kernelspec": {
   "display_name": "Python 3 (ipykernel)",
   "language": "python",
   "name": "python3"
  },
  "language_info": {
   "codemirror_mode": {
    "name": "ipython",
    "version": 3
   },
   "file_extension": ".py",
   "mimetype": "text/x-python",
   "name": "python",
   "nbconvert_exporter": "python",
   "pygments_lexer": "ipython3",
   "version": "3.10.12"
  }
 },
 "nbformat": 4,
 "nbformat_minor": 5
}
