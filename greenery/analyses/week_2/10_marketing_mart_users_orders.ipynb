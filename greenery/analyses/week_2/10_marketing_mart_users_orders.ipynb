{
 "cells": [
  {
   "cell_type": "markdown",
   "id": "371e0881-1c74-4fb1-94c6-e97d8ae17ec6",
   "metadata": {},
   "source": [
    "# Marketing (Facts) Models"
   ]
  },
  {
   "cell_type": "code",
   "execution_count": null,
   "id": "058e40b6-b3b7-49b3-9d0d-2b18860ac4da",
   "metadata": {},
   "outputs": [],
   "source": [
    "import os\n",
    "from pathlib import Path\n",
    "\n",
    "from dotenv import load_dotenv\n",
    "from sqlalchemy import create_engine\n",
    "from snowflake.sqlalchemy import URL"
   ]
  },
  {
   "cell_type": "code",
   "execution_count": null,
   "id": "ca588ba1-2a1b-41f1-9f6d-637f9a26ec9d",
   "metadata": {},
   "outputs": [],
   "source": [
    "PROJ_ROOT = Path().resolve().parents[3]\n",
    "env_file_dir = PROJ_ROOT / '.env'\n",
    "_ = load_dotenv(env_file_dir, verbose=True)"
   ]
  },
  {
   "cell_type": "markdown",
   "id": "85fd89ea-152a-40de-960c-849fe3d2cd74",
   "metadata": {},
   "source": [
    "## About"
   ]
  },
  {
   "attachments": {},
   "cell_type": "markdown",
   "id": "8fd93d19-1541-48be-9c30-a4ee7813d45e",
   "metadata": {},
   "source": [
    "Develop queries for **mart (user orders)** models using DBT's `intermediate` models.\n",
    "\n",
    "The version of these queries that does not use `intermediate` models is found in `from-staging/10_00_marketing_mart_users_orders_queries.ipynb`.\n",
    "\n",
    "### User Order Facts (`fct_user_orders`)\n",
    "\n",
    "#### Objective\n",
    "\n",
    "Develop a model for the marketing team to perform the following\n",
    "         \n",
    "1. analyze user ordering behavior\n",
    "2. identify the biggest customers so we can track their ordering activity over time.\n",
    "\n",
    "#### Constraints\n",
    "\n",
    "The result of this model should be aggregated at the user order level so it can be used by the marketing team in any other downstream model that is also aggregated at the user order level. Only user ID, state and aggregated columns should be included in this model.\n",
    "\n",
    "#### Business Questions\n",
    "\n",
    "1. Get the following order-related details for each user\n",
    "   - first and last order date\n",
    "   - total dollars spent on order\n",
    "     - use this to determine which user is our biggest customer\n",
    "   - number of orders\n",
    "   - average number of products offered on the Greenery platform that are included in each order\n",
    "   - average order size\n",
    "     - average quantity of products across all orders\n",
    "\n",
    "Include users who have not placed orders yet since we'll want to monitor how their purchasing behavior changes over time.\n",
    "\n",
    "### Promo Facts (`fct_promo_orders`)\n",
    "\n",
    "#### Objective\n",
    "\n",
    "Develop a data model to facilitate querying data about the daily impact of promotions on orders.\n",
    "\n",
    "#### Constraints\n",
    "\n",
    "The result of this model should be shown daily since we want to track the impact of promotions over time.\n",
    "\n",
    "#### Business Questions\n",
    "\n",
    "1. Get the following daily order metrics for each promotion\n",
    "   - (total) order size\n",
    "   - (total) order (dollar) value\n",
    "   - (average) number of unique products included in a single order\n",
    "   - (average) order size (total quantity)\n",
    "   - (total) shipping cost\n",
    "\n",
    "Include orders in which users have redeemed a promocode since we can only quantify the impact of a promotion if it was included in an order.\n",
    "\n",
    "### Notes\n",
    "\n",
    "1. This notebook supports <kbd>Run</kbd> > <kbd>Run All Cells</kbd>."
   ]
  },
  {
   "cell_type": "markdown",
   "id": "c85304d6-58b3-485d-9e8a-c39dd4208ddf",
   "metadata": {},
   "source": [
    "## User Inputs"
   ]
  },
  {
   "cell_type": "code",
   "execution_count": null,
   "id": "e4719fdc-e382-4464-904c-edffacd6b7ec",
   "metadata": {
    "editable": true,
    "slideshow": {
     "slide_type": ""
    },
    "tags": [
     "parameters"
    ]
   },
   "outputs": [],
   "source": [
    "#"
   ]
  },
  {
   "cell_type": "code",
   "execution_count": null,
   "id": "8721b99a-254e-492d-8a2f-e34f9fdebd53",
   "metadata": {},
   "outputs": [],
   "source": [
    "engine = create_engine(\n",
    "    URL(\n",
    "        drivername=\"driver\",\n",
    "        account=os.getenv(\"UPLIMIT_SNOWFLAKE_ACCOUNT\"),\n",
    "        user=os.getenv(\"UPLIMIT_SNOWFLAKE_USER\"),\n",
    "        password=os.getenv(\"UPLIMIT_SNOWFLAKE_PASS\"),\n",
    "        warehouse=os.getenv(\"UPLIMIT_SNOWFLAKE_WAREHOUSE\"),\n",
    "        role=os.getenv(\"UPLIMIT_SNOWFLAKE_ROLE\"),\n",
    "        database=os.getenv(\"UPLIMIT_SNOWFLAKE_DB_NAME\"),\n",
    "        schema=os.getenv(\"UPLIMIT_SNOWFLAKE_SCHEMA\"),\n",
    "    )\n",
    ")"
   ]
  },
  {
   "cell_type": "markdown",
   "id": "9e09641c-13c9-4b46-abac-253ed9440acd",
   "metadata": {},
   "source": [
    "## Connect"
   ]
  },
  {
   "cell_type": "markdown",
   "id": "0305bee2-18bc-426c-9e11-6e49a8866ab2",
   "metadata": {},
   "source": [
    "Load Jupyter SQL extension"
   ]
  },
  {
   "cell_type": "code",
   "execution_count": null,
   "id": "27a993b5-ca99-4860-9f9e-52d7159bb75f",
   "metadata": {},
   "outputs": [],
   "source": [
    "%load_ext sql"
   ]
  },
  {
   "cell_type": "markdown",
   "id": "d02a94fa-97fa-4371-bdcb-bc62f1b76438",
   "metadata": {},
   "source": [
    "Connect to database"
   ]
  },
  {
   "cell_type": "code",
   "execution_count": null,
   "id": "fc7285dd-2580-4c4a-8527-0c483692fbe4",
   "metadata": {},
   "outputs": [],
   "source": [
    "%sql engine --alias connection"
   ]
  },
  {
   "cell_type": "markdown",
   "id": "b7149623-c463-4d75-b5c8-b7d07779950d",
   "metadata": {},
   "source": [
    "## Model"
   ]
  },
  {
   "cell_type": "markdown",
   "id": "1d1e523b-329e-461c-aa05-2cc06f453d49",
   "metadata": {},
   "source": [
    "### `marts/marketing/fct_user_orders`"
   ]
  },
  {
   "cell_type": "code",
   "execution_count": null,
   "id": "f1199f6f-deb3-47fb-bff8-5c33b30ddb41",
   "metadata": {},
   "outputs": [],
   "source": [
    "%%sql\n",
    "WITH orders_with_delivery_time AS (\n",
    "    SELECT user_id,\n",
    "           state_name,\n",
    "           created_at,\n",
    "           discount,\n",
    "           order_total,\n",
    "           num_unique_products,\n",
    "           total_order_size,\n",
    "           status,\n",
    "           order_id,\n",
    "           datediff(second, created_at, delivered_at) AS delivery_time_seconds\n",
    "    FROM int_orders_joined_to_addresses_promos\n",
    "),\n",
    "user_order_summary AS (\n",
    "    SELECT user_id,\n",
    "           state_name,\n",
    "           TO_DATE(MIN(created_at)) AS first_order_date,\n",
    "           TO_DATE(MAX(created_at)) AS last_order_date,\n",
    "           ZEROIFNULL(SUM(discount)) AS discount_value,\n",
    "           -- get total dollar value of all orders by user, rounded to three\n",
    "           -- decimal places\n",
    "           ZEROIFNULL(ROUND(SUM(order_total), 2)) AS order_value,\n",
    "           -- get average number of products in an order\n",
    "           ZEROIFNULL(\n",
    "               ROUND(AVG(num_unique_products))\n",
    "           ) AS avg_num_unique_products,\n",
    "           -- get average order size\n",
    "           ZEROIFNULL(ROUND(AVG(total_order_size))) as avg_order_size,\n",
    "           -- get total number of orders by user\n",
    "           ZEROIFNULL(COUNT(order_id)) AS num_orders,\n",
    "           -- get total number of delivered orders by user\n",
    "           SUM(\n",
    "               CASE WHEN status = 'delivered' THEN 1 ELSE 0 END\n",
    "           ) AS num_orders_delivered,\n",
    "           -- get total number of orders by user that are shipping\n",
    "           SUM(\n",
    "               CASE WHEN status = 'shipped' THEN 1 ELSE 0 END\n",
    "           ) AS num_orders_shipping,\n",
    "           -- get average delivery time for delivered orders by user\n",
    "           ROUND(AVG(delivery_time_seconds)) AS avg_delivery_time_seconds\n",
    "    FROM orders_with_delivery_time\n",
    "    GROUP BY ALL\n",
    "    ORDER BY order_value DESC\n",
    ")\n",
    "SELECT *\n",
    "FROM user_order_summary"
   ]
  },
  {
   "cell_type": "markdown",
   "id": "fa74c8f7-d7fb-45a9-9165-3aeb7daaf15c",
   "metadata": {},
   "source": [
    "### `marts/marketing/fct_promo_orders`"
   ]
  },
  {
   "cell_type": "markdown",
   "id": "96761a06-b129-46e6-817e-aaaf17de1487",
   "metadata": {},
   "source": [
    "Set the maximum number of rows to be displayed to `None` (shows all rows)"
   ]
  },
  {
   "cell_type": "code",
   "execution_count": null,
   "id": "3cf95883-737e-4e07-af38-b53c1b1b7c8f",
   "metadata": {},
   "outputs": [],
   "source": [
    "%config SqlMagic.displaylimit = None"
   ]
  },
  {
   "cell_type": "code",
   "execution_count": null,
   "id": "f14f7131-ca33-40f1-b3d2-b1f361829d12",
   "metadata": {},
   "outputs": [],
   "source": [
    "%%sql\n",
    "WITH order_summary AS (\n",
    "    SELECT order_id,\n",
    "           TO_DATE(created_at) AS created_at_date,\n",
    "           order_cost,\n",
    "           promo_id,\n",
    "           discount,\n",
    "           shipping_cost,\n",
    "           total_order_size,\n",
    "           num_unique_products\n",
    "    FROM int_orders_joined_to_addresses_promos\n",
    "),\n",
    "promo_order_summary AS (\n",
    "    SELECT promo_id,\n",
    "           created_at_date,\n",
    "           COUNT(*) AS num_orders,\n",
    "           SUM(discount) AS promo_discount,\n",
    "           ROUND(SUM(shipping_cost), 2) AS shipping_cost,\n",
    "           SUM(order_cost) AS order_cost,\n",
    "           ROUND(AVG(num_unique_products)) AS avg_num_unique_products,\n",
    "           ROUND(AVG(total_order_size)) AS avg_total_order_size\n",
    "    FROM order_summary\n",
    "    WHERE promo_id IS NOT NULL\n",
    "    GROUP BY promo_id, created_at_date\n",
    "    ORDER BY created_at_date ASC, promo_discount DESC\n",
    ")\n",
    "SELECT *\n",
    "FROM promo_order_summary"
   ]
  },
  {
   "cell_type": "markdown",
   "id": "9402eac9-b02c-416c-929c-3d7deabd997e",
   "metadata": {},
   "source": [
    "## Disconnect"
   ]
  },
  {
   "cell_type": "markdown",
   "id": "4b148621-8de0-4725-84bf-33bbd42a5e06",
   "metadata": {},
   "source": [
    "Close connection"
   ]
  },
  {
   "cell_type": "code",
   "execution_count": null,
   "id": "fffff17a-92e8-4a88-876b-c0328eb2ed5f",
   "metadata": {},
   "outputs": [],
   "source": [
    "%sql --close connection"
   ]
  },
  {
   "cell_type": "markdown",
   "id": "27c99512-6865-4f58-b1f5-4d8ca2ac429e",
   "metadata": {},
   "source": [
    "## Links"
   ]
  },
  {
   "cell_type": "markdown",
   "id": "40ff8e79-e2be-461d-bbe2-57988c90723d",
   "metadata": {},
   "source": [
    "1. [Basic tutorial on `ROUND`](https://medium.com/@myemail.srinivas/round-function-in-snowflake-9c131baa97b5)"
   ]
  }
 ],
 "metadata": {
  "kernelspec": {
   "display_name": "Python 3 (ipykernel)",
   "language": "python",
   "name": "python3"
  },
  "language_info": {
   "codemirror_mode": {
    "name": "ipython",
    "version": 3
   },
   "file_extension": ".py",
   "mimetype": "text/x-python",
   "name": "python",
   "nbconvert_exporter": "python",
   "pygments_lexer": "ipython3",
   "version": "3.10.12"
  }
 },
 "nbformat": 4,
 "nbformat_minor": 5
}
