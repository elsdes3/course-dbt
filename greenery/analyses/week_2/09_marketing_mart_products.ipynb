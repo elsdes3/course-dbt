{
 "cells": [
  {
   "cell_type": "markdown",
   "id": "18ba16ac-dbcd-48f3-932c-c96c666e4cd4",
   "metadata": {},
   "source": [
    "# Product Mart Queries"
   ]
  },
  {
   "cell_type": "code",
   "execution_count": null,
   "id": "767959c1-cead-462e-b622-28f9f23a0df6",
   "metadata": {},
   "outputs": [],
   "source": [
    "import os\n",
    "from pathlib import Path\n",
    "\n",
    "from dotenv import load_dotenv\n",
    "from sqlalchemy import create_engine\n",
    "from snowflake.sqlalchemy import URL"
   ]
  },
  {
   "cell_type": "code",
   "execution_count": null,
   "id": "34913351-a421-4210-8870-ffdc0ed49e4c",
   "metadata": {},
   "outputs": [],
   "source": [
    "PROJ_ROOT = Path().resolve().parents[3]\n",
    "env_file_dir = PROJ_ROOT / '.env'\n",
    "_ = load_dotenv(env_file_dir, verbose=True)"
   ]
  },
  {
   "cell_type": "markdown",
   "id": "ecadd5b7-a722-4e20-905b-16a6f6c1d946",
   "metadata": {},
   "source": [
    "## About"
   ]
  },
  {
   "cell_type": "markdown",
   "id": "8268e51f-129d-4b02-9de1-3b6f27d4c452",
   "metadata": {},
   "source": [
    "Develop **product mart** queries using DBT's `intermediate` models.\n",
    "\n",
    "All query results are per product.\n",
    "\n",
    "### Notes\n",
    "\n",
    "1. This notebook supports <kbd>Run</kbd> > <kbd>Run All Cells</kbd>."
   ]
  },
  {
   "cell_type": "markdown",
   "id": "b7a8fd60-a84e-4e09-88a6-def9724643aa",
   "metadata": {},
   "source": [
    "## User Inputs"
   ]
  },
  {
   "cell_type": "code",
   "execution_count": null,
   "id": "dd7eb2ef-04a5-428a-b6b8-8462a0d489c5",
   "metadata": {
    "editable": true,
    "slideshow": {
     "slide_type": ""
    },
    "tags": [
     "parameters"
    ]
   },
   "outputs": [],
   "source": [
    "#"
   ]
  },
  {
   "cell_type": "code",
   "execution_count": null,
   "id": "43a8d75d-a2b6-4c87-ac84-f5690bbaf284",
   "metadata": {},
   "outputs": [],
   "source": [
    "engine = create_engine(\n",
    "    URL(\n",
    "        drivername=\"driver\",\n",
    "        account=os.getenv(\"UPLIMIT_SNOWFLAKE_ACCOUNT\"),\n",
    "        user=os.getenv(\"UPLIMIT_SNOWFLAKE_USER\"),\n",
    "        password=os.getenv(\"UPLIMIT_SNOWFLAKE_PASS\"),\n",
    "        warehouse=os.getenv(\"UPLIMIT_SNOWFLAKE_WAREHOUSE\"),\n",
    "        role=os.getenv(\"UPLIMIT_SNOWFLAKE_ROLE\"),\n",
    "        database=os.getenv(\"UPLIMIT_SNOWFLAKE_DB_NAME\"),\n",
    "        schema=os.getenv(\"UPLIMIT_SNOWFLAKE_SCHEMA\"),\n",
    "    )\n",
    ")"
   ]
  },
  {
   "cell_type": "markdown",
   "id": "2e6f490c-0e8d-4583-a11e-1b57b4f49595",
   "metadata": {},
   "source": [
    "## Connect"
   ]
  },
  {
   "cell_type": "markdown",
   "id": "8f98b40c-5394-4b7f-8478-1001c78c75bd",
   "metadata": {},
   "source": [
    "Load Jupyter SQL extension"
   ]
  },
  {
   "cell_type": "code",
   "execution_count": null,
   "id": "b357adac-1e07-41cc-8e77-d5e812ea3fc6",
   "metadata": {},
   "outputs": [],
   "source": [
    "%load_ext sql"
   ]
  },
  {
   "cell_type": "markdown",
   "id": "07d99ccf-2a2f-4af9-b64d-229568f8dde9",
   "metadata": {},
   "source": [
    "Set the maximum number of rows to be displayed to `None` (show all rows)"
   ]
  },
  {
   "cell_type": "code",
   "execution_count": null,
   "id": "9c14b6a7-f59c-41c3-8022-cef96a77374f",
   "metadata": {},
   "outputs": [],
   "source": [
    "%config SqlMagic.displaylimit = None"
   ]
  },
  {
   "cell_type": "markdown",
   "id": "1f8476ce-599c-4d12-8f35-aecbaa6a1ff0",
   "metadata": {},
   "source": [
    "Connect to DuckDB database"
   ]
  },
  {
   "cell_type": "code",
   "execution_count": null,
   "id": "33d40639-189a-4dd5-8a77-51b0d9239958",
   "metadata": {},
   "outputs": [],
   "source": [
    "%sql engine --alias connection"
   ]
  },
  {
   "cell_type": "markdown",
   "id": "501b208c-5f39-4f50-b9c6-6086c72d6a34",
   "metadata": {},
   "source": [
    "## Queries"
   ]
  },
  {
   "cell_type": "markdown",
   "id": "d4e83b15-df52-4ac6-b3e5-35412869324d",
   "metadata": {},
   "source": [
    "### Daily Page Views and Orders per Product"
   ]
  },
  {
   "cell_type": "markdown",
   "id": "9cf99a80-da8e-4a06-bb22-ab583e685776",
   "metadata": {},
   "source": [
    "### `marts/products/daily/fct_products_daily`"
   ]
  },
  {
   "cell_type": "code",
   "execution_count": null,
   "id": "a038d7c5-cf20-4017-9126-d4b1191d6661",
   "metadata": {},
   "outputs": [],
   "source": [
    "%%sql\n",
    "/* get daily product page views and orders */\n",
    "WITH daily_product_summary_sorted AS (\n",
    "    SELECT pn.name AS product_name,\n",
    "           dpv.created_at_date,\n",
    "           dpv.num_page_views,\n",
    "           dpv.num_orders\n",
    "    FROM int_products_daily_totals dpv\n",
    "    -- join to get product name instead of product ID\n",
    "    INNER JOIN stg_postgres_products pn USING (product_id)\n",
    "    -- sort to show top-performing prducts first\n",
    "    ORDER BY created_at_date ASC, num_orders DESC\n",
    ")\n",
    "SELECT *\n",
    "FROM daily_product_summary_sorted"
   ]
  },
  {
   "cell_type": "markdown",
   "id": "3eba96a6-8aa9-45f1-a740-0a6abfde7161",
   "metadata": {},
   "source": [
    "### Total Traffic, Conversions (Purchases), Cart Abandonment Rate & Average Time on Page, Per Product"
   ]
  },
  {
   "cell_type": "markdown",
   "id": "a0c83684-6249-4cb1-91ec-36956f454884",
   "metadata": {},
   "source": [
    "### `marts/products/fct_products`"
   ]
  },
  {
   "cell_type": "code",
   "execution_count": null,
   "id": "b1a24ae8-5bea-4394-b7aa-f7d1ac134f5a",
   "metadata": {},
   "outputs": [],
   "source": [
    "%%sql\n",
    "/* get average time spent viewing product page */\n",
    "WITH product_page_timings AS (\n",
    "    SELECT *\n",
    "    FROM int_products_page_viewing_time_averaged\n",
    "),\n",
    "/* get number of times product was added to cart */\n",
    "product_carts AS (\n",
    "    SELECT product_id,\n",
    "           num_carts\n",
    "    FROM int_products_purchase_abandoned_cart_sessions_summed\n",
    "),\n",
    "/* get total product page views (traffic) and purchases */\n",
    "product_traffic_purchases AS (\n",
    "    SELECT product_id,\n",
    "           num_purchases,\n",
    "           num_page_views,\n",
    "           -- calculate total number of sessions (with or without a purchase)\n",
    "           -- in which a product page was viewed\n",
    "           (\n",
    "               num_non_purchase_page_view_sessions\n",
    "               +num_purchase_page_view_sessions\n",
    "           ) AS num_page_view_sessions\n",
    "    FROM int_events_sessions_aggregated_to_product\n",
    "),\n",
    "/* combine product metrics and add ranks by page views and purchases */\n",
    "product_summary AS (\n",
    "    SELECT pn.name AS product_name,\n",
    "           pt.num_page_view_sessions,\n",
    "           pt.num_page_views,\n",
    "           pt.num_purchases,\n",
    "           -- rank products by traffic (page views)\n",
    "           RANK() OVER(ORDER BY num_page_views DESC) AS rank_traffic,\n",
    "           -- rank products by purchases\n",
    "           RANK() OVER(ORDER BY num_purchases DESC) AS rank_purchases,\n",
    "           -- count total number of products with metrics\n",
    "           COUNT(*) OVER() AS num_products,\n",
    "           -- calculate cart abandonment rate\n",
    "           -- car.cart_abandonment_rate,\n",
    "           1-(pt.num_purchases/pc.num_carts) AS cart_abandonment_rate,\n",
    "           -- get average time on product page\n",
    "           pv.avg_time_on_page_seconds\n",
    "    FROM product_carts pc\n",
    "    INNER JOIN product_page_timings pv USING (product_id)\n",
    "    -- INNER JOIN product_cart_abandonment_rates car USING (product_id)\n",
    "    INNER JOIN product_traffic_purchases pt USING (product_id)\n",
    "    -- join to get product name instead of product ID\n",
    "    INNER JOIN stg_postgres_products pn USING (product_id)\n",
    "),\n",
    "/* add product indicators for high traffic (page views) and low conversions\n",
    "(purchases) */\n",
    "product_performance_indicators AS (\n",
    "    SELECT * EXCLUDE(num_products),\n",
    "           -- add high-traffic indicator per product\n",
    "           (\n",
    "               CASE WHEN rank_traffic <= 10 THEN True ELSE False END\n",
    "           ) AS is_high_traffic,\n",
    "           -- add low-conversion indicator per product\n",
    "           (\n",
    "               CASE\n",
    "                   WHEN rank_purchases >= num_products-10\n",
    "                   THEN True\n",
    "                   ELSE False\n",
    "               END\n",
    "           ) AS is_low_conversions\n",
    "    FROM product_summary\n",
    ")\n",
    "SELECT *\n",
    "FROM product_performance_indicators"
   ]
  },
  {
   "cell_type": "markdown",
   "id": "c9d6fe8b-2600-4973-ac60-f49b7ef4e8c2",
   "metadata": {},
   "source": [
    "## Disconnect"
   ]
  },
  {
   "cell_type": "markdown",
   "id": "a94b5a83-090a-4150-b8d5-243394208fca",
   "metadata": {},
   "source": [
    "Close connection"
   ]
  },
  {
   "cell_type": "code",
   "execution_count": null,
   "id": "36347cc4-0357-45aa-a24c-fb5d2740a16b",
   "metadata": {},
   "outputs": [],
   "source": [
    "%sql --close connection"
   ]
  }
 ],
 "metadata": {
  "kernelspec": {
   "display_name": "Python 3 (ipykernel)",
   "language": "python",
   "name": "python3"
  },
  "language_info": {
   "codemirror_mode": {
    "name": "ipython",
    "version": 3
   },
   "file_extension": ".py",
   "mimetype": "text/x-python",
   "name": "python",
   "nbconvert_exporter": "python",
   "pygments_lexer": "ipython3",
   "version": "3.10.12"
  }
 },
 "nbformat": 4,
 "nbformat_minor": 5
}
