{
 "cells": [
  {
   "cell_type": "markdown",
   "id": "affe6e02-9b61-4e6b-a32c-793923404427",
   "metadata": {},
   "source": [
    "# Core (Facts) Models"
   ]
  },
  {
   "cell_type": "code",
   "execution_count": null,
   "id": "f0b38e60-5ce8-4815-94a1-cfe31aefa4db",
   "metadata": {},
   "outputs": [],
   "source": [
    "import os\n",
    "from pathlib import Path\n",
    "\n",
    "from dotenv import load_dotenv\n",
    "from sqlalchemy import create_engine\n",
    "from snowflake.sqlalchemy import URL"
   ]
  },
  {
   "cell_type": "code",
   "execution_count": null,
   "id": "352a7ae2-a980-414d-9f89-2df1a80215a0",
   "metadata": {},
   "outputs": [],
   "source": [
    "PROJ_ROOT = Path().resolve().parents[3]\n",
    "env_file_dir = PROJ_ROOT / '.env'\n",
    "_ = load_dotenv(env_file_dir, verbose=True)"
   ]
  },
  {
   "cell_type": "markdown",
   "id": "d3e468e3-1b8f-4098-9605-48c86e3682cf",
   "metadata": {},
   "source": [
    "## About"
   ]
  },
  {
   "cell_type": "markdown",
   "id": "cd7dd11b-29be-4946-8e46-d0bc368e61e8",
   "metadata": {},
   "source": [
    "Develop queries for **mart (core)** models using DBT's `intermediate` models.\n",
    "\n",
    "The version of these queries that does not use `intermediate` models is found in `from-staging/11_00_core_mart_queries.ipynb`.\n",
    "\n",
    "### Order Facts (`fct_orders`)\n",
    "\n",
    "#### Objective\n",
    "\n",
    "Develop a data model to facilitate querying aggregated order performance.\n",
    "\n",
    "#### Constraints\n",
    "\n",
    "By definition, since this is a core model, the result should be sufficiently granular to be used by multiple business units.\n",
    "\n",
    "#### Business Questions\n",
    "\n",
    "1. Get our 20 biggest orders by dollar value and order size, per state.\n",
    "2. Consider the promo discount percentage to be: 100 X discount/order cost. Get the orders which had the 50 biggest discounts (by percentage) applied to them. Which states did these top 50 orders come from?\n",
    "3. Prepare a daily summary showing order metrics\n",
    "   - total order value\n",
    "   - total number of orders\n",
    "   - average order quantity\n",
    "4. What is our peak time of the day (morning, afternoon, evening, etc.) for receiving orders?\n",
    "5. How close are our estimated and actual delivery times on average, per state? Which 10 states have the most delayed deliveries?\n",
    "6. How many orders are currently being prepared for delivery?\n",
    "\n",
    "### Notes\n",
    "\n",
    "1. This notebook supports <kbd>Run</kbd> > <kbd>Run All Cells</kbd>."
   ]
  },
  {
   "cell_type": "markdown",
   "id": "5be77a60-d151-4298-88ed-283aa2fbc7df",
   "metadata": {},
   "source": [
    "## User Inputs"
   ]
  },
  {
   "cell_type": "code",
   "execution_count": null,
   "id": "4564dac0-b67c-4639-ba73-9855d09d5742",
   "metadata": {
    "editable": true,
    "slideshow": {
     "slide_type": ""
    },
    "tags": [
     "parameters"
    ]
   },
   "outputs": [],
   "source": [
    "#"
   ]
  },
  {
   "cell_type": "code",
   "execution_count": null,
   "id": "4d2e75e7-6336-4404-86a2-ba61b83f145d",
   "metadata": {},
   "outputs": [],
   "source": [
    "engine = create_engine(\n",
    "    URL(\n",
    "        drivername=\"driver\",\n",
    "        account=os.getenv(\"UPLIMIT_SNOWFLAKE_ACCOUNT\"),\n",
    "        user=os.getenv(\"UPLIMIT_SNOWFLAKE_USER\"),\n",
    "        password=os.getenv(\"UPLIMIT_SNOWFLAKE_PASS\"),\n",
    "        warehouse=os.getenv(\"UPLIMIT_SNOWFLAKE_WAREHOUSE\"),\n",
    "        role=os.getenv(\"UPLIMIT_SNOWFLAKE_ROLE\"),\n",
    "        database=os.getenv(\"UPLIMIT_SNOWFLAKE_DB_NAME\"),\n",
    "        schema=os.getenv(\"UPLIMIT_SNOWFLAKE_SCHEMA\"),\n",
    "    )\n",
    ")"
   ]
  },
  {
   "cell_type": "markdown",
   "id": "4572a668-62cf-420c-8463-14751adad4a8",
   "metadata": {},
   "source": [
    "## Connect"
   ]
  },
  {
   "cell_type": "markdown",
   "id": "c17c1222-8c5b-4080-a2a9-e8ed3d10f0ee",
   "metadata": {},
   "source": [
    "Load Jupyter SQL extension"
   ]
  },
  {
   "cell_type": "code",
   "execution_count": null,
   "id": "b1190ab9-7342-4148-95db-54dc0cef70d4",
   "metadata": {},
   "outputs": [],
   "source": [
    "%load_ext sql"
   ]
  },
  {
   "cell_type": "markdown",
   "id": "6c4e4e9f-9476-441f-b4ec-b4aed17d59d8",
   "metadata": {},
   "source": [
    "Connect to DuckDB database"
   ]
  },
  {
   "cell_type": "code",
   "execution_count": null,
   "id": "c6d35890-9765-4041-ab19-33d76614392b",
   "metadata": {},
   "outputs": [],
   "source": [
    "%sql engine --alias connection"
   ]
  },
  {
   "cell_type": "markdown",
   "id": "88fdeed9-1922-4bcf-b150-d3bdfe466c8e",
   "metadata": {},
   "source": [
    "## Models"
   ]
  },
  {
   "cell_type": "markdown",
   "id": "5cb35cf0-cc14-4647-9c61-e61ea1403235",
   "metadata": {},
   "source": [
    "### `marts/core/fct_orders`"
   ]
  },
  {
   "cell_type": "code",
   "execution_count": null,
   "id": "14ade52c-322e-42e1-9780-c18c93094b9b",
   "metadata": {},
   "outputs": [],
   "source": [
    "%%sql\n",
    "WITH order_summary AS (\n",
    "    SELECT order_id,\n",
    "           created_at,\n",
    "           state_name,\n",
    "           order_cost,\n",
    "           promo_id,\n",
    "           discount,\n",
    "           order_total,\n",
    "           total_order_size,\n",
    "           num_unique_products,\n",
    "           estimated_delivery_at,\n",
    "           delivered_at,\n",
    "           status\n",
    "    FROM int_orders_joined_to_addresses_promos\n",
    "),\n",
    "orders_with_delivery_details AS (\n",
    "    SELECT *,\n",
    "           datediff(\n",
    "               second, created_at, estimated_delivery_at\n",
    "           ) AS estimated_delivery_time_seconds,\n",
    "           datediff(second, created_at, delivered_at) AS delivery_time_seconds,\n",
    "           (\n",
    "               CASE\n",
    "                   WHEN delivered_at > estimated_delivery_at\n",
    "                   THEN ABS(\n",
    "                       DATEDIFF(second, delivered_at, estimated_delivery_at)\n",
    "                   )\n",
    "                   ELSE NULL\n",
    "               END\n",
    "           ) AS delivery_delay_seconds\n",
    "    FROM order_summary\n",
    ")\n",
    "SELECT *\n",
    "FROM orders_with_delivery_details"
   ]
  },
  {
   "cell_type": "markdown",
   "id": "2f085d4a-a7ef-4612-a9bb-c426c04a77c3",
   "metadata": {},
   "source": [
    "## Disconnect"
   ]
  },
  {
   "cell_type": "markdown",
   "id": "5911b36c-3cde-4f31-b33f-b8cd7a4ffa85",
   "metadata": {},
   "source": [
    "Close connection"
   ]
  },
  {
   "cell_type": "code",
   "execution_count": null,
   "id": "fb8acb36-8090-4468-bf24-b6ce31f5f3f6",
   "metadata": {},
   "outputs": [],
   "source": [
    "%sql --close connection"
   ]
  }
 ],
 "metadata": {
  "kernelspec": {
   "display_name": "Python 3 (ipykernel)",
   "language": "python",
   "name": "python3"
  },
  "language_info": {
   "codemirror_mode": {
    "name": "ipython",
    "version": 3
   },
   "file_extension": ".py",
   "mimetype": "text/x-python",
   "name": "python",
   "nbconvert_exporter": "python",
   "pygments_lexer": "ipython3",
   "version": "3.10.12"
  }
 },
 "nbformat": 4,
 "nbformat_minor": 5
}
