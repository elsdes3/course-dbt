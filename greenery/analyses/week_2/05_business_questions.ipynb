{
 "cells": [
  {
   "cell_type": "markdown",
   "id": "fe5d2313-9f71-49e0-afd9-edd12d786bbc",
   "metadata": {
    "editable": true,
    "slideshow": {
     "slide_type": ""
    },
    "tags": []
   },
   "source": [
    "# Business Questions (Part 1)"
   ]
  },
  {
   "cell_type": "code",
   "execution_count": null,
   "id": "f1405be7-4388-46d2-86c7-883807005a2b",
   "metadata": {},
   "outputs": [],
   "source": [
    "import os\n",
    "from pathlib import Path\n",
    "\n",
    "from dotenv import load_dotenv\n",
    "from sqlalchemy import create_engine\n",
    "from snowflake.sqlalchemy import URL"
   ]
  },
  {
   "cell_type": "code",
   "execution_count": null,
   "id": "a54c49e4-b90c-4fac-aa35-416840e5ed63",
   "metadata": {},
   "outputs": [],
   "source": [
    "PROJ_ROOT = Path().resolve().parents[3]\n",
    "env_file_dir = PROJ_ROOT / '.env'\n",
    "_ = load_dotenv(env_file_dir, verbose=True)"
   ]
  },
  {
   "cell_type": "markdown",
   "id": "28abbce6-0fbc-4c08-89c9-461407d06ae8",
   "metadata": {},
   "source": [
    "## About"
   ]
  },
  {
   "cell_type": "markdown",
   "id": "6ebf7181-0a10-48d2-bde7-d9056d850afa",
   "metadata": {},
   "source": [
    "Answer the Part 1. business questions using the greenery e-commerce data using DBT models created in my personal Snowflake schema for week 2 project.\n",
    "\n",
    "### Notes\n",
    "\n",
    "1. This notebook supports <kbd>Run</kbd> > <kbd>Run All Cells</kbd>."
   ]
  },
  {
   "cell_type": "markdown",
   "id": "d91ece3c-1225-4354-9510-fe4391d5ee4c",
   "metadata": {},
   "source": [
    "## User Inputs"
   ]
  },
  {
   "cell_type": "code",
   "execution_count": null,
   "id": "3abc4aed-82b6-465a-a885-3d373baf8616",
   "metadata": {
    "editable": true,
    "slideshow": {
     "slide_type": ""
    },
    "tags": [
     "parameters"
    ]
   },
   "outputs": [],
   "source": [
    "schema_name = os.getenv(\"UPLIMIT_SNOWFLAKE_SCHEMA\")"
   ]
  },
  {
   "cell_type": "code",
   "execution_count": null,
   "id": "73a958af-444e-4ccc-955d-b40d8981c5b7",
   "metadata": {},
   "outputs": [],
   "source": [
    "engine = create_engine(\n",
    "    URL(\n",
    "        drivername=\"driver\",\n",
    "        account=os.getenv(\"UPLIMIT_SNOWFLAKE_ACCOUNT\"),\n",
    "        user=os.getenv(\"UPLIMIT_SNOWFLAKE_USER\"),\n",
    "        password=os.getenv(\"UPLIMIT_SNOWFLAKE_PASS\"),\n",
    "        warehouse=os.getenv(\"UPLIMIT_SNOWFLAKE_WAREHOUSE\"),\n",
    "        role=os.getenv(\"UPLIMIT_SNOWFLAKE_ROLE\"),\n",
    "        database=os.getenv(\"UPLIMIT_SNOWFLAKE_DB_NAME\"),\n",
    "        schema=schema_name,\n",
    "    )\n",
    ")"
   ]
  },
  {
   "cell_type": "markdown",
   "id": "09daf953-8715-4f48-823d-bb54da137017",
   "metadata": {},
   "source": [
    "## Connect"
   ]
  },
  {
   "cell_type": "markdown",
   "id": "53d42b99-a09e-469c-b020-8d75317097db",
   "metadata": {},
   "source": [
    "Load Jupyter SQL extension"
   ]
  },
  {
   "cell_type": "code",
   "execution_count": null,
   "id": "991b7a26-81ba-4fbf-8b2e-00703e757351",
   "metadata": {},
   "outputs": [],
   "source": [
    "%load_ext sql"
   ]
  },
  {
   "cell_type": "markdown",
   "id": "80be8812-6390-497c-a29e-404911d0c370",
   "metadata": {},
   "source": [
    "Set the maximum number of rows to be displayed to `None` (shows all rows)"
   ]
  },
  {
   "cell_type": "code",
   "execution_count": null,
   "id": "ec569578-4149-434d-8d65-88a3568266c3",
   "metadata": {},
   "outputs": [],
   "source": [
    "%config SqlMagic.displaylimit = None"
   ]
  },
  {
   "cell_type": "markdown",
   "id": "c577553f-bb87-4234-b979-6321e16838f3",
   "metadata": {},
   "source": [
    "Connect to DuckDB database"
   ]
  },
  {
   "cell_type": "code",
   "execution_count": null,
   "id": "6b341e5c-5cfd-422a-b0fc-a7a906b6d182",
   "metadata": {},
   "outputs": [],
   "source": [
    "%sql engine --alias connection"
   ]
  },
  {
   "cell_type": "markdown",
   "id": "7ccb654b-9fdf-4039-ab44-b420ab21c8c8",
   "metadata": {},
   "source": [
    "## Queries"
   ]
  },
  {
   "cell_type": "markdown",
   "id": "faa9041b-3209-4841-8098-ff092d3f55e4",
   "metadata": {},
   "source": [
    "### Question 1"
   ]
  },
  {
   "cell_type": "markdown",
   "id": "f7e54687-7431-4eda-80f3-09644617385e",
   "metadata": {},
   "source": [
    "**What is our user repeat rate? Repeat Rate = Users who purchased 2 or more times / users who purchased**"
   ]
  },
  {
   "cell_type": "code",
   "execution_count": null,
   "id": "b3febcf6-6544-470f-bcaf-8505eb5f87bf",
   "metadata": {},
   "outputs": [],
   "source": [
    "%%sql\n",
    "WITH repeat_purchasers AS (\n",
    "    SELECT user_id,\n",
    "           COUNT(*) AS num_orders,\n",
    "           True AS is_repeat_purchaser\n",
    "    FROM stg_postgres_orders\n",
    "    GROUP BY user_id\n",
    "    HAVING num_orders >= 2\n",
    "),\n",
    "non_repeat_purchasers AS (\n",
    "    SELECT user_id,\n",
    "           COUNT(*) AS num_orders,\n",
    "           False AS is_repeat_purchaser\n",
    "    FROM stg_postgres_orders\n",
    "    GROUP BY user_id\n",
    "    HAVING num_orders = 1\n",
    "),\n",
    "repeat_purchaser_total AS (\n",
    "    SELECT COUNT(*) AS num_repeat_purchasers\n",
    "    FROM repeat_purchasers\n",
    "),\n",
    "non_repeat_purchaser_total AS (\n",
    "    SELECT COUNT(*) AS num_non_repeat_purchasers\n",
    "    FROM non_repeat_purchasers\n",
    "),\n",
    "repeat_purchaser_rate AS (\n",
    "    SELECT *,\n",
    "           (num_non_repeat_purchasers+num_repeat_purchasers) AS purchasers,\n",
    "           100*num_repeat_purchasers/purchasers AS repeat_purchaser_rate\n",
    "    FROM repeat_purchaser_total rp\n",
    "    LEFT JOIN non_repeat_purchaser_total nrp\n",
    ")\n",
    "SELECT *\n",
    "FROM repeat_purchaser_rate"
   ]
  },
  {
   "cell_type": "markdown",
   "id": "0767ae0c-1715-47e2-acf8-5827e898b0d1",
   "metadata": {},
   "source": [
    "### Question 2"
   ]
  },
  {
   "cell_type": "markdown",
   "id": "25d7ad63-6165-4063-84e2-b45eeb707979",
   "metadata": {},
   "source": [
    "**What are good indicators of a user who will likely purchase again? What about indicators of users who are likely NOT to purchase again? If you had more data, what features would you want to look into to answer this question? NOTE: This is a hypothetical question vs. something we can analyze in our Greenery data set. Think about what exploratory analysis you would do to approach this question.**"
   ]
  },
  {
   "cell_type": "markdown",
   "id": "748fc362-9317-46a4-b306-3f265a78bd50",
   "metadata": {},
   "source": [
    "#### Indicators of Users Who are Likely to Purchase Again\n",
    "\n",
    "1. User has purchased frequently in trailing 3, 6, 12 months\n",
    "2. Wheter user leaves/writes positive product reviews or leaves positive ratings (if applicable)\n",
    "   - if product ratings can be left on the Greenery store site then users who have prevoiusly purchased and who write and/or react positively to (eg. like, thumbs up, etc.) those ratings are more likely to purchase again\n",
    "3. Whether users are subscribers\n",
    "   - similar to [Amazon's *Subscribe & Save Subscription*](https://www.amazon.ca/gp/help/customer/display.html?nodeId=GJ2LTMLFGGMH67M7)\n",
    "4. Whether users frequently participate in promotions\n",
    "\n",
    "#### Indicators of Users Who are Not Likely to Purchase Again\n",
    "\n",
    "1. User metrics for behaviour on site are poor\n",
    "   - bounce rate is high\n",
    "   - time on site is low\n",
    "   - views few product pages\n",
    "   - high cart abandonment rate\n",
    "2. Wheter user leaves/writes negative user reviews or leaves negative ratings (if applicable)\n",
    "   - if product ratings can be left on the Greenery store site then users who have prevoiusly purchased but who write and/or react negatively to (eg. thumbs down, etc.) those ratings are less likely to purchase again\n",
    "3. Poor experience with Greenery platform\n",
    "   - frequent and long delays in receiving their orders\n",
    "   - high product return rate\n",
    "4. Whether users infrequently participate in promotions\n",
    "\n",
    "#### Features to Look into with More Data\n",
    "\n",
    "1. Past purchasing frequency (number of orders) of user\n",
    "2. Whether user is subscriber\n",
    "3. Past partitipation in promotions"
   ]
  },
  {
   "cell_type": "markdown",
   "id": "7f85ad07-e840-4f82-8765-3d86ce0b5d9c",
   "metadata": {},
   "source": [
    "## Disconnect"
   ]
  },
  {
   "cell_type": "markdown",
   "id": "319b6524-074b-496f-8e76-ae1763440ea8",
   "metadata": {},
   "source": [
    "Close connection"
   ]
  },
  {
   "cell_type": "code",
   "execution_count": null,
   "id": "81f925ae-5213-45b2-a168-bd3bbe71ad87",
   "metadata": {},
   "outputs": [],
   "source": [
    "%sql --close connection"
   ]
  }
 ],
 "metadata": {
  "kernelspec": {
   "display_name": "Python 3 (ipykernel)",
   "language": "python",
   "name": "python3"
  },
  "language_info": {
   "codemirror_mode": {
    "name": "ipython",
    "version": 3
   },
   "file_extension": ".py",
   "mimetype": "text/x-python",
   "name": "python",
   "nbconvert_exporter": "python",
   "pygments_lexer": "ipython3",
   "version": "3.10.12"
  }
 },
 "nbformat": 4,
 "nbformat_minor": 5
}
