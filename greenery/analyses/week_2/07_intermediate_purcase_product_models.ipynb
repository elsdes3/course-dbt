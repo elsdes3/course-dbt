{
 "cells": [
  {
   "cell_type": "markdown",
   "id": "f7d4f0c9-516f-4562-bf69-355421ec5081",
   "metadata": {},
   "source": [
    "# Intermediate Purchase Product Event Models"
   ]
  },
  {
   "cell_type": "code",
   "execution_count": null,
   "id": "57678342-030d-413d-ae8e-67a0e877d936",
   "metadata": {},
   "outputs": [],
   "source": [
    "import os\n",
    "from pathlib import Path\n",
    "\n",
    "from dotenv import load_dotenv\n",
    "from sqlalchemy import create_engine\n",
    "from snowflake.sqlalchemy import URL"
   ]
  },
  {
   "cell_type": "code",
   "execution_count": null,
   "id": "8ae02571-5062-4707-a7ea-c5333749e3f1",
   "metadata": {},
   "outputs": [],
   "source": [
    "PROJ_ROOT = Path().resolve().parents[3]\n",
    "env_file_dir = PROJ_ROOT / '.env'\n",
    "_ = load_dotenv(env_file_dir, verbose=True)"
   ]
  },
  {
   "cell_type": "markdown",
   "id": "bee578ca-b775-4c28-bc73-7c2ba0b9678e",
   "metadata": {},
   "source": [
    "## About"
   ]
  },
  {
   "cell_type": "markdown",
   "id": "0fa6ec5f-190e-40df-b7bc-53c0a2b0b815",
   "metadata": {},
   "source": [
    "Develop an **intermediate** model that gets events from sessions that\n",
    "\n",
    "1. end in a purchase\n",
    "2. do not end in a purchase\n",
    "\n",
    "Both models only contain the events in which the product ID is present, so they exclude the events related to the checkout process (`event_type=\"checkout\"` or `event_type=\"package_shipped\"`).\n",
    "\n",
    "### Use-Case\n",
    "\n",
    "Other intermediate models that need to separate purchases from non-purchases will use these intermediate models.\n",
    "\n",
    "### Notes\n",
    "\n",
    "1. This notebook supports <kbd>Run</kbd> > <kbd>Run All Cells</kbd>."
   ]
  },
  {
   "cell_type": "markdown",
   "id": "567d1ccd-445c-44b8-b0a2-f4298c4056c4",
   "metadata": {},
   "source": [
    "## User Inputs"
   ]
  },
  {
   "cell_type": "code",
   "execution_count": null,
   "id": "f8b93b82-0e96-489d-b1c3-90592948e668",
   "metadata": {
    "editable": true,
    "slideshow": {
     "slide_type": ""
    },
    "tags": [
     "parameters"
    ]
   },
   "outputs": [],
   "source": [
    "#"
   ]
  },
  {
   "cell_type": "code",
   "execution_count": null,
   "id": "973551fa-2b25-4e45-b8aa-6419058b5542",
   "metadata": {},
   "outputs": [],
   "source": [
    "engine = create_engine(\n",
    "    URL(\n",
    "        drivername=\"driver\",\n",
    "        account=os.getenv(\"UPLIMIT_SNOWFLAKE_ACCOUNT\"),\n",
    "        user=os.getenv(\"UPLIMIT_SNOWFLAKE_USER\"),\n",
    "        password=os.getenv(\"UPLIMIT_SNOWFLAKE_PASS\"),\n",
    "        warehouse=os.getenv(\"UPLIMIT_SNOWFLAKE_WAREHOUSE\"),\n",
    "        role=os.getenv(\"UPLIMIT_SNOWFLAKE_ROLE\"),\n",
    "        database=os.getenv(\"UPLIMIT_SNOWFLAKE_DB_NAME\"),\n",
    "        schema=os.getenv(\"UPLIMIT_SNOWFLAKE_SCHEMA\"),\n",
    "    )\n",
    ")"
   ]
  },
  {
   "cell_type": "markdown",
   "id": "58f937de-3518-4b6a-98b9-aab83b4c5e69",
   "metadata": {},
   "source": [
    "## Connect"
   ]
  },
  {
   "cell_type": "markdown",
   "id": "96e129f0-cd12-4928-87f7-0f82c0d9fbd3",
   "metadata": {},
   "source": [
    "Load Jupyter SQL extension"
   ]
  },
  {
   "cell_type": "code",
   "execution_count": null,
   "id": "13ea5ff1-6b35-4ff0-9de1-fd70de9516ec",
   "metadata": {},
   "outputs": [],
   "source": [
    "%load_ext sql"
   ]
  },
  {
   "cell_type": "markdown",
   "id": "8c940840-1ad2-4ab2-a565-ba092361e1ce",
   "metadata": {},
   "source": [
    "Connect to DuckDB database"
   ]
  },
  {
   "cell_type": "code",
   "execution_count": null,
   "id": "bae6bd41-5660-4f82-8482-4391aaea4195",
   "metadata": {},
   "outputs": [],
   "source": [
    "%sql engine --alias connection"
   ]
  },
  {
   "cell_type": "markdown",
   "id": "74ceb7fa-1ca0-4c2e-8152-02440b648f5e",
   "metadata": {},
   "source": [
    "## Models"
   ]
  },
  {
   "cell_type": "markdown",
   "id": "6a08c7e3-ca8d-4c4b-bf06-b2abffbeeac8",
   "metadata": {},
   "source": [
    "### `int_product_non_purchases_filtered`"
   ]
  },
  {
   "cell_type": "code",
   "execution_count": null,
   "id": "c41fd567-b7ea-4cf6-ab12-06fd0d6988ae",
   "metadata": {},
   "outputs": [],
   "source": [
    "%%sql\n",
    "/* get events for sessions that did not end in a purchase */\n",
    "WITH products_non_purchase_sessions AS (\n",
    "    SELECT event_id,\n",
    "           user_id,\n",
    "           session_id,\n",
    "           created_at,\n",
    "           event_type,\n",
    "           product_id,\n",
    "           0 AS is_purchased\n",
    "    FROM stg_postgres_events\n",
    "    -- get sessions in which the last event does not indicate a purchase\n",
    "    QUALIFY (\n",
    "        LAST_VALUE(event_type)\n",
    "        OVER(PARTITION BY session_id ORDER BY session_id, created_at)\n",
    "    ) IN ('page_view', 'add_to_cart')\n",
    ")\n",
    "SELECT *\n",
    "FROM products_non_purchase_sessions"
   ]
  },
  {
   "cell_type": "markdown",
   "id": "e6ff7b59-9fb4-4953-99aa-2f2b31153ce9",
   "metadata": {},
   "source": [
    "### `int_product_purchases_filtered`"
   ]
  },
  {
   "cell_type": "code",
   "execution_count": null,
   "id": "6685bda6-8c97-4782-a609-207500f66dbe",
   "metadata": {},
   "outputs": [],
   "source": [
    "%%sql\n",
    "/* get the session ID for sessions ending in a purchase */\n",
    "WITH sessions_with_purchase AS (\n",
    "    SELECT DISTINCT(session_id) AS session_id\n",
    "    FROM stg_postgres_events\n",
    "    WHERE event_type IN ('checkout', 'package_shipped')\n",
    "),\n",
    "-- sessions_with_purchase AS (\n",
    "--     SELECT DISTINCT(session_id) AS session_id\n",
    "--     FROM stg_postgres_events\n",
    "--     -- get sessions in which the last event indicates a purchase\n",
    "--     QUALIFY (\n",
    "--         LAST_VALUE(event_type)\n",
    "--         OVER(PARTITION BY session_id ORDER BY session_id, created_at)\n",
    "--     ) IN ('checkout', 'package_shipped')\n",
    "-- ),\n",
    "/* get events for sessions that did end in (convert to) a purchase */\n",
    "products_purchase_sessions AS (\n",
    "    SELECT s.event_id,\n",
    "           s.user_id,\n",
    "           s.session_id,\n",
    "           s.created_at,\n",
    "           s.event_type,\n",
    "           s.product_id,\n",
    "           1 AS is_purchased\n",
    "    FROM stg_postgres_events s\n",
    "    -- user INNER JOIN to only get sessions ending in a purchase\n",
    "    INNER JOIN sessions_with_purchase sp USING (session_id)\n",
    ")\n",
    "SELECT *\n",
    "FROM products_purchase_sessions"
   ]
  },
  {
   "cell_type": "markdown",
   "id": "3b76baca-fefb-46f6-abbf-bc4bd0f48f7c",
   "metadata": {},
   "source": [
    "## Disconnect"
   ]
  },
  {
   "cell_type": "markdown",
   "id": "94f4d1fd-0489-45c9-8cff-ed3341249afd",
   "metadata": {},
   "source": [
    "Close connection"
   ]
  },
  {
   "cell_type": "code",
   "execution_count": null,
   "id": "2aa3e274-c88f-4b4d-a100-ec680baeb8f1",
   "metadata": {},
   "outputs": [],
   "source": [
    "%sql --close connection"
   ]
  }
 ],
 "metadata": {
  "kernelspec": {
   "display_name": "Python 3 (ipykernel)",
   "language": "python",
   "name": "python3"
  },
  "language_info": {
   "codemirror_mode": {
    "name": "ipython",
    "version": 3
   },
   "file_extension": ".py",
   "mimetype": "text/x-python",
   "name": "python",
   "nbconvert_exporter": "python",
   "pygments_lexer": "ipython3",
   "version": "3.10.12"
  }
 },
 "nbformat": 4,
 "nbformat_minor": 5
}
