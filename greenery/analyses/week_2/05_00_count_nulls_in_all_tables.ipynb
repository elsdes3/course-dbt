{
 "cells": [
  {
   "cell_type": "markdown",
   "id": "0113bc84-9eb4-439e-b739-3d6a0048e9ae",
   "metadata": {},
   "source": [
    "# Get Count of Missing Values Per Table"
   ]
  },
  {
   "cell_type": "code",
   "execution_count": null,
   "id": "c9f5754c-3dd3-4cb2-a02e-b93f9994cc36",
   "metadata": {},
   "outputs": [],
   "source": [
    "import os\n",
    "from pathlib import Path\n",
    "\n",
    "from dotenv import load_dotenv\n",
    "from sqlalchemy import create_engine\n",
    "from snowflake.sqlalchemy import URL"
   ]
  },
  {
   "cell_type": "code",
   "execution_count": null,
   "id": "d2219906-b67f-4f59-bcb1-0655b880e3ed",
   "metadata": {},
   "outputs": [],
   "source": [
    "PROJ_ROOT = Path().resolve().parents[3]\n",
    "env_file_dir = PROJ_ROOT / '.env'\n",
    "_ = load_dotenv(env_file_dir, verbose=True)"
   ]
  },
  {
   "cell_type": "markdown",
   "id": "2915adff-dbd7-4263-8d92-00abff5ab066",
   "metadata": {},
   "source": [
    "## About"
   ]
  },
  {
   "cell_type": "markdown",
   "id": "57a5096d-408d-470e-82c4-a9abe9cd584e",
   "metadata": {},
   "source": [
    "Show the number of missing values in each column of all tables.\n",
    "\n",
    "### Notes\n",
    "\n",
    "1. This notebook supports <kbd>Run</kbd> > <kbd>Run All Cells</kbd>."
   ]
  },
  {
   "cell_type": "markdown",
   "id": "c45013c6-a0ea-4c25-846f-194092d69146",
   "metadata": {},
   "source": [
    "## User Inputs"
   ]
  },
  {
   "cell_type": "code",
   "execution_count": null,
   "id": "74a9078e-7798-465d-a254-20f782e493ed",
   "metadata": {
    "editable": true,
    "slideshow": {
     "slide_type": ""
    },
    "tags": [
     "parameters"
    ]
   },
   "outputs": [],
   "source": [
    "#"
   ]
  },
  {
   "cell_type": "code",
   "execution_count": null,
   "id": "6f157cfe-9ec5-4a77-9823-4c2912b2838d",
   "metadata": {},
   "outputs": [],
   "source": [
    "engine = create_engine(\n",
    "    URL(\n",
    "        drivername=\"driver\",\n",
    "        account=os.getenv(\"UPLIMIT_SNOWFLAKE_ACCOUNT\"),\n",
    "        user=os.getenv(\"UPLIMIT_SNOWFLAKE_USER\"),\n",
    "        password=os.getenv(\"UPLIMIT_SNOWFLAKE_PASS\"),\n",
    "        warehouse=os.getenv(\"UPLIMIT_SNOWFLAKE_WAREHOUSE\"),\n",
    "        role=os.getenv(\"UPLIMIT_SNOWFLAKE_ROLE\"),\n",
    "        database=os.getenv(\"UPLIMIT_SNOWFLAKE_DB_NAME\"),\n",
    "        schema=os.getenv(\"UPLIMIT_SNOWFLAKE_SCHEMA\"),\n",
    "    )\n",
    ")"
   ]
  },
  {
   "cell_type": "markdown",
   "id": "3e90097d-5766-4936-92cc-282f388306bf",
   "metadata": {},
   "source": [
    "## Connect"
   ]
  },
  {
   "cell_type": "markdown",
   "id": "d95b45c7-7ec3-4638-8978-43517a9d87a9",
   "metadata": {},
   "source": [
    "Load Jupyter SQL extension"
   ]
  },
  {
   "cell_type": "code",
   "execution_count": null,
   "id": "4e487e92-10fd-4663-abb0-a2d749744e39",
   "metadata": {},
   "outputs": [],
   "source": [
    "%load_ext sql"
   ]
  },
  {
   "cell_type": "markdown",
   "id": "6063c8a3-9ff6-4837-9589-96fc89fcbebf",
   "metadata": {},
   "source": [
    "Connect to database"
   ]
  },
  {
   "cell_type": "code",
   "execution_count": null,
   "id": "13aacfa8-90bc-4cf2-8fdf-506d8f8fda5e",
   "metadata": {},
   "outputs": [],
   "source": [
    "%sql engine --alias connection"
   ]
  },
  {
   "cell_type": "markdown",
   "id": "111cbd34-4e82-42ad-aefa-b5579d37385e",
   "metadata": {},
   "source": [
    "## Exploratory Data Analysis"
   ]
  },
  {
   "cell_type": "markdown",
   "id": "cd6b8aa8-a062-4440-8fc6-dc29ec87c4ed",
   "metadata": {},
   "source": [
    "### Addresses"
   ]
  },
  {
   "cell_type": "code",
   "execution_count": null,
   "id": "75263053-7368-4f09-9a19-a99cc36ed07a",
   "metadata": {
    "scrolled": true
   },
   "outputs": [],
   "source": [
    "%%sql\n",
    "WITH cte AS (\n",
    "  SELECT\n",
    "      COUNT(*) AS total_rows,\n",
    "      total_rows - COUNT(address_id) AS address_id,\n",
    "      total_rows - COUNT(address) AS address,\n",
    "      total_rows - COUNT(zipcode) AS zipcode,\n",
    "      total_rows - COUNT(state) AS state_name,\n",
    "      total_rows - COUNT(country) AS country\n",
    "  FROM stg_postgres_addresses\n",
    ")\n",
    "SELECT lower(column_name) AS column_name,\n",
    "       nulls_column_count\n",
    "FROM cte\n",
    "UNPIVOT (\n",
    "    nulls_column_count\n",
    "    FOR column_name IN (\n",
    "        address_id,\n",
    "        address,\n",
    "        zipcode,\n",
    "        state_name,\n",
    "        country\n",
    "    )\n",
    ")\n",
    "ORDER BY nulls_column_count DESC"
   ]
  },
  {
   "cell_type": "markdown",
   "id": "3dc2124c-692e-4b85-b841-089d92a4e15c",
   "metadata": {},
   "source": [
    "### Users"
   ]
  },
  {
   "cell_type": "code",
   "execution_count": null,
   "id": "a1da881f-9049-447e-b92a-e7381a6bc486",
   "metadata": {},
   "outputs": [],
   "source": [
    "%%sql\n",
    "WITH cte AS (\n",
    "  SELECT\n",
    "      COUNT(*) AS total_rows,\n",
    "      total_rows - COUNT(user_id) AS user_id,\n",
    "      total_rows - COUNT(first_name) AS first_name,\n",
    "      total_rows - COUNT(last_name) AS last_name,\n",
    "      total_rows - COUNT(email) AS email,\n",
    "      total_rows - COUNT(phone_number) AS phone_number,\n",
    "      total_rows - COUNT(created_at) AS created_at,\n",
    "      total_rows - COUNT(updated_at) AS updated_at,\n",
    "      total_rows - COUNT(address_id) AS address_id,\n",
    "  FROM stg_postgres_users\n",
    ")\n",
    "SELECT lower(column_name) AS column_name,\n",
    "       nulls_column_count\n",
    "FROM cte\n",
    "UNPIVOT (\n",
    "    nulls_column_count\n",
    "    FOR column_name IN (\n",
    "        user_id,\n",
    "        first_name,\n",
    "        last_name,\n",
    "        email,\n",
    "        created_at,\n",
    "        updated_at,\n",
    "        address_id\n",
    "    )\n",
    ")\n",
    "ORDER BY nulls_column_count DESC"
   ]
  },
  {
   "cell_type": "markdown",
   "id": "08a6bcdd-1b36-4f5a-9888-027a8f84a4ef",
   "metadata": {},
   "source": [
    "### Products"
   ]
  },
  {
   "cell_type": "code",
   "execution_count": null,
   "id": "c7f95309-1641-4ad0-b1e2-9f04e166e3db",
   "metadata": {},
   "outputs": [],
   "source": [
    "%%sql\n",
    "WITH cte AS (\n",
    "  SELECT\n",
    "      COUNT(*) AS total_rows,\n",
    "      total_rows - COUNT(product_id) AS product_id,\n",
    "      total_rows - COUNT(name) AS name,\n",
    "      total_rows - COUNT(price) AS price,\n",
    "      total_rows - COUNT(inventory) AS inventory\n",
    "  FROM stg_postgres_products\n",
    ")\n",
    "SELECT lower(column_name) AS column_name,\n",
    "       nulls_column_count\n",
    "FROM cte\n",
    "UNPIVOT (\n",
    "    nulls_column_count\n",
    "    FOR column_name IN (\n",
    "        product_id,\n",
    "        name,\n",
    "        price,\n",
    "        inventory\n",
    "    )\n",
    ")\n",
    "ORDER BY nulls_column_count DESC"
   ]
  },
  {
   "cell_type": "markdown",
   "id": "fdc19e62-3701-43b0-847d-024c3ae9537e",
   "metadata": {},
   "source": [
    "### Orders"
   ]
  },
  {
   "cell_type": "code",
   "execution_count": null,
   "id": "792ce275-8e7f-4416-81a3-d4afc4b61756",
   "metadata": {},
   "outputs": [],
   "source": [
    "%%sql\n",
    "WITH cte AS (\n",
    "  SELECT\n",
    "      COUNT(*) AS total_rows,\n",
    "      total_rows - COUNT(order_id) AS order_id,\n",
    "      total_rows - COUNT(user_id) AS user_id,\n",
    "      total_rows - COUNT(promo_id) AS promo_id,\n",
    "      total_rows - COUNT(address_id) AS address_id,\n",
    "      total_rows - COUNT(created_at) AS created_at,\n",
    "      total_rows - COUNT(order_cost) AS order_cost,\n",
    "      total_rows - COUNT(shipping_cost) AS shipping_cost,\n",
    "      total_rows - COUNT(order_total) AS order_total,\n",
    "      total_rows - COUNT(tracking_id) AS tracking_id,\n",
    "      total_rows - COUNT(shipping_service) AS shipping_service,\n",
    "      total_rows - COUNT(estimated_delivery_at) AS estimated_delivery_at,\n",
    "      total_rows - COUNT(delivered_at) AS delivered_at,\n",
    "      total_rows - COUNT(status) AS status\n",
    "  FROM stg_postgres_orders\n",
    ")\n",
    "SELECT lower(column_name) AS column_name,\n",
    "       nulls_column_count\n",
    "FROM cte\n",
    "UNPIVOT (\n",
    "    nulls_column_count\n",
    "    FOR column_name IN (\n",
    "        order_id,\n",
    "        user_id,\n",
    "        promo_id,\n",
    "        address_id,\n",
    "        created_at,\n",
    "        order_cost,\n",
    "        shipping_cost,\n",
    "        order_total,\n",
    "        tracking_id,\n",
    "        shipping_service,\n",
    "        estimated_delivery_at,\n",
    "        delivered_at,\n",
    "        status\n",
    "    )\n",
    ")\n",
    "ORDER BY nulls_column_count DESC"
   ]
  },
  {
   "cell_type": "markdown",
   "id": "1c28a26b-e0b5-44a9-af8e-2ede04169972",
   "metadata": {},
   "source": [
    "### Order Items"
   ]
  },
  {
   "cell_type": "code",
   "execution_count": null,
   "id": "90ede632-75d2-476c-950e-90569632e271",
   "metadata": {
    "scrolled": true
   },
   "outputs": [],
   "source": [
    "%%sql\n",
    "WITH cte AS (\n",
    "  SELECT\n",
    "      COUNT(*) AS total_rows,\n",
    "      total_rows - COUNT(order_id) AS order_id,\n",
    "      total_rows - COUNT(product_id) AS product_id,\n",
    "      total_rows - COUNT(quantity) AS quantity\n",
    "  FROM stg_postgres_order_items\n",
    ")\n",
    "SELECT lower(column_name) AS column_name,\n",
    "       nulls_column_count\n",
    "FROM cte\n",
    "UNPIVOT (\n",
    "    nulls_column_count\n",
    "    FOR column_name IN (\n",
    "        order_id,\n",
    "        product_id,\n",
    "        quantity\n",
    "    )\n",
    ")\n",
    "ORDER BY nulls_column_count DESC"
   ]
  },
  {
   "cell_type": "markdown",
   "id": "fdee4bc3-1d93-44d2-b7c0-976963b8d0c5",
   "metadata": {},
   "source": [
    "### Promos"
   ]
  },
  {
   "cell_type": "code",
   "execution_count": null,
   "id": "12271f64-b24f-430e-ad50-276d95b9cfdf",
   "metadata": {},
   "outputs": [],
   "source": [
    "%%sql\n",
    "WITH cte AS (\n",
    "  SELECT\n",
    "      COUNT(*) AS total_rows,\n",
    "      total_rows - COUNT(promo_id) AS promo_id,\n",
    "      total_rows - COUNT(discount) AS discount,\n",
    "      total_rows - COUNT(status) AS status\n",
    "  FROM stg_postgres_promos\n",
    ")\n",
    "SELECT lower(column_name) AS column_name,\n",
    "       nulls_column_count\n",
    "FROM cte\n",
    "UNPIVOT (\n",
    "    nulls_column_count\n",
    "    FOR column_name IN (\n",
    "        promo_id,\n",
    "        discount,\n",
    "        status\n",
    "    )\n",
    ")\n",
    "ORDER BY nulls_column_count DESC"
   ]
  },
  {
   "cell_type": "markdown",
   "id": "7695535e-3110-4070-9af7-a6551e040ab7",
   "metadata": {},
   "source": [
    "### Events"
   ]
  },
  {
   "cell_type": "code",
   "execution_count": null,
   "id": "a3075549-9fcf-4305-90ba-c349948e8579",
   "metadata": {},
   "outputs": [],
   "source": [
    "%%sql\n",
    "WITH cte AS (\n",
    "  SELECT\n",
    "      COUNT(*) AS total_rows,\n",
    "      total_rows - COUNT(event_id) AS event_id,\n",
    "      total_rows - COUNT(session_id) AS session_id,\n",
    "      total_rows - COUNT(user_id) AS user_id,\n",
    "      total_rows - COUNT(page_url) AS page_url,\n",
    "      total_rows - COUNT(created_at) AS created_at,\n",
    "      total_rows - COUNT(event_type) AS event_type,\n",
    "      total_rows - COUNT(order_id) AS order_id,\n",
    "      total_rows - COUNT(product_id) AS product_id,\n",
    "  FROM stg_postgres_events\n",
    ")\n",
    "SELECT lower(column_name) AS column_name,\n",
    "       nulls_column_count\n",
    "FROM cte\n",
    "UNPIVOT (\n",
    "    nulls_column_count\n",
    "    FOR column_name IN (\n",
    "        event_id,\n",
    "        session_id,\n",
    "        user_id,\n",
    "        page_url,\n",
    "        created_at,\n",
    "        event_type,\n",
    "        order_id,\n",
    "        product_id\n",
    "    )\n",
    ")\n",
    "ORDER BY nulls_column_count DESC"
   ]
  },
  {
   "cell_type": "markdown",
   "id": "248acecd-3121-4d42-9eb0-061d6163f66b",
   "metadata": {},
   "source": [
    "## Disconnect"
   ]
  },
  {
   "cell_type": "markdown",
   "id": "1ae1ef27-3497-4011-baf5-2db38db6a74e",
   "metadata": {},
   "source": [
    "Close connection"
   ]
  },
  {
   "cell_type": "code",
   "execution_count": null,
   "id": "8a15acbd-d1ac-4cc1-a4f9-6b16327f0ce6",
   "metadata": {},
   "outputs": [],
   "source": [
    "%sql --close connection"
   ]
  }
 ],
 "metadata": {
  "kernelspec": {
   "display_name": "Python 3 (ipykernel)",
   "language": "python",
   "name": "python3"
  },
  "language_info": {
   "codemirror_mode": {
    "name": "ipython",
    "version": 3
   },
   "file_extension": ".py",
   "mimetype": "text/x-python",
   "name": "python",
   "nbconvert_exporter": "python",
   "pygments_lexer": "ipython3",
   "version": "3.10.12"
  }
 },
 "nbformat": 4,
 "nbformat_minor": 5
}
