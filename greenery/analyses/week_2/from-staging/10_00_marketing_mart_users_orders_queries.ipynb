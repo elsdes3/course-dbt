{
 "cells": [
  {
   "cell_type": "markdown",
   "id": "371e0881-1c74-4fb1-94c6-e97d8ae17ec6",
   "metadata": {},
   "source": [
    "# Marketing (Facts) Models"
   ]
  },
  {
   "cell_type": "code",
   "execution_count": null,
   "id": "058e40b6-b3b7-49b3-9d0d-2b18860ac4da",
   "metadata": {},
   "outputs": [],
   "source": [
    "import os\n",
    "from pathlib import Path\n",
    "\n",
    "from dotenv import load_dotenv\n",
    "from sqlalchemy import create_engine\n",
    "from snowflake.sqlalchemy import URL"
   ]
  },
  {
   "cell_type": "code",
   "execution_count": null,
   "id": "ca588ba1-2a1b-41f1-9f6d-637f9a26ec9d",
   "metadata": {},
   "outputs": [],
   "source": [
    "PROJ_ROOT = Path().resolve().parents[4]\n",
    "env_file_dir = PROJ_ROOT / '.env'\n",
    "_ = load_dotenv(env_file_dir, verbose=True)"
   ]
  },
  {
   "cell_type": "markdown",
   "id": "85fd89ea-152a-40de-960c-849fe3d2cd74",
   "metadata": {},
   "source": [
    "## About"
   ]
  },
  {
   "attachments": {},
   "cell_type": "markdown",
   "id": "8fd93d19-1541-48be-9c30-a4ee7813d45e",
   "metadata": {},
   "source": [
    "Develop queries for **mart (user orders)** without using DBT's `intermediate` models.\n",
    "\n",
    "The model used in this notebook was developed in `06_intermediate_non_event_models.ipynb`.\n",
    "               \n",
    "### Notes\n",
    "\n",
    "1. This notebook supports <kbd>Run</kbd> > <kbd>Run All Cells</kbd>."
   ]
  },
  {
   "cell_type": "markdown",
   "id": "c85304d6-58b3-485d-9e8a-c39dd4208ddf",
   "metadata": {},
   "source": [
    "## User Inputs"
   ]
  },
  {
   "cell_type": "code",
   "execution_count": null,
   "id": "e4719fdc-e382-4464-904c-edffacd6b7ec",
   "metadata": {
    "editable": true,
    "slideshow": {
     "slide_type": ""
    },
    "tags": [
     "parameters"
    ]
   },
   "outputs": [],
   "source": [
    "#"
   ]
  },
  {
   "cell_type": "code",
   "execution_count": null,
   "id": "8721b99a-254e-492d-8a2f-e34f9fdebd53",
   "metadata": {},
   "outputs": [],
   "source": [
    "engine = create_engine(\n",
    "    URL(\n",
    "        drivername=\"driver\",\n",
    "        account=os.getenv(\"UPLIMIT_SNOWFLAKE_ACCOUNT\"),\n",
    "        user=os.getenv(\"UPLIMIT_SNOWFLAKE_USER\"),\n",
    "        password=os.getenv(\"UPLIMIT_SNOWFLAKE_PASS\"),\n",
    "        warehouse=os.getenv(\"UPLIMIT_SNOWFLAKE_WAREHOUSE\"),\n",
    "        role=os.getenv(\"UPLIMIT_SNOWFLAKE_ROLE\"),\n",
    "        database=os.getenv(\"UPLIMIT_SNOWFLAKE_DB_NAME\"),\n",
    "        schema=os.getenv(\"UPLIMIT_SNOWFLAKE_SCHEMA\"),\n",
    "    )\n",
    ")"
   ]
  },
  {
   "cell_type": "markdown",
   "id": "9e09641c-13c9-4b46-abac-253ed9440acd",
   "metadata": {},
   "source": [
    "## Connect"
   ]
  },
  {
   "cell_type": "markdown",
   "id": "0305bee2-18bc-426c-9e11-6e49a8866ab2",
   "metadata": {},
   "source": [
    "Load Jupyter SQL extension"
   ]
  },
  {
   "cell_type": "code",
   "execution_count": null,
   "id": "27a993b5-ca99-4860-9f9e-52d7159bb75f",
   "metadata": {},
   "outputs": [],
   "source": [
    "%load_ext sql"
   ]
  },
  {
   "cell_type": "markdown",
   "id": "d02a94fa-97fa-4371-bdcb-bc62f1b76438",
   "metadata": {},
   "source": [
    "Connect to DuckDB database"
   ]
  },
  {
   "cell_type": "code",
   "execution_count": null,
   "id": "fc7285dd-2580-4c4a-8527-0c483692fbe4",
   "metadata": {},
   "outputs": [],
   "source": [
    "%sql engine --alias connection"
   ]
  },
  {
   "cell_type": "markdown",
   "id": "b7149623-c463-4d75-b5c8-b7d07779950d",
   "metadata": {},
   "source": [
    "## Model"
   ]
  },
  {
   "cell_type": "markdown",
   "id": "642aaf3b-557f-41ca-b41e-d9b5b29f1abd",
   "metadata": {},
   "source": [
    "### `marts/marketing/fct_user_orders`"
   ]
  },
  {
   "cell_type": "code",
   "execution_count": null,
   "id": "f1199f6f-deb3-47fb-bff8-5c33b30ddb41",
   "metadata": {},
   "outputs": [],
   "source": [
    "%%sql\n",
    "-- ####### START INTERMEDIATE MODEL #######\n",
    "WITH orders AS (\n",
    "    SELECT *\n",
    "    FROM stg_postgres_orders\n",
    "),\n",
    "users AS (\n",
    "    SELECT user_id,\n",
    "           address_id\n",
    "    FROM stg_postgres_users\n",
    "),\n",
    "/* get order item summary per order */\n",
    "order_items AS (\n",
    "    SELECT order_id,\n",
    "           -- get number of unique greenery products included in an order\n",
    "           COUNT(DISTINCT(product_id)) as num_unique_products,\n",
    "           -- get total quantity of products included in an order\n",
    "           SUM(quantity) as total_order_size\n",
    "    FROM stg_postgres_order_items\n",
    "    GROUP BY order_id\n",
    "),\n",
    "promos AS (\n",
    "    SELECT promo_id,\n",
    "           discount\n",
    "    FROM stg_postgres_promos\n",
    "),\n",
    "addresses AS (\n",
    "    SELECT address_id,\n",
    "           state AS state_name\n",
    "    FROM stg_postgres_addresses\n",
    "),\n",
    "order_summary AS (\n",
    "    SELECT oi.order_id,\n",
    "           o.created_at,\n",
    "           u.user_id,\n",
    "           u.address_id,\n",
    "           o.order_cost,\n",
    "           o.shipping_cost,\n",
    "           p.promo_id,\n",
    "           -- if no discount is offered then the discount value should be zero\n",
    "           IFNULL(p.discount, 0) AS discount,\n",
    "           o.order_total,\n",
    "           oi.total_order_size,\n",
    "           oi.num_unique_products,\n",
    "           o.status,\n",
    "           o.delivered_at,\n",
    "           o.estimated_delivery_at\n",
    "    FROM users u\n",
    "    LEFT JOIN orders o USING (user_id)\n",
    "    -- use LEFT JOIN to capture all available users, including those that have\n",
    "    -- not yet placed orders and so do not yet have any itemized orders\n",
    "    LEFT JOIN order_items oi USING (order_id)\n",
    "    -- use LEFT JOIN to capture orders that do not include products that are\n",
    "    -- offered as part of a promotion\n",
    "    LEFT JOIN promos p USING (promo_id)\n",
    "),\n",
    "order_summary_with_state AS (\n",
    "    SELECT os.order_id,\n",
    "           os.created_at,\n",
    "           os.user_id,\n",
    "           a.state_name,\n",
    "           os.order_cost,\n",
    "           os.shipping_cost,\n",
    "           os.promo_id,\n",
    "           os.discount,\n",
    "           os.order_total,\n",
    "           os.total_order_size,\n",
    "           os.num_unique_products,\n",
    "           os.estimated_delivery_at,\n",
    "           os.delivered_at,       \n",
    "           status\n",
    "           -- (\n",
    "           --     CASE\n",
    "           --         WHEN\n",
    "           --             delivered_at > estimated_delivery_at\n",
    "           --             AND status = 'delivered'\n",
    "           --         THEN False\n",
    "           --         WHEN status = 'shipped' THEN NULL\n",
    "           --         ELSE True\n",
    "           --     END\n",
    "           -- ) AS is_on_time_delivery\n",
    "    FROM order_summary os\n",
    "    -- use INNER JOIN to only capture orders from known addresses\n",
    "    -- (the state is a requirement for this model but cannot be determined if\n",
    "    -- the delivery address is missing, so exclude orders without an address)\n",
    "    INNER JOIN addresses a USING (address_id)\n",
    "),\n",
    "-- ####### END INTERMEDIATE MODEL #######\n",
    "orders_with_delivery_time AS (\n",
    "    SELECT user_id,\n",
    "           state_name,\n",
    "           order_id,\n",
    "           created_at,\n",
    "           discount,\n",
    "           order_total,\n",
    "           total_order_size,\n",
    "           num_unique_products,\n",
    "           status,\n",
    "           datediff(second, created_at, delivered_at) AS delivery_time_seconds\n",
    "    FROM order_summary_with_state\n",
    "),\n",
    "user_order_summary AS (\n",
    "    SELECT user_id,\n",
    "           state_name,\n",
    "           TO_DATE(MIN(created_at)) AS first_order_date,\n",
    "           TO_DATE(MAX(created_at)) AS last_order_date,\n",
    "           IFNULL(SUM(discount), 0) AS discount_value,\n",
    "           -- get total dollar value of all orders by user, rounded to three\n",
    "           -- decimal places\n",
    "           IFNULL(ROUND(SUM(order_total), 2), 0) AS order_value,\n",
    "           -- get average number of products in an order\n",
    "           IFNULL(\n",
    "               ROUND(AVG(num_unique_products), 0),\n",
    "               0\n",
    "           ) AS avg_num_unique_products,\n",
    "           -- get average order size\n",
    "           IFNULL(ROUND(AVG(total_order_size), 0), 0) as avg_order_size,\n",
    "           -- get total number of orders by user\n",
    "           IFNULL(COUNT(order_id), 0) AS num_orders,\n",
    "           -- get total number of delivered orders by user\n",
    "           SUM(\n",
    "               CASE WHEN status = 'delivered' THEN 1 ELSE 0 END\n",
    "           ) AS num_orders_delivered,\n",
    "           -- get total number of orders by user that are shipping\n",
    "           SUM(\n",
    "               CASE WHEN status = 'shipped' THEN 1 ELSE 0 END\n",
    "           ) AS num_orders_shipping,\n",
    "           -- get average delivery time for delivered orders by user\n",
    "           ROUND(AVG(delivery_time_seconds)) AS avg_delivery_time_seconds\n",
    "    FROM orders_with_delivery_time\n",
    "    GROUP BY ALL\n",
    "    ORDER BY order_value DESC\n",
    ")\n",
    "SELECT *\n",
    "FROM user_order_summary"
   ]
  },
  {
   "cell_type": "markdown",
   "id": "d748e789-403f-4c30-9e5b-62216c59a88d",
   "metadata": {},
   "source": [
    "### `marts/marketing/fct_promo_orders`"
   ]
  },
  {
   "cell_type": "markdown",
   "id": "aeadeaff-ab90-42f7-8cf1-e79f613d7855",
   "metadata": {},
   "source": [
    "Set the maximum number of rows to be displayed to `None` (shows all rows)"
   ]
  },
  {
   "cell_type": "code",
   "execution_count": null,
   "id": "a9755c47-53d8-4d47-a8d0-b94bca23c719",
   "metadata": {},
   "outputs": [],
   "source": [
    "%config SqlMagic.displaylimit = None"
   ]
  },
  {
   "cell_type": "code",
   "execution_count": null,
   "id": "21f726c0-5d1d-4f48-87d9-093eafbcf82d",
   "metadata": {},
   "outputs": [],
   "source": [
    "%%sql\n",
    "-- ####### START INTERMEDIATE MODEL #######\n",
    "WITH orders AS (\n",
    "    SELECT *\n",
    "    FROM stg_postgres_orders\n",
    "),\n",
    "users AS (\n",
    "    SELECT user_id,\n",
    "           address_id\n",
    "    FROM stg_postgres_users\n",
    "),\n",
    "/* get order item summary per order */\n",
    "order_items AS (\n",
    "    SELECT order_id,\n",
    "           -- get number of unique greenery products included in an order\n",
    "           COUNT(DISTINCT(product_id)) as num_unique_products,\n",
    "           -- get total quantity of products included in an order\n",
    "           SUM(quantity) as total_order_size\n",
    "    FROM stg_postgres_order_items\n",
    "    GROUP BY order_id\n",
    "),\n",
    "promos AS (\n",
    "    SELECT promo_id,\n",
    "           discount\n",
    "    FROM stg_postgres_promos\n",
    "),\n",
    "addresses AS (\n",
    "    SELECT address_id,\n",
    "           state AS state_name\n",
    "    FROM stg_postgres_addresses\n",
    "),\n",
    "order_summary AS (\n",
    "    SELECT oi.order_id,\n",
    "           o.created_at,\n",
    "           u.user_id,\n",
    "           u.address_id,\n",
    "           o.order_cost,\n",
    "           o.shipping_cost,\n",
    "           p.promo_id,\n",
    "           -- if no discount is offered then the discount value should be zero\n",
    "           IFNULL(p.discount, 0) AS discount,\n",
    "           o.order_total,\n",
    "           oi.total_order_size,\n",
    "           oi.num_unique_products,\n",
    "           o.status,\n",
    "           o.delivered_at,\n",
    "           o.estimated_delivery_at\n",
    "    FROM users u\n",
    "    LEFT JOIN orders o USING (user_id)\n",
    "    -- use LEFT JOIN to capture all available users, including those that have\n",
    "    -- not yet placed orders and so do not yet have any itemized orders\n",
    "    LEFT JOIN order_items oi USING (order_id)\n",
    "    -- use LEFT JOIN to capture orders that do not include products that are\n",
    "    -- offered as part of a promotion\n",
    "    LEFT JOIN promos p USING (promo_id)\n",
    "),\n",
    "order_summary_with_state AS (\n",
    "    SELECT os.order_id,\n",
    "           os.created_at,\n",
    "           os.user_id,\n",
    "           a.state_name,\n",
    "           os.order_cost,\n",
    "           os.shipping_cost,\n",
    "           os.promo_id,\n",
    "           os.discount,\n",
    "           os.order_total,\n",
    "           os.total_order_size,\n",
    "           os.num_unique_products,\n",
    "           os.estimated_delivery_at,\n",
    "           os.delivered_at,       \n",
    "           status\n",
    "           -- (\n",
    "           --     CASE\n",
    "           --         WHEN\n",
    "           --             delivered_at > estimated_delivery_at\n",
    "           --             AND status = 'delivered'\n",
    "           --         THEN False\n",
    "           --         WHEN status = 'shipped' THEN NULL\n",
    "           --         ELSE True\n",
    "           --     END\n",
    "           -- ) AS is_on_time_delivery\n",
    "    FROM order_summary os\n",
    "    -- use INNER JOIN to only capture orders from known addresses\n",
    "    -- (the state is a requirement for this model but cannot be determined if\n",
    "    -- the delivery address is missing, so exclude orders without an address)\n",
    "    INNER JOIN addresses a USING (address_id)\n",
    "),\n",
    "-- ####### END INTERMEDIATE MODEL #######\n",
    "orders_with_delivery_promo_details AS (\n",
    "    SELECT *,\n",
    "           TO_DATE(created_at) AS created_at_date,\n",
    "           datediff(second, created_at, delivered_at) AS delivery_time_seconds,\n",
    "           (\n",
    "               CASE\n",
    "                   WHEN delivered_at > estimated_delivery_at\n",
    "                   THEN ABS(\n",
    "                       DATEDIFF(second, delivered_at, estimated_delivery_at)\n",
    "                   )\n",
    "                   ELSE NULL\n",
    "               END\n",
    "           ) AS delivery_delay_seconds,\n",
    "           (CASE WHEN discount > 0 THEN True ELSE False END) AS uses_promo_code\n",
    "    FROM order_summary_with_state\n",
    "),\n",
    "promo_order_summary AS (\n",
    "    SELECT promo_id,\n",
    "           created_at_date,\n",
    "           COUNT(*) AS num_orders,\n",
    "           SUM(discount) AS promo_discount,\n",
    "           ROUND(SUM(shipping_cost), 2) AS shipping_cost,\n",
    "           SUM(order_cost) AS order_cost,\n",
    "           ROUND(AVG(num_unique_products)) AS avg_num_unique_products,\n",
    "           ROUND(AVG(total_order_size)) AS avg_total_order_size\n",
    "    FROM orders_with_delivery_promo_details\n",
    "    WHERE promo_id IS NOT NULL\n",
    "    GROUP BY promo_id, created_at_date\n",
    "    ORDER BY created_at_date ASC, promo_discount DESC\n",
    ")\n",
    "SELECT *\n",
    "FROM promo_order_summary"
   ]
  },
  {
   "cell_type": "markdown",
   "id": "9402eac9-b02c-416c-929c-3d7deabd997e",
   "metadata": {},
   "source": [
    "## Disconnect"
   ]
  },
  {
   "cell_type": "markdown",
   "id": "4b148621-8de0-4725-84bf-33bbd42a5e06",
   "metadata": {},
   "source": [
    "Close connection"
   ]
  },
  {
   "cell_type": "code",
   "execution_count": null,
   "id": "fffff17a-92e8-4a88-876b-c0328eb2ed5f",
   "metadata": {},
   "outputs": [],
   "source": [
    "%sql --close connection"
   ]
  },
  {
   "cell_type": "markdown",
   "id": "27c99512-6865-4f58-b1f5-4d8ca2ac429e",
   "metadata": {},
   "source": [
    "## Links"
   ]
  },
  {
   "cell_type": "markdown",
   "id": "40ff8e79-e2be-461d-bbe2-57988c90723d",
   "metadata": {},
   "source": [
    "1. [Basic tutorial on `ROUND`](https://medium.com/@myemail.srinivas/round-function-in-snowflake-9c131baa97b5)"
   ]
  }
 ],
 "metadata": {
  "kernelspec": {
   "display_name": "Python 3 (ipykernel)",
   "language": "python",
   "name": "python3"
  },
  "language_info": {
   "codemirror_mode": {
    "name": "ipython",
    "version": 3
   },
   "file_extension": ".py",
   "mimetype": "text/x-python",
   "name": "python",
   "nbconvert_exporter": "python",
   "pygments_lexer": "ipython3",
   "version": "3.10.12"
  }
 },
 "nbformat": 4,
 "nbformat_minor": 5
}
