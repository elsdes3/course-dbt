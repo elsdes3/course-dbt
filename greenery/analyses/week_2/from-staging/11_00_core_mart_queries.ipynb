{
 "cells": [
  {
   "cell_type": "markdown",
   "id": "affe6e02-9b61-4e6b-a32c-793923404427",
   "metadata": {},
   "source": [
    "# Core (Facts) Models"
   ]
  },
  {
   "cell_type": "code",
   "execution_count": null,
   "id": "f0b38e60-5ce8-4815-94a1-cfe31aefa4db",
   "metadata": {},
   "outputs": [],
   "source": [
    "import os\n",
    "from pathlib import Path\n",
    "\n",
    "from dotenv import load_dotenv\n",
    "from sqlalchemy import create_engine\n",
    "from snowflake.sqlalchemy import URL"
   ]
  },
  {
   "cell_type": "code",
   "execution_count": null,
   "id": "352a7ae2-a980-414d-9f89-2df1a80215a0",
   "metadata": {},
   "outputs": [],
   "source": [
    "PROJ_ROOT = Path().resolve().parents[4]\n",
    "env_file_dir = PROJ_ROOT / '.env'\n",
    "_ = load_dotenv(env_file_dir, verbose=True)"
   ]
  },
  {
   "cell_type": "markdown",
   "id": "d3e468e3-1b8f-4098-9605-48c86e3682cf",
   "metadata": {},
   "source": [
    "## About"
   ]
  },
  {
   "cell_type": "markdown",
   "id": "cd7dd11b-29be-4946-8e46-d0bc368e61e8",
   "metadata": {},
   "source": [
    "Develop queries for **mart (core)** without using DBT's `intermediate` models.\n",
    "\n",
    "The model used in this notebook was developed in `06_intermediate_non_event_models.ipynb`.\n",
    "\n",
    "### Notes\n",
    "\n",
    "1. This notebook supports <kbd>Run</kbd> > <kbd>Run All Cells</kbd>."
   ]
  },
  {
   "cell_type": "markdown",
   "id": "5be77a60-d151-4298-88ed-283aa2fbc7df",
   "metadata": {},
   "source": [
    "## User Inputs"
   ]
  },
  {
   "cell_type": "code",
   "execution_count": null,
   "id": "4564dac0-b67c-4639-ba73-9855d09d5742",
   "metadata": {
    "editable": true,
    "slideshow": {
     "slide_type": ""
    },
    "tags": [
     "parameters"
    ]
   },
   "outputs": [],
   "source": [
    "#"
   ]
  },
  {
   "cell_type": "code",
   "execution_count": null,
   "id": "4d2e75e7-6336-4404-86a2-ba61b83f145d",
   "metadata": {},
   "outputs": [],
   "source": [
    "engine = create_engine(\n",
    "    URL(\n",
    "        drivername=\"driver\",\n",
    "        account=os.getenv(\"UPLIMIT_SNOWFLAKE_ACCOUNT\"),\n",
    "        user=os.getenv(\"UPLIMIT_SNOWFLAKE_USER\"),\n",
    "        password=os.getenv(\"UPLIMIT_SNOWFLAKE_PASS\"),\n",
    "        warehouse=os.getenv(\"UPLIMIT_SNOWFLAKE_WAREHOUSE\"),\n",
    "        role=os.getenv(\"UPLIMIT_SNOWFLAKE_ROLE\"),\n",
    "        database=os.getenv(\"UPLIMIT_SNOWFLAKE_DB_NAME\"),\n",
    "        schema=os.getenv(\"UPLIMIT_SNOWFLAKE_SCHEMA\"),\n",
    "    )\n",
    ")"
   ]
  },
  {
   "cell_type": "markdown",
   "id": "4572a668-62cf-420c-8463-14751adad4a8",
   "metadata": {},
   "source": [
    "## Connect"
   ]
  },
  {
   "cell_type": "markdown",
   "id": "c17c1222-8c5b-4080-a2a9-e8ed3d10f0ee",
   "metadata": {},
   "source": [
    "Load Jupyter SQL extension"
   ]
  },
  {
   "cell_type": "code",
   "execution_count": null,
   "id": "b1190ab9-7342-4148-95db-54dc0cef70d4",
   "metadata": {},
   "outputs": [],
   "source": [
    "%load_ext sql"
   ]
  },
  {
   "cell_type": "markdown",
   "id": "6c4e4e9f-9476-441f-b4ec-b4aed17d59d8",
   "metadata": {},
   "source": [
    "Connect to database"
   ]
  },
  {
   "cell_type": "code",
   "execution_count": null,
   "id": "c6d35890-9765-4041-ab19-33d76614392b",
   "metadata": {},
   "outputs": [],
   "source": [
    "%sql engine --alias connection"
   ]
  },
  {
   "cell_type": "markdown",
   "id": "88fdeed9-1922-4bcf-b150-d3bdfe466c8e",
   "metadata": {},
   "source": [
    "## Models"
   ]
  },
  {
   "cell_type": "markdown",
   "id": "2e0e1b49-049c-42d0-9ad0-87bd091536e0",
   "metadata": {},
   "source": [
    "### `marts/core/fct_orders`"
   ]
  },
  {
   "cell_type": "code",
   "execution_count": null,
   "id": "14ade52c-322e-42e1-9780-c18c93094b9b",
   "metadata": {},
   "outputs": [],
   "source": [
    "%%sql\n",
    "-- ####### START INTERMEDIATE MODEL #######\n",
    "WITH orders AS (\n",
    "    SELECT *\n",
    "    FROM stg_postgres_orders\n",
    "),\n",
    "users AS (\n",
    "    SELECT user_id,\n",
    "           address_id\n",
    "    FROM stg_postgres_users\n",
    "),\n",
    "/* get order item summary per order */\n",
    "order_items AS (\n",
    "    SELECT order_id,\n",
    "           -- get number of unique greenery products included in an order\n",
    "           COUNT(DISTINCT(product_id)) as num_unique_products,\n",
    "           -- get total quantity of products included in an order\n",
    "           SUM(quantity) as total_order_size\n",
    "    FROM stg_postgres_order_items\n",
    "    GROUP BY order_id\n",
    "),\n",
    "promos AS (\n",
    "    SELECT promo_id,\n",
    "           discount\n",
    "    FROM stg_postgres_promos\n",
    "),\n",
    "addresses AS (\n",
    "    SELECT address_id,\n",
    "           state AS state_name\n",
    "    FROM stg_postgres_addresses\n",
    "),\n",
    "order_summary AS (\n",
    "    SELECT oi.order_id,\n",
    "           o.created_at,\n",
    "           u.user_id,\n",
    "           u.address_id,\n",
    "           o.order_cost,\n",
    "           o.shipping_cost,\n",
    "           p.promo_id,\n",
    "           -- if no discount is offered then the discount value should be zero\n",
    "           IFNULL(p.discount, 0) AS discount,\n",
    "           o.order_total,\n",
    "           oi.total_order_size,\n",
    "           oi.num_unique_products,\n",
    "           o.status,\n",
    "           o.delivered_at,\n",
    "           o.estimated_delivery_at\n",
    "    FROM users u\n",
    "    LEFT JOIN orders o USING (user_id)\n",
    "    -- use LEFT JOIN to capture all available users, including those that have\n",
    "    -- not yet placed orders and so do not yet have any itemized orders\n",
    "    LEFT JOIN order_items oi USING (order_id)\n",
    "    -- use LEFT JOIN to capture orders that do not include products that are\n",
    "    -- offered as part of a promotion\n",
    "    LEFT JOIN promos p USING (promo_id)\n",
    "),\n",
    "order_summary_with_state AS (\n",
    "    SELECT os.order_id,\n",
    "           os.created_at,\n",
    "           os.user_id,\n",
    "           a.state_name,\n",
    "           os.order_cost,\n",
    "           os.shipping_cost,\n",
    "           os.promo_id,\n",
    "           os.discount,\n",
    "           os.order_total,\n",
    "           os.total_order_size,\n",
    "           os.num_unique_products,\n",
    "           os.estimated_delivery_at,\n",
    "           os.delivered_at,       \n",
    "           status\n",
    "           -- (\n",
    "           --     CASE\n",
    "           --         WHEN\n",
    "           --             delivered_at > estimated_delivery_at\n",
    "           --             AND status = 'delivered'\n",
    "           --         THEN False\n",
    "           --         WHEN status = 'shipped' THEN NULL\n",
    "           --         ELSE True\n",
    "           --     END\n",
    "           -- ) AS is_on_time_delivery\n",
    "    FROM order_summary os\n",
    "    -- use INNER JOIN to only capture orders from known addresses\n",
    "    -- (the state is a requirement for this model but cannot be determined if\n",
    "    -- the delivery address is missing, so exclude orders without an address)\n",
    "    INNER JOIN addresses a USING (address_id)\n",
    "),\n",
    "-- ####### END INTERMEDIATE MODEL #######\n",
    "orders_with_delivery_details AS (\n",
    "    SELECT *,\n",
    "           datediff(\n",
    "               second, created_at, estimated_delivery_at\n",
    "           ) AS estimated_delivery_time_seconds,\n",
    "           datediff(second, created_at, delivered_at) AS delivery_time_seconds,\n",
    "           (\n",
    "               CASE\n",
    "                   WHEN delivered_at > estimated_delivery_at\n",
    "                   THEN ABS(\n",
    "                       DATEDIFF(second, delivered_at, estimated_delivery_at)\n",
    "                   )\n",
    "                   ELSE NULL\n",
    "               END\n",
    "           ) AS delivery_delay_seconds\n",
    "    FROM order_summary_with_state\n",
    ")\n",
    "SELECT *\n",
    "FROM orders_with_delivery_details"
   ]
  },
  {
   "cell_type": "markdown",
   "id": "2f085d4a-a7ef-4612-a9bb-c426c04a77c3",
   "metadata": {},
   "source": [
    "## Disconnect"
   ]
  },
  {
   "cell_type": "markdown",
   "id": "5911b36c-3cde-4f31-b33f-b8cd7a4ffa85",
   "metadata": {},
   "source": [
    "Close connection"
   ]
  },
  {
   "cell_type": "code",
   "execution_count": null,
   "id": "fb8acb36-8090-4468-bf24-b6ce31f5f3f6",
   "metadata": {},
   "outputs": [],
   "source": [
    "%sql --close connection"
   ]
  }
 ],
 "metadata": {
  "kernelspec": {
   "display_name": "Python 3 (ipykernel)",
   "language": "python",
   "name": "python3"
  },
  "language_info": {
   "codemirror_mode": {
    "name": "ipython",
    "version": 3
   },
   "file_extension": ".py",
   "mimetype": "text/x-python",
   "name": "python",
   "nbconvert_exporter": "python",
   "pygments_lexer": "ipython3",
   "version": "3.10.12"
  }
 },
 "nbformat": 4,
 "nbformat_minor": 5
}
