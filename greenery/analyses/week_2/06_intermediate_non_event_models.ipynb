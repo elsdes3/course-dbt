{
 "cells": [
  {
   "cell_type": "markdown",
   "id": "07bf0818-0981-4071-8566-ae74ab37b27e",
   "metadata": {},
   "source": [
    "# Intermediate Non-Event Models"
   ]
  },
  {
   "cell_type": "code",
   "execution_count": 1,
   "id": "2dd4ecd9-1b4e-48fd-ae18-180dbf00c903",
   "metadata": {},
   "outputs": [
    {
     "name": "stderr",
     "output_type": "stream",
     "text": [
      "/home/elsdes3/Downloads/course-dbt/.tox/build/lib/python3.10/site-packages/snowflake/sqlalchemy/base.py:1068: SAWarning: The GenericFunction 'flatten' is already registered and is going to be overridden.\n",
      "  functions.register_function(\"flatten\", flatten)\n"
     ]
    }
   ],
   "source": [
    "import os\n",
    "from pathlib import Path\n",
    "\n",
    "from dotenv import load_dotenv\n",
    "from sqlalchemy import create_engine\n",
    "from snowflake.sqlalchemy import URL"
   ]
  },
  {
   "cell_type": "code",
   "execution_count": 2,
   "id": "41c1e55c-e6a6-45b4-8c0c-8c6d21f0c2b7",
   "metadata": {},
   "outputs": [],
   "source": [
    "PROJ_ROOT = Path().resolve().parents[3]\n",
    "env_file_dir = PROJ_ROOT / '.env'\n",
    "_ = load_dotenv(env_file_dir, verbose=True)"
   ]
  },
  {
   "cell_type": "markdown",
   "id": "b37ac19e-7e83-4176-b813-9bd0bac9d056",
   "metadata": {},
   "source": [
    "## About"
   ]
  },
  {
   "cell_type": "markdown",
   "id": "bf52beb0-2fd4-4845-ba23-fe24eb7b1a80",
   "metadata": {},
   "source": [
    "### Objective\n",
    "\n",
    "Develop an **intermediate** model that includes logic to combine the following (non-event related) staging models\n",
    "\n",
    "1. `stg_postgres_orders`\n",
    "2. `stg_postgres_order_items`\n",
    "3. `stg_postgres_promos`\n",
    "\n",
    "**at the order level**. The model should be named `int_orders_joined_to_addresses_promos`.\n",
    "\n",
    "### Use-Case\n",
    "\n",
    "To get this **at the order level**, `order_items` must be aggregated from the product granularity to the order level by `order_id` before joining with the two other models. This `order_item` aggregation will be performed here so it does not need to repeated by the following marts models\n",
    "\n",
    "1. `fct_user_orders`\n",
    "2. `fct_promos`\n",
    "3. `fct_orders`\n",
    "\n",
    "all of which will use this intermediate model.\n",
    "\n",
    "### Notes\n",
    "\n",
    "1. This notebook supports <kbd>Run</kbd> > <kbd>Run All Cells</kbd>."
   ]
  },
  {
   "cell_type": "markdown",
   "id": "27b88564-9293-4724-ba4e-a0169d0e63c2",
   "metadata": {},
   "source": [
    "## User Inputs"
   ]
  },
  {
   "cell_type": "code",
   "execution_count": 3,
   "id": "2b69fdba-e3d1-4931-b5ee-5dc5934e932d",
   "metadata": {
    "editable": true,
    "slideshow": {
     "slide_type": ""
    },
    "tags": [
     "parameters"
    ]
   },
   "outputs": [],
   "source": [
    "#"
   ]
  },
  {
   "cell_type": "code",
   "execution_count": 4,
   "id": "9e15d357-ff74-4b41-a6f6-4d9bb53697fa",
   "metadata": {},
   "outputs": [],
   "source": [
    "engine = create_engine(\n",
    "    URL(\n",
    "        drivername=\"driver\",\n",
    "        account=os.getenv(\"UPLIMIT_SNOWFLAKE_ACCOUNT\"),\n",
    "        user=os.getenv(\"UPLIMIT_SNOWFLAKE_USER\"),\n",
    "        password=os.getenv(\"UPLIMIT_SNOWFLAKE_PASS\"),\n",
    "        warehouse=os.getenv(\"UPLIMIT_SNOWFLAKE_WAREHOUSE\"),\n",
    "        role=os.getenv(\"UPLIMIT_SNOWFLAKE_ROLE\"),\n",
    "        database=os.getenv(\"UPLIMIT_SNOWFLAKE_DB_NAME\"),\n",
    "        schema=os.getenv(\"UPLIMIT_SNOWFLAKE_SCHEMA\"),\n",
    "    )\n",
    ")"
   ]
  },
  {
   "cell_type": "markdown",
   "id": "3c7993ba-51d3-452c-8ee3-327872b9cd78",
   "metadata": {},
   "source": [
    "## Connect"
   ]
  },
  {
   "cell_type": "markdown",
   "id": "500baad2-909e-40dd-bddf-6fc6fc46c275",
   "metadata": {},
   "source": [
    "Load Jupyter SQL extension"
   ]
  },
  {
   "cell_type": "code",
   "execution_count": 5,
   "id": "8826c758-5caa-4dc6-a466-63a8f6e755dd",
   "metadata": {},
   "outputs": [],
   "source": [
    "%load_ext sql"
   ]
  },
  {
   "cell_type": "markdown",
   "id": "52a9da67-9f91-45c8-b835-8365f095bd07",
   "metadata": {},
   "source": [
    "Connect to DuckDB database"
   ]
  },
  {
   "cell_type": "code",
   "execution_count": 6,
   "id": "0738e982-713e-443d-8607-85339fe63b4c",
   "metadata": {},
   "outputs": [],
   "source": [
    "%sql engine --alias connection"
   ]
  },
  {
   "cell_type": "markdown",
   "id": "77001a74-48c9-418d-8e65-39bf0abbf8c5",
   "metadata": {},
   "source": [
    "## Exploratory Data Analysis"
   ]
  },
  {
   "cell_type": "markdown",
   "id": "8f4e40e4-acb5-437c-bc06-e4e4ce2814d8",
   "metadata": {},
   "source": []
  },
  {
   "cell_type": "code",
   "execution_count": 7,
   "id": "c43b18fa-d23c-4294-8387-49dca820664b",
   "metadata": {},
   "outputs": [
    {
     "data": {
      "text/html": [
       "<span style=\"None\">Running query in &#x27;connection&#x27;</span>"
      ],
      "text/plain": [
       "Running query in 'connection'"
      ]
     },
     "metadata": {},
     "output_type": "display_data"
    },
    {
     "data": {
      "text/html": [
       "<span style=\"color: green\">361 rows affected.</span>"
      ],
      "text/plain": [
       "361 rows affected."
      ]
     },
     "metadata": {},
     "output_type": "display_data"
    },
    {
     "data": {
      "text/html": [
       "<table>\n",
       "    <thead>\n",
       "        <tr>\n",
       "            <th>status</th>\n",
       "            <th>estimated_delivery_at</th>\n",
       "            <th>delivered_at</th>\n",
       "            <th>delivery_time_seconds</th>\n",
       "            <th>estimated_delivery_time_seconds</th>\n",
       "            <th>delivery_delay_seconds</th>\n",
       "            <th>is_on_time_delivery</th>\n",
       "        </tr>\n",
       "    </thead>\n",
       "    <tbody>\n",
       "        <tr>\n",
       "            <td>preparing</td>\n",
       "            <td>None</td>\n",
       "            <td>None</td>\n",
       "            <td>None</td>\n",
       "            <td>None</td>\n",
       "            <td>None</td>\n",
       "            <td>None</td>\n",
       "        </tr>\n",
       "        <tr>\n",
       "            <td>preparing</td>\n",
       "            <td>None</td>\n",
       "            <td>None</td>\n",
       "            <td>None</td>\n",
       "            <td>None</td>\n",
       "            <td>None</td>\n",
       "            <td>None</td>\n",
       "        </tr>\n",
       "        <tr>\n",
       "            <td>delivered</td>\n",
       "            <td>None</td>\n",
       "            <td>2021-02-17 20:31:00</td>\n",
       "            <td>604800</td>\n",
       "            <td>None</td>\n",
       "            <td>None</td>\n",
       "            <td>True</td>\n",
       "        </tr>\n",
       "        <tr>\n",
       "            <td>delivered</td>\n",
       "            <td>None</td>\n",
       "            <td>2021-02-12 00:54:07</td>\n",
       "            <td>86400</td>\n",
       "            <td>None</td>\n",
       "            <td>None</td>\n",
       "            <td>True</td>\n",
       "        </tr>\n",
       "        <tr>\n",
       "            <td>delivered</td>\n",
       "            <td>None</td>\n",
       "            <td>2021-02-11 07:04:30</td>\n",
       "            <td>86400</td>\n",
       "            <td>None</td>\n",
       "            <td>None</td>\n",
       "            <td>True</td>\n",
       "        </tr>\n",
       "        <tr>\n",
       "            <td>preparing</td>\n",
       "            <td>None</td>\n",
       "            <td>None</td>\n",
       "            <td>None</td>\n",
       "            <td>None</td>\n",
       "            <td>None</td>\n",
       "            <td>None</td>\n",
       "        </tr>\n",
       "        <tr>\n",
       "            <td>delivered</td>\n",
       "            <td>None</td>\n",
       "            <td>2021-02-14 13:37:32</td>\n",
       "            <td>345600</td>\n",
       "            <td>None</td>\n",
       "            <td>None</td>\n",
       "            <td>True</td>\n",
       "        </tr>\n",
       "        <tr>\n",
       "            <td>delivered</td>\n",
       "            <td>None</td>\n",
       "            <td>2021-02-12 08:39:03</td>\n",
       "            <td>86400</td>\n",
       "            <td>None</td>\n",
       "            <td>None</td>\n",
       "            <td>True</td>\n",
       "        </tr>\n",
       "        <tr>\n",
       "            <td>delivered</td>\n",
       "            <td>None</td>\n",
       "            <td>2021-02-11 20:23:20</td>\n",
       "            <td>86400</td>\n",
       "            <td>None</td>\n",
       "            <td>None</td>\n",
       "            <td>True</td>\n",
       "        </tr>\n",
       "        <tr>\n",
       "            <td>preparing</td>\n",
       "            <td>None</td>\n",
       "            <td>None</td>\n",
       "            <td>None</td>\n",
       "            <td>None</td>\n",
       "            <td>None</td>\n",
       "            <td>None</td>\n",
       "        </tr>\n",
       "    </tbody>\n",
       "</table>\n",
       "<span style=\"font-style:italic;text-align:center;\">Truncated to <a href=\"https://jupysql.ploomber.io/en/latest/api/configuration.html#displaylimit\">displaylimit</a> of 10.</span>"
      ],
      "text/plain": [
       "+-----------+-----------------------+---------------------+-----------------------+---------------------------------+------------------------+---------------------+\n",
       "|   status  | estimated_delivery_at |     delivered_at    | delivery_time_seconds | estimated_delivery_time_seconds | delivery_delay_seconds | is_on_time_delivery |\n",
       "+-----------+-----------------------+---------------------+-----------------------+---------------------------------+------------------------+---------------------+\n",
       "| preparing |          None         |         None        |          None         |               None              |          None          |         None        |\n",
       "| preparing |          None         |         None        |          None         |               None              |          None          |         None        |\n",
       "| delivered |          None         | 2021-02-17 20:31:00 |         604800        |               None              |          None          |         True        |\n",
       "| delivered |          None         | 2021-02-12 00:54:07 |         86400         |               None              |          None          |         True        |\n",
       "| delivered |          None         | 2021-02-11 07:04:30 |         86400         |               None              |          None          |         True        |\n",
       "| preparing |          None         |         None        |          None         |               None              |          None          |         None        |\n",
       "| delivered |          None         | 2021-02-14 13:37:32 |         345600        |               None              |          None          |         True        |\n",
       "| delivered |          None         | 2021-02-12 08:39:03 |         86400         |               None              |          None          |         True        |\n",
       "| delivered |          None         | 2021-02-11 20:23:20 |         86400         |               None              |          None          |         True        |\n",
       "| preparing |          None         |         None        |          None         |               None              |          None          |         None        |\n",
       "+-----------+-----------------------+---------------------+-----------------------+---------------------------------+------------------------+---------------------+\n",
       "Truncated to displaylimit of 10."
      ]
     },
     "execution_count": 7,
     "metadata": {},
     "output_type": "execute_result"
    }
   ],
   "source": [
    "%%sql\n",
    "WITH t1 AS (\n",
    "    SELECT status,\n",
    "           estimated_delivery_at,\n",
    "           delivered_at,\n",
    "           datediff(second, created_at, delivered_at) AS delivery_time_seconds,\n",
    "           datediff(\n",
    "               second, created_at, estimated_delivery_at\n",
    "           ) AS estimated_delivery_time_seconds,\n",
    "           (\n",
    "               CASE\n",
    "                   WHEN delivered_at > estimated_delivery_at\n",
    "                   THEN ABS(\n",
    "                       DATEDIFF(second, delivered_at, estimated_delivery_at)\n",
    "                   )\n",
    "                   ELSE NULL\n",
    "               END\n",
    "           ) AS delivery_delay_seconds,\n",
    "           (\n",
    "               CASE\n",
    "                   WHEN\n",
    "                       delivered_at > estimated_delivery_at\n",
    "                       AND status = 'delivered'\n",
    "                   THEN False\n",
    "                   WHEN status IN ('shipped', 'preparing') THEN NULL\n",
    "                   ELSE True\n",
    "               END\n",
    "           ) AS is_on_time_delivery\n",
    "    FROM stg_postgres_orders\n",
    ")\n",
    "SELECT *\n",
    "FROM t1\n",
    "WHERE status IN ('delivered', 'shipped', 'preparing')\n",
    "-- WHERE status IN ('shipped')\n",
    "-- WHERE status IN ('delivered')\n",
    "ORDER BY estimated_delivery_at DESC"
   ]
  },
  {
   "cell_type": "markdown",
   "id": "7010a7cc-5439-4aeb-92cb-8d0ea4d5beda",
   "metadata": {},
   "source": [
    "Show the different types of order statuses"
   ]
  },
  {
   "cell_type": "code",
   "execution_count": 8,
   "id": "8b0b667b-0836-4042-9376-498ce60277e1",
   "metadata": {},
   "outputs": [
    {
     "data": {
      "text/html": [
       "<span style=\"None\">Running query in &#x27;connection&#x27;</span>"
      ],
      "text/plain": [
       "Running query in 'connection'"
      ]
     },
     "metadata": {},
     "output_type": "display_data"
    },
    {
     "data": {
      "text/html": [
       "<span style=\"color: green\">3 rows affected.</span>"
      ],
      "text/plain": [
       "3 rows affected."
      ]
     },
     "metadata": {},
     "output_type": "display_data"
    },
    {
     "data": {
      "text/html": [
       "<table>\n",
       "    <thead>\n",
       "        <tr>\n",
       "            <th>status</th>\n",
       "        </tr>\n",
       "    </thead>\n",
       "    <tbody>\n",
       "        <tr>\n",
       "            <td>delivered</td>\n",
       "        </tr>\n",
       "        <tr>\n",
       "            <td>shipped</td>\n",
       "        </tr>\n",
       "        <tr>\n",
       "            <td>preparing</td>\n",
       "        </tr>\n",
       "    </tbody>\n",
       "</table>"
      ],
      "text/plain": [
       "+-----------+\n",
       "|   status  |\n",
       "+-----------+\n",
       "| delivered |\n",
       "|  shipped  |\n",
       "| preparing |\n",
       "+-----------+"
      ]
     },
     "execution_count": 8,
     "metadata": {},
     "output_type": "execute_result"
    }
   ],
   "source": [
    "%%sql\n",
    "SELECT DISTINCT(status) AS status\n",
    "FROM stg_postgres_orders"
   ]
  },
  {
   "cell_type": "markdown",
   "id": "aedab7f4-4d76-4c59-a2b5-1ca1813708ba",
   "metadata": {},
   "source": [
    "Show the different address states"
   ]
  },
  {
   "cell_type": "code",
   "execution_count": 9,
   "id": "8687f7c3-bc13-4861-b8e3-8f41a61802d3",
   "metadata": {},
   "outputs": [
    {
     "data": {
      "text/html": [
       "<span style=\"None\">Running query in &#x27;connection&#x27;</span>"
      ],
      "text/plain": [
       "Running query in 'connection'"
      ]
     },
     "metadata": {},
     "output_type": "display_data"
    },
    {
     "data": {
      "text/html": [
       "<span style=\"color: green\">38 rows affected.</span>"
      ],
      "text/plain": [
       "38 rows affected."
      ]
     },
     "metadata": {},
     "output_type": "display_data"
    },
    {
     "data": {
      "text/html": [
       "<table>\n",
       "    <thead>\n",
       "        <tr>\n",
       "            <th>state_name</th>\n",
       "        </tr>\n",
       "    </thead>\n",
       "    <tbody>\n",
       "        <tr>\n",
       "            <td>California</td>\n",
       "        </tr>\n",
       "        <tr>\n",
       "            <td>Arizona</td>\n",
       "        </tr>\n",
       "        <tr>\n",
       "            <td>Maryland</td>\n",
       "        </tr>\n",
       "        <tr>\n",
       "            <td>Illinois</td>\n",
       "        </tr>\n",
       "        <tr>\n",
       "            <td>Florida</td>\n",
       "        </tr>\n",
       "        <tr>\n",
       "            <td>Virginia</td>\n",
       "        </tr>\n",
       "        <tr>\n",
       "            <td>Pennsylvania</td>\n",
       "        </tr>\n",
       "        <tr>\n",
       "            <td>Alabama</td>\n",
       "        </tr>\n",
       "        <tr>\n",
       "            <td>Texas</td>\n",
       "        </tr>\n",
       "        <tr>\n",
       "            <td>West Virginia</td>\n",
       "        </tr>\n",
       "    </tbody>\n",
       "</table>\n",
       "<span style=\"font-style:italic;text-align:center;\">Truncated to <a href=\"https://jupysql.ploomber.io/en/latest/api/configuration.html#displaylimit\">displaylimit</a> of 10.</span>"
      ],
      "text/plain": [
       "+---------------+\n",
       "|   state_name  |\n",
       "+---------------+\n",
       "|   California  |\n",
       "|    Arizona    |\n",
       "|    Maryland   |\n",
       "|    Illinois   |\n",
       "|    Florida    |\n",
       "|    Virginia   |\n",
       "|  Pennsylvania |\n",
       "|    Alabama    |\n",
       "|     Texas     |\n",
       "| West Virginia |\n",
       "+---------------+\n",
       "Truncated to displaylimit of 10."
      ]
     },
     "execution_count": 9,
     "metadata": {},
     "output_type": "execute_result"
    }
   ],
   "source": [
    "%%sql\n",
    "SELECT DISTINCT(state) AS state_name\n",
    "FROM stg_postgres_addresses"
   ]
  },
  {
   "cell_type": "markdown",
   "id": "69c819ea-ab44-4259-be97-19374c5d7d9a",
   "metadata": {},
   "source": [
    "Show the first few rows of the `addresses` table"
   ]
  },
  {
   "cell_type": "code",
   "execution_count": 10,
   "id": "f23dcced-3bc7-4421-b25c-6595ad6bbf8b",
   "metadata": {},
   "outputs": [
    {
     "data": {
      "text/html": [
       "<span style=\"None\">Running query in &#x27;connection&#x27;</span>"
      ],
      "text/plain": [
       "Running query in 'connection'"
      ]
     },
     "metadata": {},
     "output_type": "display_data"
    },
    {
     "data": {
      "text/html": [
       "<span style=\"color: green\">4 rows affected.</span>"
      ],
      "text/plain": [
       "4 rows affected."
      ]
     },
     "metadata": {},
     "output_type": "display_data"
    },
    {
     "data": {
      "text/html": [
       "<table>\n",
       "    <thead>\n",
       "        <tr>\n",
       "            <th>address_id</th>\n",
       "            <th>address</th>\n",
       "            <th>zipcode</th>\n",
       "            <th>state</th>\n",
       "            <th>country</th>\n",
       "        </tr>\n",
       "    </thead>\n",
       "    <tbody>\n",
       "        <tr>\n",
       "            <td>299ec70d-f1e7-4807-9d0e-6fd86e3ebcab</td>\n",
       "            <td>220 Artisan Park</td>\n",
       "            <td>92056</td>\n",
       "            <td>California</td>\n",
       "            <td>United States</td>\n",
       "        </tr>\n",
       "        <tr>\n",
       "            <td>957af504-cee3-4f3a-8f5a-eb5a5bd23b16</td>\n",
       "            <td>85717 Carberry Street</td>\n",
       "            <td>85062</td>\n",
       "            <td>Arizona</td>\n",
       "            <td>United States</td>\n",
       "        </tr>\n",
       "        <tr>\n",
       "            <td>ff8d0181-f21e-4235-bf7c-e5f917c6b55f</td>\n",
       "            <td>5423 Tennyson Alley</td>\n",
       "            <td>21282</td>\n",
       "            <td>Maryland</td>\n",
       "            <td>United States</td>\n",
       "        </tr>\n",
       "        <tr>\n",
       "            <td>b5d85492-b403-4f52-a42b-4363716f4cfb</td>\n",
       "            <td>4 Sutherland Alley</td>\n",
       "            <td>62723</td>\n",
       "            <td>Illinois</td>\n",
       "            <td>United States</td>\n",
       "        </tr>\n",
       "    </tbody>\n",
       "</table>"
      ],
      "text/plain": [
       "+--------------------------------------+-----------------------+---------+------------+---------------+\n",
       "|              address_id              |        address        | zipcode |   state    |    country    |\n",
       "+--------------------------------------+-----------------------+---------+------------+---------------+\n",
       "| 299ec70d-f1e7-4807-9d0e-6fd86e3ebcab |    220 Artisan Park   |  92056  | California | United States |\n",
       "| 957af504-cee3-4f3a-8f5a-eb5a5bd23b16 | 85717 Carberry Street |  85062  |  Arizona   | United States |\n",
       "| ff8d0181-f21e-4235-bf7c-e5f917c6b55f |  5423 Tennyson Alley  |  21282  |  Maryland  | United States |\n",
       "| b5d85492-b403-4f52-a42b-4363716f4cfb |   4 Sutherland Alley  |  62723  |  Illinois  | United States |\n",
       "+--------------------------------------+-----------------------+---------+------------+---------------+"
      ]
     },
     "execution_count": 10,
     "metadata": {},
     "output_type": "execute_result"
    }
   ],
   "source": [
    "%%sql\n",
    "SELECT *\n",
    "FROM stg_postgres_addresses\n",
    "LIMIT 4"
   ]
  },
  {
   "cell_type": "markdown",
   "id": "e50b8fcf-df1b-419b-932d-486f2810e201",
   "metadata": {},
   "source": [
    "Show the first few rows of the `users` table"
   ]
  },
  {
   "cell_type": "code",
   "execution_count": 11,
   "id": "7b27abe5-b83d-4898-a0d9-8cb70ae3948e",
   "metadata": {},
   "outputs": [
    {
     "data": {
      "text/html": [
       "<span style=\"None\">Running query in &#x27;connection&#x27;</span>"
      ],
      "text/plain": [
       "Running query in 'connection'"
      ]
     },
     "metadata": {},
     "output_type": "display_data"
    },
    {
     "data": {
      "text/html": [
       "<span style=\"color: green\">4 rows affected.</span>"
      ],
      "text/plain": [
       "4 rows affected."
      ]
     },
     "metadata": {},
     "output_type": "display_data"
    },
    {
     "data": {
      "text/html": [
       "<table>\n",
       "    <thead>\n",
       "        <tr>\n",
       "            <th>user_id</th>\n",
       "            <th>first_name</th>\n",
       "            <th>last_name</th>\n",
       "            <th>email</th>\n",
       "            <th>phone_number</th>\n",
       "            <th>created_at</th>\n",
       "            <th>updated_at</th>\n",
       "            <th>address_id</th>\n",
       "        </tr>\n",
       "    </thead>\n",
       "    <tbody>\n",
       "        <tr>\n",
       "            <td>bbe51ac6-6687-4cbe-9178-27d96f90836b</td>\n",
       "            <td>Keslie</td>\n",
       "            <td>Hearmon</td>\n",
       "            <td>khearmon0@netvibes.com</td>\n",
       "            <td>831-155-1615</td>\n",
       "            <td>2020-10-23 20:21:57</td>\n",
       "            <td>2021-01-30 22:49:31</td>\n",
       "            <td>7a4821e6-4e7a-4894-bb35-70ffcf0c3aa8</td>\n",
       "        </tr>\n",
       "        <tr>\n",
       "            <td>eb8ac155-9558-47a2-ad5d-3a2518ec563c</td>\n",
       "            <td>Gerhard</td>\n",
       "            <td>Kernan</td>\n",
       "            <td>gkernan1@51.la</td>\n",
       "            <td>879-706-2066</td>\n",
       "            <td>2020-09-24 05:33:20</td>\n",
       "            <td>2020-10-10 06:11:13</td>\n",
       "            <td>dd1048ba-46a5-4d80-a7e1-b1592c161a4c</td>\n",
       "        </tr>\n",
       "        <tr>\n",
       "            <td>7091fe90-07da-424c-8da6-24e024503be2</td>\n",
       "            <td>Edithe</td>\n",
       "            <td>Petricek</td>\n",
       "            <td>epetricek2@purevolume.com</td>\n",
       "            <td>407-316-0158</td>\n",
       "            <td>2020-02-20 05:46:49</td>\n",
       "            <td>2020-05-13 08:09:47</td>\n",
       "            <td>4a9bcc05-a07b-4507-9d42-a2325a4844fa</td>\n",
       "        </tr>\n",
       "        <tr>\n",
       "            <td>ab21c3fa-34c7-4858-bee5-193775913caf</td>\n",
       "            <td>Danella</td>\n",
       "            <td>Wrankmore</td>\n",
       "            <td>dwrankmore3@europa.eu</td>\n",
       "            <td>118-153-0530</td>\n",
       "            <td>2020-04-01 11:01:25</td>\n",
       "            <td>2020-04-01 12:19:52</td>\n",
       "            <td>6b49d7c6-6ede-4a8a-ade1-ec5888c7ce14</td>\n",
       "        </tr>\n",
       "    </tbody>\n",
       "</table>"
      ],
      "text/plain": [
       "+--------------------------------------+------------+-----------+---------------------------+--------------+---------------------+---------------------+--------------------------------------+\n",
       "|               user_id                | first_name | last_name |           email           | phone_number |      created_at     |      updated_at     |              address_id              |\n",
       "+--------------------------------------+------------+-----------+---------------------------+--------------+---------------------+---------------------+--------------------------------------+\n",
       "| bbe51ac6-6687-4cbe-9178-27d96f90836b |   Keslie   |  Hearmon  |   khearmon0@netvibes.com  | 831-155-1615 | 2020-10-23 20:21:57 | 2021-01-30 22:49:31 | 7a4821e6-4e7a-4894-bb35-70ffcf0c3aa8 |\n",
       "| eb8ac155-9558-47a2-ad5d-3a2518ec563c |  Gerhard   |   Kernan  |       gkernan1@51.la      | 879-706-2066 | 2020-09-24 05:33:20 | 2020-10-10 06:11:13 | dd1048ba-46a5-4d80-a7e1-b1592c161a4c |\n",
       "| 7091fe90-07da-424c-8da6-24e024503be2 |   Edithe   |  Petricek | epetricek2@purevolume.com | 407-316-0158 | 2020-02-20 05:46:49 | 2020-05-13 08:09:47 | 4a9bcc05-a07b-4507-9d42-a2325a4844fa |\n",
       "| ab21c3fa-34c7-4858-bee5-193775913caf |  Danella   | Wrankmore |   dwrankmore3@europa.eu   | 118-153-0530 | 2020-04-01 11:01:25 | 2020-04-01 12:19:52 | 6b49d7c6-6ede-4a8a-ade1-ec5888c7ce14 |\n",
       "+--------------------------------------+------------+-----------+---------------------------+--------------+---------------------+---------------------+--------------------------------------+"
      ]
     },
     "execution_count": 11,
     "metadata": {},
     "output_type": "execute_result"
    }
   ],
   "source": [
    "%%sql\n",
    "SELECT *\n",
    "FROM stg_postgres_users\n",
    "LIMIT 4"
   ]
  },
  {
   "cell_type": "markdown",
   "id": "66f1af33-90f2-43ed-8bb8-e4c67b79d889",
   "metadata": {},
   "source": [
    "Count the number of users in all the models with `user_id` in them\n",
    "\n",
    "1. `stg_postgres_users`\n",
    "2. `stg_postgres_orders`\n",
    "3. `stg_postgres_events`"
   ]
  },
  {
   "cell_type": "code",
   "execution_count": 12,
   "id": "7aebe612-5aa7-4a74-a21c-f865266d18f0",
   "metadata": {},
   "outputs": [
    {
     "data": {
      "text/html": [
       "<span style=\"None\">Running query in &#x27;connection&#x27;</span>"
      ],
      "text/plain": [
       "Running query in 'connection'"
      ]
     },
     "metadata": {},
     "output_type": "display_data"
    },
    {
     "data": {
      "text/html": [
       "<span style=\"color: green\">3 rows affected.</span>"
      ],
      "text/plain": [
       "3 rows affected."
      ]
     },
     "metadata": {},
     "output_type": "display_data"
    },
    {
     "data": {
      "text/html": [
       "<table>\n",
       "    <thead>\n",
       "        <tr>\n",
       "            <th>num_users</th>\n",
       "            <th>model_name</th>\n",
       "        </tr>\n",
       "    </thead>\n",
       "    <tbody>\n",
       "        <tr>\n",
       "            <td>130</td>\n",
       "            <td>stg_postgres_users</td>\n",
       "        </tr>\n",
       "        <tr>\n",
       "            <td>124</td>\n",
       "            <td>stg_postgres_orders</td>\n",
       "        </tr>\n",
       "        <tr>\n",
       "            <td>124</td>\n",
       "            <td>stg_postgres_events</td>\n",
       "        </tr>\n",
       "    </tbody>\n",
       "</table>"
      ],
      "text/plain": [
       "+-----------+---------------------+\n",
       "| num_users |      model_name     |\n",
       "+-----------+---------------------+\n",
       "|    130    |  stg_postgres_users |\n",
       "|    124    | stg_postgres_orders |\n",
       "|    124    | stg_postgres_events |\n",
       "+-----------+---------------------+"
      ]
     },
     "execution_count": 12,
     "metadata": {},
     "output_type": "execute_result"
    }
   ],
   "source": [
    "%%sql\n",
    "SELECT COUNT(DISTINCT(user_id)) As num_users,\n",
    "       'stg_postgres_users' AS model_name\n",
    "FROM stg_postgres_users\n",
    "UNION ALL\n",
    "SELECT COUNT(DISTINCT(user_id)) As num_users,\n",
    "       'stg_postgres_orders' AS model_name\n",
    "FROM stg_postgres_orders\n",
    "UNION ALL\n",
    "SELECT COUNT(DISTINCT(user_id)) As num_users,\n",
    "       'stg_postgres_events' AS model_name\n",
    "FROM stg_postgres_events"
   ]
  },
  {
   "cell_type": "markdown",
   "id": "b99f4aec-08bf-4472-8e30-bc227a2f2fb0",
   "metadata": {},
   "source": [
    "Show the first few rows of the `orders` table"
   ]
  },
  {
   "cell_type": "code",
   "execution_count": 13,
   "id": "a95f9e8f-2b56-4df9-a9d9-2ade3fcbf474",
   "metadata": {},
   "outputs": [
    {
     "data": {
      "text/html": [
       "<span style=\"None\">Running query in &#x27;connection&#x27;</span>"
      ],
      "text/plain": [
       "Running query in 'connection'"
      ]
     },
     "metadata": {},
     "output_type": "display_data"
    },
    {
     "data": {
      "text/html": [
       "<span style=\"color: green\">4 rows affected.</span>"
      ],
      "text/plain": [
       "4 rows affected."
      ]
     },
     "metadata": {},
     "output_type": "display_data"
    },
    {
     "data": {
      "text/html": [
       "<table>\n",
       "    <thead>\n",
       "        <tr>\n",
       "            <th>order_id</th>\n",
       "            <th>user_id</th>\n",
       "            <th>promo_id</th>\n",
       "            <th>address_id</th>\n",
       "            <th>created_at</th>\n",
       "            <th>order_cost</th>\n",
       "            <th>shipping_cost</th>\n",
       "            <th>order_total</th>\n",
       "            <th>tracking_id</th>\n",
       "            <th>shipping_service</th>\n",
       "            <th>estimated_delivery_at</th>\n",
       "            <th>delivered_at</th>\n",
       "            <th>status</th>\n",
       "        </tr>\n",
       "    </thead>\n",
       "    <tbody>\n",
       "        <tr>\n",
       "            <td>8329a65b-7ddf-4250-aeee-bd625f8a401a</td>\n",
       "            <td>b3367c91-53bd-4aac-ab6d-0a596fe382c2</td>\n",
       "            <td>None</td>\n",
       "            <td>d2fbe240-64ac-4feb-a360-8a9197f8b8ae</td>\n",
       "            <td>2021-02-11 23:30:34</td>\n",
       "            <td>551.9</td>\n",
       "            <td>5.16</td>\n",
       "            <td>557.06</td>\n",
       "            <td>1b2b3cff-dec1-47f6-a507-a64de9ddc663</td>\n",
       "            <td>ups</td>\n",
       "            <td>2021-02-12 23:30:34</td>\n",
       "            <td>2021-02-17 23:30:34</td>\n",
       "            <td>delivered</td>\n",
       "        </tr>\n",
       "        <tr>\n",
       "            <td>f3ab84e6-dec5-43b4-9aa7-45b9988bff58</td>\n",
       "            <td>5faf7aa9-ca1a-44b6-bc00-5954bc39cc91</td>\n",
       "            <td>None</td>\n",
       "            <td>4a9bcc05-a07b-4507-9d42-a2325a4844fa</td>\n",
       "            <td>2021-02-11 15:13:09</td>\n",
       "            <td>121.0</td>\n",
       "            <td>2.72</td>\n",
       "            <td>123.72</td>\n",
       "            <td>02039212-f3fa-4bac-abf3-d2ea8365b837</td>\n",
       "            <td>usps</td>\n",
       "            <td>2021-02-16 15:13:09</td>\n",
       "            <td>2021-02-13 15:13:09</td>\n",
       "            <td>delivered</td>\n",
       "        </tr>\n",
       "        <tr>\n",
       "            <td>8385cfcd-2b3f-443a-a676-9756f7eb5404</td>\n",
       "            <td>96aa719e-c5a3-4645-ba89-16c304fb59b0</td>\n",
       "            <td>None</td>\n",
       "            <td>1ceb9167-9852-45a7-8109-57b077d8a2e0</td>\n",
       "            <td>2021-02-11 02:19:17</td>\n",
       "            <td>205.5</td>\n",
       "            <td>1.44</td>\n",
       "            <td>206.94</td>\n",
       "            <td>19be4f7f-ae92-494e-99bd-6813bb41d592</td>\n",
       "            <td>ups</td>\n",
       "            <td>2022-10-18 10:15:26</td>\n",
       "            <td>None</td>\n",
       "            <td>shipped</td>\n",
       "        </tr>\n",
       "        <tr>\n",
       "            <td>55164b42-78d3-4c4e-9dd3-cce61b956403</td>\n",
       "            <td>aa2bd310-8be1-4b6c-a852-2789d8652ac7</td>\n",
       "            <td>None</td>\n",
       "            <td>c8e06217-c625-471f-8cdc-88c3e39f6b2c</td>\n",
       "            <td>2021-02-11 23:35:14</td>\n",
       "            <td>45.0</td>\n",
       "            <td>8.07</td>\n",
       "            <td>53.07</td>\n",
       "            <td>23c92052-e262-45bf-86af-312cb12ac472</td>\n",
       "            <td>usps</td>\n",
       "            <td>2021-02-14 23:35:14</td>\n",
       "            <td>2021-02-15 23:35:14</td>\n",
       "            <td>delivered</td>\n",
       "        </tr>\n",
       "    </tbody>\n",
       "</table>"
      ],
      "text/plain": [
       "+--------------------------------------+--------------------------------------+----------+--------------------------------------+---------------------+------------+---------------+-------------+--------------------------------------+------------------+-----------------------+---------------------+-----------+\n",
       "|               order_id               |               user_id                | promo_id |              address_id              |      created_at     | order_cost | shipping_cost | order_total |             tracking_id              | shipping_service | estimated_delivery_at |     delivered_at    |   status  |\n",
       "+--------------------------------------+--------------------------------------+----------+--------------------------------------+---------------------+------------+---------------+-------------+--------------------------------------+------------------+-----------------------+---------------------+-----------+\n",
       "| 8329a65b-7ddf-4250-aeee-bd625f8a401a | b3367c91-53bd-4aac-ab6d-0a596fe382c2 |   None   | d2fbe240-64ac-4feb-a360-8a9197f8b8ae | 2021-02-11 23:30:34 |   551.9    |      5.16     |    557.06   | 1b2b3cff-dec1-47f6-a507-a64de9ddc663 |       ups        |  2021-02-12 23:30:34  | 2021-02-17 23:30:34 | delivered |\n",
       "| f3ab84e6-dec5-43b4-9aa7-45b9988bff58 | 5faf7aa9-ca1a-44b6-bc00-5954bc39cc91 |   None   | 4a9bcc05-a07b-4507-9d42-a2325a4844fa | 2021-02-11 15:13:09 |   121.0    |      2.72     |    123.72   | 02039212-f3fa-4bac-abf3-d2ea8365b837 |       usps       |  2021-02-16 15:13:09  | 2021-02-13 15:13:09 | delivered |\n",
       "| 8385cfcd-2b3f-443a-a676-9756f7eb5404 | 96aa719e-c5a3-4645-ba89-16c304fb59b0 |   None   | 1ceb9167-9852-45a7-8109-57b077d8a2e0 | 2021-02-11 02:19:17 |   205.5    |      1.44     |    206.94   | 19be4f7f-ae92-494e-99bd-6813bb41d592 |       ups        |  2022-10-18 10:15:26  |         None        |  shipped  |\n",
       "| 55164b42-78d3-4c4e-9dd3-cce61b956403 | aa2bd310-8be1-4b6c-a852-2789d8652ac7 |   None   | c8e06217-c625-471f-8cdc-88c3e39f6b2c | 2021-02-11 23:35:14 |    45.0    |      8.07     |    53.07    | 23c92052-e262-45bf-86af-312cb12ac472 |       usps       |  2021-02-14 23:35:14  | 2021-02-15 23:35:14 | delivered |\n",
       "+--------------------------------------+--------------------------------------+----------+--------------------------------------+---------------------+------------+---------------+-------------+--------------------------------------+------------------+-----------------------+---------------------+-----------+"
      ]
     },
     "execution_count": 13,
     "metadata": {},
     "output_type": "execute_result"
    }
   ],
   "source": [
    "%%sql\n",
    "SELECT *\n",
    "FROM stg_postgres_orders\n",
    "LIMIT 4"
   ]
  },
  {
   "cell_type": "markdown",
   "id": "fa470576-18d2-48d3-8285-1aafd87e2676",
   "metadata": {},
   "source": [
    "Show the first few rows of the `order_items` table"
   ]
  },
  {
   "cell_type": "code",
   "execution_count": 14,
   "id": "6a17bbd8-88de-467f-bc0b-033b72cc54cf",
   "metadata": {},
   "outputs": [
    {
     "data": {
      "text/html": [
       "<span style=\"None\">Running query in &#x27;connection&#x27;</span>"
      ],
      "text/plain": [
       "Running query in 'connection'"
      ]
     },
     "metadata": {},
     "output_type": "display_data"
    },
    {
     "data": {
      "text/html": [
       "<span style=\"color: green\">8 rows affected.</span>"
      ],
      "text/plain": [
       "8 rows affected."
      ]
     },
     "metadata": {},
     "output_type": "display_data"
    },
    {
     "data": {
      "text/html": [
       "<table>\n",
       "    <thead>\n",
       "        <tr>\n",
       "            <th>order_id</th>\n",
       "            <th>product_id</th>\n",
       "            <th>quantity</th>\n",
       "        </tr>\n",
       "    </thead>\n",
       "    <tbody>\n",
       "        <tr>\n",
       "            <td>5e75b8f4-e03e-462f-8a91-027bfaf3e8b4</td>\n",
       "            <td>c7050c3b-a898-424d-8d98-ab0aaad7bef4</td>\n",
       "            <td>3</td>\n",
       "        </tr>\n",
       "        <tr>\n",
       "            <td>c615ea16-2b87-471c-a40e-f1a1b81df308</td>\n",
       "            <td>e18f33a6-b89a-4fbc-82ad-ccba5bb261cc</td>\n",
       "            <td>2</td>\n",
       "        </tr>\n",
       "        <tr>\n",
       "            <td>1747e0c2-2649-4b8b-8048-540425302a8f</td>\n",
       "            <td>80eda933-749d-4fc6-91d5-613d29eb126f</td>\n",
       "            <td>2</td>\n",
       "        </tr>\n",
       "        <tr>\n",
       "            <td>44f19d9b-6f8d-4c04-8c1e-ee05a171a48a</td>\n",
       "            <td>689fb64e-a4a2-45c5-b9f2-480c2155624d</td>\n",
       "            <td>4</td>\n",
       "        </tr>\n",
       "        <tr>\n",
       "            <td>906ac891-d7a7-4d50-b4c6-c982fae2fc2d</td>\n",
       "            <td>e18f33a6-b89a-4fbc-82ad-ccba5bb261cc</td>\n",
       "            <td>4</td>\n",
       "        </tr>\n",
       "        <tr>\n",
       "            <td>885ebd5d-6a82-4802-a241-2e52e223df5a</td>\n",
       "            <td>64d39754-03e4-4fa0-b1ea-5f4293315f67</td>\n",
       "            <td>2</td>\n",
       "        </tr>\n",
       "        <tr>\n",
       "            <td>05202733-0e17-4726-97c2-0520c024ab85</td>\n",
       "            <td>689fb64e-a4a2-45c5-b9f2-480c2155624d</td>\n",
       "            <td>4</td>\n",
       "        </tr>\n",
       "        <tr>\n",
       "            <td>97c51e08-8026-44cb-af4b-15f8011e4931</td>\n",
       "            <td>bb19d194-e1bd-4358-819e-cd1f1b401c0c</td>\n",
       "            <td>4</td>\n",
       "        </tr>\n",
       "    </tbody>\n",
       "</table>"
      ],
      "text/plain": [
       "+--------------------------------------+--------------------------------------+----------+\n",
       "|               order_id               |              product_id              | quantity |\n",
       "+--------------------------------------+--------------------------------------+----------+\n",
       "| 5e75b8f4-e03e-462f-8a91-027bfaf3e8b4 | c7050c3b-a898-424d-8d98-ab0aaad7bef4 |    3     |\n",
       "| c615ea16-2b87-471c-a40e-f1a1b81df308 | e18f33a6-b89a-4fbc-82ad-ccba5bb261cc |    2     |\n",
       "| 1747e0c2-2649-4b8b-8048-540425302a8f | 80eda933-749d-4fc6-91d5-613d29eb126f |    2     |\n",
       "| 44f19d9b-6f8d-4c04-8c1e-ee05a171a48a | 689fb64e-a4a2-45c5-b9f2-480c2155624d |    4     |\n",
       "| 906ac891-d7a7-4d50-b4c6-c982fae2fc2d | e18f33a6-b89a-4fbc-82ad-ccba5bb261cc |    4     |\n",
       "| 885ebd5d-6a82-4802-a241-2e52e223df5a | 64d39754-03e4-4fa0-b1ea-5f4293315f67 |    2     |\n",
       "| 05202733-0e17-4726-97c2-0520c024ab85 | 689fb64e-a4a2-45c5-b9f2-480c2155624d |    4     |\n",
       "| 97c51e08-8026-44cb-af4b-15f8011e4931 | bb19d194-e1bd-4358-819e-cd1f1b401c0c |    4     |\n",
       "+--------------------------------------+--------------------------------------+----------+"
      ]
     },
     "execution_count": 14,
     "metadata": {},
     "output_type": "execute_result"
    }
   ],
   "source": [
    "%%sql\n",
    "SELECT *\n",
    "FROM stg_postgres_order_items\n",
    "LIMIT 8"
   ]
  },
  {
   "cell_type": "markdown",
   "id": "021c155a-c0ab-44b5-89de-60a0d9a1c110",
   "metadata": {},
   "source": [
    "Show the number of\n",
    "\n",
    "1. orders and products\n",
    "2. distinct orders and distinct products"
   ]
  },
  {
   "cell_type": "code",
   "execution_count": 15,
   "id": "27d89815-5d02-4aaa-91fd-e5b5ca2d78c0",
   "metadata": {},
   "outputs": [
    {
     "data": {
      "text/html": [
       "<span style=\"None\">Running query in &#x27;connection&#x27;</span>"
      ],
      "text/plain": [
       "Running query in 'connection'"
      ]
     },
     "metadata": {},
     "output_type": "display_data"
    },
    {
     "data": {
      "text/html": [
       "<span style=\"color: green\">1 rows affected.</span>"
      ],
      "text/plain": [
       "1 rows affected."
      ]
     },
     "metadata": {},
     "output_type": "display_data"
    },
    {
     "data": {
      "text/html": [
       "<table>\n",
       "    <thead>\n",
       "        <tr>\n",
       "            <th>num_distinct_orders</th>\n",
       "            <th>num_orders</th>\n",
       "            <th>num_distinct_products</th>\n",
       "            <th>num_products</th>\n",
       "        </tr>\n",
       "    </thead>\n",
       "    <tbody>\n",
       "        <tr>\n",
       "            <td>361</td>\n",
       "            <td>862</td>\n",
       "            <td>30</td>\n",
       "            <td>862</td>\n",
       "        </tr>\n",
       "    </tbody>\n",
       "</table>"
      ],
      "text/plain": [
       "+---------------------+------------+-----------------------+--------------+\n",
       "| num_distinct_orders | num_orders | num_distinct_products | num_products |\n",
       "+---------------------+------------+-----------------------+--------------+\n",
       "|         361         |    862     |           30          |     862      |\n",
       "+---------------------+------------+-----------------------+--------------+"
      ]
     },
     "execution_count": 15,
     "metadata": {},
     "output_type": "execute_result"
    }
   ],
   "source": [
    "%%sql\n",
    "SELECT COUNT(DISTINCT(order_id)) As num_distinct_orders,\n",
    "       COUNT(order_id) As num_orders,\n",
    "       COUNT(DISTINCT(product_id)) As num_distinct_products,\n",
    "       COUNT(product_id) As num_products\n",
    "FROM stg_postgres_order_items"
   ]
  },
  {
   "cell_type": "markdown",
   "id": "10b405be-4c79-4199-9783-654acbd560d4",
   "metadata": {},
   "source": [
    "Show number of orders that meet any of the following criteria\n",
    "\n",
    "1. `order_cost` = 0\n",
    "1. `order_total` = 0"
   ]
  },
  {
   "cell_type": "code",
   "execution_count": 16,
   "id": "d92385b0-a9e2-4359-874d-f2e3901076dc",
   "metadata": {},
   "outputs": [
    {
     "data": {
      "text/html": [
       "<span style=\"None\">Running query in &#x27;connection&#x27;</span>"
      ],
      "text/plain": [
       "Running query in 'connection'"
      ]
     },
     "metadata": {},
     "output_type": "display_data"
    },
    {
     "data": {
      "text/html": [
       "<span style=\"color: green\">1 rows affected.</span>"
      ],
      "text/plain": [
       "1 rows affected."
      ]
     },
     "metadata": {},
     "output_type": "display_data"
    },
    {
     "data": {
      "text/html": [
       "<table>\n",
       "    <thead>\n",
       "        <tr>\n",
       "            <th>num_zero_cost_orders</th>\n",
       "        </tr>\n",
       "    </thead>\n",
       "    <tbody>\n",
       "        <tr>\n",
       "            <td>0</td>\n",
       "        </tr>\n",
       "    </tbody>\n",
       "</table>"
      ],
      "text/plain": [
       "+----------------------+\n",
       "| num_zero_cost_orders |\n",
       "+----------------------+\n",
       "|          0           |\n",
       "+----------------------+"
      ]
     },
     "execution_count": 16,
     "metadata": {},
     "output_type": "execute_result"
    }
   ],
   "source": [
    "%%sql\n",
    "SELECT COUNT(*) AS num_zero_cost_orders\n",
    "FROM stg_postgres_orders\n",
    "WHERE order_cost = 0\n",
    "OR order_total = 0"
   ]
  },
  {
   "cell_type": "markdown",
   "id": "7aeb93f6-4daf-492b-ac41-5ffedb87c044",
   "metadata": {},
   "source": [
    "Get the first and last order date from the `orders` table"
   ]
  },
  {
   "cell_type": "code",
   "execution_count": 17,
   "id": "227d0dba-b41d-433f-be81-a0edb1966d88",
   "metadata": {},
   "outputs": [
    {
     "data": {
      "text/html": [
       "<span style=\"None\">Running query in &#x27;connection&#x27;</span>"
      ],
      "text/plain": [
       "Running query in 'connection'"
      ]
     },
     "metadata": {},
     "output_type": "display_data"
    },
    {
     "data": {
      "text/html": [
       "<span style=\"color: green\">1 rows affected.</span>"
      ],
      "text/plain": [
       "1 rows affected."
      ]
     },
     "metadata": {},
     "output_type": "display_data"
    },
    {
     "data": {
      "text/html": [
       "<table>\n",
       "    <thead>\n",
       "        <tr>\n",
       "            <th>first_order_date</th>\n",
       "            <th>last_order_date</th>\n",
       "        </tr>\n",
       "    </thead>\n",
       "    <tbody>\n",
       "        <tr>\n",
       "            <td>2021-02-10</td>\n",
       "            <td>2021-02-11</td>\n",
       "        </tr>\n",
       "    </tbody>\n",
       "</table>"
      ],
      "text/plain": [
       "+------------------+-----------------+\n",
       "| first_order_date | last_order_date |\n",
       "+------------------+-----------------+\n",
       "|    2021-02-10    |    2021-02-11   |\n",
       "+------------------+-----------------+"
      ]
     },
     "execution_count": 17,
     "metadata": {},
     "output_type": "execute_result"
    }
   ],
   "source": [
    "%%sql\n",
    "SELECT TO_DATE(MIN(created_at)) AS first_order_date,\n",
    "       TO_DATE(MAX(created_at)) AS last_order_date\n",
    "FROM stg_postgres_orders"
   ]
  },
  {
   "cell_type": "markdown",
   "id": "eec75ae2-f228-4140-bd7d-30d031cee21b",
   "metadata": {},
   "source": [
    "Get the addresses with multiple users"
   ]
  },
  {
   "cell_type": "code",
   "execution_count": 18,
   "id": "5ebd4090-fdb4-406b-b48a-7b1446093d56",
   "metadata": {},
   "outputs": [
    {
     "data": {
      "text/html": [
       "<span style=\"None\">Running query in &#x27;connection&#x27;</span>"
      ],
      "text/plain": [
       "Running query in 'connection'"
      ]
     },
     "metadata": {},
     "output_type": "display_data"
    },
    {
     "data": {
      "text/html": [
       "<span style=\"color: green\">34 rows affected.</span>"
      ],
      "text/plain": [
       "34 rows affected."
      ]
     },
     "metadata": {},
     "output_type": "display_data"
    },
    {
     "data": {
      "text/html": [
       "<table>\n",
       "    <thead>\n",
       "        <tr>\n",
       "            <th>address_id</th>\n",
       "            <th>num_users</th>\n",
       "        </tr>\n",
       "    </thead>\n",
       "    <tbody>\n",
       "        <tr>\n",
       "            <td>4a9bcc05-a07b-4507-9d42-a2325a4844fa</td>\n",
       "            <td>2</td>\n",
       "        </tr>\n",
       "        <tr>\n",
       "            <td>6b49d7c6-6ede-4a8a-ade1-ec5888c7ce14</td>\n",
       "            <td>2</td>\n",
       "        </tr>\n",
       "        <tr>\n",
       "            <td>ed96dbd0-193e-4906-ae8b-904f50bcb57a</td>\n",
       "            <td>2</td>\n",
       "        </tr>\n",
       "        <tr>\n",
       "            <td>b2b4d6cd-3c94-40e0-99aa-9dd9ba011ca6</td>\n",
       "            <td>2</td>\n",
       "        </tr>\n",
       "        <tr>\n",
       "            <td>96a40097-0030-4509-bb52-b3251fdef2b6</td>\n",
       "            <td>4</td>\n",
       "        </tr>\n",
       "        <tr>\n",
       "            <td>965dbeea-a6d5-467d-9683-914b744ad1ef</td>\n",
       "            <td>2</td>\n",
       "        </tr>\n",
       "        <tr>\n",
       "            <td>7ae529bf-b9d0-47ee-acd0-d55e0e6a0d32</td>\n",
       "            <td>2</td>\n",
       "        </tr>\n",
       "        <tr>\n",
       "            <td>4934ebb8-8950-4bd0-87ba-a1532716e54d</td>\n",
       "            <td>3</td>\n",
       "        </tr>\n",
       "        <tr>\n",
       "            <td>9b6a4ed6-6c27-4102-8d5f-5db7435e80ee</td>\n",
       "            <td>2</td>\n",
       "        </tr>\n",
       "        <tr>\n",
       "            <td>f79a5736-1e58-436a-aca9-bc4cf21fef09</td>\n",
       "            <td>2</td>\n",
       "        </tr>\n",
       "    </tbody>\n",
       "</table>\n",
       "<span style=\"font-style:italic;text-align:center;\">Truncated to <a href=\"https://jupysql.ploomber.io/en/latest/api/configuration.html#displaylimit\">displaylimit</a> of 10.</span>"
      ],
      "text/plain": [
       "+--------------------------------------+-----------+\n",
       "|              address_id              | num_users |\n",
       "+--------------------------------------+-----------+\n",
       "| 4a9bcc05-a07b-4507-9d42-a2325a4844fa |     2     |\n",
       "| 6b49d7c6-6ede-4a8a-ade1-ec5888c7ce14 |     2     |\n",
       "| ed96dbd0-193e-4906-ae8b-904f50bcb57a |     2     |\n",
       "| b2b4d6cd-3c94-40e0-99aa-9dd9ba011ca6 |     2     |\n",
       "| 96a40097-0030-4509-bb52-b3251fdef2b6 |     4     |\n",
       "| 965dbeea-a6d5-467d-9683-914b744ad1ef |     2     |\n",
       "| 7ae529bf-b9d0-47ee-acd0-d55e0e6a0d32 |     2     |\n",
       "| 4934ebb8-8950-4bd0-87ba-a1532716e54d |     3     |\n",
       "| 9b6a4ed6-6c27-4102-8d5f-5db7435e80ee |     2     |\n",
       "| f79a5736-1e58-436a-aca9-bc4cf21fef09 |     2     |\n",
       "+--------------------------------------+-----------+\n",
       "Truncated to displaylimit of 10."
      ]
     },
     "execution_count": 18,
     "metadata": {},
     "output_type": "execute_result"
    }
   ],
   "source": [
    "%%sql\n",
    "SELECT address_id,\n",
    "       COUNT(*) AS num_users\n",
    "FROM stg_postgres_users\n",
    "GROUP BY address_id\n",
    "HAVING num_users > 1"
   ]
  },
  {
   "cell_type": "markdown",
   "id": "984e3142-5b7a-4dff-b6fa-f69710e436da",
   "metadata": {},
   "source": [
    "Show the number of unique\n",
    "\n",
    "1. users and addresses in the `stg_postgres_users` table\n",
    "2. addresses in the `stg_postgres_addresses` table\n",
    "3. users (who have ordered) in the `stg_postgres_orders` table"
   ]
  },
  {
   "cell_type": "code",
   "execution_count": 19,
   "id": "6ac09b59-e028-4125-8d2b-1959b30366be",
   "metadata": {},
   "outputs": [
    {
     "data": {
      "text/html": [
       "<span style=\"None\">Running query in &#x27;connection&#x27;</span>"
      ],
      "text/plain": [
       "Running query in 'connection'"
      ]
     },
     "metadata": {},
     "output_type": "display_data"
    },
    {
     "data": {
      "text/html": [
       "<span style=\"color: green\">4 rows affected.</span>"
      ],
      "text/plain": [
       "4 rows affected."
      ]
     },
     "metadata": {},
     "output_type": "display_data"
    },
    {
     "data": {
      "text/html": [
       "<table>\n",
       "    <thead>\n",
       "        <tr>\n",
       "            <th>number</th>\n",
       "            <th>column_name</th>\n",
       "            <th>table_name</th>\n",
       "        </tr>\n",
       "    </thead>\n",
       "    <tbody>\n",
       "        <tr>\n",
       "            <td>130</td>\n",
       "            <td>user_id</td>\n",
       "            <td>stg_postgres_users</td>\n",
       "        </tr>\n",
       "        <tr>\n",
       "            <td>89</td>\n",
       "            <td>address_id</td>\n",
       "            <td>stg_postgres_users</td>\n",
       "        </tr>\n",
       "        <tr>\n",
       "            <td>150</td>\n",
       "            <td>address_id</td>\n",
       "            <td>stg_postgres_addresses</td>\n",
       "        </tr>\n",
       "        <tr>\n",
       "            <td>124</td>\n",
       "            <td>user_id</td>\n",
       "            <td>stg_postgres_orders</td>\n",
       "        </tr>\n",
       "    </tbody>\n",
       "</table>"
      ],
      "text/plain": [
       "+--------+-------------+------------------------+\n",
       "| number | column_name |       table_name       |\n",
       "+--------+-------------+------------------------+\n",
       "|  130   |   user_id   |   stg_postgres_users   |\n",
       "|   89   |  address_id |   stg_postgres_users   |\n",
       "|  150   |  address_id | stg_postgres_addresses |\n",
       "|  124   |   user_id   |  stg_postgres_orders   |\n",
       "+--------+-------------+------------------------+"
      ]
     },
     "execution_count": 19,
     "metadata": {},
     "output_type": "execute_result"
    }
   ],
   "source": [
    "%%sql\n",
    "SELECT COUNT(DISTINCT(user_id)) AS number,\n",
    "       'user_id' AS column_name,\n",
    "       'stg_postgres_users' AS table_name\n",
    "FROM stg_postgres_users\n",
    "UNION ALL\n",
    "SELECT COUNT(DISTINCT(address_id)) AS number,\n",
    "       'address_id' AS column_name,\n",
    "       'stg_postgres_users' AS table_name\n",
    "FROM stg_postgres_users\n",
    "UNION ALL\n",
    "SELECT COUNT(DISTINCT(address_id)) AS number,\n",
    "       'address_id' AS column_name,\n",
    "       'stg_postgres_addresses' AS table_name\n",
    "FROM stg_postgres_addresses\n",
    "UNION ALL\n",
    "SELECT COUNT(DISTINCT(user_id)) AS number,\n",
    "       'user_id' AS column_name,\n",
    "       'stg_postgres_orders' AS table_name\n",
    "FROM stg_postgres_orders"
   ]
  },
  {
   "cell_type": "markdown",
   "id": "bd6527ce-805d-4dc6-87d7-a105494fd1b0",
   "metadata": {},
   "source": [
    "Show users without an address"
   ]
  },
  {
   "cell_type": "code",
   "execution_count": 20,
   "id": "5df9b337-487a-4149-8115-08fb656057c1",
   "metadata": {},
   "outputs": [
    {
     "data": {
      "text/html": [
       "<span style=\"None\">Running query in &#x27;connection&#x27;</span>"
      ],
      "text/plain": [
       "Running query in 'connection'"
      ]
     },
     "metadata": {},
     "output_type": "display_data"
    },
    {
     "data": {
      "text/html": [
       "<table>\n",
       "    <thead>\n",
       "        <tr>\n",
       "            <th>user_id</th>\n",
       "            <th>first_name</th>\n",
       "            <th>last_name</th>\n",
       "            <th>email</th>\n",
       "            <th>phone_number</th>\n",
       "            <th>created_at</th>\n",
       "            <th>updated_at</th>\n",
       "            <th>address_id</th>\n",
       "        </tr>\n",
       "    </thead>\n",
       "    <tbody>\n",
       "    </tbody>\n",
       "</table>"
      ],
      "text/plain": [
       "+---------+------------+-----------+-------+--------------+------------+------------+------------+\n",
       "| user_id | first_name | last_name | email | phone_number | created_at | updated_at | address_id |\n",
       "+---------+------------+-----------+-------+--------------+------------+------------+------------+\n",
       "+---------+------------+-----------+-------+--------------+------------+------------+------------+"
      ]
     },
     "execution_count": 20,
     "metadata": {},
     "output_type": "execute_result"
    }
   ],
   "source": [
    "%%sql\n",
    "SELECT *\n",
    "FROM stg_postgres_users\n",
    "WHERE address_id IS NULL"
   ]
  },
  {
   "cell_type": "markdown",
   "id": "574b9c06-8144-4173-84dc-1a330463a6e1",
   "metadata": {},
   "source": [
    "Show orders with a missing delivery address"
   ]
  },
  {
   "cell_type": "code",
   "execution_count": 21,
   "id": "5c4fa922-9715-46e9-9c44-1b06fd3132d9",
   "metadata": {},
   "outputs": [
    {
     "data": {
      "text/html": [
       "<span style=\"None\">Running query in &#x27;connection&#x27;</span>"
      ],
      "text/plain": [
       "Running query in 'connection'"
      ]
     },
     "metadata": {},
     "output_type": "display_data"
    },
    {
     "data": {
      "text/html": [
       "<table>\n",
       "    <thead>\n",
       "        <tr>\n",
       "            <th>order_id</th>\n",
       "            <th>user_id</th>\n",
       "            <th>promo_id</th>\n",
       "            <th>address_id</th>\n",
       "            <th>created_at</th>\n",
       "            <th>order_cost</th>\n",
       "            <th>shipping_cost</th>\n",
       "            <th>order_total</th>\n",
       "            <th>tracking_id</th>\n",
       "            <th>shipping_service</th>\n",
       "            <th>estimated_delivery_at</th>\n",
       "            <th>delivered_at</th>\n",
       "            <th>status</th>\n",
       "        </tr>\n",
       "    </thead>\n",
       "    <tbody>\n",
       "    </tbody>\n",
       "</table>"
      ],
      "text/plain": [
       "+----------+---------+----------+------------+------------+------------+---------------+-------------+-------------+------------------+-----------------------+--------------+--------+\n",
       "| order_id | user_id | promo_id | address_id | created_at | order_cost | shipping_cost | order_total | tracking_id | shipping_service | estimated_delivery_at | delivered_at | status |\n",
       "+----------+---------+----------+------------+------------+------------+---------------+-------------+-------------+------------------+-----------------------+--------------+--------+\n",
       "+----------+---------+----------+------------+------------+------------+---------------+-------------+-------------+------------------+-----------------------+--------------+--------+"
      ]
     },
     "execution_count": 21,
     "metadata": {},
     "output_type": "execute_result"
    }
   ],
   "source": [
    "%%sql\n",
    "SELECT *\n",
    "FROM stg_postgres_orders\n",
    "WHERE address_id IS NULL"
   ]
  },
  {
   "cell_type": "markdown",
   "id": "21eecf97-441b-403d-a2f4-75a20c92a153",
   "metadata": {},
   "source": [
    "## Models"
   ]
  },
  {
   "cell_type": "markdown",
   "id": "01eee8f8-53d2-4caf-948d-450563efae7f",
   "metadata": {},
   "source": [
    "### `int_orders_joined_to_addresses_promos`"
   ]
  },
  {
   "cell_type": "code",
   "execution_count": 22,
   "id": "ca46f701-e28b-4bdf-93bb-49543f540944",
   "metadata": {},
   "outputs": [
    {
     "data": {
      "text/html": [
       "<span style=\"None\">Running query in &#x27;connection&#x27;</span>"
      ],
      "text/plain": [
       "Running query in 'connection'"
      ]
     },
     "metadata": {},
     "output_type": "display_data"
    },
    {
     "data": {
      "text/html": [
       "<span style=\"color: green\">367 rows affected.</span>"
      ],
      "text/plain": [
       "367 rows affected."
      ]
     },
     "metadata": {},
     "output_type": "display_data"
    },
    {
     "data": {
      "text/html": [
       "<table>\n",
       "    <thead>\n",
       "        <tr>\n",
       "            <th>order_id</th>\n",
       "            <th>created_at</th>\n",
       "            <th>user_id</th>\n",
       "            <th>state_name</th>\n",
       "            <th>order_cost</th>\n",
       "            <th>shipping_cost</th>\n",
       "            <th>discount</th>\n",
       "            <th>order_total</th>\n",
       "            <th>total_order_size</th>\n",
       "            <th>num_unique_products</th>\n",
       "            <th>status</th>\n",
       "            <th>delivered_at</th>\n",
       "            <th>estimated_delivery_at</th>\n",
       "            <th>is_on_time_delivery</th>\n",
       "        </tr>\n",
       "    </thead>\n",
       "    <tbody>\n",
       "        <tr>\n",
       "            <td>8329a65b-7ddf-4250-aeee-bd625f8a401a</td>\n",
       "            <td>2021-02-11 23:30:34</td>\n",
       "            <td>b3367c91-53bd-4aac-ab6d-0a596fe382c2</td>\n",
       "            <td>District of Columbia</td>\n",
       "            <td>551.9</td>\n",
       "            <td>5.16</td>\n",
       "            <td>0</td>\n",
       "            <td>557.06</td>\n",
       "            <td>13</td>\n",
       "            <td>5</td>\n",
       "            <td>delivered</td>\n",
       "            <td>2021-02-17 23:30:34</td>\n",
       "            <td>2021-02-12 23:30:34</td>\n",
       "            <td>False</td>\n",
       "        </tr>\n",
       "        <tr>\n",
       "            <td>f3ab84e6-dec5-43b4-9aa7-45b9988bff58</td>\n",
       "            <td>2021-02-11 15:13:09</td>\n",
       "            <td>5faf7aa9-ca1a-44b6-bc00-5954bc39cc91</td>\n",
       "            <td>Texas</td>\n",
       "            <td>121.0</td>\n",
       "            <td>2.72</td>\n",
       "            <td>0</td>\n",
       "            <td>123.72</td>\n",
       "            <td>6</td>\n",
       "            <td>2</td>\n",
       "            <td>delivered</td>\n",
       "            <td>2021-02-13 15:13:09</td>\n",
       "            <td>2021-02-16 15:13:09</td>\n",
       "            <td>True</td>\n",
       "        </tr>\n",
       "        <tr>\n",
       "            <td>8385cfcd-2b3f-443a-a676-9756f7eb5404</td>\n",
       "            <td>2021-02-11 02:19:17</td>\n",
       "            <td>96aa719e-c5a3-4645-ba89-16c304fb59b0</td>\n",
       "            <td>Illinois</td>\n",
       "            <td>205.5</td>\n",
       "            <td>1.44</td>\n",
       "            <td>0</td>\n",
       "            <td>206.94</td>\n",
       "            <td>3</td>\n",
       "            <td>2</td>\n",
       "            <td>shipped</td>\n",
       "            <td>None</td>\n",
       "            <td>2022-10-18 10:15:26</td>\n",
       "            <td>None</td>\n",
       "        </tr>\n",
       "        <tr>\n",
       "            <td>55164b42-78d3-4c4e-9dd3-cce61b956403</td>\n",
       "            <td>2021-02-11 23:35:14</td>\n",
       "            <td>aa2bd310-8be1-4b6c-a852-2789d8652ac7</td>\n",
       "            <td>Texas</td>\n",
       "            <td>45.0</td>\n",
       "            <td>8.07</td>\n",
       "            <td>0</td>\n",
       "            <td>53.07</td>\n",
       "            <td>3</td>\n",
       "            <td>1</td>\n",
       "            <td>delivered</td>\n",
       "            <td>2021-02-15 23:35:14</td>\n",
       "            <td>2021-02-14 23:35:14</td>\n",
       "            <td>False</td>\n",
       "        </tr>\n",
       "        <tr>\n",
       "            <td>e1ecd50e-033d-4d0c-bcff-137c2eb494dd</td>\n",
       "            <td>2021-02-11 07:08:04</td>\n",
       "            <td>97fec509-ddfd-468b-8c39-ece964fdbcf1</td>\n",
       "            <td>California</td>\n",
       "            <td>150.0</td>\n",
       "            <td>3.18</td>\n",
       "            <td>0</td>\n",
       "            <td>153.18</td>\n",
       "            <td>4</td>\n",
       "            <td>3</td>\n",
       "            <td>shipped</td>\n",
       "            <td>None</td>\n",
       "            <td>2021-02-16 07:08:04</td>\n",
       "            <td>None</td>\n",
       "        </tr>\n",
       "        <tr>\n",
       "            <td>1747e0c2-2649-4b8b-8048-540425302a8f</td>\n",
       "            <td>2021-02-10 10:35:38</td>\n",
       "            <td>e512189a-15a2-4325-b41d-6092f5c03bc9</td>\n",
       "            <td>Colorado</td>\n",
       "            <td>562.9</td>\n",
       "            <td>6.11</td>\n",
       "            <td>0</td>\n",
       "            <td>569.01</td>\n",
       "            <td>10</td>\n",
       "            <td>3</td>\n",
       "            <td>delivered</td>\n",
       "            <td>2021-02-12 10:35:38</td>\n",
       "            <td>2021-02-13 10:35:38</td>\n",
       "            <td>True</td>\n",
       "        </tr>\n",
       "        <tr>\n",
       "            <td>1eb77dda-3387-4242-ba28-0b371ea785cf</td>\n",
       "            <td>2021-02-10 15:22:56</td>\n",
       "            <td>393de08c-725c-457a-a591-16030480eb80</td>\n",
       "            <td>New York</td>\n",
       "            <td>373.85</td>\n",
       "            <td>3.23</td>\n",
       "            <td>0</td>\n",
       "            <td>377.08</td>\n",
       "            <td>7</td>\n",
       "            <td>3</td>\n",
       "            <td>shipped</td>\n",
       "            <td>None</td>\n",
       "            <td>2021-02-13 15:22:56</td>\n",
       "            <td>None</td>\n",
       "        </tr>\n",
       "        <tr>\n",
       "            <td>529bcc4d-8fcc-42b5-b4c5-a0e2c8886686</td>\n",
       "            <td>2021-02-10 07:33:27</td>\n",
       "            <td>f47ac0f5-2afa-4e71-8328-bd881947159b</td>\n",
       "            <td>California</td>\n",
       "            <td>82.0</td>\n",
       "            <td>6.37</td>\n",
       "            <td>0</td>\n",
       "            <td>88.37</td>\n",
       "            <td>4</td>\n",
       "            <td>1</td>\n",
       "            <td>delivered</td>\n",
       "            <td>2021-02-15 07:33:27</td>\n",
       "            <td>2021-02-11 07:33:27</td>\n",
       "            <td>False</td>\n",
       "        </tr>\n",
       "        <tr>\n",
       "            <td>d0cc9fd6-0ce6-42a4-a77e-fabb1b0962da</td>\n",
       "            <td>2021-02-10 20:17:35</td>\n",
       "            <td>7025daf6-54d9-44be-8282-7923def85169</td>\n",
       "            <td>Virginia</td>\n",
       "            <td>565.0</td>\n",
       "            <td>7.48</td>\n",
       "            <td>13</td>\n",
       "            <td>559.48</td>\n",
       "            <td>7</td>\n",
       "            <td>2</td>\n",
       "            <td>delivered</td>\n",
       "            <td>2021-02-13 20:17:35</td>\n",
       "            <td>2021-02-12 20:17:35</td>\n",
       "            <td>False</td>\n",
       "        </tr>\n",
       "        <tr>\n",
       "            <td>e24985f3-2fb3-456e-a1aa-aaf88f490d70</td>\n",
       "            <td>2021-02-11 10:11:14</td>\n",
       "            <td>b9287f6c-c865-49bb-a3c9-da47bbdf3a90</td>\n",
       "            <td>Arizona</td>\n",
       "            <td>256.25</td>\n",
       "            <td>7.94</td>\n",
       "            <td>0</td>\n",
       "            <td>264.19</td>\n",
       "            <td>6</td>\n",
       "            <td>3</td>\n",
       "            <td>shipped</td>\n",
       "            <td>None</td>\n",
       "            <td>2022-10-18 10:15:26</td>\n",
       "            <td>None</td>\n",
       "        </tr>\n",
       "    </tbody>\n",
       "</table>\n",
       "<span style=\"font-style:italic;text-align:center;\">Truncated to <a href=\"https://jupysql.ploomber.io/en/latest/api/configuration.html#displaylimit\">displaylimit</a> of 10.</span>"
      ],
      "text/plain": [
       "+--------------------------------------+---------------------+--------------------------------------+----------------------+------------+---------------+----------+-------------+------------------+---------------------+-----------+---------------------+-----------------------+---------------------+\n",
       "|               order_id               |      created_at     |               user_id                |      state_name      | order_cost | shipping_cost | discount | order_total | total_order_size | num_unique_products |   status  |     delivered_at    | estimated_delivery_at | is_on_time_delivery |\n",
       "+--------------------------------------+---------------------+--------------------------------------+----------------------+------------+---------------+----------+-------------+------------------+---------------------+-----------+---------------------+-----------------------+---------------------+\n",
       "| 8329a65b-7ddf-4250-aeee-bd625f8a401a | 2021-02-11 23:30:34 | b3367c91-53bd-4aac-ab6d-0a596fe382c2 | District of Columbia |   551.9    |      5.16     |    0     |    557.06   |        13        |          5          | delivered | 2021-02-17 23:30:34 |  2021-02-12 23:30:34  |        False        |\n",
       "| f3ab84e6-dec5-43b4-9aa7-45b9988bff58 | 2021-02-11 15:13:09 | 5faf7aa9-ca1a-44b6-bc00-5954bc39cc91 |        Texas         |   121.0    |      2.72     |    0     |    123.72   |        6         |          2          | delivered | 2021-02-13 15:13:09 |  2021-02-16 15:13:09  |         True        |\n",
       "| 8385cfcd-2b3f-443a-a676-9756f7eb5404 | 2021-02-11 02:19:17 | 96aa719e-c5a3-4645-ba89-16c304fb59b0 |       Illinois       |   205.5    |      1.44     |    0     |    206.94   |        3         |          2          |  shipped  |         None        |  2022-10-18 10:15:26  |         None        |\n",
       "| 55164b42-78d3-4c4e-9dd3-cce61b956403 | 2021-02-11 23:35:14 | aa2bd310-8be1-4b6c-a852-2789d8652ac7 |        Texas         |    45.0    |      8.07     |    0     |    53.07    |        3         |          1          | delivered | 2021-02-15 23:35:14 |  2021-02-14 23:35:14  |        False        |\n",
       "| e1ecd50e-033d-4d0c-bcff-137c2eb494dd | 2021-02-11 07:08:04 | 97fec509-ddfd-468b-8c39-ece964fdbcf1 |      California      |   150.0    |      3.18     |    0     |    153.18   |        4         |          3          |  shipped  |         None        |  2021-02-16 07:08:04  |         None        |\n",
       "| 1747e0c2-2649-4b8b-8048-540425302a8f | 2021-02-10 10:35:38 | e512189a-15a2-4325-b41d-6092f5c03bc9 |       Colorado       |   562.9    |      6.11     |    0     |    569.01   |        10        |          3          | delivered | 2021-02-12 10:35:38 |  2021-02-13 10:35:38  |         True        |\n",
       "| 1eb77dda-3387-4242-ba28-0b371ea785cf | 2021-02-10 15:22:56 | 393de08c-725c-457a-a591-16030480eb80 |       New York       |   373.85   |      3.23     |    0     |    377.08   |        7         |          3          |  shipped  |         None        |  2021-02-13 15:22:56  |         None        |\n",
       "| 529bcc4d-8fcc-42b5-b4c5-a0e2c8886686 | 2021-02-10 07:33:27 | f47ac0f5-2afa-4e71-8328-bd881947159b |      California      |    82.0    |      6.37     |    0     |    88.37    |        4         |          1          | delivered | 2021-02-15 07:33:27 |  2021-02-11 07:33:27  |        False        |\n",
       "| d0cc9fd6-0ce6-42a4-a77e-fabb1b0962da | 2021-02-10 20:17:35 | 7025daf6-54d9-44be-8282-7923def85169 |       Virginia       |   565.0    |      7.48     |    13    |    559.48   |        7         |          2          | delivered | 2021-02-13 20:17:35 |  2021-02-12 20:17:35  |        False        |\n",
       "| e24985f3-2fb3-456e-a1aa-aaf88f490d70 | 2021-02-11 10:11:14 | b9287f6c-c865-49bb-a3c9-da47bbdf3a90 |       Arizona        |   256.25   |      7.94     |    0     |    264.19   |        6         |          3          |  shipped  |         None        |  2022-10-18 10:15:26  |         None        |\n",
       "+--------------------------------------+---------------------+--------------------------------------+----------------------+------------+---------------+----------+-------------+------------------+---------------------+-----------+---------------------+-----------------------+---------------------+\n",
       "Truncated to displaylimit of 10."
      ]
     },
     "execution_count": 22,
     "metadata": {},
     "output_type": "execute_result"
    }
   ],
   "source": [
    "%%sql\n",
    "/* get orders */\n",
    "WITH orders AS (\n",
    "    SELECT *\n",
    "    FROM stg_postgres_orders\n",
    "),\n",
    "/* get users */\n",
    "users AS (\n",
    "    SELECT user_id,\n",
    "           address_id\n",
    "    FROM stg_postgres_users\n",
    "),\n",
    "/* get order items */\n",
    "order_items AS (\n",
    "    SELECT *\n",
    "    FROM stg_postgres_order_items\n",
    "),\n",
    "/* get promotion discount in dollars */\n",
    "promos AS (\n",
    "    SELECT promo_id,\n",
    "           discount\n",
    "    FROM stg_postgres_promos\n",
    "),\n",
    "/* get state in which user's address is located */\n",
    "addresses AS (\n",
    "    SELECT address_id,\n",
    "           state AS state_name\n",
    "    FROM stg_postgres_addresses\n",
    "),\n",
    "/* get order item summary per order */\n",
    "order_items_by_order AS (\n",
    "    SELECT order_id,\n",
    "           -- get number of unique greenery products per order\n",
    "           COUNT(DISTINCT(product_id)) as num_unique_products,\n",
    "           -- get total quantity of products per order\n",
    "           SUM(quantity) as total_order_size\n",
    "    FROM order_items\n",
    "    GROUP BY order_id\n",
    "),\n",
    "/* create order profile from combination of orders, order items and promotion\n",
    "discount */\n",
    "order_summary AS (\n",
    "    SELECT oi.order_id,\n",
    "           o.created_at,\n",
    "           u.user_id,\n",
    "           u.address_id,\n",
    "           o.order_cost,\n",
    "           o.shipping_cost,\n",
    "           p.promo_id,\n",
    "           -- if no discount is offered then the discount value should be zero\n",
    "           ZEROIFNULL(p.discount) AS discount,\n",
    "           o.order_total,\n",
    "           oi.total_order_size,\n",
    "           oi.num_unique_products,\n",
    "           o.status,\n",
    "           o.delivered_at,\n",
    "           o.estimated_delivery_at\n",
    "    FROM users u\n",
    "    LEFT JOIN orders o USING (user_id)\n",
    "    -- use LEFT JOIN to capture all available users, including those that have\n",
    "    -- not yet placed orders and so do not yet have any itemized orders\n",
    "    LEFT JOIN order_items_by_order oi USING (order_id)\n",
    "    -- use LEFT JOIN to capture orders that do not include products that are\n",
    "    -- offered as part of a promotion\n",
    "    LEFT JOIN promos p USING (promo_id)\n",
    "),\n",
    "/* append state name to combined order profile */\n",
    "order_summary_with_state AS (\n",
    "    SELECT os.order_id,\n",
    "           os.created_at,\n",
    "           os.user_id,\n",
    "           a.state_name,\n",
    "           os.order_cost,\n",
    "           os.shipping_cost,\n",
    "           os.discount,\n",
    "           os.order_total,\n",
    "           os.total_order_size,\n",
    "           os.num_unique_products,\n",
    "           os.status,\n",
    "           os.delivered_at,\n",
    "           os.estimated_delivery_at,\n",
    "           -- append column to indicate if delivery timestamp occurred later\n",
    "           -- than estimated delivery timestamp\n",
    "           (\n",
    "               CASE\n",
    "                   WHEN\n",
    "                       delivered_at > estimated_delivery_at\n",
    "                       AND status = 'delivered'\n",
    "                   THEN False\n",
    "                   WHEN status = 'shipped' THEN NULL\n",
    "                   ELSE True\n",
    "               END\n",
    "           ) AS is_on_time_delivery\n",
    "    FROM order_summary os\n",
    "    INNER JOIN addresses a USING (address_id)\n",
    ")\n",
    "SELECT *\n",
    "FROM order_summary_with_state"
   ]
  },
  {
   "cell_type": "markdown",
   "id": "739fa972-cbe6-4c07-8821-443016d83c95",
   "metadata": {},
   "source": [
    "**Notes**\n",
    "\n",
    "1. Using\n",
    "   ```sql\n",
    "   SELECT COUNT(DISTINCT(user_id))\n",
    "   FROM order_summary_with_state\n",
    "   ```\n",
    "   gives all the users in the `stg_postgres_users` table.\n",
    "2. Using `INNER JOIN` to does not only capture orders from known addresses is not necessary since all orders have an `address_id`."
   ]
  },
  {
   "cell_type": "markdown",
   "id": "c2fbb6a3-194c-4311-b77c-5d4bde036dc1",
   "metadata": {},
   "source": [
    "## Disconnect"
   ]
  },
  {
   "cell_type": "markdown",
   "id": "d760b954-e2f2-40ad-a461-5799d1551ee0",
   "metadata": {},
   "source": [
    "Close connection"
   ]
  },
  {
   "cell_type": "code",
   "execution_count": 23,
   "id": "a267153a-269c-4da4-a03f-99d61c5c87e9",
   "metadata": {},
   "outputs": [],
   "source": [
    "%sql --close connection"
   ]
  }
 ],
 "metadata": {
  "kernelspec": {
   "display_name": "Python 3 (ipykernel)",
   "language": "python",
   "name": "python3"
  },
  "language_info": {
   "codemirror_mode": {
    "name": "ipython",
    "version": 3
   },
   "file_extension": ".py",
   "mimetype": "text/x-python",
   "name": "python",
   "nbconvert_exporter": "python",
   "pygments_lexer": "ipython3",
   "version": "3.10.12"
  }
 },
 "nbformat": 4,
 "nbformat_minor": 5
}
