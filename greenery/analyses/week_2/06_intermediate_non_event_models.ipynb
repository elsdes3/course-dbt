{
 "cells": [
  {
   "cell_type": "markdown",
   "id": "07bf0818-0981-4071-8566-ae74ab37b27e",
   "metadata": {},
   "source": [
    "# Intermediate Non-Event Models"
   ]
  },
  {
   "cell_type": "code",
   "execution_count": null,
   "id": "2dd4ecd9-1b4e-48fd-ae18-180dbf00c903",
   "metadata": {},
   "outputs": [],
   "source": [
    "import os\n",
    "from pathlib import Path\n",
    "\n",
    "from dotenv import load_dotenv\n",
    "from sqlalchemy import create_engine\n",
    "from snowflake.sqlalchemy import URL"
   ]
  },
  {
   "cell_type": "code",
   "execution_count": null,
   "id": "41c1e55c-e6a6-45b4-8c0c-8c6d21f0c2b7",
   "metadata": {},
   "outputs": [],
   "source": [
    "PROJ_ROOT = Path().resolve().parents[3]\n",
    "env_file_dir = PROJ_ROOT / '.env'\n",
    "_ = load_dotenv(env_file_dir, verbose=True)"
   ]
  },
  {
   "cell_type": "markdown",
   "id": "b37ac19e-7e83-4176-b813-9bd0bac9d056",
   "metadata": {},
   "source": [
    "## About"
   ]
  },
  {
   "cell_type": "markdown",
   "id": "bf52beb0-2fd4-4845-ba23-fe24eb7b1a80",
   "metadata": {},
   "source": [
    "### Objective\n",
    "\n",
    "Develop an **intermediate** model that includes logic to combine the following (non-event related) staging models\n",
    "\n",
    "1. `stg_postgres_orders`\n",
    "2. `stg_postgres_order_items`\n",
    "3. `stg_postgres_promos`\n",
    "\n",
    "**at the order level**. The model should be named `int_orders_joined_to_addresses_promos`.\n",
    "\n",
    "### Use-Case\n",
    "\n",
    "To get this **at the order level**, `order_items` must be aggregated from the product granularity to the order level by `order_id` before joining with the two other models. This `order_item` aggregation will be performed here so it does not need to repeated by the following marts models\n",
    "\n",
    "1. `fct_user_orders`\n",
    "2. `fct_promos`\n",
    "3. `fct_orders`\n",
    "\n",
    "all of which will use this intermediate model.\n",
    "\n",
    "### Notes\n",
    "\n",
    "1. This notebook supports <kbd>Run</kbd> > <kbd>Run All Cells</kbd>."
   ]
  },
  {
   "cell_type": "markdown",
   "id": "27b88564-9293-4724-ba4e-a0169d0e63c2",
   "metadata": {},
   "source": [
    "## User Inputs"
   ]
  },
  {
   "cell_type": "code",
   "execution_count": null,
   "id": "2b69fdba-e3d1-4931-b5ee-5dc5934e932d",
   "metadata": {
    "editable": true,
    "slideshow": {
     "slide_type": ""
    },
    "tags": [
     "parameters"
    ]
   },
   "outputs": [],
   "source": [
    "#"
   ]
  },
  {
   "cell_type": "code",
   "execution_count": null,
   "id": "9e15d357-ff74-4b41-a6f6-4d9bb53697fa",
   "metadata": {},
   "outputs": [],
   "source": [
    "engine = create_engine(\n",
    "    URL(\n",
    "        drivername=\"driver\",\n",
    "        account=os.getenv(\"UPLIMIT_SNOWFLAKE_ACCOUNT\"),\n",
    "        user=os.getenv(\"UPLIMIT_SNOWFLAKE_USER\"),\n",
    "        password=os.getenv(\"UPLIMIT_SNOWFLAKE_PASS\"),\n",
    "        warehouse=os.getenv(\"UPLIMIT_SNOWFLAKE_WAREHOUSE\"),\n",
    "        role=os.getenv(\"UPLIMIT_SNOWFLAKE_ROLE\"),\n",
    "        database=os.getenv(\"UPLIMIT_SNOWFLAKE_DB_NAME\"),\n",
    "        schema=os.getenv(\"UPLIMIT_SNOWFLAKE_SCHEMA\"),\n",
    "    )\n",
    ")"
   ]
  },
  {
   "cell_type": "markdown",
   "id": "3c7993ba-51d3-452c-8ee3-327872b9cd78",
   "metadata": {},
   "source": [
    "## Connect"
   ]
  },
  {
   "cell_type": "markdown",
   "id": "500baad2-909e-40dd-bddf-6fc6fc46c275",
   "metadata": {},
   "source": [
    "Load Jupyter SQL extension"
   ]
  },
  {
   "cell_type": "code",
   "execution_count": null,
   "id": "8826c758-5caa-4dc6-a466-63a8f6e755dd",
   "metadata": {},
   "outputs": [],
   "source": [
    "%load_ext sql"
   ]
  },
  {
   "cell_type": "markdown",
   "id": "52a9da67-9f91-45c8-b835-8365f095bd07",
   "metadata": {},
   "source": [
    "Connect to DuckDB database"
   ]
  },
  {
   "cell_type": "code",
   "execution_count": null,
   "id": "0738e982-713e-443d-8607-85339fe63b4c",
   "metadata": {},
   "outputs": [],
   "source": [
    "%sql engine --alias connection"
   ]
  },
  {
   "cell_type": "markdown",
   "id": "77001a74-48c9-418d-8e65-39bf0abbf8c5",
   "metadata": {},
   "source": [
    "## Exploratory Data Analysis"
   ]
  },
  {
   "cell_type": "markdown",
   "id": "7010a7cc-5439-4aeb-92cb-8d0ea4d5beda",
   "metadata": {},
   "source": [
    "Show the different types of order statuses"
   ]
  },
  {
   "cell_type": "code",
   "execution_count": null,
   "id": "8b0b667b-0836-4042-9376-498ce60277e1",
   "metadata": {},
   "outputs": [],
   "source": [
    "%%sql\n",
    "SELECT DISTINCT(status) AS status\n",
    "FROM stg_postgres_orders"
   ]
  },
  {
   "cell_type": "markdown",
   "id": "aedab7f4-4d76-4c59-a2b5-1ca1813708ba",
   "metadata": {},
   "source": [
    "Show the different address states"
   ]
  },
  {
   "cell_type": "code",
   "execution_count": null,
   "id": "8687f7c3-bc13-4861-b8e3-8f41a61802d3",
   "metadata": {},
   "outputs": [],
   "source": [
    "%%sql\n",
    "SELECT DISTINCT(state) AS state_name\n",
    "FROM stg_postgres_addresses"
   ]
  },
  {
   "cell_type": "markdown",
   "id": "69c819ea-ab44-4259-be97-19374c5d7d9a",
   "metadata": {},
   "source": [
    "Show the first few rows of the `addresses` table"
   ]
  },
  {
   "cell_type": "code",
   "execution_count": null,
   "id": "f23dcced-3bc7-4421-b25c-6595ad6bbf8b",
   "metadata": {},
   "outputs": [],
   "source": [
    "%%sql\n",
    "SELECT *\n",
    "FROM stg_postgres_addresses\n",
    "LIMIT 4"
   ]
  },
  {
   "cell_type": "markdown",
   "id": "e50b8fcf-df1b-419b-932d-486f2810e201",
   "metadata": {},
   "source": [
    "Show the first few rows of the `users` table"
   ]
  },
  {
   "cell_type": "code",
   "execution_count": null,
   "id": "7b27abe5-b83d-4898-a0d9-8cb70ae3948e",
   "metadata": {},
   "outputs": [],
   "source": [
    "%%sql\n",
    "SELECT *\n",
    "FROM stg_postgres_users\n",
    "LIMIT 4"
   ]
  },
  {
   "cell_type": "markdown",
   "id": "66f1af33-90f2-43ed-8bb8-e4c67b79d889",
   "metadata": {},
   "source": [
    "Count the number of users in all the models with `user_id` in them\n",
    "\n",
    "1. `stg_postgres_users`\n",
    "2. `stg_postgres_orders`\n",
    "3. `stg_postgres_events`"
   ]
  },
  {
   "cell_type": "code",
   "execution_count": null,
   "id": "7aebe612-5aa7-4a74-a21c-f865266d18f0",
   "metadata": {},
   "outputs": [],
   "source": [
    "%%sql\n",
    "SELECT COUNT(DISTINCT(user_id)) As num_users,\n",
    "       'stg_postgres_users' AS model_name\n",
    "FROM stg_postgres_users\n",
    "UNION ALL\n",
    "SELECT COUNT(DISTINCT(user_id)) As num_users,\n",
    "       'stg_postgres_orders' AS model_name\n",
    "FROM stg_postgres_orders\n",
    "UNION ALL\n",
    "SELECT COUNT(DISTINCT(user_id)) As num_users,\n",
    "       'stg_postgres_events' AS model_name\n",
    "FROM stg_postgres_events"
   ]
  },
  {
   "cell_type": "markdown",
   "id": "b99f4aec-08bf-4472-8e30-bc227a2f2fb0",
   "metadata": {},
   "source": [
    "Show the first few rows of the `orders` table"
   ]
  },
  {
   "cell_type": "code",
   "execution_count": null,
   "id": "a95f9e8f-2b56-4df9-a9d9-2ade3fcbf474",
   "metadata": {},
   "outputs": [],
   "source": [
    "%%sql\n",
    "SELECT *\n",
    "FROM stg_postgres_orders\n",
    "LIMIT 4"
   ]
  },
  {
   "cell_type": "markdown",
   "id": "fa470576-18d2-48d3-8285-1aafd87e2676",
   "metadata": {},
   "source": [
    "Show the first few rows of the `order_items` table"
   ]
  },
  {
   "cell_type": "code",
   "execution_count": null,
   "id": "6a17bbd8-88de-467f-bc0b-033b72cc54cf",
   "metadata": {},
   "outputs": [],
   "source": [
    "%%sql\n",
    "SELECT *\n",
    "FROM stg_postgres_order_items\n",
    "LIMIT 8"
   ]
  },
  {
   "cell_type": "markdown",
   "id": "021c155a-c0ab-44b5-89de-60a0d9a1c110",
   "metadata": {},
   "source": [
    "Show the number of\n",
    "\n",
    "1. orders and products\n",
    "2. distinct orders and distinct products"
   ]
  },
  {
   "cell_type": "code",
   "execution_count": null,
   "id": "27d89815-5d02-4aaa-91fd-e5b5ca2d78c0",
   "metadata": {},
   "outputs": [],
   "source": [
    "%%sql\n",
    "SELECT COUNT(DISTINCT(order_id)) As num_distinct_orders,\n",
    "       COUNT(order_id) As num_orders,\n",
    "       COUNT(DISTINCT(product_id)) As num_distinct_products,\n",
    "       COUNT(product_id) As num_products\n",
    "FROM stg_postgres_order_items"
   ]
  },
  {
   "cell_type": "markdown",
   "id": "10b405be-4c79-4199-9783-654acbd560d4",
   "metadata": {},
   "source": [
    "Show number of orders that meet any of the following criteria\n",
    "\n",
    "1. `order_cost` = 0\n",
    "1. `order_total` = 0"
   ]
  },
  {
   "cell_type": "code",
   "execution_count": null,
   "id": "d92385b0-a9e2-4359-874d-f2e3901076dc",
   "metadata": {},
   "outputs": [],
   "source": [
    "%%sql\n",
    "SELECT COUNT(*) AS num_zero_cost_orders\n",
    "FROM stg_postgres_orders\n",
    "WHERE order_cost = 0\n",
    "OR order_total = 0"
   ]
  },
  {
   "cell_type": "markdown",
   "id": "7aeb93f6-4daf-492b-ac41-5ffedb87c044",
   "metadata": {},
   "source": [
    "Get the first and last order date from the `orders` table"
   ]
  },
  {
   "cell_type": "code",
   "execution_count": null,
   "id": "227d0dba-b41d-433f-be81-a0edb1966d88",
   "metadata": {},
   "outputs": [],
   "source": [
    "%%sql\n",
    "SELECT TO_DATE(MIN(created_at)) AS first_order_date,\n",
    "       TO_DATE(MAX(created_at)) AS last_order_date\n",
    "FROM stg_postgres_orders"
   ]
  },
  {
   "cell_type": "markdown",
   "id": "21eecf97-441b-403d-a2f4-75a20c92a153",
   "metadata": {},
   "source": [
    "## Models"
   ]
  },
  {
   "cell_type": "markdown",
   "id": "01eee8f8-53d2-4caf-948d-450563efae7f",
   "metadata": {},
   "source": [
    "### `int_orders_joined_to_addresses_promos`"
   ]
  },
  {
   "cell_type": "code",
   "execution_count": null,
   "id": "ca46f701-e28b-4bdf-93bb-49543f540944",
   "metadata": {},
   "outputs": [],
   "source": [
    "%%sql\n",
    "/* get orders */\n",
    "WITH orders AS (\n",
    "    SELECT *\n",
    "    FROM stg_postgres_orders\n",
    "),\n",
    "/* get users */\n",
    "users AS (\n",
    "    SELECT user_id,\n",
    "           address_id\n",
    "    FROM stg_postgres_users\n",
    "),\n",
    "/* get order item summary per order */\n",
    "order_items AS (\n",
    "    SELECT order_id,\n",
    "           -- get number of unique greenery products included in an order\n",
    "           COUNT(DISTINCT(product_id)) as num_unique_products,\n",
    "           -- get total quantity of products included in an order\n",
    "           SUM(quantity) as total_order_size\n",
    "    FROM stg_postgres_order_items\n",
    "    GROUP BY order_id\n",
    "),\n",
    "/* get promotion discount in dollars */\n",
    "promos AS (\n",
    "    SELECT promo_id,\n",
    "           discount\n",
    "    FROM stg_postgres_promos\n",
    "),\n",
    "/* get state in which user's address is located */\n",
    "addresses AS (\n",
    "    SELECT address_id,\n",
    "           state AS state_name\n",
    "    FROM stg_postgres_addresses\n",
    "),\n",
    "/* create order profile from combination of orders, order items and promotion\n",
    "discount */\n",
    "order_summary AS (\n",
    "    SELECT oi.order_id,\n",
    "           o.created_at,\n",
    "           u.user_id,\n",
    "           u.address_id,\n",
    "           o.order_cost,\n",
    "           o.shipping_cost,\n",
    "           p.promo_id,\n",
    "           -- if no discount is offered then the discount value should be zero\n",
    "           ZEROIFNULL(p.discount) AS discount,\n",
    "           o.order_total,\n",
    "           oi.total_order_size,\n",
    "           oi.num_unique_products,\n",
    "           o.status,\n",
    "           o.delivered_at,\n",
    "           o.estimated_delivery_at\n",
    "    FROM users u\n",
    "    LEFT JOIN orders o USING (user_id)\n",
    "    -- use LEFT JOIN to capture all available users, including those that have\n",
    "    -- not yet placed orders and so do not yet have any itemized orders\n",
    "    LEFT JOIN order_items oi USING (order_id)\n",
    "    -- use LEFT JOIN to capture orders that do not include products that are\n",
    "    -- offered as part of a promotion\n",
    "    LEFT JOIN promos p USING (promo_id)\n",
    "),\n",
    "/* append state name to combined order profile */\n",
    "order_summary_with_state AS (\n",
    "    SELECT os.order_id,\n",
    "           os.created_at,\n",
    "           os.user_id,\n",
    "           a.state_name,\n",
    "           os.order_cost,\n",
    "           os.shipping_cost,\n",
    "           os.discount,\n",
    "           os.order_total,\n",
    "           os.total_order_size,\n",
    "           os.num_unique_products,\n",
    "           os.status,\n",
    "           os.delivered_at,\n",
    "           os.estimated_delivery_at,\n",
    "           -- append column to indicate if delivery timestamp occurred later\n",
    "           -- than estimated delivery timestamp\n",
    "           (\n",
    "               CASE\n",
    "                   WHEN\n",
    "                       delivered_at > estimated_delivery_at\n",
    "                       AND status = 'delivered'\n",
    "                   THEN False\n",
    "                   WHEN status = 'shipped' THEN NULL\n",
    "                   ELSE True\n",
    "               END\n",
    "           ) AS is_on_time_delivery\n",
    "    FROM order_summary os\n",
    "    -- use INNER JOIN to only capture orders from known addresses\n",
    "    -- (the state is a requirement for this model but cannot be determined if\n",
    "    -- the delivery address is missing, so exclude orders without an address)\n",
    "    INNER JOIN addresses a USING (address_id)\n",
    ")\n",
    "SELECT *\n",
    "FROM order_summary_with_state"
   ]
  },
  {
   "cell_type": "markdown",
   "id": "739fa972-cbe6-4c07-8821-443016d83c95",
   "metadata": {},
   "source": [
    "**Notes**\n",
    "\n",
    "1. Using\n",
    "   ```sql\n",
    "   SELECT COUNT(DISTINCT(user_id))\n",
    "   FROM order_summary_with_state\n",
    "   ```\n",
    "   gives all the users in the `stg_postgres_users` table."
   ]
  },
  {
   "cell_type": "markdown",
   "id": "c2fbb6a3-194c-4311-b77c-5d4bde036dc1",
   "metadata": {},
   "source": [
    "## Disconnect"
   ]
  },
  {
   "cell_type": "markdown",
   "id": "d760b954-e2f2-40ad-a461-5799d1551ee0",
   "metadata": {},
   "source": [
    "Close connection"
   ]
  },
  {
   "cell_type": "code",
   "execution_count": null,
   "id": "a267153a-269c-4da4-a03f-99d61c5c87e9",
   "metadata": {},
   "outputs": [],
   "source": [
    "%sql --close connection"
   ]
  }
 ],
 "metadata": {
  "kernelspec": {
   "display_name": "Python 3 (ipykernel)",
   "language": "python",
   "name": "python3"
  },
  "language_info": {
   "codemirror_mode": {
    "name": "ipython",
    "version": 3
   },
   "file_extension": ".py",
   "mimetype": "text/x-python",
   "name": "python",
   "nbconvert_exporter": "python",
   "pygments_lexer": "ipython3",
   "version": "3.10.12"
  }
 },
 "nbformat": 4,
 "nbformat_minor": 5
}
