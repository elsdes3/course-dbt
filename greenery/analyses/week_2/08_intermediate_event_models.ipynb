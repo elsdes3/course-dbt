{
 "cells": [
  {
   "cell_type": "markdown",
   "id": "1e9d4804-dd05-452b-97f3-51787bb6601f",
   "metadata": {},
   "source": [
    "# Intermediate Event Models"
   ]
  },
  {
   "cell_type": "code",
   "execution_count": null,
   "id": "90c2e76e-c1f8-4dac-ab11-1cc94a5c3c07",
   "metadata": {},
   "outputs": [],
   "source": [
    "import os\n",
    "from pathlib import Path\n",
    "\n",
    "from dotenv import load_dotenv\n",
    "from sqlalchemy import create_engine\n",
    "from snowflake.sqlalchemy import URL"
   ]
  },
  {
   "cell_type": "code",
   "execution_count": null,
   "id": "620a5477-b67f-4b9f-a34b-ddef30bd8fc8",
   "metadata": {},
   "outputs": [],
   "source": [
    "PROJ_ROOT = Path().resolve().parents[3]\n",
    "env_file_dir = PROJ_ROOT / '.env'\n",
    "_ = load_dotenv(env_file_dir, verbose=True)"
   ]
  },
  {
   "cell_type": "markdown",
   "id": "9bef0815-d8e7-43b3-b807-4d18f71c40a6",
   "metadata": {},
   "source": [
    "## About"
   ]
  },
  {
   "cell_type": "markdown",
   "id": "e9358407-c9aa-4c9b-b419-5f2eb21277db",
   "metadata": {},
   "source": [
    "Develop an **intermediate** model that can be used to calculate e-commerce product metrics from the user events on the Greenery website in downstream fact product models.\n",
    "\n",
    "Some metrics per product that should be supported are\n",
    "\n",
    "1. daily\n",
    "   - <span style=\"color: darkred\">page views</span> (<span style=\"color: red\">required</span>)\n",
    "   - <span style=\"color: green\">orders</span> (<span style=\"color: red\">required</span>)\n",
    "   - <span style=\"color: purple\">sessions</span> (<span style=\"color: darkgreen\">optional</span>)\n",
    "2. overall\n",
    "   - <span style=\"color: dodgerblue\">high traffic but low purchases (conversions)</span> (<span style=\"color: red\">required</span>)\n",
    "   - <span style=\"color: teal\">cart abandonment rate</span> (<span style=\"color: darkgreen\">optional</span>)\n",
    "   - <span style=\"color: magenta\">average time on page</span> (<span style=\"color: darkgreen\">optional</span>)\n",
    "\n",
    "The models to be developed, and their columns, are\n",
    "\n",
    "1. `products/int_products_daily_totals`\n",
    "   - number of daily orders per product\n",
    "   - number of daily page views per product\n",
    "   - number of daily sessions per product, in which that product was viewed\n",
    "   - used to calculate\n",
    "     - <span style=\"color: darkred\">daily page views per product</span>\n",
    "     - <span style=\"color: green\">daily orders per product</span>\n",
    "     - <span style=\"color: purple\">daily sessions per product</span>\n",
    "2. `products/int_events_aggregated_to_product`\n",
    "   - number of sessions not ending in a purchase, in which a product page was viewed, per product\n",
    "   - number of sessions ending in a purchase, in which a product page was viewed, per product\n",
    "   - number of purchases, per product\n",
    "   - used to calculate\n",
    "     - <span style=\"color: dodgerblue\">high traffic but low purchases (conversions)</span>\n",
    "3. `products/int_products_purchase_abandoned_cart_sessions_summed`\n",
    "   - number of times product was added to cart, per session\n",
    "   - number of times product was purchased, per session\n",
    "   - used to calculate\n",
    "     - <span style=\"color: teal\">cart abandonment rate per product</span>\n",
    "4. `products/int_products_page_viewing_time_averaged`\n",
    "   - average time spent viewing product page across all sessions, per product\n",
    "   - standard deviation of time spent viewing product page across all sessions, per product\n",
    "   - used to calculate\n",
    "     - <span style=\"color: magenta\">average time on page</span>\n",
    "\n",
    "### Use-Case\n",
    "\n",
    "This `product_id` level aggregation will be performed here so it does not need to repeated by the following marts models\n",
    "\n",
    "1. `marts/marketing/products/fct_products`\n",
    "2. `marts/marketing/products/daily/fct_products_daily`\n",
    "\n",
    "### Notes\n",
    "\n",
    "1. This notebook supports <kbd>Run</kbd> > <kbd>Run All Cells</kbd>."
   ]
  },
  {
   "cell_type": "markdown",
   "id": "4df08cc1-d90e-422a-907a-57d752f0d275",
   "metadata": {},
   "source": [
    "## User Inputs"
   ]
  },
  {
   "cell_type": "code",
   "execution_count": null,
   "id": "a9b642bb-8725-4b47-86f6-069c1295dbec",
   "metadata": {
    "editable": true,
    "slideshow": {
     "slide_type": ""
    },
    "tags": [
     "parameters"
    ]
   },
   "outputs": [],
   "source": [
    "#"
   ]
  },
  {
   "cell_type": "code",
   "execution_count": null,
   "id": "7b79f2e3-901c-4def-bb95-a5f0464bb7e1",
   "metadata": {},
   "outputs": [],
   "source": [
    "engine = create_engine(\n",
    "    URL(\n",
    "        drivername=\"driver\",\n",
    "        account=os.getenv(\"UPLIMIT_SNOWFLAKE_ACCOUNT\"),\n",
    "        user=os.getenv(\"UPLIMIT_SNOWFLAKE_USER\"),\n",
    "        password=os.getenv(\"UPLIMIT_SNOWFLAKE_PASS\"),\n",
    "        warehouse=os.getenv(\"UPLIMIT_SNOWFLAKE_WAREHOUSE\"),\n",
    "        role=os.getenv(\"UPLIMIT_SNOWFLAKE_ROLE\"),\n",
    "        database=os.getenv(\"UPLIMIT_SNOWFLAKE_DB_NAME\"),\n",
    "        schema=os.getenv(\"UPLIMIT_SNOWFLAKE_SCHEMA\"),\n",
    "    )\n",
    ")"
   ]
  },
  {
   "cell_type": "markdown",
   "id": "7a3c4b93-ea31-46c3-885a-0aa21d93b5fd",
   "metadata": {},
   "source": [
    "## Connect"
   ]
  },
  {
   "cell_type": "markdown",
   "id": "b08becdf-7f7a-410d-a5f8-94a56fc95805",
   "metadata": {},
   "source": [
    "Load Jupyter SQL extension"
   ]
  },
  {
   "cell_type": "code",
   "execution_count": null,
   "id": "2cd052eb-1f55-4c93-93c9-6f06270a7a42",
   "metadata": {},
   "outputs": [],
   "source": [
    "%load_ext sql"
   ]
  },
  {
   "cell_type": "markdown",
   "id": "7332bf06-0d17-4e41-8d14-665dddfa7c54",
   "metadata": {},
   "source": [
    "Connect to DuckDB database"
   ]
  },
  {
   "cell_type": "code",
   "execution_count": null,
   "id": "741a1f13-72cb-4b63-af18-cbf8762c1874",
   "metadata": {},
   "outputs": [],
   "source": [
    "%sql engine --alias connection"
   ]
  },
  {
   "cell_type": "markdown",
   "id": "fb2c8442-ed0d-4f4e-930c-61e614d96840",
   "metadata": {},
   "source": [
    "## Exploratory Data Analysis"
   ]
  },
  {
   "cell_type": "markdown",
   "id": "4310f6bc-e916-476e-b184-f45ba21e52ad",
   "metadata": {},
   "source": [
    "Show the different types of events"
   ]
  },
  {
   "cell_type": "code",
   "execution_count": null,
   "id": "e8920fa4-8e27-41ff-932a-d7cc6a3890cd",
   "metadata": {},
   "outputs": [],
   "source": [
    "%%sql\n",
    "SELECT DISTINCT(event_type) AS event_type\n",
    "FROM stg_postgres_events"
   ]
  },
  {
   "cell_type": "markdown",
   "id": "f395761a-50fb-42c8-bd75-d34254f0253a",
   "metadata": {},
   "source": [
    "Show the first few rows of the events table"
   ]
  },
  {
   "cell_type": "code",
   "execution_count": null,
   "id": "8dc5b9fc-9ccb-412c-bfd4-2c9730aecce9",
   "metadata": {},
   "outputs": [],
   "source": [
    "%%sql\n",
    "SELECT *\n",
    "FROM stg_postgres_events\n",
    "LIMIT 4"
   ]
  },
  {
   "cell_type": "markdown",
   "id": "98fcfecd-e2cb-4b58-a551-fffa16cd8332",
   "metadata": {},
   "source": [
    "Set the maximum number of rows to be displayed to `None` (shows all rows)"
   ]
  },
  {
   "cell_type": "code",
   "execution_count": null,
   "id": "79abe3c7-3f22-44ce-8b70-8b90aa28a688",
   "metadata": {},
   "outputs": [],
   "source": [
    "%config SqlMagic.displaylimit = None"
   ]
  },
  {
   "cell_type": "markdown",
   "id": "a415412d-1775-42f6-8276-9a65a52cd210",
   "metadata": {},
   "source": [
    "Show chronolgically ordered events in 15 sessions in which there was no checkout or package shipment"
   ]
  },
  {
   "cell_type": "code",
   "execution_count": null,
   "id": "1bde27b8-174c-4cee-aa68-c9ea2a295a03",
   "metadata": {},
   "outputs": [],
   "source": [
    "%%sql\n",
    "WITH t1 AS (\n",
    "    SELECT * EXCLUDE(event_id),\n",
    "           ROW_NUMBER() OVER(\n",
    "               PARTITION BY session_id ORDER BY user_id, created_at DESC\n",
    "           ) AS rn\n",
    "    FROM stg_postgres_events\n",
    "),\n",
    "t2 AS (\n",
    "    SELECT session_id\n",
    "    FROM t1\n",
    "    -- get sessions in which last event (rn = 1) is not shipping or checkout\n",
    "    WHERE (rn = 1 AND event_type NOT IN ('checkout', 'package_shipped'))\n",
    "    ORDER BY session_id\n",
    "    LIMIT 15\n",
    "),\n",
    "sessions_without_purchase AS (\n",
    "    SELECT * EXCLUDE(event_id)\n",
    "    FROM stg_postgres_events\n",
    "    -- user INNER JOIN to only get sessions in which order was not placed\n",
    "    INNER JOIN t2 USING (session_id)\n",
    "    ORDER BY session_id, user_id, created_at\n",
    ")\n",
    "SELECT *\n",
    "FROM sessions_without_purchase"
   ]
  },
  {
   "cell_type": "markdown",
   "id": "a6b904de-33be-434d-ac3a-58927260816b",
   "metadata": {},
   "source": [
    "A single session is associated with a single user. There are no multi-user sessions"
   ]
  },
  {
   "cell_type": "code",
   "execution_count": null,
   "id": "542d56cf-e1c0-4928-8668-8252d9ebbade",
   "metadata": {},
   "outputs": [],
   "source": [
    "%%sql\n",
    "WITH multi_user_sessions AS (\n",
    "    SELECT session_id,\n",
    "           COUNT(DISTINCT(user_id)) AS num_users\n",
    "    FROM stg_postgres_events\n",
    "    GROUP BY ALL\n",
    "    HAVING num_users > 1\n",
    ")\n",
    "SELECT COUNT(*) AS num_multi_user_sessions\n",
    "FROM multi_user_sessions"
   ]
  },
  {
   "cell_type": "markdown",
   "id": "90ee4fea-dbde-4ab9-b8ef-b6f2d2765674",
   "metadata": {},
   "source": [
    "A single user can have multiple sessions"
   ]
  },
  {
   "cell_type": "code",
   "execution_count": null,
   "id": "a178c259-9765-4ef5-a157-621ab6898cd1",
   "metadata": {},
   "outputs": [],
   "source": [
    "%%sql\n",
    "WITH sessions_per_user AS (\n",
    "    SELECT user_id,\n",
    "           COUNT(DISTINCT(session_id)) AS num_sessions\n",
    "    FROM stg_postgres_events\n",
    "    GROUP BY ALL\n",
    "),\n",
    "single_multi_session_users AS (\n",
    "    SELECT *\n",
    "    FROM (\n",
    "        SELECT '1' AS num_sessions,\n",
    "               COUNT(*) AS num_users,\n",
    "               False AS is_multi_session_user\n",
    "        FROM sessions_per_user\n",
    "        WHERE num_sessions = 1\n",
    "        GROUP BY ALL\n",
    "    )\n",
    "    UNION ALL\n",
    "    SELECT '1+' AS num_sessions,\n",
    "           COUNT(*) AS num_users,\n",
    "           True AS is_multi_session_user\n",
    "    FROM sessions_per_user\n",
    "    WHERE num_sessions > 1\n",
    ")\n",
    "SELECT *\n",
    "FROM single_multi_session_users"
   ]
  },
  {
   "cell_type": "markdown",
   "id": "8cacfb66-9e2f-43fb-a7e1-b0296272baa3",
   "metadata": {},
   "source": [
    "As seen from the total of the `num_users` column in the above query result, all users in the `users` table do not have an entry in the `events` table. This is verified below"
   ]
  },
  {
   "cell_type": "code",
   "execution_count": null,
   "id": "c2eb19b8-bbc4-45ea-bc7d-4a65f51145f6",
   "metadata": {},
   "outputs": [],
   "source": [
    "%%sql\n",
    "WITH num_users_from_events AS (\n",
    "    SELECT COUNT(DISTINCT(user_id)) AS num_users_events,\n",
    "           1 AS row_num\n",
    "    FROM stg_postgres_events\n",
    "),\n",
    "num_users_overall AS (\n",
    "    SELECT COUNT(DISTINCT(user_id)) AS num_users,\n",
    "           1 AS row_num\n",
    "    FROM stg_postgres_users\n",
    ")\n",
    "SELECT *\n",
    "FROM num_users_from_events\n",
    "INNER JOIN num_users_overall USING (row_num)"
   ]
  },
  {
   "cell_type": "markdown",
   "id": "e7b669d0-ea40-45c4-a6e5-f01e9020ec0b",
   "metadata": {},
   "source": [
    "Get bounce events (Method 1)"
   ]
  },
  {
   "cell_type": "code",
   "execution_count": null,
   "id": "a5c02337-9d1d-4300-a36e-f3f6e60fa0e6",
   "metadata": {},
   "outputs": [],
   "source": [
    "%%sql\n",
    "/* get sessions with zero non page view events */\n",
    "SELECT user_id,\n",
    "       session_id,\n",
    "       event_type,\n",
    "       COUNT(*) AS num_events\n",
    "FROM stg_postgres_events\n",
    "GROUP BY ALL\n",
    "HAVING (event_type = 'add_to_cart' AND num_events = 0)\n",
    "AND (event_type = 'checkout' AND num_events = 0)\n",
    "AND (event_type = 'package_shipped' AND num_events = 0)"
   ]
  },
  {
   "cell_type": "markdown",
   "id": "a1e65519-a2f1-42b0-9420-1d736a8466e3",
   "metadata": {},
   "source": [
    "Get bounce events (Method 2)"
   ]
  },
  {
   "cell_type": "code",
   "execution_count": null,
   "id": "f4b87bbe-e629-4adc-b5d8-a48f9dddf2b5",
   "metadata": {},
   "outputs": [],
   "source": [
    "%%sql\n",
    "/* get single page view sessions */\n",
    "WITH single_page_view_sessions AS (\n",
    "    SELECT user_id,\n",
    "           session_id,\n",
    "           event_type,\n",
    "           COUNT(*) AS num_events\n",
    "    FROM stg_postgres_events\n",
    "    GROUP BY ALL\n",
    "    HAVING (event_type = 'page_view' AND num_events = 1)\n",
    ")\n",
    "/* get sessions with zero non page view events */\n",
    "SELECT e.user_id,\n",
    "       e.session_id,\n",
    "       COUNT(*) AS num_non_page_view_events\n",
    "FROM stg_postgres_events e\n",
    "INNER JOIN single_page_view_sessions ss USING (session_id)\n",
    "WHERE event_type != 'page_view'\n",
    "GROUP BY ALL\n",
    "HAVING num_non_page_view_events = 0"
   ]
  },
  {
   "cell_type": "markdown",
   "id": "c9566f35-009f-4ceb-8ee3-546bbb2c90a8",
   "metadata": {},
   "source": [
    "There are no [bounce events](https://support.google.com/analytics/answer/1009409?hl=en) as shown using two methods above, so it is not necessary to calculate the bounce rate metric per product or at any other level."
   ]
  },
  {
   "cell_type": "markdown",
   "id": "5c24150d-ce66-43e0-b560-514ca9a1d980",
   "metadata": {},
   "source": [
    "## Models"
   ]
  },
  {
   "cell_type": "markdown",
   "id": "09ea8a53-9f37-4d8b-8abf-53c09e029bae",
   "metadata": {},
   "source": [
    "### `products/int_products_daily_totals`"
   ]
  },
  {
   "cell_type": "markdown",
   "id": "caaa075c-4d37-4d1d-b0fb-3adfcb50053f",
   "metadata": {},
   "source": [
    "Show chronolgically ordered events in four sessions in which there was a checkout"
   ]
  },
  {
   "cell_type": "code",
   "execution_count": null,
   "id": "92068ba3-1a33-416f-a615-106fc72457bf",
   "metadata": {},
   "outputs": [],
   "source": [
    "%%sql\n",
    "SELECT * EXCLUDE(event_id)\n",
    "FROM stg_postgres_events\n",
    "WHERE session_id IN (\n",
    "    '00b3765f-3af3-4cbf-9fba-904daf17faff',\n",
    "    'a646b9aa-0044-4fbd-8bae-a1018f5d4ace',\n",
    "    'dc881be8-fee9-4f48-bdf0-fd0435a8d4af',\n",
    "    'fc449603-99a9-4a74-a5b7-14659e06722b'\n",
    ")\n",
    "ORDER BY session_id, user_id, created_at"
   ]
  },
  {
   "cell_type": "markdown",
   "id": "8b377da5-c9a4-4b99-a84e-5b2dc7ca2d2a",
   "metadata": {},
   "source": [
    "**Observations**\n",
    "\n",
    "1. The last event in sessions that end in a purchase is one of\n",
    "   - `package_shipped`\n",
    "   - `checkout`\n",
    "   but the `product_id` is missing in both of these types of events.\n",
    "2. In every session with a purchase\n",
    "   - every product that is purchased must *first* be added to the cart\n",
    "   - the `event_type = 'add_to_cart'` filter indicates which products have been purchased"
   ]
  },
  {
   "cell_type": "code",
   "execution_count": null,
   "id": "b793cc4f-f08e-416f-8173-4fce950db02c",
   "metadata": {},
   "outputs": [],
   "source": [
    "%%sql\n",
    "/* get add-to-cart events from sessions in which a product was purchased */\n",
    "WITH products_ordered AS (\n",
    "    SELECT product_id,\n",
    "           created_at\n",
    "    FROM int_product_purchases_filtered\n",
    "    -- get add-to-cart events since only products in a cart can be purchased\n",
    "    WHERE event_type = 'add_to_cart'\n",
    "),\n",
    "/* count number of daily orders (purchases) per product */\n",
    "daily_orders_by_product AS (\n",
    "    SELECT product_id,\n",
    "           TO_DATE(created_at) AS created_at_date,\n",
    "           COUNT(*) AS num_orders\n",
    "    FROM products_ordered\n",
    "    GROUP BY ALL\n",
    "),\n",
    "/* get page view events from all sessions */\n",
    "daily_page_views_per_product_session AS (\n",
    "    SELECT session_id,\n",
    "           product_id,\n",
    "           TO_DATE(created_at) AS created_at_date\n",
    "    FROM stg_postgres_events\n",
    "    WHERE event_type = 'page_view'\n",
    "),\n",
    "/* count number of daily page views and daily sessions per product */\n",
    "daily_page_views_by AS (\n",
    "    SELECT product_id,\n",
    "           created_at_date,\n",
    "           COUNT(*) AS num_page_views,\n",
    "           COUNT(DISTINCT(session_id)) AS num_sessions\n",
    "    FROM daily_page_views_per_product_session\n",
    "    GROUP BY ALL\n",
    "),\n",
    "/* combine daily sums (orders, page views, sessions) per product */\n",
    "daily_product_totals AS (\n",
    "    SELECT pv.product_id,\n",
    "           pv.created_at_date,\n",
    "           IFNULL(pv.num_page_views, 0) AS num_page_views,\n",
    "           IFNULL(pv.num_sessions, 0) AS num_sessions,\n",
    "           IFNULL(dor.num_orders, 0) AS num_orders\n",
    "    FROM daily_page_views_by pv\n",
    "    LEFT JOIN daily_orders_by_product dor USING (product_id, created_at_date)\n",
    ")\n",
    "SELECT *\n",
    "FROM daily_product_totals"
   ]
  },
  {
   "cell_type": "markdown",
   "id": "d1025f43-1b7b-48fc-8a43-3a150eaec62d",
   "metadata": {},
   "source": [
    "**Notes**\n",
    "\n",
    "1. In the `product_ordered` CTE, the `WHERE event_type = 'add_to_cart'` clause gets events corresponding to products added to cart. As shown earlier, products must first be added to a cart before they can be purchased in a single session. Since the result of this CTE will be used in the `daily_orders_by_product` CTE to count purchases per product, we only need these add-to-cart events since only products that were first added to a cart can be purchased. So, these events capture the purchase of a product during a session. For this reason, the `WHERE event_type = 'add_to_cart'` clause is needed in this CTE."
   ]
  },
  {
   "cell_type": "markdown",
   "id": "0ef35b34-373d-4b0d-af30-f45aec5cb753",
   "metadata": {},
   "source": [
    "### `products/int_events_sessions_aggregated_to_product`"
   ]
  },
  {
   "cell_type": "markdown",
   "id": "8cfbe109-af7f-4c58-8c3e-38df75ea9dc9",
   "metadata": {},
   "source": [
    "[Web traffic is measured in sessions](https://victorious.com/blog/measure-site-traffic/)\n",
    "\n",
    "> You can measure website traffic ... with the following three metrics:\n",
    "\n",
    "       > 1. Users\n",
    "\n",
    "       > 2. Sessions (this is used here)\n",
    "\n",
    "       >  ..."
   ]
  },
  {
   "cell_type": "code",
   "execution_count": null,
   "id": "62c3802c-4d41-4fcb-9af8-4743596347fe",
   "metadata": {},
   "outputs": [],
   "source": [
    "%%sql\n",
    "/* get events for sessions that did not end in a purchase */\n",
    "WITH products_non_purchase_sessions AS (\n",
    "    SELECT session_id,\n",
    "           product_id,\n",
    "           event_type\n",
    "    FROM int_product_non_purchases_filtered\n",
    "),\n",
    "/* get events for sessions that did end in (convert to) a purchase */\n",
    "products_purchase_sessions AS (\n",
    "    SELECT session_id,\n",
    "           product_id,\n",
    "           event_type\n",
    "    FROM int_product_purchases_filtered\n",
    "),\n",
    "/* count number of sessions not ending in a purchase in which product page was\n",
    "viewed */\n",
    "product_non_purchase_page_views AS (\n",
    "    SELECT product_id,\n",
    "           COUNT(*) AS num_non_purchase_page_views,\n",
    "           COUNT(DISTINCT(session_id)) AS num_non_purchase_page_view_sessions\n",
    "    FROM products_non_purchase_sessions\n",
    "    -- get the page view event from sessions in which product was not ordered\n",
    "    WHERE event_type = 'page_view'\n",
    "    GROUP BY product_id\n",
    "),\n",
    "/* count number of sessions ending in a purchase in which product page was\n",
    "viewed */\n",
    "product_purchase_page_views AS (\n",
    "    SELECT product_id,\n",
    "           COUNT(*) AS num_purchase_page_views,\n",
    "           COUNT(DISTINCT(session_id)) AS num_purchase_page_view_sessions\n",
    "    FROM products_purchase_sessions\n",
    "    -- get the page view event from sessions in which product was ordered\n",
    "    WHERE event_type = 'page_view'\n",
    "    GROUP BY product_id\n",
    "),\n",
    "/* count purchases */\n",
    "product_purchases AS (\n",
    "    SELECT product_id,\n",
    "           COUNT(DISTINCT(session_id)) AS num_purchases\n",
    "    FROM products_purchase_sessions\n",
    "    -- get add-to-cart events since only products in a cart can be purchased\n",
    "    WHERE event_type = 'add_to_cart'\n",
    "    GROUP BY product_id\n",
    "),\n",
    "/* join the three types of session counts per product */\n",
    "product_session_totals AS (\n",
    "    SELECT pp.product_id,\n",
    "           -- count of sessions with page view but not ending in product\n",
    "           -- purchase\n",
    "           npv.num_non_purchase_page_view_sessions,\n",
    "           -- count of sessions with page view and ending in product purchase\n",
    "           ppv.num_purchase_page_view_sessions,\n",
    "           -- count of product purchases\n",
    "           pp.num_purchases,\n",
    "           -- count of total page views\n",
    "           (\n",
    "               npv.num_non_purchase_page_views\n",
    "               + ppv.num_purchase_page_views\n",
    "           ) AS num_page_views\n",
    "    FROM product_non_purchase_page_views npv\n",
    "    INNER JOIN product_purchases pp USING (product_id)\n",
    "    INNER JOIN product_purchase_page_views ppv USING (product_id)\n",
    ")\n",
    "SELECT *\n",
    "FROM product_session_totals"
   ]
  },
  {
   "cell_type": "markdown",
   "id": "d8220e26-fc34-4a84-b03b-447ed2e66249",
   "metadata": {},
   "source": [
    "**Notes**\n",
    "\n",
    "1. In the `product_purchases` CTE, the `WHERE event_type = 'add_to_cart'` clause gets events corresponding to products added to cart. Since this CTE is looking to count purchases per product, we only need these add-to-cart events since only products that were first added to a cart can be purchased. So, these events capture the purchase of a product during a session. Products that were viewed but not added to a cart before a purchase would not be included in the purchase and are excluded. For this reaso, the the `WHERE event_type = 'add_to_cart'` clause is needed in this CTE."
   ]
  },
  {
   "cell_type": "markdown",
   "id": "05977aed-ab5c-4ff2-a999-a97e6f269c0a",
   "metadata": {},
   "source": [
    "#### Sanity Check"
   ]
  },
  {
   "cell_type": "markdown",
   "id": "96dbb162-0c39-4848-a7f8-ab52f30879fb",
   "metadata": {},
   "source": [
    "Verify the two types of page view totals for two sessions"
   ]
  },
  {
   "cell_type": "code",
   "execution_count": null,
   "id": "880f998b-8bb4-4008-9b53-c6d14d4c4068",
   "metadata": {},
   "outputs": [],
   "source": [
    "%%sql\n",
    "WITH t1 AS (\n",
    "    SELECT session_id,\n",
    "           product_id,\n",
    "           event_type\n",
    "    FROM stg_postgres_events\n",
    "    WHERE product_id IN (\n",
    "        '64d39754-03e4-4fa0-b1ea-5f4293315f67',\n",
    "        'e706ab70-b396-4d30-a6b2-a1ccf3625b52'\n",
    "    )\n",
    "    AND event_type = 'page_view'\n",
    ")\n",
    "SELECT product_id,\n",
    "       COUNT(DISTINCT(session_id)) AS num_page_view_sessions,\n",
    "       COUNT(*) AS num_page_views\n",
    "FROM t1\n",
    "GROUP BY ALL"
   ]
  },
  {
   "cell_type": "markdown",
   "id": "4061b823-c53d-42ff-b496-963c1fb4a262",
   "metadata": {},
   "source": [
    "**Observations**\n",
    "\n",
    "1. Some product pages were viewed once per session, so the number of page views and number of page view sessions are equal.\n",
    "2. Some product pages were viewed multiple times per session, so the number of page view sessions is less than the number of page views."
   ]
  },
  {
   "cell_type": "markdown",
   "id": "c6480a4c-b95d-42cb-a132-fa81ef6c5d70",
   "metadata": {},
   "source": [
    "### `products/int_products_purchase_abandoned_cart_sessions_summed`"
   ]
  },
  {
   "cell_type": "markdown",
   "id": "58aa4864-5ba0-4638-b1d0-6ca8bf50b580",
   "metadata": {},
   "source": [
    "Calculate the Cart Abandonment Rate ([1](https://www.geckoboard.com/best-practice/kpi-examples/shopping-cart-abandonment-rate/), [2](https://www.bigcommerce.com/articles/ecommerce/abandoned-carts/)) per product\n",
    "\n",
    "1. Count number of add-to-carts performed per product in each session\n",
    "2. Count number of add-to-carts performed per product in each session in which a purchase occurred"
   ]
  },
  {
   "cell_type": "markdown",
   "id": "12506d71-4ef5-480e-8e81-12962e92f5f6",
   "metadata": {},
   "source": [
    "#### Include Number of Purchases"
   ]
  },
  {
   "cell_type": "markdown",
   "id": "5f2c88bb-cf8b-41b2-9f30-9a85187a8653",
   "metadata": {},
   "source": [
    "The number of purchases per product is included here even though it is captured in other intermediate queries"
   ]
  },
  {
   "cell_type": "code",
   "execution_count": null,
   "id": "b6b3307b-9bd9-42bb-a367-7117a01eac90",
   "metadata": {},
   "outputs": [],
   "source": [
    "%%sql\n",
    "/* get events for sessions that did not end in a purchase */\n",
    "WITH products_non_purchase_sessions AS (\n",
    "    SELECT session_id,\n",
    "           product_id,\n",
    "           event_type\n",
    "    FROM int_product_non_purchases_filtered\n",
    "),\n",
    "/* get events for sessions that did end in (convert to) a purchase */\n",
    "products_purchase_sessions AS (\n",
    "    SELECT session_id,\n",
    "           product_id,\n",
    "           event_type\n",
    "    FROM int_product_purchases_filtered\n",
    "),\n",
    "/* count number of sessions not ending in a purchase in which product page was\n",
    "viewed */\n",
    "product_non_purchase_add_to_cart AS (\n",
    "    SELECT product_id,\n",
    "           COUNT(*) AS num_non_purchase_add_to_carts\n",
    "    FROM products_non_purchase_sessions\n",
    "    -- get the add-to-cart event from sessions in which product was added to\n",
    "    -- a cart\n",
    "    WHERE event_type = 'add_to_cart'\n",
    "    GROUP BY product_id\n",
    "),\n",
    "/* count number of sessions ending in a purchase in which product page was\n",
    "viewed */\n",
    "product_purchase_add_to_cart AS (\n",
    "    SELECT product_id,\n",
    "           COUNT(*) AS num_purchase_add_to_carts\n",
    "    FROM products_purchase_sessions\n",
    "    -- get add-to-cart event from sessions in which product was added to cart\n",
    "    WHERE event_type = 'add_to_cart'\n",
    "    GROUP BY product_id\n",
    "),\n",
    "/* count purchases */\n",
    "product_purchases AS (\n",
    "    SELECT product_id,\n",
    "           COUNT(DISTINCT(session_id)) AS num_purchases\n",
    "    FROM products_purchase_sessions\n",
    "    -- get add-to-cart events since only products in a cart can be purchased\n",
    "    WHERE event_type = 'add_to_cart'\n",
    "    GROUP BY product_id\n",
    "),\n",
    "/* count number of add to carts */\n",
    "product_add_to_carts AS (\n",
    "    SELECT product_id,\n",
    "           num_purchases,\n",
    "           num_carts\n",
    "    FROM (\n",
    "        SELECT pa.product_id,\n",
    "               IFNULL(\n",
    "                   SUM(npa.num_non_purchase_add_to_carts), 0\n",
    "               ) AS num_non_purchase_carts,\n",
    "               IFNULL(\n",
    "                   SUM(ppa.num_purchase_add_to_carts), 0\n",
    "               ) AS num_purchase_carts,\n",
    "               num_non_purchase_carts+num_purchase_carts AS num_carts,\n",
    "               MAX(pa.num_purchases) AS num_purchases\n",
    "        FROM product_purchase_add_to_cart ppa\n",
    "        LEFT JOIN product_non_purchase_add_to_cart npa USING (product_id)\n",
    "        LEFT JOIN product_purchases pa USING (product_id)\n",
    "        GROUP BY pa.product_id\n",
    "        ORDER BY product_id\n",
    "    )\n",
    ")\n",
    "SELECT *\n",
    "FROM product_add_to_carts"
   ]
  },
  {
   "cell_type": "markdown",
   "id": "6730716f-b8a4-4bee-9643-47816078a4eb",
   "metadata": {},
   "source": [
    "#### Do Not include Number of Purchases"
   ]
  },
  {
   "cell_type": "markdown",
   "id": "d0bb54cd-1306-41fc-8832-7f434ac76f42",
   "metadata": {},
   "source": [
    "The number of purchases per product is excluded here since it is captured in other intermediate queries"
   ]
  },
  {
   "cell_type": "code",
   "execution_count": null,
   "id": "06036603-27c6-4919-b901-fd2eaba437da",
   "metadata": {},
   "outputs": [],
   "source": [
    "%%sql\n",
    "/* get events for sessions that did not end in a purchase */\n",
    "WITH products_non_purchase_sessions AS (\n",
    "    SELECT session_id,\n",
    "           product_id,\n",
    "           event_type\n",
    "    FROM int_product_non_purchases_filtered\n",
    "),\n",
    "/* get events for sessions that did end in (convert to) a purchase */\n",
    "products_purchase_sessions AS (\n",
    "    SELECT session_id,\n",
    "           product_id,\n",
    "           event_type\n",
    "    FROM int_product_purchases_filtered\n",
    "),\n",
    "/* count number of sessions not ending in a purchase in which product page was\n",
    "viewed */\n",
    "product_non_purchase_add_to_cart AS (\n",
    "    SELECT product_id,\n",
    "           COUNT(*) AS num_non_purchase_add_to_carts\n",
    "    FROM products_non_purchase_sessions\n",
    "    -- get the add-to-cart event from sessions in which product was added to\n",
    "    -- a cart\n",
    "    WHERE event_type = 'add_to_cart'\n",
    "    GROUP BY product_id\n",
    "),\n",
    "/* count number of sessions ending in a purchase in which product page was\n",
    "viewed */\n",
    "product_purchase_add_to_cart AS (\n",
    "    SELECT product_id,\n",
    "           COUNT(*) AS num_purchase_add_to_carts\n",
    "    FROM products_purchase_sessions\n",
    "    -- get add-to-cart event from sessions in which product was added to cart\n",
    "    WHERE event_type = 'add_to_cart'\n",
    "    GROUP BY product_id\n",
    "),\n",
    "/* count number of add to carts */\n",
    "product_add_to_carts AS (\n",
    "    SELECT product_id,\n",
    "           num_carts\n",
    "    FROM (\n",
    "        SELECT ppa.product_id,\n",
    "               IFNULL(\n",
    "                   SUM(npa.num_non_purchase_add_to_carts), 0\n",
    "               ) AS num_non_purchase_carts,\n",
    "               IFNULL(\n",
    "                   SUM(ppa.num_purchase_add_to_carts), 0\n",
    "               ) AS num_purchase_carts,\n",
    "               num_non_purchase_carts+num_purchase_carts AS num_carts,\n",
    "        FROM product_purchase_add_to_cart ppa\n",
    "        LEFT JOIN product_non_purchase_add_to_cart npa USING (product_id)\n",
    "        GROUP BY ppa.product_id\n",
    "        ORDER BY product_id\n",
    "    )\n",
    ")\n",
    "SELECT *\n",
    "FROM product_add_to_carts"
   ]
  },
  {
   "cell_type": "markdown",
   "id": "e68fb4a7-fff6-49a3-a811-3f43bc923d79",
   "metadata": {},
   "source": [
    "### `products/int_products_page_viewing_time_averaged`"
   ]
  },
  {
   "cell_type": "markdown",
   "id": "66f2553f-2090-4d67-ae40-992f69eff571",
   "metadata": {},
   "source": [
    "There are sessions in which the last event before checkout is a `page_view` and not a `add_to_cart`, as shown below"
   ]
  },
  {
   "cell_type": "code",
   "execution_count": null,
   "id": "45eba562-ece5-4659-9aaf-5e8fe678468c",
   "metadata": {},
   "outputs": [],
   "source": [
    "%%sql\n",
    "WITH t1 AS (\n",
    "    SELECT session_id,\n",
    "           event_id,\n",
    "           created_at,\n",
    "           event_type,\n",
    "           product_id,\n",
    "           ROW_NUMBER() OVER(\n",
    "               PARTITION BY session_id ORDER BY created_at DESC\n",
    "           ) AS rn\n",
    "    FROM stg_postgres_events\n",
    "    WHERE session_id = '7eae2419-f22b-4c8e-8a1a-1047ae07b2f0'\n",
    "),\n",
    "t2 AS (\n",
    "    SELECT DISTINCT(session_id) AS session_id\n",
    "    FROM t1\n",
    "    WHERE (rn = 3 AND event_type = 'page_view')\n",
    ")\n",
    "SELECT *\n",
    "FROM t1\n",
    "INNER JOIN t2 USING (session_id)\n",
    "ORDER BY created_at"
   ]
  },
  {
   "cell_type": "markdown",
   "id": "b88d9372-acf7-4523-9bdf-411aa7794bf1",
   "metadata": {},
   "source": [
    "**Observations**\n",
    "\n",
    "1. Since a `page_view` event could occur before the purchase, we need to get the time spent viewing that page. This means it is necessary to keep the next event after the `page_view` event (i.e. the `checkout` event page) in order to use its timestamp to calculate the time spent on the `page_view`."
   ]
  },
  {
   "cell_type": "code",
   "execution_count": null,
   "id": "61133487-ff4f-416d-9448-a6eb04315737",
   "metadata": {},
   "outputs": [],
   "source": [
    "%%sql\n",
    "/* get time spent on page for all events in a session */\n",
    "WITH times_spent_on_page_per_session AS (\n",
    "    SELECT session_id,\n",
    "           product_id,\n",
    "           event_type,\n",
    "           -- get timestamp of current event in session\n",
    "           created_at,\n",
    "           -- get timestamp of next event in session\n",
    "           LAG(created_at, -1) OVER(\n",
    "               PARTITION BY session_id ORDER BY created_at\n",
    "           ) AS created_at_next_page,\n",
    "           -- get time difference between successive events in session\n",
    "           datediff(\n",
    "               'second', created_at, created_at_next_page\n",
    "           ) AS time_on_page_seconds\n",
    "    FROM stg_postgres_events\n",
    "),\n",
    "/* get average time spent on page per product */\n",
    "avg_time_on_product_page AS (\n",
    "    SELECT product_id,\n",
    "           ROUND(AVG(time_on_page_seconds)) AS avg_time_on_page_seconds,\n",
    "           CAST(\n",
    "               ROUND(STDDEV(time_on_page_seconds)) AS INTEGER\n",
    "           ) AS std_time_on_page_seconds\n",
    "    FROM times_spent_on_page_per_session\n",
    "    -- get events where the product page is being viewed\n",
    "    WHERE event_type IN ('page_view')\n",
    "    GROUP BY ALL\n",
    ")\n",
    "SELECT *\n",
    "FROM avg_time_on_product_page"
   ]
  },
  {
   "cell_type": "markdown",
   "id": "d3a46e71-f00a-41ac-8d54-ee1111441c4d",
   "metadata": {},
   "source": [
    "## Disconnect"
   ]
  },
  {
   "cell_type": "markdown",
   "id": "01f885f5-4a8c-421f-9ba6-fcf0bb4f035f",
   "metadata": {},
   "source": [
    "Close connection"
   ]
  },
  {
   "cell_type": "code",
   "execution_count": null,
   "id": "908f9237-c168-4b8f-ab87-9345fb36967c",
   "metadata": {},
   "outputs": [],
   "source": [
    "%sql --close connection"
   ]
  }
 ],
 "metadata": {
  "kernelspec": {
   "display_name": "Python 3 (ipykernel)",
   "language": "python",
   "name": "python3"
  },
  "language_info": {
   "codemirror_mode": {
    "name": "ipython",
    "version": 3
   },
   "file_extension": ".py",
   "mimetype": "text/x-python",
   "name": "python",
   "nbconvert_exporter": "python",
   "pygments_lexer": "ipython3",
   "version": "3.10.12"
  }
 },
 "nbformat": 4,
 "nbformat_minor": 5
}
